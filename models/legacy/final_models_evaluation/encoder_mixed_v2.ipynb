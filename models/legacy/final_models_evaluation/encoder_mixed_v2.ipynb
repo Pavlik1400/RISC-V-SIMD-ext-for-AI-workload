{
 "cells": [
  {
   "cell_type": "code",
   "execution_count": 1,
   "metadata": {},
   "outputs": [
    {
     "name": "stderr",
     "output_type": "stream",
     "text": [
      "2023-05-11 19:21:20.908948: I tensorflow/core/util/port.cc:110] oneDNN custom operations are on. You may see slightly different numerical results due to floating-point round-off errors from different computation orders. To turn them off, set the environment variable `TF_ENABLE_ONEDNN_OPTS=0`.\n",
      "2023-05-11 19:21:21.110286: I tensorflow/core/platform/cpu_feature_guard.cc:182] This TensorFlow binary is optimized to use available CPU instructions in performance-critical operations.\n",
      "To enable the following instructions: AVX2 AVX_VNNI FMA, in other operations, rebuild TensorFlow with the appropriate compiler flags.\n",
      "2023-05-11 19:21:21.840067: W tensorflow/compiler/tf2tensorrt/utils/py_utils.cc:38] TF-TRT Warning: Could not find TensorRT\n",
      "2023-05-11 19:21:23.895756: I tensorflow/compiler/xla/stream_executor/cuda/cuda_gpu_executor.cc:996] successful NUMA node read from SysFS had negative value (-1), but there must be at least one NUMA node, so returning NUMA node zero. See more at https://github.com/torvalds/linux/blob/v6.0/Documentation/ABI/testing/sysfs-bus-pci#L344-L355\n",
      "2023-05-11 19:21:23.916652: I tensorflow/compiler/xla/stream_executor/cuda/cuda_gpu_executor.cc:996] successful NUMA node read from SysFS had negative value (-1), but there must be at least one NUMA node, so returning NUMA node zero. See more at https://github.com/torvalds/linux/blob/v6.0/Documentation/ABI/testing/sysfs-bus-pci#L344-L355\n",
      "2023-05-11 19:21:23.916906: I tensorflow/compiler/xla/stream_executor/cuda/cuda_gpu_executor.cc:996] successful NUMA node read from SysFS had negative value (-1), but there must be at least one NUMA node, so returning NUMA node zero. See more at https://github.com/torvalds/linux/blob/v6.0/Documentation/ABI/testing/sysfs-bus-pci#L344-L355\n"
     ]
    }
   ],
   "source": [
    "# imports\n",
    "import os\n",
    "# os.environ['TF_CPP_MIN_LOG_LEVEL'] = '3' \n",
    "import tensorflow as tf\n",
    "from tensorflow import keras\n",
    "from tensorflow.keras import layers\n",
    "\n",
    "import numpy as np\n",
    "import random\n",
    "import os\n",
    "import sys\n",
    "import importlib\n",
    "\n",
    "from sklearn.metrics import accuracy_score, confusion_matrix\n",
    "from pathlib import Path\n",
    "import seaborn as sn\n",
    "import pandas as pd\n",
    "import matplotlib.pyplot as plt\n",
    "\n",
    "\n",
    "sys.path.append(\"..\") # not good\n",
    "sys.path.append(\"...\") # not good\n",
    "from tools.data import load_data_simc_v1, load_data_simc_v2, load_data_radioml_v1\n",
    "\n",
    "physical_devices = tf.config.experimental.list_physical_devices('GPU')\n",
    "assert len(physical_devices) > 0, \"Not enough GPU hardware devices available\"\n"
   ]
  },
  {
   "attachments": {},
   "cell_type": "markdown",
   "metadata": {},
   "source": [
    "## Util functions"
   ]
  },
  {
   "cell_type": "code",
   "execution_count": 2,
   "metadata": {},
   "outputs": [],
   "source": [
    "def set_seed(SEED):\n",
    "    random.seed(SEED)\n",
    "    np.random.seed(SEED)\n",
    "    tf.random.set_seed(SEED)\n",
    "\n",
    "def reload_module(m: str):\n",
    "    importlib.reload(sys.modules[m])\n"
   ]
  },
  {
   "attachments": {},
   "cell_type": "markdown",
   "metadata": {},
   "source": [
    "## Data loading"
   ]
  },
  {
   "cell_type": "code",
   "execution_count": 3,
   "metadata": {},
   "outputs": [],
   "source": [
    "# Constants\n",
    "# snrs = list(range(0, 30))\n",
    "snrs = list(range(-30, 30))\n",
    "frames_per_mod = 30_000\n",
    "\n",
    "MIXED_v2_0_30 = \"/development/data/Mixed_V2/train_data_SIMC1_SNR_mixed_0-30_30k/\"\n",
    "MIXED_v2_min_30_30 = \"/development/data/Mixed_V2/mixed_v2_-30-30_30k\"\n",
    "TRAIN_DATA_DIR = MIXED_v2_min_30_30\n",
    "\n",
    "MODEL_DATA_TYPE = np.float32\n",
    "\n",
    "SEED = 123456\n",
    "set_seed(SEED)"
   ]
  },
  {
   "cell_type": "code",
   "execution_count": 4,
   "metadata": {},
   "outputs": [
    {
     "name": "stderr",
     "output_type": "stream",
     "text": [
      "100%|██████████| 11/11 [01:40<00:00,  9.15s/it]\n"
     ]
    },
    {
     "name": "stdout",
     "output_type": "stream",
     "text": [
      "[debug] Loaded train data with size 337920000 in 100.61344289779663s\n",
      "['16QAM', '64QAM', '8PSK', 'B-FM', 'BPSK', 'CPFSK', 'DSB-AM', 'GFSK', 'PAM4', 'QPSK', 'SSB-AM']\n",
      "(330000,)\n",
      "(330000, 1, 1024, 2)\n"
     ]
    }
   ],
   "source": [
    "# Loading itself\n",
    "modulations = [\n",
    "    \"16QAM\",\n",
    "    \"64QAM\",\n",
    "    \"8PSK\",\n",
    "    \"B-FM\",\n",
    "    \"BPSK\",\n",
    "    \"CPFSK\",\n",
    "    \"DSB-AM\",\n",
    "    \"GFSK\",\n",
    "    \"PAM4\",\n",
    "    \"QPSK\",\n",
    "    \"SSB-AM\",\n",
    "]\n",
    "\n",
    "# labels, data = np.load(\"labels_mixed_V2_0_30_30k.npy\"), np.load(\"data_mixed_V2_0_30_30k.npy\")\n",
    "# labels, data = np.load(\"labels_mixed_V2_-30_30_30k.npy\"), np.load(\"data_mixed_V2_-30_30_30k.npy\")\n",
    "labels, data = load_data_simc_v2(classes=modulations, path=Path(TRAIN_DATA_DIR), model_dtype=MODEL_DATA_TYPE, frames_per_mod=frames_per_mod)\n",
    "print(modulations)\n",
    "print(labels.shape)\n",
    "print(data.shape)"
   ]
  },
  {
   "cell_type": "code",
   "execution_count": 5,
   "metadata": {},
   "outputs": [],
   "source": [
    "# np.save(\"labels_mixed_V2_0_30_30k.npy\", labels)\n",
    "# np.save(\"data_mixed_V2_0_30_30k.npy\", data)\n",
    "np.save(\"labels_mixed_V2_-30_30_30k.npy\", labels)\n",
    "np.save(\"data_mixed_V2_-30_30_30k.npy\", data)"
   ]
  },
  {
   "cell_type": "code",
   "execution_count": 6,
   "metadata": {},
   "outputs": [],
   "source": [
    "# Data Ssplitting\n",
    "DS_SIZE = len(labels)\n",
    "\n",
    "n_train = int(0.8 * DS_SIZE)                # 80% - Train\n",
    "n_validation = int(0.1 * DS_SIZE)           # 10% - Validation\n",
    "n_test = DS_SIZE - n_train - n_validation   # 10% - Test\n",
    "\n",
    "random_indecies = np.arange(DS_SIZE)\n",
    "np.random.shuffle(random_indecies)\n",
    "\n",
    "train_indecies, validation_indecies, test_indecies, _ = np.split(\n",
    "    random_indecies, [int(DS_SIZE * 0.8), int(DS_SIZE * 0.9), DS_SIZE]\n",
    ")\n",
    "\n",
    "train_data, train_labels = data[train_indecies], labels[train_indecies]\n",
    "validation_data, validation_labels = data[validation_indecies], labels[validation_indecies]\n",
    "test_data, test_labels = data[test_indecies], labels[test_indecies]"
   ]
  },
  {
   "cell_type": "code",
   "execution_count": 7,
   "metadata": {},
   "outputs": [],
   "source": [
    "# Should save some memory\n",
    "del data\n",
    "del labels"
   ]
  },
  {
   "attachments": {},
   "cell_type": "markdown",
   "metadata": {},
   "source": [
    "## Model creation\n",
    "#### Parts of Encoder"
   ]
  },
  {
   "attachments": {},
   "cell_type": "markdown",
   "metadata": {},
   "source": [
    "### 1. Multi Head Attention"
   ]
  },
  {
   "cell_type": "code",
   "execution_count": 8,
   "metadata": {},
   "outputs": [],
   "source": [
    "from tensorflow import math, matmul, reshape, shape, transpose, cast, float32\n",
    "from tensorflow.keras.layers import Dense, Layer\n",
    "from keras.backend import softmax\n",
    "\n",
    "# Implementing the Scaled-Dot Product Attention\n",
    "class DotProductAttention(Layer):\n",
    "    def __init__(self, **kwargs):\n",
    "        super(DotProductAttention, self).__init__(**kwargs)\n",
    "\n",
    "    def call(self, queries, keys, values, d_k, mask=None):\n",
    "        # Scoring the queries against the keys after transposing the latter, and scaling\n",
    "        scores = matmul(queries, keys, transpose_b=True) / math.sqrt(cast(d_k, float32))\n",
    "\n",
    "        # Apply mask to the attention scores\n",
    "        if mask is not None:\n",
    "            scores += -1e9 * mask\n",
    "\n",
    "        # Computing the weights by a softmax operation\n",
    "        weights = softmax(scores)\n",
    "\n",
    "        # Computing the attention by a weighted sum of the value vectors\n",
    "        return matmul(weights, values)\n",
    "\n",
    "# Implementing the Multi-Head Attention\n",
    "class SIMC_MultiHeadAttention(Layer):\n",
    "    def __init__(self, h, d_k, d_v, d_model, **kwargs):\n",
    "        super(SIMC_MultiHeadAttention, self).__init__(**kwargs)\n",
    "        self.attention = DotProductAttention()  # Scaled dot product attention\n",
    "        self.heads = h  # Number of attention heads to use\n",
    "        self.d_k = d_k  # Dimensionality of the linearly projected queries and keys\n",
    "        self.d_v = d_v  # Dimensionality of the linearly projected values\n",
    "        self.d_model = d_model  # Dimensionality of the model\n",
    "        self.W_q = Dense(d_k)  # Learned projection matrix for the queries\n",
    "        self.W_k = Dense(d_k)  # Learned projection matrix for the keys\n",
    "        self.W_v = Dense(d_v)  # Learned projection matrix for the values\n",
    "        self.W_o = Dense(d_model)  # Learned projection matrix for the multi-head output\n",
    "\n",
    "    def reshape_tensor(self, x, heads, flag):\n",
    "        if flag:\n",
    "            # Tensor shape after reshaping and transposing: (batch_size, heads, seq_length, -1)\n",
    "            x = reshape(x, shape=(shape(x)[0], shape(x)[1], heads, -1))\n",
    "            x = transpose(x, perm=(0, 2, 1, 3))\n",
    "        else:\n",
    "            # Reverting the reshaping and transposing operations: (batch_size, seq_length, d_k)\n",
    "            x = transpose(x, perm=(0, 2, 1, 3))\n",
    "            x = reshape(x, shape=(shape(x)[0], shape(x)[1], self.d_k))\n",
    "        return x\n",
    "\n",
    "    def call(self, queries, keys, values, mask=None):\n",
    "        # Rearrange the queries to be able to compute all heads in parallel\n",
    "        q_reshaped = self.reshape_tensor(self.W_q(queries), self.heads, True)\n",
    "        # Resulting tensor shape: (batch_size, heads, input_seq_length, -1)\n",
    "\n",
    "        # Rearrange the keys to be able to compute all heads in parallel\n",
    "        k_reshaped = self.reshape_tensor(self.W_k(keys), self.heads, True)\n",
    "        # Resulting tensor shape: (batch_size, heads, input_seq_length, -1)\n",
    "\n",
    "        # Rearrange the values to be able to compute all heads in parallel\n",
    "        v_reshaped = self.reshape_tensor(self.W_v(values), self.heads, True)\n",
    "        # Resulting tensor shape: (batch_size, heads, input_seq_length, -1)\n",
    "\n",
    "        # Compute the multi-head attention output using the reshaped queries, keys and values\n",
    "        o_reshaped = self.attention(q_reshaped, k_reshaped, v_reshaped, self.d_k, mask)\n",
    "        # Resulting tensor shape: (batch_size, heads, input_seq_length, -1)\n",
    "\n",
    "        # Rearrange back the output into concatenated form\n",
    "        output = self.reshape_tensor(o_reshaped, self.heads, False)\n",
    "        # Resulting tensor shape: (batch_size, input_seq_length, d_v)\n",
    "\n",
    "        # Apply one final linear projection to the output to generate the multi-head attention\n",
    "        # Resulting tensor shape: (batch_size, input_seq_length, d_model)\n",
    "        return self.W_o(output)"
   ]
  },
  {
   "attachments": {},
   "cell_type": "markdown",
   "metadata": {},
   "source": [
    "### 2. Encoder layer and Encoder itself"
   ]
  },
  {
   "cell_type": "code",
   "execution_count": 9,
   "metadata": {},
   "outputs": [],
   "source": [
    "from tensorflow.keras.layers import LayerNormalization, Layer, Dense, ReLU, Dropout\n",
    "# from multihead_attention import MultiHeadAttention\n",
    "# from positional_encoding import PositionEmbeddingFixedWeights\n",
    "\n",
    "# Implementing the Add & Norm Layer\n",
    "class AddNormalization(Layer):\n",
    "    def __init__(self, **kwargs):\n",
    "        super(AddNormalization, self).__init__(**kwargs)\n",
    "        self.layer_norm = LayerNormalization()  # Layer normalization layer\n",
    "\n",
    "    def call(self, x, sublayer_x):\n",
    "        # The sublayer input and output need to be of the same shape to be summed\n",
    "        add = x + sublayer_x\n",
    "\n",
    "        # Apply layer normalization to the sum\n",
    "        return self.layer_norm(add)\n",
    "\n",
    "# Implementing the Feed-Forward Layer\n",
    "class FeedForward(Layer):\n",
    "    def __init__(self, d_ff, d_model, **kwargs):\n",
    "        super(FeedForward, self).__init__(**kwargs)\n",
    "        self.fully_connected1 = Dense(d_ff)  # First fully connected layer\n",
    "        self.fully_connected2 = Dense(d_model)  # Second fully connected layer\n",
    "        self.activation = ReLU()  # ReLU activation layer\n",
    "\n",
    "    def call(self, x):\n",
    "        # The input is passed into the two fully-connected layers, with a ReLU in between\n",
    "        x_fc1 = self.fully_connected1(x)\n",
    "\n",
    "        return self.fully_connected2(self.activation(x_fc1))\n",
    "\n",
    "# Implementing the Encoder Layer\n",
    "class EncoderLayer(Layer):\n",
    "    def __init__(self, h, d_k, d_v, d_model, d_ff, rate, **kwargs):\n",
    "        super(EncoderLayer, self).__init__(**kwargs)\n",
    "        self.multihead_attention = SIMC_MultiHeadAttention(h, d_k, d_v, d_model)\n",
    "        self.dropout1 = Dropout(rate)\n",
    "        self.add_norm1 = AddNormalization()\n",
    "        self.feed_forward = FeedForward(d_ff, d_model)\n",
    "        self.dropout2 = Dropout(rate)\n",
    "        self.add_norm2 = AddNormalization()\n",
    "\n",
    "    def call(self, x, padding_mask, training):\n",
    "        # Multi-head attention layer\n",
    "        multihead_output = self.multihead_attention(x, x, x, padding_mask)\n",
    "        # Expected output shape = (batch_size, sequence_length, d_model)\n",
    "\n",
    "        # Add in a dropout layer\n",
    "        multihead_output = self.dropout1(multihead_output, training=training)\n",
    "\n",
    "        # Followed by an Add & Norm layer\n",
    "        addnorm_output = self.add_norm1(x, multihead_output)\n",
    "        # Expected output shape = (batch_size, sequence_length, d_model)\n",
    "\n",
    "        # Followed by a fully connected layer\n",
    "        feedforward_output = self.feed_forward(addnorm_output)\n",
    "        # Expected output shape = (batch_size, sequence_length, d_model)\n",
    "\n",
    "        # Add in another dropout layer\n",
    "        feedforward_output = self.dropout2(feedforward_output, training=training)\n",
    "\n",
    "        # Followed by another Add & Norm layer\n",
    "        return self.add_norm2(addnorm_output, feedforward_output)\n",
    "\n",
    "# # Implementing the Encoder\n",
    "# class Encoder(Layer):\n",
    "#     def __init__(self, vocab_size, sequence_length, h, d_k, d_v, d_model, d_ff, n, rate, **kwargs):\n",
    "#         super(Encoder, self).__init__(**kwargs)\n",
    "#         self.pos_encoding = PositionEmbeddingFixedWeights(sequence_length, vocab_size, d_model)\n",
    "#         self.dropout = Dropout(rate)\n",
    "#         self.encoder_layer = [EncoderLayer(h, d_k, d_v, d_model, d_ff, rate) for _ in range(n)]\n",
    "\n",
    "#     def call(self, input_sentence, padding_mask, training):\n",
    "#         # Generate the positional encoding\n",
    "#         pos_encoding_output = self.pos_encoding(input_sentence)\n",
    "#         # Expected output shape = (batch_size, sequence_length, d_model)\n",
    "\n",
    "#         # Add in a dropout layer\n",
    "#         x = self.dropout(pos_encoding_output, training=training)\n",
    "\n",
    "#         # Pass on the positional encoded values to each encoder layer\n",
    "#         for i, layer in enumerate(self.encoder_layer):\n",
    "#             x = layer(x, padding_mask, training)\n",
    "\n",
    "#         return x\n",
    "\n",
    "\n",
    "# Implementing the Encoder\n",
    "class SIMC_Encoder(Layer):\n",
    "    def __init__(self, h, d_k, d_v, d_model, d_ff, n, rate, **kwargs):\n",
    "        super(SIMC_Encoder, self).__init__(**kwargs)\n",
    "        self.dropout = Dropout(rate)\n",
    "        self.encoder_layer = [EncoderLayer(h, d_k, d_v, d_model, d_ff, rate) for _ in range(n)]\n",
    "\n",
    "    def call(self, inp, padding_mask, training):\n",
    "        # Add in a dropout layer\n",
    "        x = self.dropout(inp, training=training)\n",
    "\n",
    "        # Pass on the positional encoded values to each encoder layer\n",
    "        for i, layer in enumerate(self.encoder_layer):\n",
    "            x = layer(x, padding_mask, training)\n",
    "\n",
    "        return x"
   ]
  },
  {
   "attachments": {},
   "cell_type": "markdown",
   "metadata": {},
   "source": [
    "Some utilities for final model\n"
   ]
  },
  {
   "cell_type": "code",
   "execution_count": 10,
   "metadata": {},
   "outputs": [],
   "source": [
    "from typing import List\n",
    "from dataclasses import dataclass\n",
    "\n",
    "@dataclass\n",
    "class ConvolutionConfiguration:\n",
    "    output_channels: List[int]\n",
    "    kernel_sizes: List[int]\n",
    "    paddings: List[str]\n",
    "\n",
    "@dataclass \n",
    "class EncoderLayersConfiguration:\n",
    "    h: int\n",
    "    d_k: int\n",
    "    d_v: int\n",
    "    d_model: int\n",
    "    d_ff: int\n",
    "    n: int\n",
    "\n",
    "@dataclass\n",
    "class DenseConfiguration:\n",
    "    sizes: List[int]"
   ]
  },
  {
   "attachments": {},
   "cell_type": "markdown",
   "metadata": {},
   "source": [
    "### 3. Final model itself\n",
    "Model constists of a CNNn -> b EncoderLayers -> c Dense layers"
   ]
  },
  {
   "cell_type": "code",
   "execution_count": 11,
   "metadata": {},
   "outputs": [],
   "source": [
    "def create_model_transformer(\n",
    "    cnn_conf: ConvolutionConfiguration,\n",
    "    enc_conf: EncoderLayersConfiguration,\n",
    "    dense_conf: DenseConfiguration,\n",
    "    avg_size: int = 32,\n",
    "    *args,\n",
    "    **kwargs,\n",
    "):\n",
    "    if len(args) != 0:\n",
    "        print(f\"!!! create_model_transformer: unused kwargs: {args}\")\n",
    "\n",
    "    if len(kwargs) != 0:\n",
    "        print(f\"!!! create_model_transformer: unused kwargs: {kwargs}\")\n",
    "\n",
    "    InputLayer = keras.Input(shape=(1024, 2))\n",
    "    assert len(cnn_conf.output_channels) == len(cnn_conf.kernel_sizes) == len(cnn_conf.paddings)\n",
    "    N_CNNs = len(cnn_conf.output_channels)\n",
    "    assert N_CNNs > 0\n",
    "\n",
    "    CNN1 = layers.Conv1D(\n",
    "        cnn_conf.output_channels[0],\n",
    "        cnn_conf.kernel_sizes[0],\n",
    "        padding=cnn_conf.paddings[0],\n",
    "        name=\"CNN1_\",\n",
    "    )(InputLayer)\n",
    "    MAX_POOL1 = layers.MaxPool1D(pool_size=2, strides=2, name=f\"MAX_POOL_1_\")(CNN1)\n",
    "    RELU1 = layers.ReLU(name=\"RELU1_\")(MAX_POOL1)\n",
    "\n",
    "    model_layers = [CNN1, RELU1]\n",
    "    for i in range(1, N_CNNs):\n",
    "        model_layers.append(\n",
    "            layers.Conv1D(\n",
    "                cnn_conf.output_channels[i],\n",
    "                cnn_conf.kernel_sizes[i],\n",
    "                padding=cnn_conf.paddings[i],\n",
    "                name=f\"CNN{i+1}_\",\n",
    "            )(model_layers[-1])\n",
    "        )\n",
    "        model_layers.append(layers.ReLU(name=f\"CNN_RELU{i+1}_\")(model_layers[-1]))\n",
    "\n",
    "    enc_conf_dict = enc_conf.__dict__\n",
    "    model_layers.append(SIMC_Encoder(**enc_conf_dict, rate=0.1, name=\"ENC1_\")(RELU1, None, True))\n",
    "\n",
    "    model_layers.append(\n",
    "        layers.AveragePooling1D(avg_size, padding=\"same\", name=\"AVG1_\")(model_layers[-1])\n",
    "    )\n",
    "\n",
    "    model_layers.append(layers.Flatten(name=\"FLT1_\")(model_layers[-1]))\n",
    "\n",
    "    N_Dense = len(dense_conf.sizes)\n",
    "    assert N_Dense > 0\n",
    "\n",
    "    model_layers.append(layers.Dense(dense_conf.sizes[0], name=\"FC1_\")(model_layers[-1]))\n",
    "    model_layers.append(layers.ReLU(name=\"FC_RELU1_\")(model_layers[-1]))\n",
    "\n",
    "    for i in range(1, N_Dense):\n",
    "        model_layers.append(layers.Dense(dense_conf.sizes[i], name=f\"FC{i+1}_\")(model_layers[-1]))\n",
    "        model_layers.append(layers.ReLU(name=f\"FC_RELU{i+1}_\")(model_layers[-1]))\n",
    "\n",
    "    model_layers.append(layers.Dense(len(modulations), name=f\"FC_{N_Dense+1}_\")(model_layers[-1]))\n",
    "    Output = layers.Softmax()(model_layers[-1])\n",
    "\n",
    "    model = keras.Model(inputs=[InputLayer], outputs=[Output])\n",
    "    return model"
   ]
  },
  {
   "attachments": {},
   "cell_type": "markdown",
   "metadata": {},
   "source": [
    "Test code above"
   ]
  },
  {
   "cell_type": "code",
   "execution_count": 12,
   "metadata": {},
   "outputs": [
    {
     "name": "stderr",
     "output_type": "stream",
     "text": [
      "2023-05-11 19:37:03.761515: I tensorflow/compiler/xla/stream_executor/cuda/cuda_gpu_executor.cc:996] successful NUMA node read from SysFS had negative value (-1), but there must be at least one NUMA node, so returning NUMA node zero. See more at https://github.com/torvalds/linux/blob/v6.0/Documentation/ABI/testing/sysfs-bus-pci#L344-L355\n",
      "2023-05-11 19:37:03.761729: I tensorflow/compiler/xla/stream_executor/cuda/cuda_gpu_executor.cc:996] successful NUMA node read from SysFS had negative value (-1), but there must be at least one NUMA node, so returning NUMA node zero. See more at https://github.com/torvalds/linux/blob/v6.0/Documentation/ABI/testing/sysfs-bus-pci#L344-L355\n",
      "2023-05-11 19:37:03.761802: I tensorflow/compiler/xla/stream_executor/cuda/cuda_gpu_executor.cc:996] successful NUMA node read from SysFS had negative value (-1), but there must be at least one NUMA node, so returning NUMA node zero. See more at https://github.com/torvalds/linux/blob/v6.0/Documentation/ABI/testing/sysfs-bus-pci#L344-L355\n",
      "2023-05-11 19:37:04.311496: I tensorflow/compiler/xla/stream_executor/cuda/cuda_gpu_executor.cc:996] successful NUMA node read from SysFS had negative value (-1), but there must be at least one NUMA node, so returning NUMA node zero. See more at https://github.com/torvalds/linux/blob/v6.0/Documentation/ABI/testing/sysfs-bus-pci#L344-L355\n",
      "2023-05-11 19:37:04.311840: I tensorflow/compiler/xla/stream_executor/cuda/cuda_gpu_executor.cc:996] successful NUMA node read from SysFS had negative value (-1), but there must be at least one NUMA node, so returning NUMA node zero. See more at https://github.com/torvalds/linux/blob/v6.0/Documentation/ABI/testing/sysfs-bus-pci#L344-L355\n",
      "2023-05-11 19:37:04.311916: I tensorflow/compiler/xla/stream_executor/cuda/cuda_gpu_executor.cc:996] successful NUMA node read from SysFS had negative value (-1), but there must be at least one NUMA node, so returning NUMA node zero. See more at https://github.com/torvalds/linux/blob/v6.0/Documentation/ABI/testing/sysfs-bus-pci#L344-L355\n",
      "2023-05-11 19:37:04.311975: I tensorflow/core/common_runtime/gpu/gpu_device.cc:1635] Created device /job:localhost/replica:0/task:0/device:GPU:0 with 6056 MB memory:  -> device: 0, name: NVIDIA GeForce RTX 3070 Ti Laptop GPU, pci bus id: 0000:01:00.0, compute capability: 8.6\n"
     ]
    },
    {
     "name": "stdout",
     "output_type": "stream",
     "text": [
      "Model: \"model\"\n",
      "_________________________________________________________________\n",
      " Layer (type)                Output Shape              Param #   \n",
      "=================================================================\n",
      " input_1 (InputLayer)        [(None, 1024, 2)]         0         \n",
      "                                                                 \n",
      " CNN1_ (Conv1D)              (None, 1024, 32)          544       \n",
      "                                                                 \n",
      " MAX_POOL_1_ (MaxPooling1D)  (None, 512, 32)           0         \n",
      "                                                                 \n",
      " RELU1_ (ReLU)               (None, 512, 32)           0         \n",
      "                                                                 \n",
      " ENC1_ (SIMC_Encoder)        (None, 512, 32)           50816     \n",
      "                                                                 \n",
      " AVG1_ (AveragePooling1D)    (None, 4, 32)             0         \n",
      "                                                                 \n",
      " FLT1_ (Flatten)             (None, 128)               0         \n",
      "                                                                 \n",
      " FC1_ (Dense)                (None, 128)               16512     \n",
      "                                                                 \n",
      " FC_RELU1_ (ReLU)            (None, 128)               0         \n",
      "                                                                 \n",
      " FC_2_ (Dense)               (None, 11)                1419      \n",
      "                                                                 \n",
      " softmax (Softmax)           (None, 11)                0         \n",
      "                                                                 \n",
      "=================================================================\n",
      "Total params: 69,291\n",
      "Trainable params: 69,291\n",
      "Non-trainable params: 0\n",
      "_________________________________________________________________\n"
     ]
    }
   ],
   "source": [
    "model = create_model_transformer(\n",
    "    ConvolutionConfiguration(output_channels=[32], kernel_sizes=[8], paddings=[\"same\"]),\n",
    "    EncoderLayersConfiguration(h=4, d_k=32, d_v=32, d_model=32, d_ff=128, n=4),\n",
    "    DenseConfiguration(sizes=[128]),\n",
    "    128\n",
    ")\n",
    "model.summary()"
   ]
  },
  {
   "attachments": {},
   "cell_type": "markdown",
   "metadata": {},
   "source": [
    "### List of models we're interested at"
   ]
  },
  {
   "cell_type": "code",
   "execution_count": 13,
   "metadata": {},
   "outputs": [],
   "source": [
    "default_cnn_conf = ConvolutionConfiguration(\n",
    "    output_channels=[32], kernel_sizes=[9], paddings=[\"same\"]\n",
    ")\n",
    "default_encoder_conf = EncoderLayersConfiguration(h=4, d_k=32, d_v=32, d_model=32, d_ff=128, n=4)\n",
    "default_dense_conf = DenseConfiguration(sizes=[128])\n",
    "# default_avg_size = 32\n",
    "default_avg_size = 128\n",
    "\n",
    "configs = [\n",
    "    # [default_cnn_conf, default_encoder_conf, default_dense_conf, default_avg_size, \"Default small encoder\"],\n",
    "\n",
    "    # # Different kernel sizes\n",
    "    # # [ConvolutionConfiguration(output_channels=[32], kernel_sizes=[9], paddings=[\"same\"]), default_encoder_conf, default_dense_conf, default_avg_size],\n",
    "    # [ConvolutionConfiguration(output_channels=[32], kernel_sizes=[17], paddings=[\"same\"]), default_encoder_conf, default_dense_conf, default_avg_size, \"k=17\"],\n",
    "    [ConvolutionConfiguration(output_channels=[32], kernel_sizes=[33], paddings=[\"same\"]), default_encoder_conf, default_dense_conf, default_avg_size, \"k=33\"],\n",
    "    # [ConvolutionConfiguration(output_channels=[32], kernel_sizes=[65], paddings=[\"same\"]), default_encoder_conf, default_dense_conf, default_avg_size, \"k=65\"],\n",
    "\n",
    "    # # Different number of encoder layers\n",
    "    # [default_cnn_conf, EncoderLayersConfiguration(h=4, d_k=32, d_v=32, d_model=32, d_ff=128, n=2), default_dense_conf, default_avg_size, \"encoder n=2\"],\n",
    "    # # [default_cnn_conf, EncoderLayersConfiguration(h=4, d_k=32, d_v=32, d_model=32, d_ff=128, n=4), default_dense_conf, default_avg_size],\n",
    "    # [default_cnn_conf, EncoderLayersConfiguration(h=4, d_k=32, d_v=32, d_model=32, d_ff=128, n=6), default_dense_conf, default_avg_size, \"encoder n=6\"],\n",
    "    # [default_cnn_conf, EncoderLayersConfiguration(h=4, d_k=32, d_v=32, d_model=32, d_ff=128, n=8), default_dense_conf, default_avg_size, \"encoder n=8\"],\n",
    "\n",
    "    # # Different sizes of d_model\n",
    "    # # [ConvolutionConfiguration(output_channels=[32], kernel_sizes=[9], paddings=[\"same\"]),  EncoderLayersConfiguration(h=4, d_k=32, d_v=32, d_model=32, d_ff=128, n=4), default_dense_conf, default_avg_size],\n",
    "    # [ConvolutionConfiguration(output_channels=[64], kernel_sizes=[9], paddings=[\"same\"]),  EncoderLayersConfiguration(h=4, d_k=32, d_v=32, d_model=64, d_ff=128, n=4), default_dense_conf, default_avg_size, \"d_model=64\"],\n",
    "    [ConvolutionConfiguration(output_channels=[128], kernel_sizes=[9], paddings=[\"same\"]),  EncoderLayersConfiguration(h=4, d_k=32, d_v=32, d_model=128, d_ff=128, n=4), default_dense_conf, default_avg_size, \"d_model=128\"],\n",
    "    # [ConvolutionConfiguration(output_channels=[256], kernel_sizes=[9], paddings=[\"same\"]),  EncoderLayersConfiguration(h=4, d_k=32, d_v=32, d_model=256, d_ff=128, n=4), default_dense_conf, default_avg_size, \"d_model=256\"],\n",
    "]\n",
    "\n",
    "# for config in configs:\n",
    "#     print(config)\n",
    "#     model = create_model_transformer(*config)\n",
    "#     model.summary()"
   ]
  },
  {
   "attachments": {},
   "cell_type": "markdown",
   "metadata": {},
   "source": [
    "### Model evaluation functions"
   ]
  },
  {
   "cell_type": "code",
   "execution_count": 22,
   "metadata": {},
   "outputs": [],
   "source": [
    "import pickle\n",
    "\n",
    "def evaluate_model(model, data, labels, verbose=True):\n",
    "    preds = model.predict(data)\n",
    "    pred_labels = np.argmax(preds, axis=1)\n",
    "\n",
    "    cls_to_acc = {\"Overall\": accuracy_score(labels, pred_labels)}\n",
    "    print(f\"Overall test accuracy: {cls_to_acc}\")\n",
    "    for ci, cl in enumerate(modulations):\n",
    "        class_indecies = np.where(labels == ci)[0]\n",
    "        cur_true_labels = labels[class_indecies]\n",
    "        cur_pred_labels = pred_labels[class_indecies]\n",
    "        cls_to_acc[cl] = accuracy_score(cur_true_labels, cur_pred_labels)\n",
    "        verbose and print(f\"{cl} test accuracy: {cls_to_acc[cl]}\")\n",
    "    cm = confusion_matrix(y_true=labels, y_pred=pred_labels)\n",
    "    verbose and print(cm)\n",
    "    df_cm = pd.DataFrame(cm, index = modulations,\n",
    "                    columns = modulations)\n",
    "    if verbose:\n",
    "        plt.figure(figsize = (10,7))\n",
    "        sn.heatmap(df_cm, annot=True)\n",
    "    return cm, cls_to_acc\n",
    "\n",
    "\n",
    "def get_snr_to_acc(model, data, labels, indecies, minimum_snr=-100, verbose=True):\n",
    "    def snr_by_idx(idx):\n",
    "        # snr_idx = (idx % 30000) // 1000\n",
    "        snr_idx = (idx % 30000) // 500\n",
    "        return snrs[snr_idx]\n",
    "\n",
    "    cur_snrs = np.array([snr_by_idx(idx) for idx in indecies])\n",
    "\n",
    "    snr_to_acc = {}\n",
    "    for snr in snrs:\n",
    "    # for snr in range(0, 30):\n",
    "        cur_indecies = np.where(cur_snrs == snr)[0]\n",
    "        cur_data = data[cur_indecies]\n",
    "        cur_labels = labels[cur_indecies]\n",
    "        cur_pred = model.predict(cur_data, verbose=0)\n",
    "        cur_pred_labels = np.argmax(cur_pred, axis=1)\n",
    "        verbose and print(f\"snr={snr}\")\n",
    "        acc = accuracy_score(cur_labels, cur_pred_labels)\n",
    "        verbose and print(f\"Overall test accuracy: {acc}\")\n",
    "        snr_to_acc[snr] = acc\n",
    "    return snr_to_acc"
   ]
  },
  {
   "attachments": {},
   "cell_type": "markdown",
   "metadata": {},
   "source": [
    "### Train, evaluate, save model and evaluation results"
   ]
  },
  {
   "cell_type": "code",
   "execution_count": 26,
   "metadata": {},
   "outputs": [
    {
     "name": "stderr",
     "output_type": "stream",
     "text": [
      "2023-05-12 01:05:30.454946: I tensorflow/core/common_runtime/executor.cc:1197] [/device:CPU:0] (DEBUG INFO) Executor start aborting (this does not indicate an error and you can ignore this message): INVALID_ARGUMENT: You must feed a value for placeholder tensor 'inp' with dtype float and shape [?,512,32]\n",
      "\t [[{{node inp}}]]\n",
      "2023-05-12 01:05:30.481082: I tensorflow/core/common_runtime/executor.cc:1197] [/device:CPU:0] (DEBUG INFO) Executor start aborting (this does not indicate an error and you can ignore this message): INVALID_ARGUMENT: You must feed a value for placeholder tensor 'Placeholder' with dtype float and shape [?,512,32]\n",
      "\t [[{{node Placeholder}}]]\n"
     ]
    },
    {
     "name": "stdout",
     "output_type": "stream",
     "text": [
      "1032/1032 [==============================] - 32s 30ms/step\n",
      "Overall test accuracy: {'Overall': 0.4966060606060606}\n",
      "1032/1032 [==============================] - 35s 34ms/step\n",
      "Overall test accuracy: {'Overall': 0.4922121212121212}\n"
     ]
    },
    {
     "name": "stderr",
     "output_type": "stream",
     "text": [
      "2023-05-12 01:07:51.629110: I tensorflow/core/common_runtime/executor.cc:1197] [/device:CPU:0] (DEBUG INFO) Executor start aborting (this does not indicate an error and you can ignore this message): INVALID_ARGUMENT: You must feed a value for placeholder tensor 'inp' with dtype float and shape [?,512,32]\n",
      "\t [[{{node inp}}]]\n",
      "WARNING:absl:Found untraced functions such as _jit_compiled_convolution_op, _update_step_xla, dropout_9_layer_call_fn, dropout_9_layer_call_and_return_conditional_losses, restored_function_body while saving (showing 5 of 140). These functions will not be directly callable after loading.\n"
     ]
    },
    {
     "name": "stdout",
     "output_type": "stream",
     "text": [
      "INFO:tensorflow:Assets written to: encoder_mixed_v2_-30-30/experiment_0/model/assets\n"
     ]
    },
    {
     "name": "stderr",
     "output_type": "stream",
     "text": [
      "INFO:tensorflow:Assets written to: encoder_mixed_v2_-30-30/experiment_0/model/assets\n",
      "2023-05-12 01:07:55.085986: I tensorflow/core/common_runtime/executor.cc:1197] [/device:CPU:0] (DEBUG INFO) Executor start aborting (this does not indicate an error and you can ignore this message): INVALID_ARGUMENT: You must feed a value for placeholder tensor 'inp' with dtype float and shape [?,512,128]\n",
      "\t [[{{node inp}}]]\n",
      "2023-05-12 01:07:55.115605: I tensorflow/core/common_runtime/executor.cc:1197] [/device:CPU:0] (DEBUG INFO) Executor start aborting (this does not indicate an error and you can ignore this message): INVALID_ARGUMENT: You must feed a value for placeholder tensor 'Placeholder' with dtype float and shape [?,512,128]\n",
      "\t [[{{node Placeholder}}]]\n"
     ]
    },
    {
     "name": "stdout",
     "output_type": "stream",
     "text": [
      "1032/1032 [==============================] - 39s 37ms/step\n",
      "Overall test accuracy: {'Overall': 0.48457575757575755}\n",
      "1032/1032 [==============================] - 37s 36ms/step\n",
      "Overall test accuracy: {'Overall': 0.4826969696969697}\n"
     ]
    },
    {
     "name": "stderr",
     "output_type": "stream",
     "text": [
      "2023-05-12 01:10:36.102548: I tensorflow/core/common_runtime/executor.cc:1197] [/device:CPU:0] (DEBUG INFO) Executor start aborting (this does not indicate an error and you can ignore this message): INVALID_ARGUMENT: You must feed a value for placeholder tensor 'inp' with dtype float and shape [?,512,128]\n",
      "\t [[{{node inp}}]]\n",
      "WARNING:absl:Found untraced functions such as _jit_compiled_convolution_op, _update_step_xla, dropout_18_layer_call_fn, dropout_18_layer_call_and_return_conditional_losses, restored_function_body while saving (showing 5 of 140). These functions will not be directly callable after loading.\n"
     ]
    },
    {
     "name": "stdout",
     "output_type": "stream",
     "text": [
      "INFO:tensorflow:Assets written to: encoder_mixed_v2_-30-30/experiment_1/model/assets\n"
     ]
    },
    {
     "name": "stderr",
     "output_type": "stream",
     "text": [
      "INFO:tensorflow:Assets written to: encoder_mixed_v2_-30-30/experiment_1/model/assets\n"
     ]
    }
   ],
   "source": [
    "train_model = False\n",
    "\n",
    "import json\n",
    "from copy import deepcopy\n",
    "\n",
    "# def step_decay(epoch):\n",
    "#     lrate = 0.001\n",
    "#     factor = epoch // 8\n",
    "#     lrate /= (10**factor)\n",
    "#     return lrate\n",
    "\n",
    "# lrate = tf.keras.callbacks.LearningRateScheduler(step_decay)\n",
    "\n",
    "train_data = train_data.squeeze()\n",
    "validation_data = validation_data.squeeze()\n",
    "test_data = test_data.squeeze()\n",
    "\n",
    "# train_data = np.expand_dims(train_data, 1)\n",
    "# validation_data = np.expand_dims(validation_data, 1)\n",
    "# test_data = np.expand_dims(test_data, 1)\n",
    "\n",
    "for i, config in enumerate(configs):\n",
    "    results_dir = f\"encoder_mixed_v2_-30-30/experiment_{i}/\"\n",
    "\n",
    "    if train_model:\n",
    "        model = create_model_transformer(*config)\n",
    "        model.summary()\n",
    "\n",
    "        model.compile(\n",
    "            optimizer=tf.keras.optimizers.Adam(learning_rate=0.001),\n",
    "            loss=tf.keras.losses.SparseCategoricalCrossentropy(),\n",
    "            metrics=[\"accuracy\"],\n",
    "        )\n",
    "        N_EPOCHS = 16\n",
    "        BATCH_SIZE = 32\n",
    "\n",
    "        h = model.fit(\n",
    "            train_data,\n",
    "            train_labels,\n",
    "            epochs=N_EPOCHS,\n",
    "            batch_size=BATCH_SIZE,\n",
    "            validation_data=(validation_data, validation_labels),\n",
    "            verbose=1,\n",
    "        )\n",
    "    else:\n",
    "        model = tf.keras.models.load_model(results_dir + \"model\")\n",
    "\n",
    "    cm_val, cls_to_acc_val = evaluate_model(\n",
    "        model, validation_data, validation_labels, verbose=False\n",
    "    )\n",
    "    snr_to_acc_val = get_snr_to_acc(\n",
    "        model, validation_data, validation_labels, validation_indecies, verbose=False\n",
    "    )\n",
    "\n",
    "    cm_test, cls_to_acc_test = evaluate_model(model, test_data, test_labels, verbose=False)\n",
    "    snr_to_acc_test = get_snr_to_acc(model, test_data, test_labels, test_indecies, verbose=False)\n",
    "\n",
    "    model_configuration = {\n",
    "        \"cnn\": config[0].__dict__,\n",
    "        \"encoder\": config[1].__dict__,\n",
    "        \"dense\": config[2].__dict__,\n",
    "        \"avg_pool\": config[3],\n",
    "        \"description\": config[4],\n",
    "    }\n",
    "    train_history = deepcopy(h.history)\n",
    "    # train_history[\"lr\"] = [float(lr) for lr in train_history[\"lr\"]]\n",
    "\n",
    "    results = {\n",
    "        \"model_configuration\": model_configuration,\n",
    "        \"train_history\": train_history,\n",
    "        \"cm_val\": cm_val.tolist(),\n",
    "        \"cls_to_acc_val\": cls_to_acc_val,\n",
    "        \"snr_to_acc_val\": snr_to_acc_val,\n",
    "        \"cm_test\": cm_test.tolist(),\n",
    "        \"cls_to_acc_test\": cls_to_acc_test,\n",
    "        \"snr_to_acc_test\": snr_to_acc_test,\n",
    "    }\n",
    "\n",
    "    os.makedirs(results_dir, exist_ok=True)\n",
    "    with open(results_dir + \"results.json\", \"w\") as res_file:\n",
    "        json.dump(results, res_file, indent=4)\n",
    "    model.save(results_dir + \"model\")"
   ]
  },
  {
   "cell_type": "code",
   "execution_count": 23,
   "metadata": {},
   "outputs": [],
   "source": [
    "snr_to_acc_val = get_snr_to_acc(\n",
    "    model, validation_data, validation_labels, validation_indecies, verbose=False\n",
    ")"
   ]
  },
  {
   "cell_type": "code",
   "execution_count": 24,
   "metadata": {},
   "outputs": [
    {
     "data": {
      "text/plain": [
       "{-30: 0.09595959595959595,\n",
       " -29: 0.09320388349514563,\n",
       " -28: 0.07738095238095238,\n",
       " -27: 0.10243055555555555,\n",
       " -26: 0.12050359712230216,\n",
       " -25: 0.09074733096085409,\n",
       " -24: 0.10163934426229508,\n",
       " -23: 0.060109289617486336,\n",
       " -22: 0.09944751381215469,\n",
       " -21: 0.1161524500907441,\n",
       " -20: 0.1224105461393597,\n",
       " -19: 0.13003663003663005,\n",
       " -18: 0.1299638989169675,\n",
       " -17: 0.14383561643835616,\n",
       " -16: 0.14594594594594595,\n",
       " -15: 0.14960629921259844,\n",
       " -14: 0.21787709497206703,\n",
       " -13: 0.20930232558139536,\n",
       " -12: 0.19827586206896552,\n",
       " -11: 0.21869488536155202,\n",
       " -10: 0.2523719165085389,\n",
       " -9: 0.34705882352941175,\n",
       " -8: 0.336996336996337,\n",
       " -7: 0.3102189781021898,\n",
       " -6: 0.3378839590443686,\n",
       " -5: 0.3426086956521739,\n",
       " -4: 0.38380281690140844,\n",
       " -3: 0.40463458110516937,\n",
       " -2: 0.42987249544626593,\n",
       " -1: 0.37937384898710863,\n",
       " 0: 0.43447037701974867,\n",
       " 1: 0.47619047619047616,\n",
       " 2: 0.5048076923076923,\n",
       " 3: 0.5597014925373134,\n",
       " 4: 0.5594405594405595,\n",
       " 5: 0.5925925925925926,\n",
       " 6: 0.6309751434034416,\n",
       " 7: 0.6765873015873016,\n",
       " 8: 0.6929824561403509,\n",
       " 9: 0.7251356238698011,\n",
       " 10: 0.7531760435571688,\n",
       " 11: 0.7857142857142857,\n",
       " 12: 0.7958412098298677,\n",
       " 13: 0.7861163227016885,\n",
       " 14: 0.8007448789571695,\n",
       " 15: 0.8444444444444444,\n",
       " 16: 0.8529980657640233,\n",
       " 17: 0.8559027777777778,\n",
       " 18: 0.8506616257088847,\n",
       " 19: 0.8613138686131386,\n",
       " 20: 0.8829787234042553,\n",
       " 21: 0.8740740740740741,\n",
       " 22: 0.86996336996337,\n",
       " 23: 0.906934306569343,\n",
       " 24: 0.9080675422138836,\n",
       " 25: 0.8901098901098901,\n",
       " 26: 0.9157706093189965,\n",
       " 27: 0.9025844930417495,\n",
       " 28: 0.9073724007561437,\n",
       " 29: 0.9175257731958762}"
      ]
     },
     "execution_count": 24,
     "metadata": {},
     "output_type": "execute_result"
    }
   ],
   "source": [
    "snr_to_acc_val"
   ]
  },
  {
   "cell_type": "code",
   "execution_count": 29,
   "metadata": {},
   "outputs": [
    {
     "data": {
      "image/png": "[encoded data removed]",
      "text/plain": [
       "<Figure size 800x800 with 2 Axes>"
      ]
     },
     "metadata": {},
     "output_type": "display_data"
    }
   ],
   "source": [
    "import matplotlib.pyplot as plt\n",
    "\n",
    "acc = h.history['accuracy']\n",
    "val_acc = h.history['val_accuracy']\n",
    "loss = h.history['loss']\n",
    "val_loss = h.history['val_loss']\n",
    "\n",
    "epochs_range = range(N_EPOCHS)\n",
    "plt.figure(figsize=(8, 8))\n",
    "plt.subplot(2, 1, 1)\n",
    "plt.plot(epochs_range, acc, label='Training Accuracy')\n",
    "plt.plot(epochs_range, val_acc, label='Validation Accuracy')\n",
    "plt.legend(loc='lower right')\n",
    "plt.title('Training and Validation Accuracy')\n",
    "plt.subplot(2, 1, 2)\n",
    "\n",
    "plt.plot(epochs_range, loss, label='Training Loss')\n",
    "plt.plot(epochs_range, val_loss, label='Validation Loss')\n",
    "plt.legend(loc='upper right')\n",
    "plt.title('Training and Validation Loss')\n",
    "plt.show()"
   ]
  },
  {
   "cell_type": "code",
   "execution_count": 30,
   "metadata": {},
   "outputs": [
    {
     "name": "stdout",
     "output_type": "stream",
     "text": [
      "1032/1032 [==============================] - 2s 2ms/step\n",
      "Overall test accuracy: {'Overall': 0.9094848484848485}\n",
      "16QAM test accuracy: 0.8855704697986577\n",
      "64QAM test accuracy: 0.9701694915254238\n",
      "8PSK test accuracy: 0.7571714476317545\n",
      "B-FM test accuracy: 1.0\n",
      "BPSK test accuracy: 0.7903711133400201\n",
      "CPFSK test accuracy: 1.0\n",
      "DSB-AM test accuracy: 0.9321582973062853\n",
      "GFSK test accuracy: 0.9848142164781907\n",
      "PAM4 test accuracy: 0.8853459972862958\n",
      "QPSK test accuracy: 0.9044756179024717\n",
      "SSB-AM test accuracy: 0.8886625933469111\n",
      "[[2639   52  119    0   15    0    2    3   39  111    0]\n",
      " [  79 2862    0    0    0    0    0    0    0    9    0]\n",
      " [  31    0 2270    0  500    0   48   15   64   70    0]\n",
      " [   0    0    0 3009    0    0    0    0    0    0    0]\n",
      " [   0    0  376    0 2364    0  172    7   72    0    0]\n",
      " [   0    0    0    0    0 3082    0    0    0    0    0]\n",
      " [   0    0    3    0  110    0 2803    0    1    0   90]\n",
      " [   1    0   22    0   12    0    7 3048    5    0    0]\n",
      " [  41    0  102    0  174    0    6    8 2610    6    1]\n",
      " [  94    1  173    0    9    0    2    0    7 2708    0]\n",
      " [   0    0    0    0    7    0  321    0    0    0 2618]]\n"
     ]
    },
    {
     "data": {
      "text/plain": [
       "(array([[2639,   52,  119,    0,   15,    0,    2,    3,   39,  111,    0],\n",
       "        [  79, 2862,    0,    0,    0,    0,    0,    0,    0,    9,    0],\n",
       "        [  31,    0, 2270,    0,  500,    0,   48,   15,   64,   70,    0],\n",
       "        [   0,    0,    0, 3009,    0,    0,    0,    0,    0,    0,    0],\n",
       "        [   0,    0,  376,    0, 2364,    0,  172,    7,   72,    0,    0],\n",
       "        [   0,    0,    0,    0,    0, 3082,    0,    0,    0,    0,    0],\n",
       "        [   0,    0,    3,    0,  110,    0, 2803,    0,    1,    0,   90],\n",
       "        [   1,    0,   22,    0,   12,    0,    7, 3048,    5,    0,    0],\n",
       "        [  41,    0,  102,    0,  174,    0,    6,    8, 2610,    6,    1],\n",
       "        [  94,    1,  173,    0,    9,    0,    2,    0,    7, 2708,    0],\n",
       "        [   0,    0,    0,    0,    7,    0,  321,    0,    0,    0, 2618]]),\n",
       " {'Overall': 0.9094848484848485,\n",
       "  '16QAM': 0.8855704697986577,\n",
       "  '64QAM': 0.9701694915254238,\n",
       "  '8PSK': 0.7571714476317545,\n",
       "  'B-FM': 1.0,\n",
       "  'BPSK': 0.7903711133400201,\n",
       "  'CPFSK': 1.0,\n",
       "  'DSB-AM': 0.9321582973062853,\n",
       "  'GFSK': 0.9848142164781907,\n",
       "  'PAM4': 0.8853459972862958,\n",
       "  'QPSK': 0.9044756179024717,\n",
       "  'SSB-AM': 0.8886625933469111})"
      ]
     },
     "execution_count": 30,
     "metadata": {},
     "output_type": "execute_result"
    },
    {
     "data": {
      "image/png": "[encoded data removed]",
      "text/plain": [
       "<Figure size 1000x700 with 2 Axes>"
      ]
     },
     "metadata": {},
     "output_type": "display_data"
    }
   ],
   "source": [
    "evaluate_model(model, validation_data, validation_labels, verbose=True)"
   ]
  },
  {
   "cell_type": "code",
   "execution_count": 31,
   "metadata": {},
   "outputs": [],
   "source": [
    "snrs = list(range(0, 30))\n",
    "def snr_by_idx(idx):\n",
    "    snr_idx = (idx % 30000) // 1000\n",
    "    return snrs[snr_idx]\n",
    "\n",
    "validation_snrs = np.array([snr_by_idx(idx) for idx in validation_indecies])"
   ]
  },
  {
   "cell_type": "code",
   "execution_count": 42,
   "metadata": {},
   "outputs": [
    {
     "name": "stdout",
     "output_type": "stream",
     "text": [
      "snr=0\n",
      "Overall test accuracy: 0.9188458070333634\n",
      "snr=1\n",
      "Overall test accuracy: 0.9148148148148149\n",
      "snr=2\n",
      "Overall test accuracy: 0.9212880143112702\n",
      "snr=3\n",
      "Overall test accuracy: 0.9206212251941329\n",
      "snr=4\n",
      "Overall test accuracy: 0.8948811700182815\n",
      "snr=5\n",
      "Overall test accuracy: 0.8997214484679665\n",
      "snr=6\n",
      "Overall test accuracy: 0.8919156414762741\n",
      "snr=7\n",
      "Overall test accuracy: 0.8946378174976481\n",
      "snr=8\n",
      "Overall test accuracy: 0.9197080291970803\n",
      "snr=9\n",
      "Overall test accuracy: 0.902353966870096\n",
      "snr=10\n",
      "Overall test accuracy: 0.9161041465766635\n",
      "snr=11\n",
      "Overall test accuracy: 0.9122486288848263\n",
      "snr=12\n",
      "Overall test accuracy: 0.9009474590869939\n",
      "snr=13\n",
      "Overall test accuracy: 0.9007971656333038\n",
      "snr=14\n",
      "Overall test accuracy: 0.9139194139194139\n",
      "snr=15\n",
      "Overall test accuracy: 0.9138712601994561\n",
      "snr=16\n",
      "Overall test accuracy: 0.906896551724138\n",
      "snr=17\n",
      "Overall test accuracy: 0.9056603773584906\n",
      "snr=18\n",
      "Overall test accuracy: 0.8938656280428432\n",
      "snr=19\n",
      "Overall test accuracy: 0.8984861976847729\n",
      "snr=20\n",
      "Overall test accuracy: 0.9242282507015903\n",
      "snr=21\n",
      "Overall test accuracy: 0.9124293785310734\n",
      "snr=22\n",
      "Overall test accuracy: 0.9164345403899722\n",
      "snr=23\n",
      "Overall test accuracy: 0.9002744739249772\n",
      "snr=24\n",
      "Overall test accuracy: 0.9312906220984215\n",
      "snr=25\n",
      "Overall test accuracy: 0.9121376811594203\n",
      "snr=26\n",
      "Overall test accuracy: 0.9259597806215722\n",
      "snr=27\n",
      "Overall test accuracy: 0.9240037071362373\n",
      "snr=28\n",
      "Overall test accuracy: 0.9000942507068803\n",
      "snr=29\n",
      "Overall test accuracy: 0.8973897389738974\n"
     ]
    }
   ],
   "source": [
    "snr_to_acc = get_snr_to_acc(model, validation_data, validation_labels, validation_indecies)"
   ]
  },
  {
   "cell_type": "code",
   "execution_count": 43,
   "metadata": {},
   "outputs": [
    {
     "data": {
      "text/plain": [
       "(0.0, 1.0)"
      ]
     },
     "execution_count": 43,
     "metadata": {},
     "output_type": "execute_result"
    },
    {
     "data": {
      "image/png": "[encoded data removed]",
      "text/plain": [
       "<Figure size 640x480 with 1 Axes>"
      ]
     },
     "metadata": {},
     "output_type": "display_data"
    }
   ],
   "source": [
    "plt.plot(list(snr_to_acc.keys()), list(snr_to_acc.values()))\n",
    "plt.ylim([0, 1])"
   ]
  },
  {
   "cell_type": "code",
   "execution_count": 34,
   "metadata": {},
   "outputs": [
    {
     "data": {
      "text/plain": [
       "264000"
      ]
     },
     "execution_count": 34,
     "metadata": {},
     "output_type": "execute_result"
    }
   ],
   "source": [
    "len(train_data)"
   ]
  },
  {
   "cell_type": "code",
   "execution_count": null,
   "metadata": {},
   "outputs": [],
   "source": []
  }
 ],
 "metadata": {
  "kernelspec": {
   "display_name": "cfu",
   "language": "python",
   "name": "python3"
  },
  "language_info": {
   "codemirror_mode": {
    "name": "ipython",
    "version": 3
   },
   "file_extension": ".py",
   "mimetype": "text/x-python",
   "name": "python",
   "nbconvert_exporter": "python",
   "pygments_lexer": "ipython3",
   "version": "3.8.16"
  },
  "orig_nbformat": 4
 },
 "nbformat": 4,
 "nbformat_minor": 2
}
