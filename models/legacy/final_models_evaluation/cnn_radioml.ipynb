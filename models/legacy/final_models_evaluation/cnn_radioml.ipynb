{
 "cells": [
  {
   "cell_type": "code",
   "execution_count": 1,
   "metadata": {},
   "outputs": [
    {
     "name": "stderr",
     "output_type": "stream",
     "text": [
      "2023-05-12 01:16:36.829806: I tensorflow/core/util/port.cc:110] oneDNN custom operations are on. You may see slightly different numerical results due to floating-point round-off errors from different computation orders. To turn them off, set the environment variable `TF_ENABLE_ONEDNN_OPTS=0`.\n",
      "2023-05-12 01:16:36.861150: I tensorflow/core/platform/cpu_feature_guard.cc:182] This TensorFlow binary is optimized to use available CPU instructions in performance-critical operations.\n",
      "To enable the following instructions: AVX2 AVX_VNNI FMA, in other operations, rebuild TensorFlow with the appropriate compiler flags.\n",
      "2023-05-12 01:16:37.399285: W tensorflow/compiler/tf2tensorrt/utils/py_utils.cc:38] TF-TRT Warning: Could not find TensorRT\n",
      "2023-05-12 01:16:38.745727: I tensorflow/compiler/xla/stream_executor/cuda/cuda_gpu_executor.cc:996] successful NUMA node read from SysFS had negative value (-1), but there must be at least one NUMA node, so returning NUMA node zero. See more at https://github.com/torvalds/linux/blob/v6.0/Documentation/ABI/testing/sysfs-bus-pci#L344-L355\n",
      "2023-05-12 01:16:38.749693: I tensorflow/compiler/xla/stream_executor/cuda/cuda_gpu_executor.cc:996] successful NUMA node read from SysFS had negative value (-1), but there must be at least one NUMA node, so returning NUMA node zero. See more at https://github.com/torvalds/linux/blob/v6.0/Documentation/ABI/testing/sysfs-bus-pci#L344-L355\n",
      "2023-05-12 01:16:38.749835: I tensorflow/compiler/xla/stream_executor/cuda/cuda_gpu_executor.cc:996] successful NUMA node read from SysFS had negative value (-1), but there must be at least one NUMA node, so returning NUMA node zero. See more at https://github.com/torvalds/linux/blob/v6.0/Documentation/ABI/testing/sysfs-bus-pci#L344-L355\n"
     ]
    }
   ],
   "source": [
    "# imports\n",
    "import os\n",
    "# os.environ['TF_CPP_MIN_LOG_LEVEL'] = '3' \n",
    "import tensorflow as tf\n",
    "from tensorflow import keras\n",
    "from tensorflow.keras import layers\n",
    "\n",
    "import numpy as np\n",
    "import random\n",
    "import os\n",
    "import sys\n",
    "import importlib\n",
    "\n",
    "from sklearn.metrics import accuracy_score, confusion_matrix\n",
    "import seaborn as sn\n",
    "import pandas as pd\n",
    "import matplotlib.pyplot as plt\n",
    "\n",
    "\n",
    "sys.path.append(\"..\") # not good\n",
    "sys.path.append(\"...\") # not good\n",
    "from tools.data import load_data_simc_v1, load_data_radioml_v1\n",
    "\n",
    "physical_devices = tf.config.experimental.list_physical_devices('GPU')\n",
    "assert len(physical_devices) > 0, \"Not enough GPU hardware devices available\"\n"
   ]
  },
  {
   "attachments": {},
   "cell_type": "markdown",
   "metadata": {},
   "source": [
    "## Util functions"
   ]
  },
  {
   "cell_type": "code",
   "execution_count": 2,
   "metadata": {},
   "outputs": [],
   "source": [
    "def set_seed(SEED):\n",
    "    random.seed(SEED)\n",
    "    np.random.seed(SEED)\n",
    "    tf.random.set_seed(SEED)\n",
    "\n",
    "def reload_module(m: str):\n",
    "    importlib.reload(sys.modules[m])\n"
   ]
  },
  {
   "attachments": {},
   "cell_type": "markdown",
   "metadata": {},
   "source": [
    "## Data loading"
   ]
  },
  {
   "cell_type": "code",
   "execution_count": 5,
   "metadata": {},
   "outputs": [],
   "source": [
    "# Conatans\n",
    "RADIO_ML_2016_A_DIR = \"/development/data/RML2016.10a/RML2016.10a_dict.pkl\" # radioml dataset\n",
    "RADIO_ML_2016_B_DIR = \"/development/data/RML2016.10b/RML2016.10b.dat\" # radioml dataset\n",
    "TRAIN_DATA_DIR = RADIO_ML_2016_B_DIR\n",
    "\n",
    "MODEL_DATA_TYPE = np.float32\n",
    "\n",
    "SEED = 123456\n",
    "set_seed(SEED)"
   ]
  },
  {
   "cell_type": "code",
   "execution_count": 6,
   "metadata": {},
   "outputs": [
    {
     "name": "stdout",
     "output_type": "stream",
     "text": [
      "['QAM16', 'AM-DSB', 'QAM64', 'PAM4', 'GFSK', 'WBFM', '8PSK', 'QPSK', 'BPSK', 'CPFSK']\n",
      "(1200000,)\n",
      "(1200000, 1, 128, 2)\n"
     ]
    }
   ],
   "source": [
    "# Loading itself\n",
    "labels, data, modulations = load_data_radioml_v1(TRAIN_DATA_DIR, to_1024=False)\n",
    "print(modulations)\n",
    "print(labels.shape)\n",
    "print(data.shape)"
   ]
  },
  {
   "cell_type": "code",
   "execution_count": 5,
   "metadata": {},
   "outputs": [],
   "source": [
    "# Data Ssplitting\n",
    "DS_SIZE = len(labels)\n",
    "\n",
    "n_train = int(0.8 * DS_SIZE)                # 80% - Train\n",
    "n_validation = int(0.1 * DS_SIZE)           # 10% - Validation\n",
    "n_test = DS_SIZE - n_train - n_validation   # 10% - Test\n",
    "\n",
    "random_indecies = np.arange(DS_SIZE)\n",
    "np.random.shuffle(random_indecies)\n",
    "\n",
    "train_indecies, validation_indecies, test_indecies, _ = np.split(\n",
    "    random_indecies, [int(DS_SIZE * 0.8), int(DS_SIZE * 0.9), DS_SIZE]\n",
    ")\n",
    "\n",
    "train_data, train_labels = data[train_indecies], labels[train_indecies]\n",
    "validation_data, validation_labels = data[validation_indecies], labels[validation_indecies]\n",
    "test_data, test_labels = data[test_indecies], labels[test_indecies]"
   ]
  },
  {
   "cell_type": "code",
   "execution_count": 6,
   "metadata": {},
   "outputs": [],
   "source": [
    "# Should save some memory\n",
    "# del data\n",
    "# del labels"
   ]
  },
  {
   "attachments": {},
   "cell_type": "markdown",
   "metadata": {},
   "source": [
    "## Model creation\n",
    "#### Parts of Encoder"
   ]
  },
  {
   "attachments": {},
   "cell_type": "markdown",
   "metadata": {},
   "source": [
    "Some utilities for final model\n"
   ]
  },
  {
   "cell_type": "code",
   "execution_count": 7,
   "metadata": {},
   "outputs": [],
   "source": [
    "from typing import List\n",
    "from dataclasses import dataclass\n",
    "\n",
    "@dataclass\n",
    "class ConvolutionConfiguration:\n",
    "    output_channels: List[int]\n",
    "    kernel_sizes: List[int]\n",
    "    paddings: List[str]\n",
    "    max_pool_sizes: List[int]\n",
    "\n",
    "@dataclass\n",
    "class DenseConfiguration:\n",
    "    sizes: List[int]"
   ]
  },
  {
   "attachments": {},
   "cell_type": "markdown",
   "metadata": {},
   "source": [
    "Model parts"
   ]
  },
  {
   "cell_type": "code",
   "execution_count": 8,
   "metadata": {},
   "outputs": [],
   "source": [
    "# https://github.com/dksakkos/BatchNorm\n",
    "class CustomBatchNorm(layers.Layer):\n",
    "    def __init__(self, *args, **kwargs):\n",
    "        super(CustomBatchNorm, self).__init__(*args, **kwargs)\n",
    "\n",
    "    def build(self, input_shape):\n",
    "        self.beta = self.add_weight(\n",
    "            name=\"custom_batch_beta\",\n",
    "            shape=(input_shape[-1]),\n",
    "            initializer=\"zeros\",\n",
    "            trainable=True,\n",
    "        )\n",
    "\n",
    "        self.gamma = self.add_weight(\n",
    "            name=\"custom_batch_gamma\",\n",
    "            shape=(input_shape[-1]),\n",
    "            initializer=\"ones\",\n",
    "            trainable=True,\n",
    "        )\n",
    "\n",
    "        self.moving_mean = self.add_weight(\n",
    "            name=\"custom_batch_moving_mean\",\n",
    "            shape=(input_shape[-1]),\n",
    "            initializer=tf.initializers.zeros,\n",
    "            trainable=False,\n",
    "        )\n",
    "\n",
    "        self.moving_variance = self.add_weight(\n",
    "            name=\"custom_batch_moving_variance\",\n",
    "            shape=(input_shape[-1]),\n",
    "            initializer=tf.initializers.ones,\n",
    "            trainable=False,\n",
    "        )"
   ]
  },
  {
   "attachments": {},
   "cell_type": "markdown",
   "metadata": {},
   "source": [
    "### Model\n",
    "Model constists of a CNNn -> b EncoderLayers -> c Dense layers"
   ]
  },
  {
   "cell_type": "code",
   "execution_count": 9,
   "metadata": {},
   "outputs": [],
   "source": [
    "def create_model_cnn(\n",
    "    cnn_conf: ConvolutionConfiguration,\n",
    "    dense_conf: DenseConfiguration,\n",
    "    avg_size: int = 32,\n",
    "    *args, \n",
    "    **kwargs\n",
    "):\n",
    "    InputLayer = keras.Input(shape=(1, 128, 2))\n",
    "    assert (\n",
    "        len(cnn_conf.output_channels)\n",
    "        == len(cnn_conf.kernel_sizes)\n",
    "        == len(cnn_conf.paddings)\n",
    "        == len(cnn_conf.max_pool_sizes)\n",
    "    )\n",
    "    N_CNNs = len(cnn_conf.output_channels)\n",
    "    assert N_CNNs > 0\n",
    "\n",
    "    CNN1 = layers.Conv2D(\n",
    "        cnn_conf.output_channels[0],\n",
    "        (1, cnn_conf.kernel_sizes[0]),\n",
    "        padding=cnn_conf.paddings[0],\n",
    "        name=\"CNN1_\",\n",
    "    )(InputLayer)\n",
    "    model_layers = [CNN1]\n",
    "    if cnn_conf.max_pool_sizes[0] != 1:\n",
    "        model_layers.append(\n",
    "            layers.MaxPool2D(pool_size=(1, cnn_conf.max_pool_sizes[0]), strides=(1, 2), name=f\"MAX_POOL_1_\")(\n",
    "                model_layers[-1]\n",
    "            )\n",
    "        )\n",
    "    model_layers.append(CustomBatchNorm(name=\"BN1_\")(model_layers[-1]))\n",
    "    model_layers.append(layers.ReLU(name=\"CNN_RELU1_\")(model_layers[-1]))\n",
    "\n",
    "    for i in range(1, N_CNNs):\n",
    "        model_layers.append(\n",
    "            layers.Conv2D(\n",
    "                cnn_conf.output_channels[i],\n",
    "                (1, cnn_conf.kernel_sizes[i]),\n",
    "                padding=cnn_conf.paddings[i],\n",
    "                name=f\"CNN{i+1}_\",\n",
    "            )(model_layers[-1])\n",
    "        )\n",
    "        if cnn_conf.max_pool_sizes[i] != 1:\n",
    "            model_layers.append(\n",
    "                layers.MaxPool2D(\n",
    "                    pool_size=(1, cnn_conf.max_pool_sizes[i]),\n",
    "                    strides=(1, 2),\n",
    "                    name=f\"MAX_POOL_{i+1}_\",\n",
    "                )(model_layers[-1])\n",
    "            )\n",
    "        model_layers.append(CustomBatchNorm(name=f\"BN{i+1}_\")(model_layers[-1]))\n",
    "        model_layers.append(layers.ReLU(name=f\"CNN_RELU{i+1}_\")(model_layers[-1]))\n",
    "\n",
    "    model_layers.append(layers.AveragePooling2D((1, avg_size), name=\"AVG1_\")(model_layers[-1]))\n",
    "\n",
    "    model_layers.append(layers.Flatten(name=\"FLT1_\")(model_layers[-1]))\n",
    "\n",
    "    N_Dense = len(dense_conf.sizes)\n",
    "\n",
    "    if N_Dense > 0:\n",
    "        model_layers.append(layers.Dense(dense_conf.sizes[0], name=\"FC1_\")(model_layers[-1]))\n",
    "        model_layers.append(layers.ReLU(name=\"FC_RELU1_\")(model_layers[-1]))\n",
    "\n",
    "        for i in range(1, N_Dense):\n",
    "            model_layers.append(\n",
    "                layers.Dense(dense_conf.sizes[i], name=f\"FC{i+1}_\")(model_layers[-1])\n",
    "            )\n",
    "            model_layers.append(layers.ReLU(name=f\"FC_RELU{i+1}_\")(model_layers[-1]))\n",
    "\n",
    "    model_layers.append(layers.Dense(len(modulations), name=f\"FC_{N_Dense+1}_\")(model_layers[-1]))\n",
    "    SoftMax = layers.Softmax()(model_layers[-1])\n",
    "    Output = layers.Flatten()(SoftMax)\n",
    "\n",
    "    # if args and isinstance(args[0], str):\n",
    "    #     model = keras.Model(inputs=[InputLayer], outputs=[Output], name=args[0])\n",
    "    # else:\n",
    "    model = keras.Model(inputs=[InputLayer], outputs=[Output])\n",
    "    return model"
   ]
  },
  {
   "attachments": {},
   "cell_type": "markdown",
   "metadata": {},
   "source": [
    "Test code above"
   ]
  },
  {
   "cell_type": "code",
   "execution_count": 10,
   "metadata": {},
   "outputs": [
    {
     "name": "stdout",
     "output_type": "stream",
     "text": [
      "Model: \"model\"\n",
      "_________________________________________________________________\n",
      " Layer (type)                Output Shape              Param #   \n",
      "=================================================================\n",
      " input_1 (InputLayer)        [(None, 1, 128, 2)]       0         \n",
      "                                                                 \n",
      " CNN1_ (Conv2D)              (None, 1, 128, 32)        544       \n",
      "                                                                 \n",
      " BN1_ (CustomBatchNorm)      (None, 1, 128, 32)        128       \n",
      "                                                                 \n",
      " CNN_RELU1_ (ReLU)           (None, 1, 128, 32)        0         \n",
      "                                                                 \n",
      " CNN2_ (Conv2D)              (None, 1, 128, 48)        12336     \n",
      "                                                                 \n",
      " BN2_ (CustomBatchNorm)      (None, 1, 128, 48)        192       \n",
      "                                                                 \n",
      " CNN_RELU2_ (ReLU)           (None, 1, 128, 48)        0         \n",
      "                                                                 \n",
      " CNN3_ (Conv2D)              (None, 1, 128, 64)        24640     \n",
      "                                                                 \n",
      " MAX_POOL_3_ (MaxPooling2D)  (None, 1, 64, 64)         0         \n",
      "                                                                 \n",
      " BN3_ (CustomBatchNorm)      (None, 1, 64, 64)         256       \n",
      "                                                                 \n",
      " CNN_RELU3_ (ReLU)           (None, 1, 64, 64)         0         \n",
      "                                                                 \n",
      " CNN4_ (Conv2D)              (None, 1, 64, 96)         49248     \n",
      "                                                                 \n",
      " BN4_ (CustomBatchNorm)      (None, 1, 64, 96)         384       \n",
      "                                                                 \n",
      " CNN_RELU4_ (ReLU)           (None, 1, 64, 96)         0         \n",
      "                                                                 \n",
      " CNN5_ (Conv2D)              (None, 1, 64, 128)        98432     \n",
      "                                                                 \n",
      " MAX_POOL_5_ (MaxPooling2D)  (None, 1, 32, 128)        0         \n",
      "                                                                 \n",
      " BN5_ (CustomBatchNorm)      (None, 1, 32, 128)        512       \n",
      "                                                                 \n",
      " CNN_RELU5_ (ReLU)           (None, 1, 32, 128)        0         \n",
      "                                                                 \n",
      " CNN6_ (Conv2D)              (None, 1, 32, 192)        196800    \n",
      "                                                                 \n",
      " BN6_ (CustomBatchNorm)      (None, 1, 32, 192)        768       \n",
      "                                                                 \n",
      " CNN_RELU6_ (ReLU)           (None, 1, 32, 192)        0         \n",
      "                                                                 \n",
      " AVG1_ (AveragePooling2D)    (None, 1, 1, 192)         0         \n",
      "                                                                 \n",
      " FLT1_ (Flatten)             (None, 192)               0         \n",
      "                                                                 \n",
      " FC_1_ (Dense)               (None, 11)                2123      \n",
      "                                                                 \n",
      " softmax (Softmax)           (None, 11)                0         \n",
      "                                                                 \n",
      " flatten (Flatten)           (None, 11)                0         \n",
      "                                                                 \n",
      "=================================================================\n",
      "Total params: 386,363\n",
      "Trainable params: 385,243\n",
      "Non-trainable params: 1,120\n",
      "_________________________________________________________________\n"
     ]
    },
    {
     "name": "stderr",
     "output_type": "stream",
     "text": [
      "2023-05-07 16:35:49.813221: I tensorflow/compiler/xla/stream_executor/cuda/cuda_gpu_executor.cc:996] successful NUMA node read from SysFS had negative value (-1), but there must be at least one NUMA node, so returning NUMA node zero. See more at https://github.com/torvalds/linux/blob/v6.0/Documentation/ABI/testing/sysfs-bus-pci#L344-L355\n",
      "2023-05-07 16:35:49.813437: I tensorflow/compiler/xla/stream_executor/cuda/cuda_gpu_executor.cc:996] successful NUMA node read from SysFS had negative value (-1), but there must be at least one NUMA node, so returning NUMA node zero. See more at https://github.com/torvalds/linux/blob/v6.0/Documentation/ABI/testing/sysfs-bus-pci#L344-L355\n",
      "2023-05-07 16:35:49.813514: I tensorflow/compiler/xla/stream_executor/cuda/cuda_gpu_executor.cc:996] successful NUMA node read from SysFS had negative value (-1), but there must be at least one NUMA node, so returning NUMA node zero. See more at https://github.com/torvalds/linux/blob/v6.0/Documentation/ABI/testing/sysfs-bus-pci#L344-L355\n",
      "2023-05-07 16:35:50.447171: I tensorflow/compiler/xla/stream_executor/cuda/cuda_gpu_executor.cc:996] successful NUMA node read from SysFS had negative value (-1), but there must be at least one NUMA node, so returning NUMA node zero. See more at https://github.com/torvalds/linux/blob/v6.0/Documentation/ABI/testing/sysfs-bus-pci#L344-L355\n",
      "2023-05-07 16:35:50.447363: I tensorflow/compiler/xla/stream_executor/cuda/cuda_gpu_executor.cc:996] successful NUMA node read from SysFS had negative value (-1), but there must be at least one NUMA node, so returning NUMA node zero. See more at https://github.com/torvalds/linux/blob/v6.0/Documentation/ABI/testing/sysfs-bus-pci#L344-L355\n",
      "2023-05-07 16:35:50.447449: I tensorflow/compiler/xla/stream_executor/cuda/cuda_gpu_executor.cc:996] successful NUMA node read from SysFS had negative value (-1), but there must be at least one NUMA node, so returning NUMA node zero. See more at https://github.com/torvalds/linux/blob/v6.0/Documentation/ABI/testing/sysfs-bus-pci#L344-L355\n",
      "2023-05-07 16:35:50.447520: I tensorflow/core/common_runtime/gpu/gpu_device.cc:1635] Created device /job:localhost/replica:0/task:0/device:GPU:0 with 6056 MB memory:  -> device: 0, name: NVIDIA GeForce RTX 3070 Ti Laptop GPU, pci bus id: 0000:01:00.0, compute capability: 8.6\n"
     ]
    }
   ],
   "source": [
    "model = create_model_cnn(\n",
    "    ConvolutionConfiguration(output_channels=[32, 48, 64, 96, 128, 192], kernel_sizes=[8, 8, 8, 8, 8, 8], paddings=[\"same\", \"same\", \"same\", \"same\", \"same\", \"same\"], max_pool_sizes=[1, 1, 2, 1, 2, 1]),\n",
    "    DenseConfiguration(sizes=[])\n",
    ")\n",
    "model.summary()"
   ]
  },
  {
   "attachments": {},
   "cell_type": "markdown",
   "metadata": {},
   "source": [
    "### List of models we're interested at"
   ]
  },
  {
   "cell_type": "code",
   "execution_count": 11,
   "metadata": {},
   "outputs": [],
   "source": [
    "default_cnn_conf = ConvolutionConfiguration(output_channels=[32, 48, 64, 96, 128, 192], kernel_sizes=[8, 8, 8, 8, 8, 8], paddings=[\"same\", \"same\", \"same\", \"same\", \"same\", \"same\"], max_pool_sizes=[1, 1, 2, 1, 2, 1])\n",
    "default_dense_conf = DenseConfiguration(sizes=[])\n",
    "default_avg_size = 32\n",
    "\n",
    "configs = [\n",
    "    # [default_cnn_conf, default_dense_conf, default_avg_size, \"Default_medium\"],\n",
    "\n",
    "    # # Different kernel sizes\n",
    "    [ConvolutionConfiguration(output_channels=[32, 48, 64, 96, 128, 192], kernel_sizes=[3, 3, 3, 3, 3, 3], paddings=[\"same\", \"same\", \"same\", \"same\", \"same\", \"same\"], max_pool_sizes=[1, 1, 2, 1, 2, 1]), default_dense_conf, default_avg_size, \"k=3\"],\n",
    "    # [ConvolutionConfiguration(output_channels=[32, 48, 64, 96, 128, 192], kernel_sizes=[17, 17, 17, 17, 17, 17], paddings=[\"same\", \"same\", \"same\", \"same\", \"same\", \"same\"], max_pool_sizes=[1, 1, 2, 1, 2, 1]), default_dense_conf, default_avg_size, \"k=17\"],\n",
    "    # [ConvolutionConfiguration(output_channels=[32, 48, 64, 96, 128, 192], kernel_sizes=[33, 33, 33, 33, 33, 33], paddings=[\"same\", \"same\", \"same\", \"same\", \"same\", \"same\"], max_pool_sizes=[1, 1, 2, 1, 2, 1]), default_dense_conf, default_avg_size, \"k=33\"],\n",
    "    # [ConvolutionConfiguration(output_channels=[32, 48, 64, 96, 128, 192], kernel_sizes=[65, 65, 65, 65, 65, 65], paddings=[\"same\", \"same\", \"same\", \"same\", \"same\", \"same\"], max_pool_sizes=[1, 1, 2, 1, 2, 1]), default_dense_conf, default_avg_size, \"k=65\"],\n",
    "\n",
    "    # # Different Width of encoder layers\n",
    "    # [ConvolutionConfiguration(output_channels=[16, 16, 32, 32, 64, 64], kernel_sizes=[8, 8, 8, 8, 8, 8], paddings=[\"same\", \"same\", \"same\", \"same\", \"same\", \"same\"], max_pool_sizes=[1, 1, 2, 1, 2, 1]), default_dense_conf, default_avg_size, \"output_channels=[16, 16, 32, 32, 64, 64]\"],\n",
    "    # [ConvolutionConfiguration(output_channels=[32, 32, 48, 64, 64, 96], kernel_sizes=[8, 8, 8, 8, 8, 8], paddings=[\"same\", \"same\", \"same\", \"same\", \"same\", \"same\"], max_pool_sizes=[1, 1, 2, 1, 2, 1]), default_dense_conf, default_avg_size, \"output_channels=[32, 32, 48, 64, 64, 96]\"],\n",
    "    # [ConvolutionConfiguration(output_channels=[64, 64, 128, 192, 192, 256], kernel_sizes=[8, 8, 8, 8, 8, 8], paddings=[\"same\", \"same\", \"same\", \"same\", \"same\", \"same\"], max_pool_sizes=[1, 1, 2, 1, 2, 1]), default_dense_conf, default_avg_size, \"output_channels=[64, 64, 128, 192, 192, 256]\"],\n",
    "\n",
    "\n",
    "    # # Different depth of model\n",
    "    # [ConvolutionConfiguration(output_channels=[32, 48, 64], kernel_sizes=[8, 8, 8], paddings=[\"same\", \"same\", \"same\"], max_pool_sizes=[1, 2, 2]), default_dense_conf, default_avg_size, \"output_channels=[32, 48, 64]__max_pool_sizes=[1, 2, 2]\"],\n",
    "    # [ConvolutionConfiguration(output_channels=[32, 48, 64, 96, 128, 192, 256, 512], kernel_sizes=[8, 8, 8, 8, 8, 8, 8, 8], paddings=[\"same\", \"same\", \"same\", \"same\", \"same\", \"same\", \"same\", \"same\"], max_pool_sizes=[1, 1, 2, 1, 2, 1, 2, 1]), default_dense_conf, 16, \"output_channels=[32, 48, 64, 96, 128, 192, 256, 512]__max_pool_sizes=[1, 1, 2, 1, 2, 1, 2, 1]__avg_size=16\"],\n",
    "]\n",
    "\n",
    "# for config in configs:\n",
    "#     print(config)\n",
    "#     model = create_model_cnn(*config)\n",
    "#     model.summary()"
   ]
  },
  {
   "attachments": {},
   "cell_type": "markdown",
   "metadata": {},
   "source": [
    "### Model evaluation functions"
   ]
  },
  {
   "cell_type": "code",
   "execution_count": 12,
   "metadata": {},
   "outputs": [],
   "source": [
    "import pickle\n",
    "\n",
    "def evaluate_model(model, data, labels, verbose=True):\n",
    "    preds = model.predict(data)\n",
    "    pred_labels = np.argmax(preds, axis=1)\n",
    "\n",
    "    cls_to_acc = {\"Overall\": accuracy_score(labels, pred_labels)}\n",
    "    print(f\"Overall test accuracy: {cls_to_acc}\")\n",
    "    for ci, cl in enumerate(modulations):\n",
    "        class_indecies = np.where(labels == ci)[0]\n",
    "        cur_true_labels = labels[class_indecies]\n",
    "        cur_pred_labels = pred_labels[class_indecies]\n",
    "        cls_to_acc[cl] = accuracy_score(cur_true_labels, cur_pred_labels)\n",
    "        verbose and print(f\"{cl} test accuracy: {cls_to_acc[cl]}\")\n",
    "    cm = confusion_matrix(y_true=labels, y_pred=pred_labels)\n",
    "    verbose and print(cm)\n",
    "    df_cm = pd.DataFrame(cm, index = modulations,\n",
    "                    columns = modulations)\n",
    "    if verbose:\n",
    "        plt.figure(figsize = (10,7))\n",
    "        sn.heatmap(df_cm, annot=True)\n",
    "    return cm, cls_to_acc\n",
    "\n",
    "\n",
    "def get_snrs(indecies, to_1024=False, minimum_snr=-100):\n",
    "    with open(TRAIN_DATA_DIR, 'rb') as crmrn_file:\n",
    "        raw_ds = pickle.load(crmrn_file, encoding=\"bytes\")\n",
    "    decoded_raw_ds = {}\n",
    "    for (class_name_bytes, snr), raw_data in raw_ds.items():\n",
    "        if snr < minimum_snr:\n",
    "            continue\n",
    "        decoded_raw_ds[(class_name_bytes.decode(\"utf-8\"), snr)] = raw_data\n",
    "    raw_ds = decoded_raw_ds\n",
    "\n",
    "    samples_per_snr_per_modulation = raw_ds[list(raw_ds.keys())[0]].shape[0] # 1000\n",
    "    snrs_sequence = [k[1] for k in raw_ds.keys()]\n",
    "    result = []\n",
    "    snrs = [snrs_sequence[idx // samples_per_snr_per_modulation] for idx in indecies]\n",
    "    return np.array(snrs)\n",
    "\n",
    "\n",
    "def get_snr_to_acc(model, data, labels, snrs, verbose=True):\n",
    "    snr_to_acc = {}\n",
    "    for snr in range(min(snrs), max(snrs)+2, 2):\n",
    "        cur_indecies = np.where(snrs == snr)[0]\n",
    "        cur_data = data[cur_indecies]\n",
    "        cur_labels = labels[cur_indecies]\n",
    "        cur_pred = model.predict(cur_data, verbose=0)\n",
    "\n",
    "        cur_pred_labels = np.argmax(cur_pred, axis=1)\n",
    "        verbose and print(f\"snr={snr}\")\n",
    "        acc = accuracy_score(cur_labels, cur_pred_labels)\n",
    "        verbose and print(f\"Overall test accuracy: {acc}\")\n",
    "        snr_to_acc[snr] = acc\n",
    "    return snr_to_acc"
   ]
  },
  {
   "attachments": {},
   "cell_type": "markdown",
   "metadata": {},
   "source": [
    "### Train, evaluate, save model and evaluation results"
   ]
  },
  {
   "cell_type": "code",
   "execution_count": 13,
   "metadata": {},
   "outputs": [
    {
     "name": "stdout",
     "output_type": "stream",
     "text": [
      "Model: \"model_1\"\n",
      "_________________________________________________________________\n",
      " Layer (type)                Output Shape              Param #   \n",
      "=================================================================\n",
      " input_2 (InputLayer)        [(None, 1, 128, 2)]       0         \n",
      "                                                                 \n",
      " CNN1_ (Conv2D)              (None, 1, 128, 32)        224       \n",
      "                                                                 \n",
      " BN1_ (CustomBatchNorm)      (None, 1, 128, 32)        128       \n",
      "                                                                 \n",
      " CNN_RELU1_ (ReLU)           (None, 1, 128, 32)        0         \n",
      "                                                                 \n",
      " CNN2_ (Conv2D)              (None, 1, 128, 48)        4656      \n",
      "                                                                 \n",
      " BN2_ (CustomBatchNorm)      (None, 1, 128, 48)        192       \n",
      "                                                                 \n",
      " CNN_RELU2_ (ReLU)           (None, 1, 128, 48)        0         \n",
      "                                                                 \n",
      " CNN3_ (Conv2D)              (None, 1, 128, 64)        9280      \n",
      "                                                                 \n",
      " MAX_POOL_3_ (MaxPooling2D)  (None, 1, 64, 64)         0         \n",
      "                                                                 \n",
      " BN3_ (CustomBatchNorm)      (None, 1, 64, 64)         256       \n",
      "                                                                 \n",
      " CNN_RELU3_ (ReLU)           (None, 1, 64, 64)         0         \n",
      "                                                                 \n",
      " CNN4_ (Conv2D)              (None, 1, 64, 96)         18528     \n",
      "                                                                 \n",
      " BN4_ (CustomBatchNorm)      (None, 1, 64, 96)         384       \n",
      "                                                                 \n",
      " CNN_RELU4_ (ReLU)           (None, 1, 64, 96)         0         \n",
      "                                                                 \n",
      " CNN5_ (Conv2D)              (None, 1, 64, 128)        36992     \n",
      "                                                                 \n",
      " MAX_POOL_5_ (MaxPooling2D)  (None, 1, 32, 128)        0         \n",
      "                                                                 \n",
      " BN5_ (CustomBatchNorm)      (None, 1, 32, 128)        512       \n",
      "                                                                 \n",
      " CNN_RELU5_ (ReLU)           (None, 1, 32, 128)        0         \n",
      "                                                                 \n",
      " CNN6_ (Conv2D)              (None, 1, 32, 192)        73920     \n",
      "                                                                 \n",
      " BN6_ (CustomBatchNorm)      (None, 1, 32, 192)        768       \n",
      "                                                                 \n",
      " CNN_RELU6_ (ReLU)           (None, 1, 32, 192)        0         \n",
      "                                                                 \n",
      " AVG1_ (AveragePooling2D)    (None, 1, 1, 192)         0         \n",
      "                                                                 \n",
      " FLT1_ (Flatten)             (None, 192)               0         \n",
      "                                                                 \n",
      " FC_1_ (Dense)               (None, 11)                2123      \n",
      "                                                                 \n",
      " softmax_1 (Softmax)         (None, 11)                0         \n",
      "                                                                 \n",
      " flatten_1 (Flatten)         (None, 11)                0         \n",
      "                                                                 \n",
      "=================================================================\n",
      "Total params: 147,963\n",
      "Trainable params: 146,843\n",
      "Non-trainable params: 1,120\n",
      "_________________________________________________________________\n",
      "Epoch 1/16\n",
      "WARNING:tensorflow:Gradients do not exist for variables ['BN1_/custom_batch_beta:0', 'BN1_/custom_batch_gamma:0', 'BN2_/custom_batch_beta:0', 'BN2_/custom_batch_gamma:0', 'BN3_/custom_batch_beta:0', 'BN3_/custom_batch_gamma:0', 'BN4_/custom_batch_beta:0', 'BN4_/custom_batch_gamma:0', 'BN5_/custom_batch_beta:0', 'BN5_/custom_batch_gamma:0', 'BN6_/custom_batch_beta:0', 'BN6_/custom_batch_gamma:0'] when minimizing the loss. If you're using `model.compile()`, did you forget to provide a `loss` argument?\n"
     ]
    },
    {
     "name": "stderr",
     "output_type": "stream",
     "text": [
      "WARNING:tensorflow:Gradients do not exist for variables ['BN1_/custom_batch_beta:0', 'BN1_/custom_batch_gamma:0', 'BN2_/custom_batch_beta:0', 'BN2_/custom_batch_gamma:0', 'BN3_/custom_batch_beta:0', 'BN3_/custom_batch_gamma:0', 'BN4_/custom_batch_beta:0', 'BN4_/custom_batch_gamma:0', 'BN5_/custom_batch_beta:0', 'BN5_/custom_batch_gamma:0', 'BN6_/custom_batch_beta:0', 'BN6_/custom_batch_gamma:0'] when minimizing the loss. If you're using `model.compile()`, did you forget to provide a `loss` argument?\n"
     ]
    },
    {
     "name": "stdout",
     "output_type": "stream",
     "text": [
      "WARNING:tensorflow:Gradients do not exist for variables ['BN1_/custom_batch_beta:0', 'BN1_/custom_batch_gamma:0', 'BN2_/custom_batch_beta:0', 'BN2_/custom_batch_gamma:0', 'BN3_/custom_batch_beta:0', 'BN3_/custom_batch_gamma:0', 'BN4_/custom_batch_beta:0', 'BN4_/custom_batch_gamma:0', 'BN5_/custom_batch_beta:0', 'BN5_/custom_batch_gamma:0', 'BN6_/custom_batch_beta:0', 'BN6_/custom_batch_gamma:0'] when minimizing the loss. If you're using `model.compile()`, did you forget to provide a `loss` argument?\n"
     ]
    },
    {
     "name": "stderr",
     "output_type": "stream",
     "text": [
      "WARNING:tensorflow:Gradients do not exist for variables ['BN1_/custom_batch_beta:0', 'BN1_/custom_batch_gamma:0', 'BN2_/custom_batch_beta:0', 'BN2_/custom_batch_gamma:0', 'BN3_/custom_batch_beta:0', 'BN3_/custom_batch_gamma:0', 'BN4_/custom_batch_beta:0', 'BN4_/custom_batch_gamma:0', 'BN5_/custom_batch_beta:0', 'BN5_/custom_batch_gamma:0', 'BN6_/custom_batch_beta:0', 'BN6_/custom_batch_gamma:0'] when minimizing the loss. If you're using `model.compile()`, did you forget to provide a `loss` argument?\n"
     ]
    },
    {
     "name": "stdout",
     "output_type": "stream",
     "text": [
      "WARNING:tensorflow:Gradients do not exist for variables ['BN1_/custom_batch_beta:0', 'BN1_/custom_batch_gamma:0', 'BN2_/custom_batch_beta:0', 'BN2_/custom_batch_gamma:0', 'BN3_/custom_batch_beta:0', 'BN3_/custom_batch_gamma:0', 'BN4_/custom_batch_beta:0', 'BN4_/custom_batch_gamma:0', 'BN5_/custom_batch_beta:0', 'BN5_/custom_batch_gamma:0', 'BN6_/custom_batch_beta:0', 'BN6_/custom_batch_gamma:0'] when minimizing the loss. If you're using `model.compile()`, did you forget to provide a `loss` argument?\n"
     ]
    },
    {
     "name": "stderr",
     "output_type": "stream",
     "text": [
      "WARNING:tensorflow:Gradients do not exist for variables ['BN1_/custom_batch_beta:0', 'BN1_/custom_batch_gamma:0', 'BN2_/custom_batch_beta:0', 'BN2_/custom_batch_gamma:0', 'BN3_/custom_batch_beta:0', 'BN3_/custom_batch_gamma:0', 'BN4_/custom_batch_beta:0', 'BN4_/custom_batch_gamma:0', 'BN5_/custom_batch_beta:0', 'BN5_/custom_batch_gamma:0', 'BN6_/custom_batch_beta:0', 'BN6_/custom_batch_gamma:0'] when minimizing the loss. If you're using `model.compile()`, did you forget to provide a `loss` argument?\n"
     ]
    },
    {
     "name": "stdout",
     "output_type": "stream",
     "text": [
      "WARNING:tensorflow:Gradients do not exist for variables ['BN1_/custom_batch_beta:0', 'BN1_/custom_batch_gamma:0', 'BN2_/custom_batch_beta:0', 'BN2_/custom_batch_gamma:0', 'BN3_/custom_batch_beta:0', 'BN3_/custom_batch_gamma:0', 'BN4_/custom_batch_beta:0', 'BN4_/custom_batch_gamma:0', 'BN5_/custom_batch_beta:0', 'BN5_/custom_batch_gamma:0', 'BN6_/custom_batch_beta:0', 'BN6_/custom_batch_gamma:0'] when minimizing the loss. If you're using `model.compile()`, did you forget to provide a `loss` argument?\n"
     ]
    },
    {
     "name": "stderr",
     "output_type": "stream",
     "text": [
      "WARNING:tensorflow:Gradients do not exist for variables ['BN1_/custom_batch_beta:0', 'BN1_/custom_batch_gamma:0', 'BN2_/custom_batch_beta:0', 'BN2_/custom_batch_gamma:0', 'BN3_/custom_batch_beta:0', 'BN3_/custom_batch_gamma:0', 'BN4_/custom_batch_beta:0', 'BN4_/custom_batch_gamma:0', 'BN5_/custom_batch_beta:0', 'BN5_/custom_batch_gamma:0', 'BN6_/custom_batch_beta:0', 'BN6_/custom_batch_gamma:0'] when minimizing the loss. If you're using `model.compile()`, did you forget to provide a `loss` argument?\n",
      "2023-05-07 16:37:07.188206: I tensorflow/compiler/xla/stream_executor/cuda/cuda_dnn.cc:424] Loaded cuDNN version 8600\n",
      "2023-05-07 16:37:08.317645: I tensorflow/compiler/xla/stream_executor/cuda/cuda_blas.cc:637] TensorFloat-32 will be used for the matrix multiplication. This will only be logged once.\n",
      "2023-05-07 16:37:08.333723: I tensorflow/compiler/xla/service/service.cc:169] XLA service 0x3a280670 initialized for platform CUDA (this does not guarantee that XLA will be used). Devices:\n",
      "2023-05-07 16:37:08.333745: I tensorflow/compiler/xla/service/service.cc:177]   StreamExecutor device (0): NVIDIA GeForce RTX 3070 Ti Laptop GPU, Compute Capability 8.6\n",
      "2023-05-07 16:37:08.351472: I tensorflow/compiler/mlir/tensorflow/utils/dump_mlir_util.cc:269] disabling MLIR crash reproducer, set env var `MLIR_CRASH_REPRODUCER_DIRECTORY` to enable.\n",
      "2023-05-07 16:37:08.532333: I ./tensorflow/compiler/jit/device_compiler.h:180] Compiled cluster using XLA!  This line is logged at most once for the lifetime of the process.\n",
      "2023-05-07 16:37:09.178248: W tensorflow/tsl/framework/bfc_allocator.cc:296] Allocator (GPU_0_bfc) ran out of memory trying to allocate 7.13GiB with freed_by_count=0. The caller indicates that this is not a failure, but this may mean that there could be performance gains if more memory were available.\n",
      "2023-05-07 16:37:09.849376: W tensorflow/tsl/framework/bfc_allocator.cc:296] Allocator (GPU_0_bfc) ran out of memory trying to allocate 6.82GiB with freed_by_count=0. The caller indicates that this is not a failure, but this may mean that there could be performance gains if more memory were available.\n"
     ]
    },
    {
     "name": "stdout",
     "output_type": "stream",
     "text": [
      "688/688 [==============================] - ETA: 0s - loss: 1.9435 - accuracy: 0.2862"
     ]
    },
    {
     "name": "stderr",
     "output_type": "stream",
     "text": [
      "2023-05-07 16:37:15.254959: W tensorflow/tsl/framework/bfc_allocator.cc:296] Allocator (GPU_0_bfc) ran out of memory trying to allocate 7.07GiB with freed_by_count=0. The caller indicates that this is not a failure, but this may mean that there could be performance gains if more memory were available.\n"
     ]
    },
    {
     "name": "stdout",
     "output_type": "stream",
     "text": [
      "688/688 [==============================] - 10s 9ms/step - loss: 1.9435 - accuracy: 0.2862 - val_loss: 1.7074 - val_accuracy: 0.3678 - lr: 0.0010\n",
      "Epoch 2/16\n",
      "688/688 [==============================] - 5s 7ms/step - loss: 1.6571 - accuracy: 0.3905 - val_loss: 1.6080 - val_accuracy: 0.4045 - lr: 0.0010\n",
      "Epoch 3/16\n",
      "688/688 [==============================] - 5s 7ms/step - loss: 1.5685 - accuracy: 0.4199 - val_loss: 1.5225 - val_accuracy: 0.4270 - lr: 0.0010\n",
      "Epoch 4/16\n",
      "688/688 [==============================] - 5s 7ms/step - loss: 1.5137 - accuracy: 0.4423 - val_loss: 1.4344 - val_accuracy: 0.4725 - lr: 0.0010\n",
      "Epoch 5/16\n",
      "688/688 [==============================] - 5s 7ms/step - loss: 1.3595 - accuracy: 0.4913 - val_loss: 1.3159 - val_accuracy: 0.4984 - lr: 0.0010\n",
      "Epoch 6/16\n",
      "688/688 [==============================] - 5s 7ms/step - loss: 1.3008 - accuracy: 0.5133 - val_loss: 1.2744 - val_accuracy: 0.5290 - lr: 0.0010\n",
      "Epoch 7/16\n",
      "688/688 [==============================] - 5s 7ms/step - loss: 1.2747 - accuracy: 0.5233 - val_loss: 1.2558 - val_accuracy: 0.5312 - lr: 0.0010\n",
      "Epoch 8/16\n",
      "688/688 [==============================] - 5s 7ms/step - loss: 1.2543 - accuracy: 0.5326 - val_loss: 1.2406 - val_accuracy: 0.5400 - lr: 0.0010\n",
      "Epoch 9/16\n",
      "688/688 [==============================] - 5s 7ms/step - loss: 1.2397 - accuracy: 0.5376 - val_loss: 1.2454 - val_accuracy: 0.5331 - lr: 0.0010\n",
      "Epoch 10/16\n",
      "688/688 [==============================] - 5s 7ms/step - loss: 1.2097 - accuracy: 0.5544 - val_loss: 1.2105 - val_accuracy: 0.5513 - lr: 1.0000e-04\n",
      "Epoch 11/16\n",
      "688/688 [==============================] - 5s 7ms/step - loss: 1.2073 - accuracy: 0.5546 - val_loss: 1.2110 - val_accuracy: 0.5530 - lr: 1.0000e-04\n",
      "Epoch 12/16\n",
      "688/688 [==============================] - 5s 7ms/step - loss: 1.2056 - accuracy: 0.5564 - val_loss: 1.2070 - val_accuracy: 0.5540 - lr: 1.0000e-04\n",
      "Epoch 13/16\n",
      "688/688 [==============================] - 5s 7ms/step - loss: 1.2040 - accuracy: 0.5567 - val_loss: 1.2055 - val_accuracy: 0.5525 - lr: 1.0000e-04\n",
      "Epoch 14/16\n",
      "688/688 [==============================] - 5s 7ms/step - loss: 1.2028 - accuracy: 0.5576 - val_loss: 1.2031 - val_accuracy: 0.5561 - lr: 1.0000e-04\n",
      "Epoch 15/16\n",
      "688/688 [==============================] - 5s 7ms/step - loss: 1.2013 - accuracy: 0.5578 - val_loss: 1.2079 - val_accuracy: 0.5499 - lr: 1.0000e-04\n",
      "Epoch 16/16\n",
      "688/688 [==============================] - 4s 7ms/step - loss: 1.2000 - accuracy: 0.5575 - val_loss: 1.2043 - val_accuracy: 0.5528 - lr: 1.0000e-04\n",
      "688/688 [==============================] - 1s 1ms/step\n",
      "Overall test accuracy: {'Overall': 0.5528181818181818}\n",
      "688/688 [==============================] - 1s 1ms/step\n",
      "Overall test accuracy: {'Overall': 0.5559090909090909}\n"
     ]
    },
    {
     "name": "stderr",
     "output_type": "stream",
     "text": [
      "WARNING:absl:Found untraced functions such as _jit_compiled_convolution_op, _jit_compiled_convolution_op, _jit_compiled_convolution_op, _jit_compiled_convolution_op, _jit_compiled_convolution_op while saving (showing 5 of 6). These functions will not be directly callable after loading.\n"
     ]
    },
    {
     "name": "stdout",
     "output_type": "stream",
     "text": [
      "INFO:tensorflow:Assets written to: CNN_radio_ML/experiment_9/model/assets\n"
     ]
    },
    {
     "name": "stderr",
     "output_type": "stream",
     "text": [
      "INFO:tensorflow:Assets written to: CNN_radio_ML/experiment_9/model/assets\n"
     ]
    }
   ],
   "source": [
    "import json\n",
    "from copy import deepcopy\n",
    "\n",
    "def step_decay(epoch):\n",
    "    lrate = 0.001\n",
    "    factor = epoch // 9\n",
    "    lrate /= (10**factor)\n",
    "    return lrate\n",
    "\n",
    "lrate = tf.keras.callbacks.LearningRateScheduler(step_decay)\n",
    "\n",
    "train_data = train_data.squeeze()\n",
    "validation_data = validation_data.squeeze()\n",
    "test_data = test_data.squeeze()\n",
    "\n",
    "train_data = np.expand_dims(train_data, 1)\n",
    "validation_data = np.expand_dims(validation_data, 1)\n",
    "test_data = np.expand_dims(test_data, 1)\n",
    "\n",
    "# configs = [[default_cnn_conf, default_encoder_conf, default_dense_conf, default_avg_size],\n",
    "#    [default_cnn_conf, default_encoder_conf, default_dense_conf, 64]]\n",
    "# configs = [\n",
    "#     [default_cnn_conf, default_dense_conf, default_avg_size, \"Default_medium\"],\n",
    "#     [ConvolutionConfiguration(output_channels=[32, 48, 64, 96, 128, 192], kernel_sizes=[17, 17, 17, 17, 17, 17], paddings=[\"same\", \"same\", \"same\", \"same\", \"same\", \"same\"], max_pool_sizes=[1, 1, 2, 1, 2, 1]), default_dense_conf, default_avg_size, \"k=17\"],\n",
    "# ]\n",
    "\n",
    "for i, config in enumerate(configs):\n",
    "    model = create_model_cnn(*config)\n",
    "    model.summary()\n",
    "\n",
    "    model.compile(\n",
    "        # optimizer=tf.keras.optimizers.Adam(learning_rate=0.0),\n",
    "        optimizer=tf.keras.optimizers.Adam(learning_rate=0.0),\n",
    "        loss=tf.keras.losses.SparseCategoricalCrossentropy(),\n",
    "        metrics=[\"accuracy\"],\n",
    "    )\n",
    "\n",
    "    N_EPOCHS = 16\n",
    "    BATCH_SIZE = 256\n",
    "\n",
    "    h = model.fit(\n",
    "        train_data,\n",
    "        train_labels,\n",
    "        epochs=N_EPOCHS,\n",
    "        batch_size=BATCH_SIZE,\n",
    "        validation_data=(validation_data, validation_labels),\n",
    "        callbacks=[lrate]\n",
    "    )\n",
    "\n",
    "    cm_val, cls_to_acc_val = evaluate_model(\n",
    "        model, validation_data, validation_labels, verbose=False\n",
    "    )\n",
    "    snrs_val = get_snrs(validation_indecies, False)\n",
    "    snr_to_acc_val = get_snr_to_acc(\n",
    "        model, validation_data, validation_labels, snrs_val, verbose=False\n",
    "    )\n",
    "\n",
    "    cm_test, cls_to_acc_test = evaluate_model(model, test_data, test_labels, verbose=False)\n",
    "    snr_tests = get_snrs(test_indecies, False)\n",
    "    snr_to_acc_test = get_snr_to_acc(model, test_data, test_labels, snr_tests, verbose=False)\n",
    "\n",
    "    # results_dir = f\"CNN_radio_ML/experiment_{i}/\"\n",
    "    results_dir = f\"CNN_radio_ML/experiment_9/\"\n",
    "    model_configuration = {\n",
    "        \"cnn\": config[0].__dict__,\n",
    "        \"dense\": config[1].__dict__,\n",
    "        \"avg_pool\": config[2],\n",
    "    }\n",
    "    train_history = deepcopy(h.history)\n",
    "    train_history[\"lr\"] = [float(lr) for lr in train_history[\"lr\"]]\n",
    "\n",
    "    \n",
    "    results = {\n",
    "        \"model_configuration\": model_configuration,\n",
    "        \"train_history\": train_history,\n",
    "        \"cm_val\": cm_val.tolist(),\n",
    "        \"cls_to_acc_val\": cls_to_acc_val,\n",
    "        \"snr_to_acc_val\": snr_to_acc_val,\n",
    "        \"cm_test\": cm_test.tolist(),\n",
    "        \"cls_to_acc_test\": cls_to_acc_test,\n",
    "        \"snr_to_acc_test\": snr_to_acc_test,\n",
    "    }\n",
    "\n",
    "    os.makedirs(results_dir, exist_ok=True)\n",
    "    with open(results_dir + \"results.json\", \"w\") as res_file:\n",
    "        json.dump(results, res_file, indent=4)\n",
    "    model.save(results_dir + \"model\")"
   ]
  },
  {
   "cell_type": "code",
   "execution_count": 29,
   "metadata": {},
   "outputs": [
    {
     "name": "stdout",
     "output_type": "stream",
     "text": [
      "{'loss': [1.6604399681091309], 'accuracy': [0.3758068084716797], 'val_loss': [1.3640673160552979], 'val_accuracy': [0.4716818034648895], 'lr': [0.001]}\n",
      "<class 'float'>\n",
      "<class 'float'>\n",
      "<class 'float'>\n",
      "<class 'float'>\n",
      "<class 'numpy.float32'>\n"
     ]
    }
   ],
   "source": [
    "print(h.history)\n",
    "print(type(h.history[\"loss\"][0]))\n",
    "print(type(h.history[\"accuracy\"][0]))\n",
    "print(type(h.history[\"val_loss\"][0]))\n",
    "print(type(h.history[\"val_accuracy\"][0]))\n",
    "print(type(h.history[\"lr\"][0]))"
   ]
  },
  {
   "cell_type": "code",
   "execution_count": 20,
   "metadata": {},
   "outputs": [],
   "source": [
    "with open(results_dir + \"results.json\", \"w\") as res_file:\n",
    "    json.dump(results, res_file, indent=4)"
   ]
  },
  {
   "cell_type": "code",
   "execution_count": null,
   "metadata": {},
   "outputs": [],
   "source": []
  }
 ],
 "metadata": {
  "kernelspec": {
   "display_name": "cfu",
   "language": "python",
   "name": "python3"
  },
  "language_info": {
   "codemirror_mode": {
    "name": "ipython",
    "version": 3
   },
   "file_extension": ".py",
   "mimetype": "text/x-python",
   "name": "python",
   "nbconvert_exporter": "python",
   "pygments_lexer": "ipython3",
   "version": "3.8.16"
  },
  "orig_nbformat": 4
 },
 "nbformat": 4,
 "nbformat_minor": 2
}
