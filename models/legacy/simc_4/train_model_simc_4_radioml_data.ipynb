{
 "cells": [
  {
   "attachments": {},
   "cell_type": "markdown",
   "metadata": {},
   "source": [
    "# Signal Modulation classification 4\n",
    "Experiment with architecture and data"
   ]
  },
  {
   "attachments": {},
   "cell_type": "markdown",
   "metadata": {},
   "source": [
    "## Imports"
   ]
  },
  {
   "cell_type": "code",
   "execution_count": 1,
   "metadata": {},
   "outputs": [
    {
     "name": "stderr",
     "output_type": "stream",
     "text": [
      "2023-05-03 16:47:47.938075: I tensorflow/core/util/port.cc:110] oneDNN custom operations are on. You may see slightly different numerical results due to floating-point round-off errors from different computation orders. To turn them off, set the environment variable `TF_ENABLE_ONEDNN_OPTS=0`.\n",
      "2023-05-03 16:47:47.966341: I tensorflow/core/platform/cpu_feature_guard.cc:182] This TensorFlow binary is optimized to use available CPU instructions in performance-critical operations.\n",
      "To enable the following instructions: AVX2 AVX_VNNI FMA, in other operations, rebuild TensorFlow with the appropriate compiler flags.\n",
      "2023-05-03 16:47:48.454777: W tensorflow/compiler/tf2tensorrt/utils/py_utils.cc:38] TF-TRT Warning: Could not find TensorRT\n"
     ]
    }
   ],
   "source": [
    "# imports\n",
    "import os\n",
    "# os.environ['TF_CPP_MIN_LOG_LEVEL'] = '3' \n",
    "import tensorflow as tf\n",
    "from tensorflow import keras\n",
    "from tensorflow.keras import layers\n",
    "\n",
    "import numpy as np\n",
    "import random\n",
    "import os\n",
    "import sys\n",
    "import importlib\n",
    "\n",
    "from pathlib import Path\n",
    "import glob\n",
    "import time\n",
    "from scipy import io\n",
    "from typing import Tuple\n",
    "from sklearn.metrics import accuracy_score, confusion_matrix\n",
    "import seaborn as sn\n",
    "import pandas as pd\n",
    "import matplotlib.pyplot as plt\n",
    "\n",
    "\n",
    "sys.path.append(\"..\") # not good\n",
    "from tools.data import load_data_simc_v1, load_data_radioml_v1"
   ]
  },
  {
   "cell_type": "code",
   "execution_count": 2,
   "metadata": {},
   "outputs": [
    {
     "name": "stderr",
     "output_type": "stream",
     "text": [
      "2023-05-03 16:47:49.668154: I tensorflow/compiler/xla/stream_executor/cuda/cuda_gpu_executor.cc:996] successful NUMA node read from SysFS had negative value (-1), but there must be at least one NUMA node, so returning NUMA node zero. See more at https://github.com/torvalds/linux/blob/v6.0/Documentation/ABI/testing/sysfs-bus-pci#L344-L355\n",
      "2023-05-03 16:47:49.671876: I tensorflow/compiler/xla/stream_executor/cuda/cuda_gpu_executor.cc:996] successful NUMA node read from SysFS had negative value (-1), but there must be at least one NUMA node, so returning NUMA node zero. See more at https://github.com/torvalds/linux/blob/v6.0/Documentation/ABI/testing/sysfs-bus-pci#L344-L355\n",
      "2023-05-03 16:47:49.672002: I tensorflow/compiler/xla/stream_executor/cuda/cuda_gpu_executor.cc:996] successful NUMA node read from SysFS had negative value (-1), but there must be at least one NUMA node, so returning NUMA node zero. See more at https://github.com/torvalds/linux/blob/v6.0/Documentation/ABI/testing/sysfs-bus-pci#L344-L355\n"
     ]
    }
   ],
   "source": [
    "physical_devices = tf.config.experimental.list_physical_devices('GPU')\n",
    "assert len(physical_devices) > 0, \"Not enough GPU hardware devices available\"\n",
    "# config = tf.config.experimental.set_memory_growth(physical_devices[0], True)"
   ]
  },
  {
   "cell_type": "code",
   "execution_count": 3,
   "metadata": {},
   "outputs": [],
   "source": [
    "def set_seed(SEED):\n",
    "    random.seed(SEED)\n",
    "    np.random.seed(SEED)\n",
    "    tf.random.set_seed(SEED)\n",
    "\n",
    "def reload_module(m: str):\n",
    "    importlib.reload(sys.modules[m])\n"
   ]
  },
  {
   "attachments": {},
   "cell_type": "markdown",
   "metadata": {},
   "source": [
    "## Data loading for model training/evaluation/training"
   ]
  },
  {
   "attachments": {},
   "cell_type": "markdown",
   "metadata": {},
   "source": [
    "Please refer to ../generate_data.py to generate data\n",
    "\n",
    "All confiuguration should be in the cell below"
   ]
  },
  {
   "cell_type": "code",
   "execution_count": 4,
   "metadata": {},
   "outputs": [],
   "source": [
    "modulations = [\n",
    "    \"16QAM\",\n",
    "    \"64QAM\",\n",
    "    \"8PSK\",\n",
    "    \"B-FM\",\n",
    "    \"BPSK\",\n",
    "    \"CPFSK\",\n",
    "    \"DSB-AM\",\n",
    "    \"GFSK\",\n",
    "    \"PAM4\",\n",
    "    \"QPSK\",\n",
    "    \"SSB-AM\",\n",
    "]\n",
    "\n",
    "N_CLASSES = len(modulations)\n",
    "MODEL_DATA_TYPE = np.float32\n",
    "N_SAMPLES = 1024\n",
    "\n",
    "\n",
    "SEED = 123456\n",
    "set_seed(SEED)\n",
    "\n",
    "# Training\n",
    "train_model = True\n",
    "N_EPOCHS = 12\n",
    "BATCH_SIZE = 128\n",
    "TRAIN_DATA_DIR = \"/development/data/RML2016.10a/RML2016.10a_dict.pkl\" # radioml dataset\n",
    "# TRAIN_DATA_DIR = \"/development/download/train_data_SIMC1_SNR_mixed_0-30_30k\"\n",
    "\n",
    "# Deployment\n",
    "# model_name = \"simc_2_mixed_0-30_data\"\n",
    "model_name = \"simc_4_radioml_22\"\n",
    "# model_name = \"simc_4_radioml_cnn\"\n",
    "# MODELS_DIR = f'models_{model_name}_MIXED_0-30_DATA/'\n",
    "MODELS_DIR = f'models_{model_name}/'\n",
    "if not os.path.exists(MODELS_DIR):\n",
    "    os.mkdir(MODELS_DIR)\n",
    "\n",
    "MODEL_TF = MODELS_DIR + 'model'\n",
    "MODEL_NO_QUANT_TFLITE = MODELS_DIR + 'model_no_quant.tflite'\n",
    "MODEL_TFLITE = MODELS_DIR + 'model.tflite'\n",
    "MODEL_TFLITE_MICRO = MODELS_DIR + 'model.cc'\n",
    "snrs = [0, 5, 10, 15, 20, 25, 30]"
   ]
  },
  {
   "attachments": {},
   "cell_type": "markdown",
   "metadata": {},
   "source": [
    "Explore dataset used in Convolutional Radio Modulation Recognition Networks"
   ]
  },
  {
   "cell_type": "code",
   "execution_count": 5,
   "metadata": {},
   "outputs": [],
   "source": [
    "reload_module(\"tools.data\")\n",
    "from tools.data import load_data_simc_v1, load_data_radioml_v1\n",
    "labels, data, modulations = load_data_radioml_v1(TRAIN_DATA_DIR, to_1024=False)"
   ]
  },
  {
   "cell_type": "code",
   "execution_count": 6,
   "metadata": {},
   "outputs": [
    {
     "name": "stdout",
     "output_type": "stream",
     "text": [
      "['WBFM', 'QAM64', 'QAM16', 'CPFSK', 'QPSK', 'BPSK', 'AM-DSB', '8PSK', 'AM-SSB', 'PAM4', 'GFSK']\n",
      "(220000,)\n",
      "(220000, 1, 128, 2)\n"
     ]
    }
   ],
   "source": [
    "print(modulations)\n",
    "print(labels.shape)\n",
    "print(data.shape)"
   ]
  },
  {
   "attachments": {},
   "cell_type": "markdown",
   "metadata": {},
   "source": [
    "### Data preprocessing"
   ]
  },
  {
   "cell_type": "code",
   "execution_count": 7,
   "metadata": {},
   "outputs": [],
   "source": [
    "DS_SIZE = len(labels)\n",
    "\n",
    "n_train = int(0.8 * DS_SIZE)\n",
    "n_validation = int(0.1 * DS_SIZE)\n",
    "n_test = DS_SIZE - n_train - n_validation\n",
    "\n",
    "random_indecies = np.arange(DS_SIZE)\n",
    "np.random.shuffle(random_indecies)\n",
    "\n",
    "train_indecies, validation_indecies, test_indecies, _ = np.split(\n",
    "    random_indecies, [int(DS_SIZE * 0.8), int(DS_SIZE * 0.9), DS_SIZE]\n",
    ")\n"
   ]
  },
  {
   "cell_type": "code",
   "execution_count": 8,
   "metadata": {},
   "outputs": [],
   "source": [
    "train_data, train_labels = data[train_indecies], labels[train_indecies]\n",
    "validation_data, validation_labels = data[validation_indecies], labels[validation_indecies]\n",
    "test_data, test_labels = data[test_indecies], labels[test_indecies]"
   ]
  },
  {
   "cell_type": "code",
   "execution_count": 9,
   "metadata": {},
   "outputs": [],
   "source": [
    "# Should save some memory\n",
    "del data\n",
    "del labels"
   ]
  },
  {
   "attachments": {},
   "cell_type": "markdown",
   "metadata": {},
   "source": [
    "## Model creation\n"
   ]
  },
  {
   "cell_type": "code",
   "execution_count": 10,
   "metadata": {},
   "outputs": [],
   "source": [
    "from tensorflow import math, matmul, reshape, shape, transpose, cast, float32\n",
    "from tensorflow.keras.layers import Dense, Layer\n",
    "from keras.backend import softmax\n",
    "\n",
    "# Implementing the Scaled-Dot Product Attention\n",
    "class DotProductAttention(Layer):\n",
    "    def __init__(self, **kwargs):\n",
    "        super(DotProductAttention, self).__init__(**kwargs)\n",
    "\n",
    "    def call(self, queries, keys, values, d_k, mask=None):\n",
    "        # Scoring the queries against the keys after transposing the latter, and scaling\n",
    "        scores = matmul(queries, keys, transpose_b=True) / math.sqrt(cast(d_k, float32))\n",
    "\n",
    "        # Apply mask to the attention scores\n",
    "        if mask is not None:\n",
    "            scores += -1e9 * mask\n",
    "\n",
    "        # Computing the weights by a softmax operation\n",
    "        weights = softmax(scores)\n",
    "\n",
    "        # Computing the attention by a weighted sum of the value vectors\n",
    "        return matmul(weights, values)\n",
    "\n",
    "# Implementing the Multi-Head Attention\n",
    "class MultiHeadAttention(Layer):\n",
    "    def __init__(self, h, d_k, d_v, d_model, **kwargs):\n",
    "        super(MultiHeadAttention, self).__init__(**kwargs)\n",
    "        self.attention = DotProductAttention()  # Scaled dot product attention\n",
    "        self.heads = h  # Number of attention heads to use\n",
    "        self.d_k = d_k  # Dimensionality of the linearly projected queries and keys\n",
    "        self.d_v = d_v  # Dimensionality of the linearly projected values\n",
    "        self.d_model = d_model  # Dimensionality of the model\n",
    "        self.W_q = Dense(d_k)  # Learned projection matrix for the queries\n",
    "        self.W_k = Dense(d_k)  # Learned projection matrix for the keys\n",
    "        self.W_v = Dense(d_v)  # Learned projection matrix for the values\n",
    "        self.W_o = Dense(d_model)  # Learned projection matrix for the multi-head output\n",
    "\n",
    "    def reshape_tensor(self, x, heads, flag):\n",
    "        if flag:\n",
    "            # Tensor shape after reshaping and transposing: (batch_size, heads, seq_length, -1)\n",
    "            x = reshape(x, shape=(shape(x)[0], shape(x)[1], heads, -1))\n",
    "            x = transpose(x, perm=(0, 2, 1, 3))\n",
    "        else:\n",
    "            # Reverting the reshaping and transposing operations: (batch_size, seq_length, d_k)\n",
    "            x = transpose(x, perm=(0, 2, 1, 3))\n",
    "            x = reshape(x, shape=(shape(x)[0], shape(x)[1], self.d_k))\n",
    "        return x\n",
    "\n",
    "    def call(self, queries, keys, values, mask=None):\n",
    "        # Rearrange the queries to be able to compute all heads in parallel\n",
    "        q_reshaped = self.reshape_tensor(self.W_q(queries), self.heads, True)\n",
    "        # Resulting tensor shape: (batch_size, heads, input_seq_length, -1)\n",
    "\n",
    "        # Rearrange the keys to be able to compute all heads in parallel\n",
    "        k_reshaped = self.reshape_tensor(self.W_k(keys), self.heads, True)\n",
    "        # Resulting tensor shape: (batch_size, heads, input_seq_length, -1)\n",
    "\n",
    "        # Rearrange the values to be able to compute all heads in parallel\n",
    "        v_reshaped = self.reshape_tensor(self.W_v(values), self.heads, True)\n",
    "        # Resulting tensor shape: (batch_size, heads, input_seq_length, -1)\n",
    "\n",
    "        # Compute the multi-head attention output using the reshaped queries, keys and values\n",
    "        o_reshaped = self.attention(q_reshaped, k_reshaped, v_reshaped, self.d_k, mask)\n",
    "        # Resulting tensor shape: (batch_size, heads, input_seq_length, -1)\n",
    "\n",
    "        # Rearrange back the output into concatenated form\n",
    "        output = self.reshape_tensor(o_reshaped, self.heads, False)\n",
    "        # Resulting tensor shape: (batch_size, input_seq_length, d_v)\n",
    "\n",
    "        # Apply one final linear projection to the output to generate the multi-head attention\n",
    "        # Resulting tensor shape: (batch_size, input_seq_length, d_model)\n",
    "        return self.W_o(output)"
   ]
  },
  {
   "cell_type": "code",
   "execution_count": 11,
   "metadata": {},
   "outputs": [
    {
     "name": "stderr",
     "output_type": "stream",
     "text": [
      "2023-05-03 16:47:52.058327: I tensorflow/compiler/xla/stream_executor/cuda/cuda_gpu_executor.cc:996] successful NUMA node read from SysFS had negative value (-1), but there must be at least one NUMA node, so returning NUMA node zero. See more at https://github.com/torvalds/linux/blob/v6.0/Documentation/ABI/testing/sysfs-bus-pci#L344-L355\n",
      "2023-05-03 16:47:52.058536: I tensorflow/compiler/xla/stream_executor/cuda/cuda_gpu_executor.cc:996] successful NUMA node read from SysFS had negative value (-1), but there must be at least one NUMA node, so returning NUMA node zero. See more at https://github.com/torvalds/linux/blob/v6.0/Documentation/ABI/testing/sysfs-bus-pci#L344-L355\n",
      "2023-05-03 16:47:52.058608: I tensorflow/compiler/xla/stream_executor/cuda/cuda_gpu_executor.cc:996] successful NUMA node read from SysFS had negative value (-1), but there must be at least one NUMA node, so returning NUMA node zero. See more at https://github.com/torvalds/linux/blob/v6.0/Documentation/ABI/testing/sysfs-bus-pci#L344-L355\n",
      "2023-05-03 16:47:52.435437: I tensorflow/compiler/xla/stream_executor/cuda/cuda_gpu_executor.cc:996] successful NUMA node read from SysFS had negative value (-1), but there must be at least one NUMA node, so returning NUMA node zero. See more at https://github.com/torvalds/linux/blob/v6.0/Documentation/ABI/testing/sysfs-bus-pci#L344-L355\n",
      "2023-05-03 16:47:52.435649: I tensorflow/compiler/xla/stream_executor/cuda/cuda_gpu_executor.cc:996] successful NUMA node read from SysFS had negative value (-1), but there must be at least one NUMA node, so returning NUMA node zero. See more at https://github.com/torvalds/linux/blob/v6.0/Documentation/ABI/testing/sysfs-bus-pci#L344-L355\n",
      "2023-05-03 16:47:52.435725: I tensorflow/compiler/xla/stream_executor/cuda/cuda_gpu_executor.cc:996] successful NUMA node read from SysFS had negative value (-1), but there must be at least one NUMA node, so returning NUMA node zero. See more at https://github.com/torvalds/linux/blob/v6.0/Documentation/ABI/testing/sysfs-bus-pci#L344-L355\n",
      "2023-05-03 16:47:52.435785: I tensorflow/core/common_runtime/gpu/gpu_device.cc:1635] Created device /job:localhost/replica:0/task:0/device:GPU:0 with 6056 MB memory:  -> device: 0, name: NVIDIA GeForce RTX 3070 Ti Laptop GPU, pci bus id: 0000:01:00.0, compute capability: 8.6\n"
     ]
    },
    {
     "name": "stdout",
     "output_type": "stream",
     "text": [
      "\n"
     ]
    },
    {
     "name": "stderr",
     "output_type": "stream",
     "text": [
      "2023-05-03 16:47:52.903937: I tensorflow/compiler/xla/stream_executor/cuda/cuda_blas.cc:637] TensorFloat-32 will be used for the matrix multiplication. This will only be logged once.\n"
     ]
    }
   ],
   "source": [
    "from numpy import random\n",
    " \n",
    "input_seq_length = 5  # Maximum length of the input sequence\n",
    "h = 8  # Number of self-attention heads\n",
    "d_k = 64  # Dimensionality of the linearly projected queries and keys\n",
    "d_v = 64  # Dimensionality of the linearly projected values\n",
    "d_model = 512  # Dimensionality of the model sub-layers' outputs\n",
    "batch_size = 64  # Batch size from the training process\n",
    " \n",
    "queries = random.random((batch_size, input_seq_length, d_k))\n",
    "keys = random.random((batch_size, input_seq_length, d_k))\n",
    "values = random.random((batch_size, input_seq_length, d_v))\n",
    " \n",
    "multihead_attention = MultiHeadAttention(h, d_k, d_v, d_model)\n",
    "# print(multihead_attention(queries, keys, values))\n",
    "multihead_attention(queries, keys, values)\n",
    "print()"
   ]
  },
  {
   "cell_type": "code",
   "execution_count": 12,
   "metadata": {},
   "outputs": [],
   "source": [
    "import tensorflow as tf\n",
    "from tensorflow import convert_to_tensor, string\n",
    "from tensorflow.keras.layers import TextVectorization, Embedding, Layer\n",
    "from tensorflow.data import Dataset\n",
    "import numpy as np\n",
    "import matplotlib.pyplot as plt\n",
    "\n",
    "class PositionEmbeddingFixedWeights(Layer):\n",
    "    def __init__(self, sequence_length, vocab_size, output_dim, **kwargs):\n",
    "        super(PositionEmbeddingFixedWeights, self).__init__(**kwargs)\n",
    "        word_embedding_matrix = self.get_position_encoding(vocab_size, output_dim)   \n",
    "        position_embedding_matrix = self.get_position_encoding(sequence_length, output_dim)                                          \n",
    "        self.word_embedding_layer = Embedding(\n",
    "            input_dim=vocab_size, output_dim=output_dim,\n",
    "            weights=[word_embedding_matrix],\n",
    "            trainable=False\n",
    "        )\n",
    "        self.position_embedding_layer = Embedding(\n",
    "            input_dim=sequence_length, output_dim=output_dim,\n",
    "            weights=[position_embedding_matrix],\n",
    "            trainable=False\n",
    "        )\n",
    "             \n",
    "    def get_position_encoding(self, seq_len, d, n=10000):\n",
    "        P = np.zeros((seq_len, d))\n",
    "        for k in range(seq_len):\n",
    "            for i in np.arange(int(d/2)):\n",
    "                denominator = np.power(n, 2*i/d)\n",
    "                P[k, 2*i] = np.sin(k/denominator)\n",
    "                P[k, 2*i+1] = np.cos(k/denominator)\n",
    "        return P\n",
    "\n",
    "\n",
    "    def call(self, inputs):        \n",
    "        position_indices = tf.range(tf.shape(inputs)[-1])\n",
    "        embedded_words = self.word_embedding_layer(inputs)\n",
    "        embedded_indices = self.position_embedding_layer(position_indices)\n",
    "        return embedded_words + embedded_indices"
   ]
  },
  {
   "cell_type": "code",
   "execution_count": 13,
   "metadata": {},
   "outputs": [
    {
     "name": "stdout",
     "output_type": "stream",
     "text": [
      "(2, 20)\n",
      "tf.Tensor(\n",
      "[[ 3  2 20 22 35  8 17  3  2 32 11 33 27  4  7 28 25  4  7 18]\n",
      " [14 26 13  6  5 21 15  6  5 30  9 24 12 10 31 23 19  0  0  0]], shape=(2, 20), dtype=int64)\n",
      "(2, 20, 50)\n"
     ]
    }
   ],
   "source": [
    "technical_phrase = \"to understand machine learning algorithms you need\" +\\\n",
    "                   \" to understand concepts such as gradient of a function \"+\\\n",
    "                   \"Hessians of a matrix and optimization etc\"\n",
    "wise_phrase = \"patrick henry said give me liberty or give me death \"+\\\n",
    "              \"when he addressed the second virginia convention in march\"\n",
    "\n",
    "total_vocabulary = 200\n",
    "sequence_length = 20\n",
    "final_output_len = 50\n",
    "phrase_vectorization_layer = TextVectorization(\n",
    "                  output_sequence_length=sequence_length,\n",
    "                  max_tokens=total_vocabulary)\n",
    "# Learn the dictionary\n",
    "phrase_vectorization_layer.adapt([technical_phrase, wise_phrase])\n",
    "# Convert all sentences to tensors\n",
    "phrase_tensors = convert_to_tensor([technical_phrase, wise_phrase], \n",
    "                                   dtype=tf.string)\n",
    "# Use the word tensors to get vectorized phrases\n",
    "vectorized_phrases = phrase_vectorization_layer(phrase_tensors)\n",
    "print(vectorized_phrases.shape)\n",
    "print(vectorized_phrases)\n",
    "\n",
    "# random_weights_embedding_layer = PositionEmbeddingLayer(sequence_length, \n",
    "#                                                         total_vocabulary,\n",
    "#                                                         final_output_len)\n",
    "fixed_weights_embedding_layer = PositionEmbeddingFixedWeights(sequence_length, \n",
    "                                                        total_vocabulary,\n",
    "                                                        final_output_len)\n",
    "# random_embedding = random_weights_embedding_layer(vectorized_phrases)\n",
    "fixed_embedding = fixed_weights_embedding_layer(vectorized_phrases)\n",
    "print(fixed_embedding.shape)\n",
    "# print(fixed_embedding)"
   ]
  },
  {
   "cell_type": "code",
   "execution_count": 14,
   "metadata": {},
   "outputs": [
    {
     "data": {
      "image/png": "[encoded data removed]",
      "text/plain": [
       "<Figure size 1500x500 with 4 Axes>"
      ]
     },
     "metadata": {},
     "output_type": "display_data"
    }
   ],
   "source": [
    "fig = plt.figure(figsize=(15, 5))    \n",
    "title = [\"Tech Phrase\", \"Wise Phrase\"]\n",
    "for i in range(2):\n",
    "    ax = plt.subplot(1, 2, 1+i)\n",
    "    matrix = tf.reshape(fixed_embedding[i, :, :], (sequence_length, final_output_len))\n",
    "    cax = ax.matshow(matrix)\n",
    "    plt.gcf().colorbar(cax)   \n",
    "    plt.title(title[i], y=1.2)\n",
    "fig.suptitle(\"Fixed Weight Embedding from Attention is All You Need\")\n",
    "plt.show()"
   ]
  },
  {
   "cell_type": "code",
   "execution_count": 15,
   "metadata": {},
   "outputs": [],
   "source": [
    "from tensorflow.keras.layers import LayerNormalization, Layer, Dense, ReLU, Dropout\n",
    "# from multihead_attention import MultiHeadAttention\n",
    "# from positional_encoding import PositionEmbeddingFixedWeights\n",
    "\n",
    "# Implementing the Add & Norm Layer\n",
    "class AddNormalization(Layer):\n",
    "    def __init__(self, **kwargs):\n",
    "        super(AddNormalization, self).__init__(**kwargs)\n",
    "        self.layer_norm = LayerNormalization()  # Layer normalization layer\n",
    "\n",
    "    def call(self, x, sublayer_x):\n",
    "        # The sublayer input and output need to be of the same shape to be summed\n",
    "        add = x + sublayer_x\n",
    "\n",
    "        # Apply layer normalization to the sum\n",
    "        return self.layer_norm(add)\n",
    "\n",
    "# Implementing the Feed-Forward Layer\n",
    "class FeedForward(Layer):\n",
    "    def __init__(self, d_ff, d_model, **kwargs):\n",
    "        super(FeedForward, self).__init__(**kwargs)\n",
    "        self.fully_connected1 = Dense(d_ff)  # First fully connected layer\n",
    "        self.fully_connected2 = Dense(d_model)  # Second fully connected layer\n",
    "        self.activation = ReLU()  # ReLU activation layer\n",
    "\n",
    "    def call(self, x):\n",
    "        # The input is passed into the two fully-connected layers, with a ReLU in between\n",
    "        x_fc1 = self.fully_connected1(x)\n",
    "\n",
    "        return self.fully_connected2(self.activation(x_fc1))\n",
    "\n",
    "# Implementing the Encoder Layer\n",
    "class EncoderLayer(Layer):\n",
    "    def __init__(self, h, d_k, d_v, d_model, d_ff, rate, **kwargs):\n",
    "        super(EncoderLayer, self).__init__(**kwargs)\n",
    "        self.multihead_attention = MultiHeadAttention(h, d_k, d_v, d_model)\n",
    "        self.dropout1 = Dropout(rate)\n",
    "        self.add_norm1 = AddNormalization()\n",
    "        self.feed_forward = FeedForward(d_ff, d_model)\n",
    "        self.dropout2 = Dropout(rate)\n",
    "        self.add_norm2 = AddNormalization()\n",
    "\n",
    "    def call(self, x, padding_mask, training):\n",
    "        # Multi-head attention layer\n",
    "        multihead_output = self.multihead_attention(x, x, x, padding_mask)\n",
    "        # Expected output shape = (batch_size, sequence_length, d_model)\n",
    "\n",
    "        # Add in a dropout layer\n",
    "        multihead_output = self.dropout1(multihead_output, training=training)\n",
    "\n",
    "        # Followed by an Add & Norm layer\n",
    "        addnorm_output = self.add_norm1(x, multihead_output)\n",
    "        # Expected output shape = (batch_size, sequence_length, d_model)\n",
    "\n",
    "        # Followed by a fully connected layer\n",
    "        feedforward_output = self.feed_forward(addnorm_output)\n",
    "        # Expected output shape = (batch_size, sequence_length, d_model)\n",
    "\n",
    "        # Add in another dropout layer\n",
    "        feedforward_output = self.dropout2(feedforward_output, training=training)\n",
    "\n",
    "        # Followed by another Add & Norm layer\n",
    "        return self.add_norm2(addnorm_output, feedforward_output)\n",
    "\n",
    "# Implementing the Encoder\n",
    "class Encoder(Layer):\n",
    "    def __init__(self, vocab_size, sequence_length, h, d_k, d_v, d_model, d_ff, n, rate, **kwargs):\n",
    "        super(Encoder, self).__init__(**kwargs)\n",
    "        self.pos_encoding = PositionEmbeddingFixedWeights(sequence_length, vocab_size, d_model)\n",
    "        self.dropout = Dropout(rate)\n",
    "        self.encoder_layer = [EncoderLayer(h, d_k, d_v, d_model, d_ff, rate) for _ in range(n)]\n",
    "\n",
    "    def call(self, input_sentence, padding_mask, training):\n",
    "        # Generate the positional encoding\n",
    "        pos_encoding_output = self.pos_encoding(input_sentence)\n",
    "        # Expected output shape = (batch_size, sequence_length, d_model)\n",
    "\n",
    "        # Add in a dropout layer\n",
    "        x = self.dropout(pos_encoding_output, training=training)\n",
    "\n",
    "        # Pass on the positional encoded values to each encoder layer\n",
    "        for i, layer in enumerate(self.encoder_layer):\n",
    "            x = layer(x, padding_mask, training)\n",
    "\n",
    "        return x"
   ]
  },
  {
   "cell_type": "code",
   "execution_count": 16,
   "metadata": {},
   "outputs": [
    {
     "name": "stdout",
     "output_type": "stream",
     "text": [
      "\n"
     ]
    },
    {
     "name": "stderr",
     "output_type": "stream",
     "text": [
      "2023-05-03 16:47:53.839286: I tensorflow/compiler/xla/stream_executor/cuda/cuda_dnn.cc:424] Loaded cuDNN version 8600\n"
     ]
    }
   ],
   "source": [
    "from numpy import random\n",
    "\n",
    "enc_vocab_size = 20 # Vocabulary size for the encoder\n",
    "input_seq_length = 5  # Maximum length of the input sequence\n",
    "h = 8  # Number of self-attention heads\n",
    "d_k = 64  # Dimensionality of the linearly projected queries and keys\n",
    "d_v = 64  # Dimensionality of the linearly projected values\n",
    "d_ff = 2048  # Dimensionality of the inner fully connected layer\n",
    "d_model = 512  # Dimensionality of the model sub-layers' outputs\n",
    "n = 6  # Number of layers in the encoder stack\n",
    "\n",
    "batch_size = 64  # Batch size from the training process\n",
    "dropout_rate = 0.1  # Frequency of dropping the input units in the dropout layers\n",
    "\n",
    "input_seq = random.random((batch_size, input_seq_length))\n",
    "\n",
    "encoder = Encoder(enc_vocab_size, input_seq_length, h, d_k, d_v, d_model, d_ff, n, dropout_rate)\n",
    "encoder(input_seq, None, True)\n",
    "print()"
   ]
  },
  {
   "cell_type": "code",
   "execution_count": 17,
   "metadata": {},
   "outputs": [],
   "source": [
    "# Implementing the Encoder\n",
    "class SIMC_Encoder(Layer):\n",
    "    def __init__(self, h, d_k, d_v, d_model, d_ff, n, rate, **kwargs):\n",
    "        super(SIMC_Encoder, self).__init__(**kwargs)\n",
    "        self.dropout = Dropout(rate)\n",
    "        self.encoder_layer = [EncoderLayer(h, d_k, d_v, d_model, d_ff, rate) for _ in range(n)]\n",
    "\n",
    "    def call(self, inp, padding_mask, training):\n",
    "        # Add in a dropout layer\n",
    "        x = self.dropout(inp, training=training)\n",
    "\n",
    "        # Pass on the positional encoded values to each encoder layer\n",
    "        for i, layer in enumerate(self.encoder_layer):\n",
    "            x = layer(x, padding_mask, training)\n",
    "\n",
    "        return x"
   ]
  },
  {
   "cell_type": "code",
   "execution_count": 18,
   "metadata": {},
   "outputs": [
    {
     "name": "stdout",
     "output_type": "stream",
     "text": [
      "(64, 32, 128)\n",
      "\n",
      "167616\n"
     ]
    }
   ],
   "source": [
    "h = 4  # Number of self-attention heads\n",
    "d_k = 16  # Dimensionality of the linearly projected queries and keys\n",
    "d_v = 16  # Dimensionality of the linearly projected values\n",
    "d_ff = 128  # Dimensionality of the inner fully connected layer\n",
    "d_model = 128  # Dimensionality of the model sub-layers' outputs\n",
    "n = 4  # Number of layers in the encoder stack\n",
    "n_c = 32\n",
    "\n",
    "batch_size = 64  # Batch size from the training process\n",
    "dropout_rate = 0.1  # Frequency of dropping the input units in the dropout layers\n",
    "\n",
    "input_seq = random.random((batch_size, n_c, d_model))\n",
    "\n",
    "encoder = SIMC_Encoder(h, d_k, d_v, d_model, d_ff, n, dropout_rate)\n",
    "print(encoder(input_seq, None, True).shape)\n",
    "print()\n",
    "print(encoder.count_params())"
   ]
  },
  {
   "cell_type": "code",
   "execution_count": 19,
   "metadata": {},
   "outputs": [],
   "source": [
    "# https://github.com/dksakkos/BatchNorm\n",
    "class CustomBatchNorm(layers.Layer):\n",
    "    def __init__(self, *args, **kwargs):\n",
    "        super(CustomBatchNorm, self).__init__(*args, **kwargs)\n",
    "\n",
    "    def build(self, input_shape):\n",
    "        self.beta = self.add_weight(\n",
    "            name=\"custom_batch_beta\",\n",
    "            shape=(input_shape[-1]),\n",
    "            initializer=\"zeros\",\n",
    "            trainable=True,\n",
    "        )\n",
    "\n",
    "        self.gamma = self.add_weight(\n",
    "            name=\"custom_batch_gamma\",\n",
    "            shape=(input_shape[-1]),\n",
    "            initializer=\"ones\",\n",
    "            trainable=True,\n",
    "        )\n",
    "\n",
    "        self.moving_mean = self.add_weight(\n",
    "            name=\"custom_batch_moving_mean\",\n",
    "            shape=(input_shape[-1]),\n",
    "            initializer=tf.initializers.zeros,\n",
    "            trainable=False,\n",
    "        )\n",
    "\n",
    "        self.moving_variance = self.add_weight(\n",
    "            name=\"custom_batch_moving_variance\",\n",
    "            shape=(input_shape[-1]),\n",
    "            initializer=tf.initializers.ones,\n",
    "            trainable=False,\n",
    "        )\n",
    "# [1 ]\n",
    "def create_model_simc_3_stable():\n",
    "    InputLayer = keras.Input(shape=(1, 1024, 2))\n",
    "    CNN1 = layers.Conv2D(32, (1, 8), padding=\"same\", name=\"CNN1_\")(InputLayer)\n",
    "    # N1 = layers.LayerNormalization()\n",
    "    BN1 = CustomBatchNorm(name=\"BN1_\")(CNN1)\n",
    "    ReLU1 = layers.ReLU()(BN1)\n",
    "\n",
    "    MaxPool1 = layers.MaxPool2D(pool_size=(1, 2), strides=(1, 2))(ReLU1)\n",
    "    CNN2 = layers.Conv2D(48, (1, 8), padding=\"same\", name=\"CNN2_\")(MaxPool1)\n",
    "    BN2 = CustomBatchNorm(name=\"BN2_\")(CNN2)\n",
    "    ReLU2 = layers.ReLU()(BN2)\n",
    "\n",
    "    MaxPool2 = layers.MaxPool2D(pool_size=(1, 2), strides=(1, 2))(ReLU2)\n",
    "    CNN3 = layers.Conv2D(64, (1, 8), padding=\"same\", name=\"CNN3_\")(MaxPool2)\n",
    "    BN3 = CustomBatchNorm(name=\"BN3_\")(CNN3)\n",
    "    ReLU3 = layers.ReLU()(BN3)\n",
    "\n",
    "    MaxPool3 = layers.MaxPool2D(pool_size=(1, 2), strides=(1, 2))(ReLU3)\n",
    "    CNN4 = layers.Conv2D(96, (1, 8), padding=\"same\", name=\"CNN4_\")(MaxPool3)\n",
    "    BN4 = CustomBatchNorm(name=\"BN4_\")(CNN4)\n",
    "    ReLU4 = layers.ReLU()(BN4)\n",
    "\n",
    "    MaxPool4 = layers.MaxPool2D(pool_size=(1, 2), strides=(1, 2))(ReLU4)\n",
    "    CNN5 = layers.Conv2D(128, (1, 8), padding=\"same\", name=\"CNN5_\")(MaxPool4)\n",
    "    BN5 = CustomBatchNorm(name=\"BN5_\")(CNN5)\n",
    "    ReLU5 = layers.ReLU()(BN5)\n",
    "\n",
    "    MaxPool5 = layers.MaxPool2D(pool_size=(1, 2), strides=(1, 2))(ReLU5)\n",
    "    CNN6 = layers.Conv2D(192, (1, 8), padding=\"same\", name=\"CNN6_\")(MaxPool5)\n",
    "    BN6 = CustomBatchNorm(name=\"BN6_\")(CNN6)\n",
    "    ReLU6 = layers.ReLU()(BN6)\n",
    "\n",
    "    AP1 = layers.AveragePooling2D(pool_size=(1, 32), strides=(1, 1))(ReLU6)\n",
    "    # FC1 = layers.Reshape((1, 1, -1), name=\"FC1_preFlatten1\")(AP1)\n",
    "    FC1 = layers.Flatten(name=\"FC1_preFlatten1\")(AP1)\n",
    "    FC1 = layers.Dense(11, name=\"FC1_\")(FC1)\n",
    "\n",
    "    SoftMax = layers.Softmax()(FC1)\n",
    "    Output = layers.Flatten()(SoftMax)\n",
    "\n",
    "    model = keras.Model(inputs=[InputLayer], outputs=[Output])\n",
    "    return model\n",
    "\n",
    "def create_model_simc_3_inp_128(k=8):\n",
    "    InputLayer = keras.Input(shape=(1, 128, 2))\n",
    "    CNN1 = layers.Conv2D(32, (1, k), padding=\"same\", name=\"CNN1_\")(InputLayer)\n",
    "    # N1 = layers.LayerNormalization()\n",
    "    BN1 = CustomBatchNorm(name=\"BN1_\")(CNN1)\n",
    "    ReLU1 = layers.ReLU()(BN1)\n",
    "\n",
    "    # MaxPool1 = layers.MaxPool2D(pool_size=(1, 2), strides=(1, 2))(ReLU1)\n",
    "    # CNN2 = layers.Conv2D(48, (1, 8), padding=\"same\", name=\"CNN2_\")(MaxPool1)\n",
    "    CNN2 = layers.Conv2D(48, (1, k), padding=\"same\", name=\"CNN2_\")(ReLU1)\n",
    "    BN2 = CustomBatchNorm(name=\"BN2_\")(CNN2)\n",
    "    ReLU2 = layers.ReLU()(BN2)\n",
    "\n",
    "    MaxPool2 = layers.MaxPool2D(pool_size=(1, 2), strides=(1, 2), name=\"MAX_POOL_2_\")(ReLU2)\n",
    "    CNN3 = layers.Conv2D(64, (1, k), padding=\"same\", name=\"CNN3_\")(MaxPool2)\n",
    "    BN3 = CustomBatchNorm(name=\"BN3_\")(CNN3)\n",
    "    ReLU3 = layers.ReLU()(BN3)\n",
    "\n",
    "    # MaxPool3 = layers.MaxPool2D(pool_size=(1, 2), strides=(1, 2))(ReLU3)\n",
    "    # CNN4 = layers.Conv2D(96, (1, 8), padding=\"same\", name=\"CNN4_\")(MaxPool3)\n",
    "    CNN4 = layers.Conv2D(96, (1, k), padding=\"same\", name=\"CNN4_\")(ReLU3)\n",
    "    BN4 = CustomBatchNorm(name=\"BN4_\")(CNN4)\n",
    "    ReLU4 = layers.ReLU()(BN4)\n",
    "\n",
    "    MaxPool4 = layers.MaxPool2D(pool_size=(1, 2), strides=(1, 2), name=\"MAX_POOL_4_\")(ReLU4)\n",
    "    CNN5 = layers.Conv2D(128, (1, k), padding=\"same\", name=\"CNN5_\")(MaxPool4)\n",
    "    BN5 = CustomBatchNorm(name=\"BN5_\")(CNN5)\n",
    "    ReLU5 = layers.ReLU()(BN5)\n",
    "\n",
    "    # MaxPool5 = layers.MaxPool2D(pool_size=(1, 2), strides=(1, 2))(ReLU5)\n",
    "    # CNN6 = layers.Conv2D(192, (1, 8), padding=\"same\", name=\"CNN6_\")(MaxPool5)\n",
    "    CNN6 = layers.Conv2D(192, (1, k), padding=\"same\", name=\"CNN6_\")(ReLU5)\n",
    "    BN6 = CustomBatchNorm(name=\"BN6_\")(CNN6)\n",
    "    ReLU6 = layers.ReLU()(BN6)\n",
    "\n",
    "    AP1 = layers.AveragePooling2D(pool_size=(1, 32), strides=(1, 1))(ReLU6)\n",
    "    # FC1 = layers.Reshape((1, 1, -1), name=\"FC1_preFlatten1\")(AP1)\n",
    "    FC1 = layers.Flatten(name=\"FC1_preFlatten1\")(AP1)\n",
    "    FC1 = layers.Dense(11, name=\"FC1_\")(FC1)\n",
    "\n",
    "    SoftMax = layers.Softmax()(FC1)\n",
    "    Output = layers.Flatten()(SoftMax)\n",
    "\n",
    "    model = keras.Model(inputs=[InputLayer], outputs=[Output])\n",
    "    return model\n",
    "\n",
    "\n",
    "def create_model_transformer_10(k=65, n_c=32, h=4, d_k=64, d_v=64, dff=512, N=4):\n",
    "    InputLayer = keras.Input(shape=(128, 2))\n",
    "    # (b, 128, 2)\n",
    "    CNN1 = layers.Conv1D(n_c, k, padding=\"same\", name=\"CNN1_\")(InputLayer)\n",
    "    RELU1 = layers.ReLU(name=\"RELU1_\")(CNN1)\n",
    "\n",
    "    # (b, 128, 32)\n",
    "    PM1 = layers.Permute((2, 1), name=\"PM1_\")(RELU1)\n",
    "\n",
    "    # (b, 32, 128)\n",
    "    ENC1 = SIMC_Encoder(h, d_k=16, d_v=16, d_model=128, d_ff=128, n=N, rate=0.1, name=\"ENC1_\")(PM1, None, True)\n",
    "    # ENC1 = SIMC_Encoder(h, d_k=d_k, d_v=d_v, d_model=128, d_ff=dff, n=N, rate=0.1, name=\"ENC1_\")(PM1, None, True)\n",
    "\n",
    "    # (b, 32, 128)\n",
    "    # AVG1 = layers.MaxPool1D(8, padding=\"same\", name=\"AVG1_\")(ENC1)\n",
    "    AVG1 = layers.AveragePooling1D(32, padding=\"same\", name=\"AVG1_\")(ENC1)\n",
    "    # AVG1 = layers.AveragePooling1D(32, padding=\"same\", name=\"AVG1_\")(PM1)\n",
    "\n",
    "    # (b, 1, 128)\n",
    "    FLT1 = layers.Flatten(name=\"FLT1_\")(AVG1)\n",
    "\n",
    "    # (b, 128)\n",
    "    FC1 = layers.Dense(128, name=\"FC1_\")(FLT1)\n",
    "    RELU2 = layers.ReLU(name=\"RELU2_\")(FC1)\n",
    "\n",
    "    # (b, 128)\n",
    "    FC2 = layers.Dense(len(modulations), name=\"FC2_\")(RELU2)\n",
    "\n",
    "    # (b, 11)\n",
    "    Output = layers.Softmax()(FC2)\n",
    "\n",
    "    model = keras.Model(inputs=[InputLayer], outputs=[Output])\n",
    "    return model\n",
    "\n",
    "def create_model_transformer_20(k=65, n_c=32, h=4, d_k=64, d_v=64, dff=512, N=4):\n",
    "    InputLayer = keras.Input(shape=(128, 2))\n",
    "    # (b, 128, 2)\n",
    "    CNN1 = layers.Conv1D(n_c, k, padding=\"same\", name=\"CNN1_\")(InputLayer)\n",
    "    RELU1 = layers.ReLU(name=\"RELU1_\")(CNN1)\n",
    "\n",
    "    # (b, 128, 32)\n",
    "    ENC1 = SIMC_Encoder(h, d_k=32, d_v=32, d_model=32, d_ff=128, n=N, rate=0.1, name=\"ENC1_\")(RELU1, None, True)\n",
    "    # ENC1 = SIMC_Encoder(h, d_k=d_k, d_v=d_v, d_model=128, d_ff=dff, n=N, rate=0.1, name=\"ENC1_\")(PM1, None, True)\n",
    "\n",
    "    # (b, 128, 32)\n",
    "    # AVG1 = layers.MaxPool1D(8, padding=\"same\", name=\"AVG1_\")(ENC1)\n",
    "    AVG1 = layers.AveragePooling1D(32, padding=\"same\", name=\"AVG1_\")(ENC1)\n",
    "    # AVG1 = layers.AveragePooling1D(32, padding=\"same\", name=\"AVG1_\")(PM1)\n",
    "\n",
    "    # (b, 4, 32)\n",
    "    FLT1 = layers.Flatten(name=\"FLT1_\")(AVG1)\n",
    "\n",
    "    # (b, 128)\n",
    "    FC1 = layers.Dense(128, name=\"FC1_\")(FLT1)\n",
    "    RELU2 = layers.ReLU(name=\"RELU2_\")(FC1)\n",
    "\n",
    "    # (b, 128)\n",
    "    FC2 = layers.Dense(len(modulations), name=\"FC2_\")(RELU2)\n",
    "\n",
    "    # (b, 11)\n",
    "    Output = layers.Softmax()(FC2)\n",
    "\n",
    "    model = keras.Model(inputs=[InputLayer], outputs=[Output])\n",
    "    return model\n",
    "\n",
    "def create_model_transformer_205(k=8, n_c=32, h=4, d_k=64, d_v=64, dff=512, N=4):\n",
    "    InputLayer = keras.Input(shape=(128, 2))\n",
    "    # (b, 128, 2)\n",
    "    CNN1 = layers.Conv1D(n_c, k, padding=\"same\", name=\"CNN1_\")(InputLayer)\n",
    "    RELU1 = layers.ReLU(name=\"RELU1_\")(CNN1)\n",
    "\n",
    "    # (b, 128, 32)\n",
    "    ENC1 = SIMC_Encoder(h, d_k=32, d_v=32, d_model=32, d_ff=128, n=N, rate=0.1, name=\"ENC1_\")(RELU1, None, True)\n",
    "    # ENC1 = SIMC_Encoder(h, d_k=d_k, d_v=d_v, d_model=128, d_ff=dff, n=N, rate=0.1, name=\"ENC1_\")(PM1, None, True)\n",
    "\n",
    "    # (b, 128, 32)\n",
    "    # AVG1 = layers.MaxPool1D(8, padding=\"same\", name=\"AVG1_\")(ENC1)\n",
    "    AVG1 = layers.AveragePooling1D(32, padding=\"same\", name=\"AVG1_\")(ENC1)\n",
    "    # AVG1 = layers.AveragePooling1D(32, padding=\"same\", name=\"AVG1_\")(PM1)\n",
    "\n",
    "    # (b, 4, 32)\n",
    "    FLT1 = layers.Flatten(name=\"FLT1_\")(AVG1)\n",
    "\n",
    "    # (b, 128)\n",
    "    FC1 = layers.Dense(128, name=\"FC1_\")(FLT1)\n",
    "    RELU2 = layers.ReLU(name=\"RELU2_\")(FC1)\n",
    "\n",
    "    # (b, 128)\n",
    "    FC2 = layers.Dense(len(modulations), name=\"FC2_\")(RELU2)\n",
    "\n",
    "    # (b, 11)\n",
    "    Output = layers.Softmax()(FC2)\n",
    "\n",
    "    model = keras.Model(inputs=[InputLayer], outputs=[Output])\n",
    "    return model\n",
    "\n",
    "\n",
    "def create_model_transformer_21(k=8, N=4):\n",
    "    InputLayer = keras.Input(shape=(128, 2))\n",
    "    # (b, 128, 2)\n",
    "    CNN1 = layers.Conv1D(32, k, padding=\"same\", name=\"CNN1_\")(InputLayer)\n",
    "    RELU1 = layers.ReLU(name=\"RELU1_\")(CNN1)\n",
    "\n",
    "    CNN2 = layers.Conv1D(64, k, padding=\"same\", name=\"CNN2_\")(RELU1)\n",
    "    RELU2 = layers.ReLU(name=\"RELU2_\")(CNN2)\n",
    "\n",
    "    # (b, 128, 64)\n",
    "    ENC1 = SIMC_Encoder(h=4, d_k=32, d_v=32, d_model=64, d_ff=256, n=N, rate=0.1, name=\"ENC1_\")(RELU2, None, True)\n",
    "\n",
    "    # (b, 128, 64)\n",
    "    # AVG1 = layers.MaxPool1D(8, padding=\"same\", name=\"AVG1_\")(ENC1)\n",
    "    AVG1 = layers.AveragePooling1D(32, padding=\"same\", name=\"AVG1_\")(ENC1)\n",
    "    # AVG1 = layers.AveragePooling1D(32, padding=\"same\", name=\"AVG1_\")(PM1)\n",
    "\n",
    "    # (b, 4, 64)\n",
    "    FLT1 = layers.Flatten(name=\"FLT1_\")(AVG1)\n",
    "\n",
    "    # (b, 256)\n",
    "    FC1 = layers.Dense(128, name=\"FC1_\")(FLT1)\n",
    "    RELU3 = layers.ReLU(name=\"RELU3_\")(FC1)\n",
    "\n",
    "    # (b, 128)\n",
    "    FC2 = layers.Dense(len(modulations), name=\"FC2_\")(RELU3)\n",
    "\n",
    "    # (b, 11)\n",
    "    Output = layers.Softmax()(FC2)\n",
    "\n",
    "    model = keras.Model(inputs=[InputLayer], outputs=[Output])\n",
    "    return model\n",
    "\n"
   ]
  },
  {
   "cell_type": "code",
   "execution_count": 20,
   "metadata": {},
   "outputs": [
    {
     "name": "stdout",
     "output_type": "stream",
     "text": [
      "Model: \"model\"\n",
      "_________________________________________________________________\n",
      " Layer (type)                Output Shape              Param #   \n",
      "=================================================================\n",
      " input_1 (InputLayer)        [(None, 1, 128, 2)]       0         \n",
      "                                                                 \n",
      " CNN1_ (Conv2D)              (None, 1, 128, 32)        544       \n",
      "                                                                 \n",
      " BN1_ (CustomBatchNorm)      (None, 1, 128, 32)        128       \n",
      "                                                                 \n",
      " re_lu_10 (ReLU)             (None, 1, 128, 32)        0         \n",
      "                                                                 \n",
      " CNN2_ (Conv2D)              (None, 1, 128, 48)        12336     \n",
      "                                                                 \n",
      " BN2_ (CustomBatchNorm)      (None, 1, 128, 48)        192       \n",
      "                                                                 \n",
      " re_lu_11 (ReLU)             (None, 1, 128, 48)        0         \n",
      "                                                                 \n",
      " MAX_POOL_2_ (MaxPooling2D)  (None, 1, 64, 48)         0         \n",
      "                                                                 \n",
      " CNN3_ (Conv2D)              (None, 1, 64, 64)         24640     \n",
      "                                                                 \n",
      " BN3_ (CustomBatchNorm)      (None, 1, 64, 64)         256       \n",
      "                                                                 \n",
      " re_lu_12 (ReLU)             (None, 1, 64, 64)         0         \n",
      "                                                                 \n",
      " CNN4_ (Conv2D)              (None, 1, 64, 96)         49248     \n",
      "                                                                 \n",
      " BN4_ (CustomBatchNorm)      (None, 1, 64, 96)         384       \n",
      "                                                                 \n",
      " re_lu_13 (ReLU)             (None, 1, 64, 96)         0         \n",
      "                                                                 \n",
      " MAX_POOL_4_ (MaxPooling2D)  (None, 1, 32, 96)         0         \n",
      "                                                                 \n",
      " CNN5_ (Conv2D)              (None, 1, 32, 128)        98432     \n",
      "                                                                 \n",
      " BN5_ (CustomBatchNorm)      (None, 1, 32, 128)        512       \n",
      "                                                                 \n",
      " re_lu_14 (ReLU)             (None, 1, 32, 128)        0         \n",
      "                                                                 \n",
      " CNN6_ (Conv2D)              (None, 1, 32, 192)        196800    \n",
      "                                                                 \n",
      " BN6_ (CustomBatchNorm)      (None, 1, 32, 192)        768       \n",
      "                                                                 \n",
      " re_lu_15 (ReLU)             (None, 1, 32, 192)        0         \n",
      "                                                                 \n",
      " average_pooling2d (AverageP  (None, 1, 1, 192)        0         \n",
      " ooling2D)                                                       \n",
      "                                                                 \n",
      " FC1_preFlatten1 (Flatten)   (None, 192)               0         \n",
      "                                                                 \n",
      " FC1_ (Dense)                (None, 11)                2123      \n",
      "                                                                 \n",
      " softmax (Softmax)           (None, 11)                0         \n",
      "                                                                 \n",
      " flatten (Flatten)           (None, 11)                0         \n",
      "                                                                 \n",
      "=================================================================\n",
      "Total params: 386,363\n",
      "Trainable params: 385,243\n",
      "Non-trainable params: 1,120\n",
      "_________________________________________________________________\n"
     ]
    }
   ],
   "source": [
    "# model = create_model_transformer_20(N=4)\n",
    "# model = create_model_transformer_205(k=65)\n",
    "# model = create_model_transformer_21()\n",
    "# model = create_model_simc_3_stable()\n",
    "model = create_model_simc_3_inp_128(k=8)\n",
    "model.summary()"
   ]
  },
  {
   "cell_type": "code",
   "execution_count": 186,
   "metadata": {},
   "outputs": [],
   "source": [
    "# https://machinelearningmastery.com/using-learning-rate-schedules-deep-learning-models-python-keras/ \n",
    "# learning rate schedule\n",
    "\n",
    "model.compile(\n",
    "    # optimizer=tf.keras.optimizers.Adam(learning_rate=0.0), \n",
    "    optimizer=tf.keras.optimizers.Adam(), \n",
    "    loss=tf.keras.losses.SparseCategoricalCrossentropy(),\n",
    "    metrics=['accuracy'],\n",
    ")"
   ]
  },
  {
   "cell_type": "code",
   "execution_count": 187,
   "metadata": {},
   "outputs": [],
   "source": [
    "train_data = train_data.squeeze()\n",
    "validation_data = validation_data.squeeze()\n",
    "test_data = test_data.squeeze()\n",
    "\n",
    "# train_data = np.expand_dims(train_data, 1)\n",
    "# validation_data = np.expand_dims(validation_data, 1)\n",
    "# test_data = np.expand_dims(test_data, 1)"
   ]
  },
  {
   "cell_type": "code",
   "execution_count": 188,
   "metadata": {},
   "outputs": [
    {
     "name": "stdout",
     "output_type": "stream",
     "text": [
      "Epoch 1/40\n"
     ]
    },
    {
     "name": "stderr",
     "output_type": "stream",
     "text": [
      "2023-05-02 22:51:44.278816: W tensorflow/tsl/framework/bfc_allocator.cc:296] Allocator (GPU_0_bfc) ran out of memory trying to allocate 6.07GiB with freed_by_count=0. The caller indicates that this is not a failure, but this may mean that there could be performance gains if more memory were available.\n"
     ]
    },
    {
     "name": "stdout",
     "output_type": "stream",
     "text": [
      "1375/1375 [==============================] - 54s 34ms/step - loss: 1.7470 - accuracy: 0.3386 - val_loss: 1.3318 - val_accuracy: 0.4814\n",
      "Epoch 2/40\n",
      "1375/1375 [==============================] - 47s 34ms/step - loss: 1.2723 - accuracy: 0.5124 - val_loss: 1.2412 - val_accuracy: 0.5255\n",
      "Epoch 3/40\n",
      "1375/1375 [==============================] - 47s 34ms/step - loss: 1.2119 - accuracy: 0.5375 - val_loss: 1.1977 - val_accuracy: 0.5438\n",
      "Epoch 4/40\n",
      "1375/1375 [==============================] - 47s 34ms/step - loss: 1.1914 - accuracy: 0.5454 - val_loss: 1.1846 - val_accuracy: 0.5492\n",
      "Epoch 5/40\n",
      "1375/1375 [==============================] - 47s 34ms/step - loss: 1.1709 - accuracy: 0.5559 - val_loss: 1.1607 - val_accuracy: 0.5628\n",
      "Epoch 6/40\n",
      "1375/1375 [==============================] - 47s 35ms/step - loss: 1.1564 - accuracy: 0.5662 - val_loss: 1.1527 - val_accuracy: 0.5729\n",
      "Epoch 7/40\n",
      "1375/1375 [==============================] - 48s 35ms/step - loss: 1.1421 - accuracy: 0.5749 - val_loss: 1.1354 - val_accuracy: 0.5759\n",
      "Epoch 8/40\n",
      "1375/1375 [==============================] - 48s 35ms/step - loss: 1.1360 - accuracy: 0.5791 - val_loss: 1.1336 - val_accuracy: 0.5835\n",
      "Epoch 9/40\n",
      "1375/1375 [==============================] - 48s 35ms/step - loss: 1.1264 - accuracy: 0.5846 - val_loss: 1.1328 - val_accuracy: 0.5822\n",
      "Epoch 10/40\n",
      "1375/1375 [==============================] - 47s 34ms/step - loss: 1.1218 - accuracy: 0.5871 - val_loss: 1.1122 - val_accuracy: 0.5930\n",
      "Epoch 11/40\n",
      "1375/1375 [==============================] - 48s 35ms/step - loss: 1.1115 - accuracy: 0.5901 - val_loss: 1.1101 - val_accuracy: 0.5943\n",
      "Epoch 12/40\n",
      "1375/1375 [==============================] - 48s 35ms/step - loss: 1.1050 - accuracy: 0.5936 - val_loss: 1.1159 - val_accuracy: 0.5919\n",
      "Epoch 13/40\n",
      "1375/1375 [==============================] - 48s 35ms/step - loss: 1.1013 - accuracy: 0.5949 - val_loss: 1.0916 - val_accuracy: 0.6009\n",
      "Epoch 14/40\n",
      "1375/1375 [==============================] - 48s 35ms/step - loss: 1.0924 - accuracy: 0.5998 - val_loss: 1.0959 - val_accuracy: 0.6014\n",
      "Epoch 15/40\n",
      "1375/1375 [==============================] - 48s 35ms/step - loss: 1.0889 - accuracy: 0.6003 - val_loss: 1.1210 - val_accuracy: 0.5844\n",
      "Epoch 16/40\n",
      "1375/1375 [==============================] - 48s 35ms/step - loss: 1.0837 - accuracy: 0.6025 - val_loss: 1.0872 - val_accuracy: 0.6034\n",
      "Epoch 17/40\n",
      "1375/1375 [==============================] - 48s 35ms/step - loss: 1.0817 - accuracy: 0.6038 - val_loss: 1.0802 - val_accuracy: 0.6050\n",
      "Epoch 18/40\n",
      "1375/1375 [==============================] - 48s 35ms/step - loss: 1.0776 - accuracy: 0.6057 - val_loss: 1.0956 - val_accuracy: 0.5981\n",
      "Epoch 19/40\n",
      "1375/1375 [==============================] - 48s 35ms/step - loss: 1.0734 - accuracy: 0.6077 - val_loss: 1.0757 - val_accuracy: 0.6079\n",
      "Epoch 20/40\n",
      "1375/1375 [==============================] - 48s 35ms/step - loss: 1.0680 - accuracy: 0.6103 - val_loss: 1.0739 - val_accuracy: 0.6120\n",
      "Epoch 21/40\n",
      "1375/1375 [==============================] - 48s 35ms/step - loss: 1.0677 - accuracy: 0.6099 - val_loss: 1.0908 - val_accuracy: 0.6013\n",
      "Epoch 22/40\n",
      "1375/1375 [==============================] - 48s 35ms/step - loss: 1.0637 - accuracy: 0.6111 - val_loss: 1.0817 - val_accuracy: 0.6030\n",
      "Epoch 23/40\n",
      "1375/1375 [==============================] - 49s 35ms/step - loss: 1.0613 - accuracy: 0.6126 - val_loss: 1.0764 - val_accuracy: 0.6077\n",
      "Epoch 24/40\n",
      "1375/1375 [==============================] - 48s 35ms/step - loss: 1.0585 - accuracy: 0.6136 - val_loss: 1.0702 - val_accuracy: 0.6103\n",
      "Epoch 25/40\n",
      "1375/1375 [==============================] - 48s 35ms/step - loss: 1.0557 - accuracy: 0.6149 - val_loss: 1.0723 - val_accuracy: 0.6110\n",
      "Epoch 26/40\n",
      "1375/1375 [==============================] - 48s 35ms/step - loss: 1.0526 - accuracy: 0.6163 - val_loss: 1.0599 - val_accuracy: 0.6153\n",
      "Epoch 27/40\n",
      "1375/1375 [==============================] - 48s 35ms/step - loss: 1.0516 - accuracy: 0.6172 - val_loss: 1.0699 - val_accuracy: 0.6092\n",
      "Epoch 28/40\n",
      "1375/1375 [==============================] - 48s 35ms/step - loss: 1.0484 - accuracy: 0.6184 - val_loss: 1.0603 - val_accuracy: 0.6157\n",
      "Epoch 29/40\n",
      "1375/1375 [==============================] - 48s 35ms/step - loss: 1.0481 - accuracy: 0.6188 - val_loss: 1.0634 - val_accuracy: 0.6145\n",
      "Epoch 30/40\n",
      "1375/1375 [==============================] - 48s 35ms/step - loss: 1.0432 - accuracy: 0.6200 - val_loss: 1.0573 - val_accuracy: 0.6160\n",
      "Epoch 31/40\n",
      "1375/1375 [==============================] - 48s 35ms/step - loss: 1.0431 - accuracy: 0.6202 - val_loss: 1.0563 - val_accuracy: 0.6166\n",
      "Epoch 32/40\n",
      "1375/1375 [==============================] - 48s 35ms/step - loss: 1.0403 - accuracy: 0.6218 - val_loss: 1.0600 - val_accuracy: 0.6166\n",
      "Epoch 33/40\n",
      "1375/1375 [==============================] - 49s 35ms/step - loss: 1.0384 - accuracy: 0.6225 - val_loss: 1.0672 - val_accuracy: 0.6150\n",
      "Epoch 34/40\n",
      "1375/1375 [==============================] - 48s 35ms/step - loss: 1.0374 - accuracy: 0.6233 - val_loss: 1.0533 - val_accuracy: 0.6175\n",
      "Epoch 35/40\n",
      "1375/1375 [==============================] - 49s 36ms/step - loss: 1.0347 - accuracy: 0.6239 - val_loss: 1.0690 - val_accuracy: 0.6152\n",
      "Epoch 36/40\n",
      "1375/1375 [==============================] - 48s 35ms/step - loss: 1.0341 - accuracy: 0.6236 - val_loss: 1.0582 - val_accuracy: 0.6179\n",
      "Epoch 37/40\n",
      "1375/1375 [==============================] - 49s 35ms/step - loss: 1.0334 - accuracy: 0.6253 - val_loss: 1.0602 - val_accuracy: 0.6181\n",
      "Epoch 38/40\n",
      "1375/1375 [==============================] - 49s 35ms/step - loss: 1.0312 - accuracy: 0.6258 - val_loss: 1.0578 - val_accuracy: 0.6175\n",
      "Epoch 39/40\n",
      "1375/1375 [==============================] - 49s 35ms/step - loss: 1.0285 - accuracy: 0.6261 - val_loss: 1.0647 - val_accuracy: 0.6177\n",
      "Epoch 40/40\n",
      "1375/1375 [==============================] - 49s 35ms/step - loss: 1.0258 - accuracy: 0.6283 - val_loss: 1.0629 - val_accuracy: 0.6174\n"
     ]
    }
   ],
   "source": [
    "# def step_decay(epoch):\n",
    "#     # lrate=0.001\n",
    "#     lrate = 0.001\n",
    "#     # factor = epoch // 7\n",
    "#     # lrate /= (10**factor)\n",
    "#     return lrate\n",
    "\n",
    "# lrate = tf.keras.callbacks.LearningRateScheduler(step_decay)\n",
    "\n",
    "\n",
    "N_EPOCHS = 40\n",
    "BATCH_SIZE = 128\n",
    "if train_model:\n",
    "    h = model.fit(\n",
    "        train_data,\n",
    "        train_labels,\n",
    "        epochs=N_EPOCHS,\n",
    "        batch_size=BATCH_SIZE,\n",
    "        validation_data=(validation_data, validation_labels), \n",
    "        # callbacks=[lrate]\n",
    "    )\n",
    "else:\n",
    "    model = tf.keras.models.load_model(MODEL_TF)\n"
   ]
  },
  {
   "cell_type": "code",
   "execution_count": 189,
   "metadata": {},
   "outputs": [
    {
     "name": "stdout",
     "output_type": "stream",
     "text": [
      "{'loss': [1.747024655342102, 1.2723469734191895, 1.21194589138031, 1.1913683414459229, 1.1709294319152832, 1.1563570499420166, 1.1420944929122925, 1.1360424757003784, 1.1264444589614868, 1.1217759847640991, 1.1115484237670898, 1.1049578189849854, 1.1012767553329468, 1.092399001121521, 1.0888936519622803, 1.0836673974990845, 1.081734538078308, 1.0776197910308838, 1.0733693838119507, 1.0679707527160645, 1.0676524639129639, 1.0636589527130127, 1.061334252357483, 1.0585302114486694, 1.0557136535644531, 1.0525999069213867, 1.0515944957733154, 1.0483644008636475, 1.04806387424469, 1.0432466268539429, 1.0431462526321411, 1.0402886867523193, 1.038401484489441, 1.0374374389648438, 1.034745216369629, 1.0340631008148193, 1.033414363861084, 1.0312145948410034, 1.0284979343414307, 1.0258198976516724], 'accuracy': [0.3386022746562958, 0.512374997138977, 0.5374943017959595, 0.5453749895095825, 0.5559147596359253, 0.5661761164665222, 0.5749034285545349, 0.5791193246841431, 0.5845738649368286, 0.5871193408966064, 0.5901079773902893, 0.5936193466186523, 0.5948636531829834, 0.5997727513313293, 0.6002897620201111, 0.6025113463401794, 0.6037556529045105, 0.6056761145591736, 0.6076818108558655, 0.6103067994117737, 0.609857976436615, 0.6111136078834534, 0.6126306653022766, 0.6136136651039124, 0.6148750185966492, 0.6162897944450378, 0.6171875, 0.6184090971946716, 0.6188409328460693, 0.6199886202812195, 0.6202216148376465, 0.6218408942222595, 0.6225113868713379, 0.6233011484146118, 0.6239091157913208, 0.6236363649368286, 0.6252954602241516, 0.6258352398872375, 0.6260908842086792, 0.6282954812049866], 'val_loss': [1.3317852020263672, 1.2412465810775757, 1.1977370977401733, 1.1846433877944946, 1.1606956720352173, 1.1527273654937744, 1.1354435682296753, 1.133577823638916, 1.1328418254852295, 1.1122487783432007, 1.110086441040039, 1.115876317024231, 1.0915910005569458, 1.095887303352356, 1.1210204362869263, 1.0871779918670654, 1.0802290439605713, 1.0955580472946167, 1.0757111310958862, 1.0738956928253174, 1.0907633304595947, 1.0816991329193115, 1.076358675956726, 1.070153832435608, 1.0722588300704956, 1.059859275817871, 1.0698950290679932, 1.060268759727478, 1.0633724927902222, 1.0572872161865234, 1.0562602281570435, 1.0599538087844849, 1.0672047138214111, 1.0532729625701904, 1.0689888000488281, 1.0582268238067627, 1.060172200202942, 1.0578479766845703, 1.0647436380386353, 1.0628968477249146], 'val_accuracy': [0.48140910267829895, 0.5254545211791992, 0.5437727570533752, 0.5491818189620972, 0.562818169593811, 0.5728636384010315, 0.5758636593818665, 0.5834545493125916, 0.5822272896766663, 0.5929545164108276, 0.5942727327346802, 0.5919091105461121, 0.6008636355400085, 0.6014090776443481, 0.5844091176986694, 0.6034091114997864, 0.6050000190734863, 0.5980908870697021, 0.6078636646270752, 0.6119999885559082, 0.6013181805610657, 0.6029545664787292, 0.6076818108558655, 0.6103181838989258, 0.6110000014305115, 0.6152727007865906, 0.609181821346283, 0.6156818270683289, 0.614545464515686, 0.6160454750061035, 0.6165909171104431, 0.6165909171104431, 0.6150000095367432, 0.6174545288085938, 0.6152272820472717, 0.6179090738296509, 0.6180909276008606, 0.6175454258918762, 0.6176818013191223, 0.6173636317253113]}\n"
     ]
    }
   ],
   "source": [
    "print(h.history)\n",
    "# for var in model.weights:\n",
    "#     print(var.name)\n",
    "#     print(f\"Less than 1e-10 : {np.sum(var.numpy() < 1e-10)} / {var.numpy().size}\")\n",
    "#     print(f\"Nans : {np.sum(np.isnan(var.numpy()))} / {var.numpy().size}\")"
   ]
  },
  {
   "attachments": {},
   "cell_type": "markdown",
   "metadata": {},
   "source": []
  },
  {
   "cell_type": "code",
   "execution_count": 190,
   "metadata": {},
   "outputs": [
    {
     "data": {
      "image/png": "[encoded data removed]",
      "text/plain": [
       "<Figure size 800x800 with 2 Axes>"
      ]
     },
     "metadata": {},
     "output_type": "display_data"
    }
   ],
   "source": [
    "import matplotlib.pyplot as plt\n",
    "\n",
    "acc = h.history['accuracy']\n",
    "val_acc = h.history['val_accuracy']\n",
    "loss = h.history['loss']\n",
    "val_loss = h.history['val_loss']\n",
    "\n",
    "epochs_range = range(N_EPOCHS)\n",
    "plt.figure(figsize=(8, 8))\n",
    "plt.subplot(2, 1, 1)\n",
    "plt.plot(epochs_range, acc, label='Training Accuracy')\n",
    "plt.plot(epochs_range, val_acc, label='Validation Accuracy')\n",
    "plt.legend(loc='lower right')\n",
    "plt.title('Training and Validation Accuracy')\n",
    "plt.subplot(2, 1, 2)\n",
    "\n",
    "plt.plot(epochs_range, loss, label='Training Loss')\n",
    "plt.plot(epochs_range, val_loss, label='Validation Loss')\n",
    "plt.legend(loc='upper right')\n",
    "plt.title('Training and Validation Loss')\n",
    "plt.show()\n",
    "\n"
   ]
  },
  {
   "cell_type": "code",
   "execution_count": 191,
   "metadata": {},
   "outputs": [],
   "source": [
    "def evaluate_model(model, data, labels, verbose=True):\n",
    "    preds = model.predict(data)\n",
    "    pred_labels = np.argmax(preds, axis=1)\n",
    "\n",
    "    cls_to_acc = {\"Overall\": accuracy_score(labels, pred_labels)}\n",
    "    print(f\"Overall test accuracy: {cls_to_acc}\")\n",
    "    for ci, cl in enumerate(modulations):\n",
    "        class_indecies = np.where(labels == ci)[0]\n",
    "        cur_true_labels = labels[class_indecies]\n",
    "        cur_pred_labels = pred_labels[class_indecies]\n",
    "        cls_to_acc[cl] = accuracy_score(cur_true_labels, cur_pred_labels)\n",
    "        verbose and print(f\"{cl} test accuracy: {cls_to_acc[cl]}\")\n",
    "    cm = confusion_matrix(y_true=labels, y_pred=pred_labels)\n",
    "    verbose and print(cm)\n",
    "    df_cm = pd.DataFrame(cm, index = modulations,\n",
    "                    columns = modulations)\n",
    "    if verbose:\n",
    "        plt.figure(figsize = (10,7))\n",
    "        sn.heatmap(df_cm, annot=True)\n",
    "    return cm, cls_to_acc\n"
   ]
  },
  {
   "cell_type": "code",
   "execution_count": 192,
   "metadata": {},
   "outputs": [
    {
     "name": "stdout",
     "output_type": "stream",
     "text": [
      "688/688 [==============================] - 7s 10ms/step\n",
      "Overall test accuracy: {'Overall': 0.6158636363636364}\n",
      "AM-SSB test accuracy: 0.9133501259445844\n",
      "CPFSK test accuracy: 0.6149974836436839\n",
      "QAM16 test accuracy: 0.6202039825157843\n",
      "QPSK test accuracy: 0.564076170869789\n",
      "AM-DSB test accuracy: 0.7050395256916996\n",
      "QAM64 test accuracy: 0.5769421078673924\n",
      "WBFM test accuracy: 0.27313432835820894\n",
      "GFSK test accuracy: 0.6721393034825871\n",
      "PAM4 test accuracy: 0.7214611872146118\n",
      "BPSK test accuracy: 0.5807106598984771\n",
      "8PSK test accuracy: 0.5356435643564357\n",
      "[[1813   21    3   10   37   14    2   33   31   13    8]\n",
      " [ 571 1222   24   16   18   15    6   63   22   10   20]\n",
      " [ 407   42 1277   28   13  177    3   15   24   10   63]\n",
      " [ 552   39   43 1096   12   45    7   31   31   11   76]\n",
      " [ 421   11    1    2 1427    5  114   30    6    5    2]\n",
      " [ 244   36  408   27    9 1166    3   19   31   19   59]\n",
      " [ 434    9    4    6  904    3  549   85   11    4    1]\n",
      " [ 517   28    6   13   28   11   28 1351   18    5    5]\n",
      " [ 440   15    7    8   10    7    1   21 1422   35    5]\n",
      " [ 578   12    9   13   11   15    4   27  139 1144   18]\n",
      " [ 583   43   97   63   23   54    5   27   33   10 1082]]\n"
     ]
    },
    {
     "data": {
      "image/png": "[encoded data removed]",
      "text/plain": [
       "<Figure size 1000x700 with 2 Axes>"
      ]
     },
     "metadata": {},
     "output_type": "display_data"
    }
   ],
   "source": [
    "cm, cls_to_acc = evaluate_model(model, validation_data, validation_labels)"
   ]
  },
  {
   "cell_type": "code",
   "execution_count": 193,
   "metadata": {},
   "outputs": [],
   "source": [
    "import pickle\n",
    "# evaluate by snr radioml\n",
    "def get_snrs(indecies, to_1024=False, minimum_snr=-100):\n",
    "    with open(TRAIN_DATA_DIR, 'rb') as crmrn_file:\n",
    "        raw_ds = pickle.load(crmrn_file, encoding=\"bytes\")\n",
    "    decoded_raw_ds = {}\n",
    "    for (class_name_bytes, snr), raw_data in raw_ds.items():\n",
    "        if snr < minimum_snr:\n",
    "            continue\n",
    "        decoded_raw_ds[(class_name_bytes.decode(\"utf-8\"), snr)] = raw_data\n",
    "    raw_ds = decoded_raw_ds\n",
    "\n",
    "    samples_per_snr_per_modulation = raw_ds[list(raw_ds.keys())[0]].shape[0] # 1000\n",
    "    snrs_sequence = [k[1] for k in raw_ds.keys()]\n",
    "    result = []\n",
    "    snrs = [snrs_sequence[idx // samples_per_snr_per_modulation] for idx in indecies]\n",
    "    return np.array(snrs)\n",
    "\n",
    "\n",
    "\n",
    "snrs = get_snrs(validation_indecies, False)"
   ]
  },
  {
   "cell_type": "code",
   "execution_count": 194,
   "metadata": {},
   "outputs": [
    {
     "name": "stdout",
     "output_type": "stream",
     "text": [
      "-20 18\n",
      "<class 'numpy.ndarray'>\n"
     ]
    }
   ],
   "source": [
    "print(min(snrs), max(snrs))\n",
    "print(type(snrs))"
   ]
  },
  {
   "cell_type": "code",
   "execution_count": 195,
   "metadata": {},
   "outputs": [
    {
     "name": "stdout",
     "output_type": "stream",
     "text": [
      "snr=-20\n",
      "Overall test accuracy: 0.09870848708487084\n",
      "snr=-18\n",
      "Overall test accuracy: 0.10056390977443609\n",
      "snr=-16\n",
      "Overall test accuracy: 0.09347442680776014\n",
      "snr=-14\n",
      "Overall test accuracy: 0.15967153284671534\n",
      "snr=-12\n",
      "Overall test accuracy: 0.1364877161055505\n",
      "snr=-10\n",
      "Overall test accuracy: 0.26497277676951\n",
      "snr=-8\n",
      "Overall test accuracy: 0.39874551971326166\n",
      "snr=-6\n",
      "Overall test accuracy: 0.5564892623716153\n",
      "snr=-4\n",
      "Overall test accuracy: 0.6713091922005571\n",
      "snr=-2\n",
      "Overall test accuracy: 0.7998244073748902\n",
      "snr=0\n",
      "Overall test accuracy: 0.8513388734995383\n",
      "snr=2\n",
      "Overall test accuracy: 0.8888888888888888\n",
      "snr=4\n",
      "Overall test accuracy: 0.9065743944636678\n",
      "snr=6\n",
      "Overall test accuracy: 0.902283105022831\n",
      "snr=8\n",
      "Overall test accuracy: 0.9044585987261147\n",
      "snr=10\n",
      "Overall test accuracy: 0.9103568320278503\n",
      "snr=12\n",
      "Overall test accuracy: 0.9121683440073193\n",
      "snr=14\n",
      "Overall test accuracy: 0.9105461393596986\n",
      "snr=16\n",
      "Overall test accuracy: 0.9144736842105263\n",
      "snr=18\n",
      "Overall test accuracy: 0.9202127659574468\n"
     ]
    }
   ],
   "source": [
    "def get_snr_to_acc(model, data, labels, snrs, verbose=True):\n",
    "    snr_to_acc = {}\n",
    "    for snr in range(min(snrs), max(snrs)+2, 2):\n",
    "        cur_indecies = np.where(snrs == snr)[0]\n",
    "        cur_data = data[cur_indecies]\n",
    "        cur_labels = labels[cur_indecies]\n",
    "        # print(snr)\n",
    "        # print(cur_indecies)\n",
    "        # print(cur_data)\n",
    "        cur_pred = model.predict(cur_data, verbose=0)\n",
    "\n",
    "        cur_pred_labels = np.argmax(cur_pred, axis=1)\n",
    "        verbose and print(f\"snr={snr}\")\n",
    "        acc = accuracy_score(cur_labels, cur_pred_labels)\n",
    "        verbose and print(f\"Overall test accuracy: {acc}\")\n",
    "        snr_to_acc[snr] = acc\n",
    "    return snr_to_acc\n",
    "\n",
    "snr_to_acc = get_snr_to_acc(model, validation_data, validation_labels, snrs)\n"
   ]
  },
  {
   "cell_type": "code",
   "execution_count": 196,
   "metadata": {},
   "outputs": [
    {
     "name": "stdout",
     "output_type": "stream",
     "text": [
      "688/688 [==============================] - 7s 10ms/step\n",
      "Overall test accuracy: {'Overall': 0.6175454545454545}\n"
     ]
    }
   ],
   "source": [
    "cm, cls_to_acc = evaluate_model(model, validation_data, validation_labels, verbose=False)\n",
    "snrs = get_snrs(validation_indecies, False)\n",
    "snr_to_acc = get_snr_to_acc(model, validation_data, validation_labels, snrs, verbose=False)\n",
    "\n",
    "\n",
    "# cm, cls_to_acc = evaluate_model(model, test_data, test_labels, verbose=False)\n",
    "# snrs = get_snrs(test_indecies, False)\n",
    "# snr_to_acc = get_snr_to_acc(model, test_data, test_labels, snrs, verbose=False)"
   ]
  },
  {
   "cell_type": "code",
   "execution_count": 197,
   "metadata": {},
   "outputs": [
    {
     "name": "stdout",
     "output_type": "stream",
     "text": [
      "Warm up\n",
      "688/688 [==============================] - 7s 10ms/step\n",
      "688/688 [==============================] - 7s 10ms/step\n",
      "Inference time: 0.30402373183857306ms\n"
     ]
    }
   ],
   "source": [
    "import time\n",
    "from tqdm import trange\n",
    "print(\"Warm up\")\n",
    "model.predict(validation_data)\n",
    "start_time=time.time()\n",
    "model.predict(validation_data)\n",
    "end_time=time.time()\n",
    "duration= (end_time-start_time) / (validation_data.shape[0])\n",
    "print(f\"Inference time: {duration * 1000}ms\")"
   ]
  },
  {
   "cell_type": "code",
   "execution_count": 198,
   "metadata": {},
   "outputs": [
    {
     "name": "stdout",
     "output_type": "stream",
     "text": [
      "Training data: \n",
      "{'accuracy': [0.3386022746562958,\n",
      "              0.512374997138977,\n",
      "              0.5374943017959595,\n",
      "              0.5453749895095825,\n",
      "              0.5559147596359253,\n",
      "              0.5661761164665222,\n",
      "              0.5749034285545349,\n",
      "              0.5791193246841431,\n",
      "              0.5845738649368286,\n",
      "              0.5871193408966064,\n",
      "              0.5901079773902893,\n",
      "              0.5936193466186523,\n",
      "              0.5948636531829834,\n",
      "              0.5997727513313293,\n",
      "              0.6002897620201111,\n",
      "              0.6025113463401794,\n",
      "              0.6037556529045105,\n",
      "              0.6056761145591736,\n",
      "              0.6076818108558655,\n",
      "              0.6103067994117737,\n",
      "              0.609857976436615,\n",
      "              0.6111136078834534,\n",
      "              0.6126306653022766,\n",
      "              0.6136136651039124,\n",
      "              0.6148750185966492,\n",
      "              0.6162897944450378,\n",
      "              0.6171875,\n",
      "              0.6184090971946716,\n",
      "              0.6188409328460693,\n",
      "              0.6199886202812195,\n",
      "              0.6202216148376465,\n",
      "              0.6218408942222595,\n",
      "              0.6225113868713379,\n",
      "              0.6233011484146118,\n",
      "              0.6239091157913208,\n",
      "              0.6236363649368286,\n",
      "              0.6252954602241516,\n",
      "              0.6258352398872375,\n",
      "              0.6260908842086792,\n",
      "              0.6282954812049866],\n",
      " 'loss': [1.747024655342102,\n",
      "          1.2723469734191895,\n",
      "          1.21194589138031,\n",
      "          1.1913683414459229,\n",
      "          1.1709294319152832,\n",
      "          1.1563570499420166,\n",
      "          1.1420944929122925,\n",
      "          1.1360424757003784,\n",
      "          1.1264444589614868,\n",
      "          1.1217759847640991,\n",
      "          1.1115484237670898,\n",
      "          1.1049578189849854,\n",
      "          1.1012767553329468,\n",
      "          1.092399001121521,\n",
      "          1.0888936519622803,\n",
      "          1.0836673974990845,\n",
      "          1.081734538078308,\n",
      "          1.0776197910308838,\n",
      "          1.0733693838119507,\n",
      "          1.0679707527160645,\n",
      "          1.0676524639129639,\n",
      "          1.0636589527130127,\n",
      "          1.061334252357483,\n",
      "          1.0585302114486694,\n",
      "          1.0557136535644531,\n",
      "          1.0525999069213867,\n",
      "          1.0515944957733154,\n",
      "          1.0483644008636475,\n",
      "          1.04806387424469,\n",
      "          1.0432466268539429,\n",
      "          1.0431462526321411,\n",
      "          1.0402886867523193,\n",
      "          1.038401484489441,\n",
      "          1.0374374389648438,\n",
      "          1.034745216369629,\n",
      "          1.0340631008148193,\n",
      "          1.033414363861084,\n",
      "          1.0312145948410034,\n",
      "          1.0284979343414307,\n",
      "          1.0258198976516724],\n",
      " 'val_accuracy': [0.48140910267829895,\n",
      "                  0.5254545211791992,\n",
      "                  0.5437727570533752,\n",
      "                  0.5491818189620972,\n",
      "                  0.562818169593811,\n",
      "                  0.5728636384010315,\n",
      "                  0.5758636593818665,\n",
      "                  0.5834545493125916,\n",
      "                  0.5822272896766663,\n",
      "                  0.5929545164108276,\n",
      "                  0.5942727327346802,\n",
      "                  0.5919091105461121,\n",
      "                  0.6008636355400085,\n",
      "                  0.6014090776443481,\n",
      "                  0.5844091176986694,\n",
      "                  0.6034091114997864,\n",
      "                  0.6050000190734863,\n",
      "                  0.5980908870697021,\n",
      "                  0.6078636646270752,\n",
      "                  0.6119999885559082,\n",
      "                  0.6013181805610657,\n",
      "                  0.6029545664787292,\n",
      "                  0.6076818108558655,\n",
      "                  0.6103181838989258,\n",
      "                  0.6110000014305115,\n",
      "                  0.6152727007865906,\n",
      "                  0.609181821346283,\n",
      "                  0.6156818270683289,\n",
      "                  0.614545464515686,\n",
      "                  0.6160454750061035,\n",
      "                  0.6165909171104431,\n",
      "                  0.6165909171104431,\n",
      "                  0.6150000095367432,\n",
      "                  0.6174545288085938,\n",
      "                  0.6152272820472717,\n",
      "                  0.6179090738296509,\n",
      "                  0.6180909276008606,\n",
      "                  0.6175454258918762,\n",
      "                  0.6176818013191223,\n",
      "                  0.6173636317253113],\n",
      " 'val_loss': [1.3317852020263672,\n",
      "              1.2412465810775757,\n",
      "              1.1977370977401733,\n",
      "              1.1846433877944946,\n",
      "              1.1606956720352173,\n",
      "              1.1527273654937744,\n",
      "              1.1354435682296753,\n",
      "              1.133577823638916,\n",
      "              1.1328418254852295,\n",
      "              1.1122487783432007,\n",
      "              1.110086441040039,\n",
      "              1.115876317024231,\n",
      "              1.0915910005569458,\n",
      "              1.095887303352356,\n",
      "              1.1210204362869263,\n",
      "              1.0871779918670654,\n",
      "              1.0802290439605713,\n",
      "              1.0955580472946167,\n",
      "              1.0757111310958862,\n",
      "              1.0738956928253174,\n",
      "              1.0907633304595947,\n",
      "              1.0816991329193115,\n",
      "              1.076358675956726,\n",
      "              1.070153832435608,\n",
      "              1.0722588300704956,\n",
      "              1.059859275817871,\n",
      "              1.0698950290679932,\n",
      "              1.060268759727478,\n",
      "              1.0633724927902222,\n",
      "              1.0572872161865234,\n",
      "              1.0562602281570435,\n",
      "              1.0599538087844849,\n",
      "              1.0672047138214111,\n",
      "              1.0532729625701904,\n",
      "              1.0689888000488281,\n",
      "              1.0582268238067627,\n",
      "              1.060172200202942,\n",
      "              1.0578479766845703,\n",
      "              1.0647436380386353,\n",
      "              1.0628968477249146]}\n"
     ]
    }
   ],
   "source": [
    "from pprint import pprint\n",
    "print(\"Training data: \")\n",
    "pprint(h.history)"
   ]
  },
  {
   "cell_type": "code",
   "execution_count": 199,
   "metadata": {},
   "outputs": [
    {
     "name": "stdout",
     "output_type": "stream",
     "text": [
      "\n",
      "Confusion matrix: \n",
      "[[1819   25    3   14   32   10    1   29   32   13    7]\n",
      " [ 572 1224   22   18   16   20    7   61   19   10   18]\n",
      " [ 403   39 1274   29   12  179    2   20   27    8   66]\n",
      " [ 542   44   41 1111    9   38    6   33   32   14   73]\n",
      " [ 421   13    0    5 1442    4  100   30    3    4    2]\n",
      " [ 254   33  395   32   11 1180    0   15   37   13   51]\n",
      " [ 428    6    4    8  928    1  539   72   13    7    4]\n",
      " [ 526   25    6   12   29   12   27 1347   17    6    3]\n",
      " [ 440   14    3    6    9   12    1   26 1415   39    6]\n",
      " [ 572   21    9   15   11   17    3   25  133 1148   16]\n",
      " [ 587   39   92   71   22   39    5   28   35   15 1087]]\n",
      "\n",
      "Overall accuracy: \n",
      "{'8PSK': 0.5381188118811882,\n",
      " 'AM-DSB': 0.7124505928853755,\n",
      " 'AM-SSB': 0.9163727959697733,\n",
      " 'BPSK': 0.582741116751269,\n",
      " 'CPFSK': 0.6160040261701056,\n",
      " 'GFSK': 0.6701492537313433,\n",
      " 'Overall': 0.6175454545454545,\n",
      " 'PAM4': 0.7179096905124303,\n",
      " 'QAM16': 0.6187469645458961,\n",
      " 'QAM64': 0.5838693715982187,\n",
      " 'QPSK': 0.5717961914565105,\n",
      " 'WBFM': 0.2681592039800995}\n",
      "\n",
      "SNR to acc:\n",
      "{-20: 0.09686346863468635,\n",
      " -18: 0.09774436090225563,\n",
      " -16: 0.09700176366843033,\n",
      " -14: 0.16058394160583941,\n",
      " -12: 0.14467697907188354,\n",
      " -10: 0.2631578947368421,\n",
      " -8: 0.3960573476702509,\n",
      " -6: 0.5443510737628384,\n",
      " -4: 0.6880222841225627,\n",
      " -2: 0.7998244073748902,\n",
      " 0: 0.8568790397045245,\n",
      " 2: 0.8888888888888888,\n",
      " 4: 0.8979238754325259,\n",
      " 6: 0.8885844748858448,\n",
      " 8: 0.902638762511374,\n",
      " 10: 0.906875543951262,\n",
      " 12: 0.9149130832570905,\n",
      " 14: 0.9133709981167608,\n",
      " 16: 0.9116541353383458,\n",
      " 18: 0.9193262411347518}\n",
      "\n",
      "Inference time (GPU): \n",
      "0.30402373183857306ms\n"
     ]
    }
   ],
   "source": [
    "print(\"\\nConfusion matrix: \")\n",
    "print(cm)\n",
    "print(\"\\nOverall accuracy: \")\n",
    "pprint(cls_to_acc)\n",
    "print(\"\\nSNR to acc:\")\n",
    "pprint(snr_to_acc)\n",
    "print(\"\\nInference time (GPU): \")\n",
    "print(f\"{duration * 1000}ms\")"
   ]
  },
  {
   "cell_type": "code",
   "execution_count": 153,
   "metadata": {},
   "outputs": [
    {
     "name": "stderr",
     "output_type": "stream",
     "text": [
      "2023-05-02 19:24:40.549752: I tensorflow/core/common_runtime/executor.cc:1197] [/device:CPU:0] (DEBUG INFO) Executor start aborting (this does not indicate an error and you can ignore this message): INVALID_ARGUMENT: You must feed a value for placeholder tensor 'inp' with dtype float and shape [?,128,32]\n",
      "\t [[{{node inp}}]]\n",
      "2023-05-02 19:24:40.588525: I tensorflow/core/common_runtime/executor.cc:1197] [/device:CPU:0] (DEBUG INFO) Executor start aborting (this does not indicate an error and you can ignore this message): INVALID_ARGUMENT: You must feed a value for placeholder tensor 'inp' with dtype float and shape [?,128,32]\n",
      "\t [[{{node inp}}]]\n",
      "2023-05-02 19:24:41.820777: I tensorflow/core/common_runtime/executor.cc:1197] [/device:CPU:0] (DEBUG INFO) Executor start aborting (this does not indicate an error and you can ignore this message): INVALID_ARGUMENT: You must feed a value for placeholder tensor 'inp' with dtype float and shape [?,128,32]\n",
      "\t [[{{node inp}}]]\n",
      "2023-05-02 19:24:41.851611: I tensorflow/core/common_runtime/executor.cc:1197] [/device:CPU:0] (DEBUG INFO) Executor start aborting (this does not indicate an error and you can ignore this message): INVALID_ARGUMENT: You must feed a value for placeholder tensor 'inp' with dtype float and shape [?,128,32]\n",
      "\t [[{{node inp}}]]\n",
      "WARNING:absl:Found untraced functions such as _jit_compiled_convolution_op, dropout_67_layer_call_fn, dropout_67_layer_call_and_return_conditional_losses, encoder_layer_30_layer_call_fn, encoder_layer_30_layer_call_and_return_conditional_losses while saving (showing 5 of 139). These functions will not be directly callable after loading.\n"
     ]
    },
    {
     "name": "stdout",
     "output_type": "stream",
     "text": [
      "INFO:tensorflow:Assets written to: models_encoder_small_1_radio_ml_17_e40_adamw/model/assets\n"
     ]
    },
    {
     "name": "stderr",
     "output_type": "stream",
     "text": [
      "INFO:tensorflow:Assets written to: models_encoder_small_1_radio_ml_17_e40_adamw/model/assets\n",
      "WARNING:absl:<__main__.MultiHeadAttention object at 0x7ff9a4184100> has the same name 'MultiHeadAttention' as a built-in Keras object. Consider renaming <class '__main__.MultiHeadAttention'> to avoid naming conflicts when loading with `tf.keras.models.load_model`. If renaming is not possible, pass the object in the `custom_objects` parameter of the load function.\n",
      "WARNING:absl:<__main__.MultiHeadAttention object at 0x7ff8b44ecac0> has the same name 'MultiHeadAttention' as a built-in Keras object. Consider renaming <class '__main__.MultiHeadAttention'> to avoid naming conflicts when loading with `tf.keras.models.load_model`. If renaming is not possible, pass the object in the `custom_objects` parameter of the load function.\n",
      "WARNING:absl:<__main__.MultiHeadAttention object at 0x7ff71034f1f0> has the same name 'MultiHeadAttention' as a built-in Keras object. Consider renaming <class '__main__.MultiHeadAttention'> to avoid naming conflicts when loading with `tf.keras.models.load_model`. If renaming is not possible, pass the object in the `custom_objects` parameter of the load function.\n",
      "WARNING:absl:<__main__.MultiHeadAttention object at 0x7ff7103ae4c0> has the same name 'MultiHeadAttention' as a built-in Keras object. Consider renaming <class '__main__.MultiHeadAttention'> to avoid naming conflicts when loading with `tf.keras.models.load_model`. If renaming is not possible, pass the object in the `custom_objects` parameter of the load function.\n"
     ]
    }
   ],
   "source": [
    "model_name = \"encoder_middle_1_radio_ml_17_e40_adam_\"\n",
    "MODELS_DIR = f'models_{model_name}/'\n",
    "if not os.path.exists(MODELS_DIR):\n",
    "    os.mkdir(MODELS_DIR)\n",
    "\n",
    "MODEL_TF = MODELS_DIR + 'model'\n",
    "model.save(MODEL_TF)\n",
    "# np.save(MODELS_DIR + \"validation_data.npy\", validation_data)\n",
    "# np.save(MODELS_DIR + \"validation_labels.npy\", validation_labels)\n",
    "# np.save(MODELS_DIR + \"test_data.npy\", test_data)\n",
    "# np.save(MODELS_DIR + \"test_labels.npy\", test_labels)"
   ]
  },
  {
   "cell_type": "code",
   "execution_count": 83,
   "metadata": {},
   "outputs": [
    {
     "name": "stderr",
     "output_type": "stream",
     "text": [
      "2023-05-01 14:07:49.275998: I tensorflow/core/common_runtime/executor.cc:1197] [/device:CPU:0] (DEBUG INFO) Executor start aborting (this does not indicate an error and you can ignore this message): INVALID_ARGUMENT: You must feed a value for placeholder tensor 'inp' with dtype float and shape [?,128,32]\n",
      "\t [[{{node inp}}]]\n",
      "2023-05-01 14:07:49.299898: I tensorflow/core/common_runtime/executor.cc:1197] [/device:CPU:0] (DEBUG INFO) Executor start aborting (this does not indicate an error and you can ignore this message): INVALID_ARGUMENT: You must feed a value for placeholder tensor 'Placeholder' with dtype float and shape [?,128,32]\n",
      "\t [[{{node Placeholder}}]]\n"
     ]
    }
   ],
   "source": [
    "# model_name = \"encoder_small_1_radio_ml_k65_e24\"\n",
    "# MODELS_DIR = f'models_{model_name}/'\n",
    "# MODEL_TF = MODELS_DIR + 'model'\n",
    "# model = tf.keras.models.load_model(MODEL_TF)"
   ]
  },
  {
   "cell_type": "code",
   "execution_count": 148,
   "metadata": {},
   "outputs": [],
   "source": [
    "# evaluate by snr mixed\n",
    "# snrs = list(range(0, 30))\n",
    "# def snr_by_idx(idx):\n",
    "#     snr_idx = (idx % 30000) // 1000\n",
    "#     return snrs[snr_idx]\n"
   ]
  },
  {
   "cell_type": "code",
   "execution_count": 149,
   "metadata": {},
   "outputs": [],
   "source": [
    "# print(test_indecies[:40])\n",
    "# test_snrs = np.array([snr_by_idx(idx) for idx in test_indecies])\n",
    "# print(test_snrs[:40])\n",
    "# print(test_indecies.shape)"
   ]
  },
  {
   "cell_type": "code",
   "execution_count": 150,
   "metadata": {},
   "outputs": [],
   "source": [
    "# snr_to_acc = {}\n",
    "# for snr in range(0, 30):\n",
    "#     cur_test_indecies = np.where(test_snrs == snr)[0]\n",
    "#     cur_test_data = test_data[cur_test_indecies]\n",
    "#     cur_test_labels = test_labels[cur_test_indecies]\n",
    "#     cur_pred = model.predict(cur_test_data, verbose=0)\n",
    "\n",
    "#     cur_pred_labels = np.argmax(cur_pred, axis=1)\n",
    "#     print(f\"snr={snr}\")\n",
    "#     acc = accuracy_score(cur_test_labels, cur_pred_labels)\n",
    "#     print(f\"Overall test accuracy: {acc}\")\n",
    "#     snr_to_acc[snr] = acc\n"
   ]
  },
  {
   "cell_type": "code",
   "execution_count": 173,
   "metadata": {},
   "outputs": [
    {
     "data": {
      "text/plain": [
       "(0.0, 1.0)"
      ]
     },
     "execution_count": 173,
     "metadata": {},
     "output_type": "execute_result"
    },
    {
     "data": {
      "image/png": "[encoded data removed]",
      "text/plain": [
       "<Figure size 640x480 with 1 Axes>"
      ]
     },
     "metadata": {},
     "output_type": "display_data"
    }
   ],
   "source": [
    "plt.plot(list(snr_to_acc.keys()), list(snr_to_acc.values()))\n",
    "plt.ylim([0, 1])"
   ]
  },
  {
   "cell_type": "code",
   "execution_count": 33,
   "metadata": {},
   "outputs": [],
   "source": [
    "# plt.plot([0, 5, 10, 15, 20, 25, 30], [0.49772727272727274 ,0.6522727272727272, 0.7654545454545455, 0.8245454545454546, 0.8581818181818182, 0.86, 0.8686363636363637])\n",
    "# plt.ylim([0, 1])"
   ]
  },
  {
   "attachments": {},
   "cell_type": "markdown",
   "metadata": {},
   "source": [
    "### Mode deployment"
   ]
  },
  {
   "cell_type": "code",
   "execution_count": 28,
   "metadata": {},
   "outputs": [
    {
     "name": "stderr",
     "output_type": "stream",
     "text": [
      "WARNING:absl:Found untraced functions such as _jit_compiled_convolution_op, _jit_compiled_convolution_op, _jit_compiled_convolution_op, _jit_compiled_convolution_op, _jit_compiled_convolution_op while saving (showing 5 of 6). These functions will not be directly callable after loading.\n"
     ]
    },
    {
     "name": "stdout",
     "output_type": "stream",
     "text": [
      "INFO:tensorflow:Assets written to: models_simc_4_radioml_cnn/model/assets\n"
     ]
    },
    {
     "name": "stderr",
     "output_type": "stream",
     "text": [
      "INFO:tensorflow:Assets written to: models_simc_4_radioml_cnn/model/assets\n"
     ]
    }
   ],
   "source": [
    "model.save(MODEL_TF)"
   ]
  },
  {
   "cell_type": "code",
   "execution_count": 222,
   "metadata": {},
   "outputs": [
    {
     "name": "stderr",
     "output_type": "stream",
     "text": [
      "2023-04-30 17:40:12.569214: W tensorflow/compiler/mlir/lite/python/tf_tfl_flatbuffer_helpers.cc:364] Ignored output_format.\n",
      "2023-04-30 17:40:12.569244: W tensorflow/compiler/mlir/lite/python/tf_tfl_flatbuffer_helpers.cc:367] Ignored drop_control_dependency.\n",
      "2023-04-30 17:40:12.569800: I tensorflow/cc/saved_model/reader.cc:45] Reading SavedModel from: models_simc_4_radioml/model\n",
      "2023-04-30 17:40:12.578442: I tensorflow/cc/saved_model/reader.cc:89] Reading meta graph with tags { serve }\n",
      "2023-04-30 17:40:12.578461: I tensorflow/cc/saved_model/reader.cc:130] Reading SavedModel debug info (if present) from: models_simc_4_radioml/model\n",
      "2023-04-30 17:40:12.609636: I tensorflow/compiler/mlir/mlir_graph_optimization_pass.cc:353] MLIR V1 optimization pass is not enabled\n",
      "2023-04-30 17:40:12.617302: I tensorflow/cc/saved_model/loader.cc:231] Restoring SavedModel bundle.\n",
      "2023-04-30 17:40:12.832090: I tensorflow/cc/saved_model/loader.cc:215] Running initialization op on SavedModel bundle at path: models_simc_4_radioml/model\n",
      "2023-04-30 17:40:12.901213: I tensorflow/cc/saved_model/loader.cc:314] SavedModel load for tags { serve }; Status: success: OK. Took 331413 microseconds.\n"
     ]
    },
    {
     "data": {
      "text/plain": [
       "417112"
      ]
     },
     "execution_count": 222,
     "metadata": {},
     "output_type": "execute_result"
    }
   ],
   "source": [
    "# reload_module(\"tools.deployment_tools\")\n",
    "from tools.deployment_tools import to_tf_lite\n",
    "model_no_quant_tflite = to_tf_lite(MODEL_TF)\n",
    "open(MODEL_NO_QUANT_TFLITE, \"wb\").write(model_no_quant_tflite)"
   ]
  },
  {
   "cell_type": "code",
   "execution_count": 223,
   "metadata": {},
   "outputs": [],
   "source": [
    "# reload_module(\"tools.deployment_tools\")\n",
    "# from tools.deployment_tools import deploy_model_tflite\n",
    "\n",
    "# deploy_model_tflite(\n",
    "#     model_no_quant_tflite,\n",
    "#     # test_data.reshape((-1, 1, 1, 1024, 2)),\n",
    "#     test_data,\n",
    "#     test_labels, \n",
    "#     model_name=model_name,\n",
    "#     classes=modulations,\n",
    "#     create_cfu_playground_proj=True,\n",
    "# )"
   ]
  },
  {
   "attachments": {},
   "cell_type": "markdown",
   "metadata": {},
   "source": [
    "## Quantization\n",
    "Let's quantize model, and check accuracy"
   ]
  },
  {
   "cell_type": "code",
   "execution_count": 225,
   "metadata": {},
   "outputs": [
    {
     "name": "stdout",
     "output_type": "stream",
     "text": [
      "float32\n",
      "(2000, 128, 2)\n"
     ]
    },
    {
     "name": "stderr",
     "output_type": "stream",
     "text": [
      "2023-04-30 17:41:01.392735: W tensorflow/compiler/mlir/lite/python/tf_tfl_flatbuffer_helpers.cc:364] Ignored output_format.\n",
      "2023-04-30 17:41:01.392761: W tensorflow/compiler/mlir/lite/python/tf_tfl_flatbuffer_helpers.cc:367] Ignored drop_control_dependency.\n",
      "2023-04-30 17:41:01.392928: I tensorflow/cc/saved_model/reader.cc:45] Reading SavedModel from: models_simc_4_radioml/model\n",
      "2023-04-30 17:41:01.402209: I tensorflow/cc/saved_model/reader.cc:89] Reading meta graph with tags { serve }\n",
      "2023-04-30 17:41:01.402234: I tensorflow/cc/saved_model/reader.cc:130] Reading SavedModel debug info (if present) from: models_simc_4_radioml/model\n",
      "2023-04-30 17:41:01.437791: I tensorflow/cc/saved_model/loader.cc:231] Restoring SavedModel bundle.\n",
      "2023-04-30 17:41:01.640757: I tensorflow/cc/saved_model/loader.cc:215] Running initialization op on SavedModel bundle at path: models_simc_4_radioml/model\n",
      "2023-04-30 17:41:01.710369: I tensorflow/cc/saved_model/loader.cc:314] SavedModel load for tags { serve }; Status: success: OK. Took 317440 microseconds.\n",
      "fully_quantize: 0, inference_type: 6, input_inference_type: INT8, output_inference_type: INT8\n"
     ]
    },
    {
     "data": {
      "text/plain": [
       "217672"
      ]
     },
     "execution_count": 225,
     "metadata": {},
     "output_type": "execute_result"
    }
   ],
   "source": [
    "# reload_module(\"tools.deployment_tools\")\n",
    "from tools.deployment_tools import to_tf_lite\n",
    "\n",
    "representative_ds = train_data[:2000].astype(np.float32)\n",
    "print(representative_ds.dtype)\n",
    "print(representative_ds.shape)\n",
    "model_tflite = to_tf_lite(MODEL_TF, representative_ds=representative_ds, apply_quantization=True)\n",
    "open(MODEL_TFLITE, \"wb\").write(model_tflite)"
   ]
  },
  {
   "cell_type": "code",
   "execution_count": 226,
   "metadata": {},
   "outputs": [
    {
     "name": "stderr",
     "output_type": "stream",
     "text": [
      "INFO: Created TensorFlow Lite XNNPACK delegate for CPU.\n"
     ]
    }
   ],
   "source": [
    "from tools.deployment_tools import predict_tflite\n",
    "\n",
    "test_preds_quant = np.squeeze(predict_tflite(model_tflite, test_data))"
   ]
  },
  {
   "cell_type": "code",
   "execution_count": 227,
   "metadata": {},
   "outputs": [
    {
     "name": "stdout",
     "output_type": "stream",
     "text": [
      "[ 3  9  4  9  9 10 10  9  1  3]\n",
      "[ 5  9  4  3 10  5 10  9  8  5]\n"
     ]
    }
   ],
   "source": [
    "pred_labels_quant = np.argmax(test_preds_quant, axis=1)\n",
    "print(pred_labels_quant[:10])\n",
    "print(test_labels[:10])"
   ]
  },
  {
   "cell_type": "code",
   "execution_count": 228,
   "metadata": {},
   "outputs": [
    {
     "name": "stdout",
     "output_type": "stream",
     "text": [
      "Overall test accuracy: 0.5743181818181818\n",
      "BPSK test accuracy: 0.6071956628881222\n",
      "GFSK test accuracy: 0.6669898206495395\n",
      "CPFSK test accuracy: 0.6033057851239669\n",
      "QAM64 test accuracy: 0.6403336604514229\n",
      "AM-DSB test accuracy: 0.6809933142311366\n",
      "QAM16 test accuracy: 0.19583333333333333\n",
      "PAM4 test accuracy: 0.6983723296032553\n",
      "8PSK test accuracy: 0.5196770938446014\n",
      "WBFM test accuracy: 0.269482151835093\n",
      "AM-SSB test accuracy: 0.8941772151898734\n",
      "QPSK test accuracy: 0.521414342629482\n"
     ]
    },
    {
     "data": {
      "text/plain": [
       "<Axes: >"
      ]
     },
     "execution_count": 228,
     "metadata": {},
     "output_type": "execute_result"
    },
    {
     "data": {
      "image/png": "[encoded data removed]",
      "text/plain": [
       "<Figure size 1000x700 with 2 Axes>"
      ]
     },
     "metadata": {},
     "output_type": "display_data"
    }
   ],
   "source": [
    "print(f\"Overall test accuracy: {accuracy_score(test_labels, pred_labels_quant)}\")\n",
    "for ci, cl in enumerate(modulations):\n",
    "    class_indecies = np.where(test_labels == ci)[0]\n",
    "    cur_test_labels = test_labels[class_indecies]\n",
    "    cur_pred_labels = pred_labels_quant[class_indecies]\n",
    "    print(f\"{cl} test accuracy: {accuracy_score(cur_test_labels, cur_pred_labels)}\")\n",
    "\n",
    "cm = confusion_matrix(y_true=test_labels, y_pred=pred_labels_quant)\n",
    "df_cm = pd.DataFrame(cm, index = modulations,\n",
    "                  columns = modulations)\n",
    "plt.figure(figsize = (10,7))\n",
    "sn.heatmap(df_cm, annot=True)"
   ]
  },
  {
   "cell_type": "code",
   "execution_count": 229,
   "metadata": {},
   "outputs": [
    {
     "name": "stdout",
     "output_type": "stream",
     "text": [
      "float32\n",
      "[0.015625   0.03125    0.1484375  0.24609375 0.00390625 0.20703125\n",
      " 0.015625   0.17578125 0.0234375  0.00390625 0.125     ]\n"
     ]
    }
   ],
   "source": [
    "print(test_preds_quant.dtype)\n",
    "print(test_preds_quant[0])"
   ]
  },
  {
   "cell_type": "code",
   "execution_count": null,
   "metadata": {},
   "outputs": [],
   "source": []
  },
  {
   "cell_type": "code",
   "execution_count": 230,
   "metadata": {},
   "outputs": [
    {
     "name": "stdout",
     "output_type": "stream",
     "text": [
      "[debug] Export test data\n"
     ]
    },
    {
     "name": "stderr",
     "output_type": "stream",
     "text": [
      "11it [00:00, 231.72it/s]\n"
     ]
    }
   ],
   "source": [
    "reload_module(\"tools.deployment_tools\")\n",
    "from tools.deployment_tools import deploy_model_tflite\n",
    "\n",
    "deploy_model_tflite(\n",
    "    # model_no_quant_tflite,\n",
    "    model_tflite,\n",
    "    test_data,\n",
    "    test_labels, \n",
    "    model_name=model_name,\n",
    "    classes=modulations,\n",
    "    create_cfu_playground_proj=False,\n",
    "    epsilon=20,\n",
    "    apply_quantization=True,\n",
    ")"
   ]
  },
  {
   "cell_type": "code",
   "execution_count": null,
   "metadata": {},
   "outputs": [],
   "source": []
  },
  {
   "cell_type": "code",
   "execution_count": null,
   "metadata": {},
   "outputs": [],
   "source": []
  }
 ],
 "metadata": {
  "kernelspec": {
   "display_name": "cfu",
   "language": "python",
   "name": "python3"
  },
  "language_info": {
   "codemirror_mode": {
    "name": "ipython",
    "version": 3
   },
   "file_extension": ".py",
   "mimetype": "text/x-python",
   "name": "python",
   "nbconvert_exporter": "python",
   "pygments_lexer": "ipython3",
   "version": "3.8.16"
  },
  "orig_nbformat": 4,
  "vscode": {
   "interpreter": {
    "hash": "dcbe2989aabea66c474ecb11324a8e37d24c18c9e1edd70a3ac0db4c5ce57d31"
   }
  }
 },
 "nbformat": 4,
 "nbformat_minor": 2
}
