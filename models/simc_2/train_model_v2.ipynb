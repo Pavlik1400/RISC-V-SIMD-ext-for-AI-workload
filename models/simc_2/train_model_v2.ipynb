{
 "cells": [
  {
   "attachments": {},
   "cell_type": "markdown",
   "metadata": {},
   "source": [
    "# Signal Modulation classification 2\n",
    "Train relatively simple model for signal modulation classification with the intention to deploy it on the CFU-Playground\n",
    "\n",
    "**Note**\n",
    "difference between this file and train_model.ipynb is that this one uses new (at the moment of writing) automation scripts to deploy model  "
   ]
  },
  {
   "attachments": {},
   "cell_type": "markdown",
   "metadata": {},
   "source": [
    "[Reference](https://www.mathworks.com/help/deeplearning/ug/modulation-classification-with-deep-learning.html)"
   ]
  },
  {
   "attachments": {},
   "cell_type": "markdown",
   "metadata": {},
   "source": [
    "## Imports"
   ]
  },
  {
   "cell_type": "code",
   "execution_count": 1,
   "metadata": {},
   "outputs": [
    {
     "name": "stderr",
     "output_type": "stream",
     "text": [
      "2023-03-10 18:00:48.569489: I tensorflow/core/platform/cpu_feature_guard.cc:193] This TensorFlow binary is optimized with oneAPI Deep Neural Network Library (oneDNN) to use the following CPU instructions in performance-critical operations:  AVX2 AVX_VNNI FMA\n",
      "To enable them in other operations, rebuild TensorFlow with the appropriate compiler flags.\n",
      "2023-03-10 18:00:48.767906: I tensorflow/core/util/port.cc:104] oneDNN custom operations are on. You may see slightly different numerical results due to floating-point round-off errors from different computation orders. To turn them off, set the environment variable `TF_ENABLE_ONEDNN_OPTS=0`.\n",
      "2023-03-10 18:00:49.598622: W tensorflow/compiler/xla/stream_executor/platform/default/dso_loader.cc:64] Could not load dynamic library 'libnvinfer.so.7'; dlerror: libnvinfer.so.7: cannot open shared object file: No such file or directory; LD_LIBRARY_PATH: :/usr/local/cuda-11.2/lib64:/usr/local/cuda-11.2/extras/CUPTI/lib64\n",
      "2023-03-10 18:00:49.598693: W tensorflow/compiler/xla/stream_executor/platform/default/dso_loader.cc:64] Could not load dynamic library 'libnvinfer_plugin.so.7'; dlerror: libnvinfer_plugin.so.7: cannot open shared object file: No such file or directory; LD_LIBRARY_PATH: :/usr/local/cuda-11.2/lib64:/usr/local/cuda-11.2/extras/CUPTI/lib64\n",
      "2023-03-10 18:00:49.598697: W tensorflow/compiler/tf2tensorrt/utils/py_utils.cc:38] TF-TRT Warning: Cannot dlopen some TensorRT libraries. If you would like to use Nvidia GPU with TensorRT, please make sure the missing libraries mentioned above are installed properly.\n"
     ]
    }
   ],
   "source": [
    "# imports\n",
    "import tensorflow as tf\n",
    "from tensorflow import keras\n",
    "from tensorflow.keras import layers\n",
    "\n",
    "import numpy as np\n",
    "import random\n",
    "import os\n",
    "import sys\n",
    "import importlib\n",
    "\n",
    "from pathlib import Path\n",
    "\n",
    "sys.path.append(\"..\") # not good\n",
    "from tools.data import load_data_simc_v1"
   ]
  },
  {
   "cell_type": "code",
   "execution_count": 2,
   "metadata": {},
   "outputs": [],
   "source": [
    "def set_seed(SEED):\n",
    "    random.seed(SEED)\n",
    "    np.random.seed(SEED)\n",
    "    tf.random.set_seed(SEED)\n",
    "\n",
    "def reload_module(m: str):\n",
    "    imported_module = importlib.import_module(m)\n",
    "    importlib.reload(imported_module)\n"
   ]
  },
  {
   "attachments": {},
   "cell_type": "markdown",
   "metadata": {},
   "source": [
    "## Data loading for model training/evaluation/training"
   ]
  },
  {
   "attachments": {},
   "cell_type": "markdown",
   "metadata": {},
   "source": [
    "Please refer to ../generate_data.py to generate data\n",
    "\n",
    "All confiuguration should be in the cell below"
   ]
  },
  {
   "cell_type": "code",
   "execution_count": 3,
   "metadata": {},
   "outputs": [],
   "source": [
    "modulations = [\n",
    "    \"16QAM\",\n",
    "    \"64QAM\",\n",
    "    \"8PSK\",\n",
    "    \"B-FM\",\n",
    "    \"BPSK\",\n",
    "    \"CPFSK\",\n",
    "    \"DSB-AM\",\n",
    "    \"GFSK\",\n",
    "    \"PAM4\",\n",
    "    \"QPSK\",\n",
    "    \"SSB-AM\",\n",
    "]\n",
    "\n",
    "N_CLASSES = len(modulations)\n",
    "MODEL_DATA_TYPE = np.float32\n",
    "N_SAMPLES = 1024\n",
    "\n",
    "\n",
    "SEED = 123456\n",
    "set_seed(SEED)\n",
    "\n",
    "# Training\n",
    "train_model = False\n",
    "N_EPOCHS = 12\n",
    "BATCH_SIZE = 32\n",
    "TRAIN_DATA_DIR = \"/development/download/train_data_SIMC1_SNR_30_10k\"\n",
    "\n",
    "# Deployment\n",
    "model_name = \"simc_2\"\n",
    "MODELS_DIR = f'models_{model_name}_SNR_30_v1/'\n",
    "if not os.path.exists(MODELS_DIR):\n",
    "    os.mkdir(MODELS_DIR)\n",
    "\n",
    "MODEL_TF = MODELS_DIR + 'model'\n",
    "MODEL_NO_QUANT_TFLITE = MODELS_DIR + 'model_no_quant.tflite'\n",
    "MODEL_TFLITE = MODELS_DIR + 'model.tflite'\n",
    "MODEL_TFLITE_MICRO = MODELS_DIR + 'model.cc'\n",
    "\n"
   ]
  },
  {
   "attachments": {},
   "cell_type": "markdown",
   "metadata": {},
   "source": [
    "### Data preprocessing\n",
    "The only thing I gonna to is to divide two parts of complex numbers into separate float number\n",
    "\n",
    "### Data loading\n",
    "Data is created in matlab using different impairments techniques, and rician fading simulation"
   ]
  },
  {
   "cell_type": "code",
   "execution_count": 4,
   "metadata": {},
   "outputs": [
    {
     "name": "stderr",
     "output_type": "stream",
     "text": [
      "100%|██████████| 11/11 [00:49<00:00,  4.48s/it]"
     ]
    },
    {
     "name": "stdout",
     "output_type": "stream",
     "text": [
      "[debug] Loaded train data with size 112640000 in 49.327022075653076s\n"
     ]
    },
    {
     "name": "stderr",
     "output_type": "stream",
     "text": [
      "\n"
     ]
    }
   ],
   "source": [
    "reload_module(\"tools.data\")\n",
    "from tools.data import load_data_simc_v1\n",
    "labels, data = load_data_simc_v1(\n",
    "    classes=modulations, \n",
    "    path=Path(TRAIN_DATA_DIR), \n",
    "    model_dtype=MODEL_DATA_TYPE\n",
    ")"
   ]
  },
  {
   "attachments": {},
   "cell_type": "markdown",
   "metadata": {},
   "source": [
    "There are 10_000 samples of size 1024x2 (complex numbers) for each of 11 modulations"
   ]
  },
  {
   "cell_type": "code",
   "execution_count": 5,
   "metadata": {},
   "outputs": [
    {
     "name": "stdout",
     "output_type": "stream",
     "text": [
      "110000\n",
      "(110000, 1, 1024, 2)\n",
      "(1, 1024, 2)\n",
      "[[[1.2036071  0.23894253]\n",
      "  [0.94644743 0.52149737]\n",
      "  [0.84878576 0.7446801 ]\n",
      "  ...\n",
      "  [0.27026334 0.9789456 ]\n",
      "  [0.22262351 1.1126622 ]\n",
      "  [0.18643768 0.8866203 ]]]\n"
     ]
    }
   ],
   "source": [
    "print(len(labels))\n",
    "print(data.shape)\n",
    "print(data[0].shape)\n",
    "print(data[0][:10])"
   ]
  },
  {
   "cell_type": "code",
   "execution_count": 6,
   "metadata": {},
   "outputs": [],
   "source": [
    "DS_SIZE = len(labels)\n",
    "\n",
    "n_train = int(0.8 * DS_SIZE)\n",
    "n_validation = int(0.1 * DS_SIZE)\n",
    "n_test = DS_SIZE - n_train - n_validation\n",
    "\n",
    "random_indecies = np.arange(DS_SIZE)\n",
    "np.random.shuffle(random_indecies)\n",
    "\n",
    "train_indecies, validation_indecies, test_indecies, _ = np.split(\n",
    "    random_indecies, [int(DS_SIZE * 0.8), int(DS_SIZE * 0.9), DS_SIZE]\n",
    ")\n"
   ]
  },
  {
   "cell_type": "code",
   "execution_count": 7,
   "metadata": {},
   "outputs": [],
   "source": [
    "train_data, train_labels = data[train_indecies], labels[train_indecies]\n",
    "validation_data, validation_labels = data[validation_indecies], labels[validation_indecies]\n",
    "test_data, test_labels = data[test_indecies], labels[test_indecies]"
   ]
  },
  {
   "cell_type": "code",
   "execution_count": 9,
   "metadata": {},
   "outputs": [],
   "source": [
    "# Should save some memory\n",
    "del data\n",
    "del labels"
   ]
  },
  {
   "attachments": {},
   "cell_type": "markdown",
   "metadata": {},
   "source": [
    "## Model creation\n"
   ]
  },
  {
   "cell_type": "code",
   "execution_count": 15,
   "metadata": {},
   "outputs": [],
   "source": [
    "# https://github.com/dksakkos/BatchNorm\n",
    "class CustomBatchNorm(layers.Layer):\n",
    "    def __init__(self, *args, **kwargs):\n",
    "        super(CustomBatchNorm, self).__init__(*args, **kwargs)\n",
    "\n",
    "    def build(self, input_shape):\n",
    "        self.beta = self.add_weight(\n",
    "            name=\"custom_batch_beta\",\n",
    "            shape=(input_shape[-1]),\n",
    "            initializer=\"zeros\",\n",
    "            trainable=True,\n",
    "        )\n",
    "\n",
    "        self.gamma = self.add_weight(\n",
    "            name=\"custom_batch_gamma\",\n",
    "            shape=(input_shape[-1]),\n",
    "            initializer=\"ones\",\n",
    "            trainable=True,\n",
    "        )\n",
    "\n",
    "        self.moving_mean = self.add_weight(\n",
    "            name=\"custom_batch_moving_mean\",\n",
    "            shape=(input_shape[-1]),\n",
    "            initializer=tf.initializers.zeros,\n",
    "            trainable=False,\n",
    "        )\n",
    "\n",
    "        self.moving_variance = self.add_weight(\n",
    "            name=\"custom_batch_moving_variance\",\n",
    "            shape=(input_shape[-1]),\n",
    "            initializer=tf.initializers.ones,\n",
    "            trainable=False,\n",
    "        )\n",
    "\n",
    "    def get_moving_average(self, statistic, new_value):\n",
    "        momentum = 0.9\n",
    "        new_value = statistic * momentum + new_value * (1 - momentum)\n",
    "        return statistic.assign(new_value)\n",
    "\n",
    "    def normalise(self, x, x_mean, x_var):\n",
    "        return (x - x_mean) / tf.sqrt(x_var + 1e-6)\n",
    "\n",
    "    def call(self, inputs, training):\n",
    "        if training:\n",
    "            assert len(inputs.shape) in (2, 4)\n",
    "            if len(inputs.shape) > 2:\n",
    "                axes = [0, 1, 2]\n",
    "            else:\n",
    "                axes = [0]\n",
    "            mean, var = tf.nn.moments(inputs, axes=axes, keepdims=False)\n",
    "            self.moving_mean.assign(self.get_moving_average(self.moving_mean, mean))\n",
    "            self.moving_variance.assign(self.get_moving_average(self.moving_variance, var))\n",
    "        else:\n",
    "            mean, var = self.moving_mean, self.moving_variance\n",
    "        x = self.normalise(inputs, mean, var)\n",
    "        return self.gamma * x + self.beta\n",
    "\n",
    "\n",
    "def create_model_v1():\n",
    "    InputLayer = keras.Input(shape=(1, 1024, 2))\n",
    "    CNN1 = layers.Conv2D(16, (1, 8), padding=\"same\", name=\"CNN1_\")(InputLayer)\n",
    "    # N1 = layers.LayerNormalization()\n",
    "    BN1 = CustomBatchNorm(name=\"BN1_\")(CNN1)\n",
    "    ReLU1 = layers.ReLU()(BN1)\n",
    "\n",
    "    MaxPool1 = layers.MaxPool2D(pool_size=(1, 2), strides=(1, 2))(ReLU1)\n",
    "    CNN2 = layers.Conv2D(24, (1, 8), padding=\"same\", name=\"CNN2_\")(MaxPool1)\n",
    "    BN2 = CustomBatchNorm(name=\"BN2_\")(CNN2)\n",
    "    ReLU2 = layers.ReLU()(BN2)\n",
    "\n",
    "    MaxPool2 = layers.MaxPool2D(pool_size=(1, 2), strides=(1, 2))(ReLU2)\n",
    "    CNN3 = layers.Conv2D(32, (1, 8), padding=\"same\", name=\"CNN3_\")(MaxPool2)\n",
    "    BN3 = CustomBatchNorm(name=\"BN3_\")(CNN3)\n",
    "    ReLU3 = layers.ReLU()(BN3)\n",
    "\n",
    "    MaxPool3 = layers.MaxPool2D(pool_size=(1, 2), strides=(1, 2))(ReLU3)\n",
    "    CNN4 = layers.Conv2D(48, (1, 8), padding=\"same\", name=\"CNN4_\")(MaxPool3)\n",
    "    BN4 = CustomBatchNorm(name=\"BN4_\")(CNN4)\n",
    "    ReLU4 = layers.ReLU()(BN4)\n",
    "\n",
    "    MaxPool4 = layers.MaxPool2D(pool_size=(1, 2), strides=(1, 2))(ReLU4)\n",
    "    CNN5 = layers.Conv2D(64, (1, 8), padding=\"same\", name=\"CNN5_\")(MaxPool4)\n",
    "    BN5 = CustomBatchNorm(name=\"BN5_\")(CNN5)\n",
    "    ReLU5 = layers.ReLU()(BN5)\n",
    "\n",
    "    MaxPool5 = layers.MaxPool2D(pool_size=(1, 2), strides=(1, 2))(ReLU5)\n",
    "    CNN6 = layers.Conv2D(96, (1, 8), padding=\"same\", name=\"CNN6_\")(MaxPool5)\n",
    "    BN6 = CustomBatchNorm(name=\"BN6_\")(CNN6)\n",
    "    ReLU6 = layers.ReLU()(BN6)\n",
    "\n",
    "    AP1 = layers.AveragePooling2D(pool_size=(1, 32), strides=(1, 1))(ReLU6)\n",
    "    # FC1 = layers.Reshape((1, 1, -1), name=\"FC1_preFlatten1\")(AP1)\n",
    "    FC1 = layers.Flatten(name=\"FC1_preFlatten1\")(AP1)\n",
    "    FC1 = layers.Dense(11, name=\"FC1_\")(FC1)\n",
    "\n",
    "    SoftMax = layers.Softmax()(FC1)\n",
    "    Output = layers.Flatten()(SoftMax)\n",
    "\n",
    "    model = keras.Model(inputs=[InputLayer], outputs=[Output])\n",
    "    return model\n",
    "\n",
    "\n",
    "def create_model_original():\n",
    "    InputLayer = keras.Input(shape=(1, 1024, 2))\n",
    "    CNN1 = layers.Conv2D(16, (1, 8), padding=\"same\", name=\"CNN1_\")(InputLayer)\n",
    "    BN1 = layers.BatchNormalization(epsilon=0.000010, name=\"BN1_\")(CNN1)\n",
    "    ReLU1 = layers.ReLU()(BN1)\n",
    "    MaxPool1 = layers.MaxPool2D(pool_size=(1, 2), strides=(1, 2))(ReLU1)\n",
    "\n",
    "    CNN2 = layers.Conv2D(24, (1, 8), padding=\"same\", name=\"CNN2_\")(MaxPool1)\n",
    "    BN2 = layers.BatchNormalization(epsilon=0.000010, name=\"BN2_\")(CNN2)\n",
    "    ReLU2 = layers.ReLU()(BN2)\n",
    "    MaxPool2 = layers.MaxPool2D(pool_size=(1, 2), strides=(1, 2))(ReLU2)\n",
    "\n",
    "    CNN3 = layers.Conv2D(32, (1, 8), padding=\"same\", name=\"CNN3_\")(MaxPool2)\n",
    "    BN3 = layers.BatchNormalization(epsilon=0.000010, name=\"BN3_\")(CNN3)\n",
    "    ReLU3 = layers.ReLU()(BN3)\n",
    "    MaxPool3 = layers.MaxPool2D(pool_size=(1, 2), strides=(1, 2))(ReLU3)\n",
    "\n",
    "    CNN4 = layers.Conv2D(48, (1, 8), padding=\"same\", name=\"CNN4_\")(MaxPool3)\n",
    "    BN4 = layers.BatchNormalization(epsilon=0.000010, name=\"BN4_\")(CNN4)\n",
    "    ReLU4 = layers.ReLU()(BN4)\n",
    "    MaxPool4 = layers.MaxPool2D(pool_size=(1, 2), strides=(1, 2))(ReLU4)\n",
    "\n",
    "    CNN5 = layers.Conv2D(64, (1, 8), padding=\"same\", name=\"CNN5_\")(MaxPool4)\n",
    "    BN5 = layers.BatchNormalization(epsilon=0.000010, name=\"BN5_\")(CNN5)\n",
    "    ReLU5 = layers.ReLU()(BN5)\n",
    "    MaxPool5 = layers.MaxPool2D(pool_size=(1, 2), strides=(1, 2))(ReLU5)\n",
    "\n",
    "    CNN6 = layers.Conv2D(96, (1, 8), padding=\"same\", name=\"CNN6_\")(MaxPool5)\n",
    "    BN6 = layers.BatchNormalization(epsilon=0.000010, name=\"BN6_\")(CNN6)\n",
    "    ReLU6 = layers.ReLU()(BN6)\n",
    "\n",
    "    AP1 = layers.AveragePooling2D(pool_size=(1, 32), strides=(1, 1))(ReLU6)\n",
    "    FC1 = layers.Reshape((1, 1, -1), name=\"FC1_preFlatten1\")(AP1)\n",
    "    FC1 = layers.Dense(11, name=\"FC1_\")(FC1)\n",
    "\n",
    "    SoftMax = layers.Softmax()(FC1)\n",
    "    Output = layers.Flatten()(SoftMax)\n",
    "    model = keras.Model(inputs=[InputLayer], outputs=[Output])\n",
    "    return model\n"
   ]
  },
  {
   "cell_type": "code",
   "execution_count": 16,
   "metadata": {},
   "outputs": [
    {
     "name": "stdout",
     "output_type": "stream",
     "text": [
      "Model: \"model_1\"\n",
      "_________________________________________________________________\n",
      " Layer (type)                Output Shape              Param #   \n",
      "=================================================================\n",
      " input_2 (InputLayer)        [(None, 1, 1024, 2)]      0         \n",
      "                                                                 \n",
      " CNN1_ (Conv2D)              (None, 1, 1024, 16)       272       \n",
      "                                                                 \n",
      " BN1_ (CustomBatchNorm)      (None, 1, 1024, 16)       64        \n",
      "                                                                 \n",
      " re_lu_6 (ReLU)              (None, 1, 1024, 16)       0         \n",
      "                                                                 \n",
      " max_pooling2d_5 (MaxPooling  (None, 1, 512, 16)       0         \n",
      " 2D)                                                             \n",
      "                                                                 \n",
      " CNN2_ (Conv2D)              (None, 1, 512, 24)        3096      \n",
      "                                                                 \n",
      " BN2_ (CustomBatchNorm)      (None, 1, 512, 24)        96        \n",
      "                                                                 \n",
      " re_lu_7 (ReLU)              (None, 1, 512, 24)        0         \n",
      "                                                                 \n",
      " max_pooling2d_6 (MaxPooling  (None, 1, 256, 24)       0         \n",
      " 2D)                                                             \n",
      "                                                                 \n",
      " CNN3_ (Conv2D)              (None, 1, 256, 32)        6176      \n",
      "                                                                 \n",
      " BN3_ (CustomBatchNorm)      (None, 1, 256, 32)        128       \n",
      "                                                                 \n",
      " re_lu_8 (ReLU)              (None, 1, 256, 32)        0         \n",
      "                                                                 \n",
      " max_pooling2d_7 (MaxPooling  (None, 1, 128, 32)       0         \n",
      " 2D)                                                             \n",
      "                                                                 \n",
      " CNN4_ (Conv2D)              (None, 1, 128, 48)        12336     \n",
      "                                                                 \n",
      " BN4_ (CustomBatchNorm)      (None, 1, 128, 48)        192       \n",
      "                                                                 \n",
      " re_lu_9 (ReLU)              (None, 1, 128, 48)        0         \n",
      "                                                                 \n",
      " max_pooling2d_8 (MaxPooling  (None, 1, 64, 48)        0         \n",
      " 2D)                                                             \n",
      "                                                                 \n",
      " CNN5_ (Conv2D)              (None, 1, 64, 64)         24640     \n",
      "                                                                 \n",
      " BN5_ (CustomBatchNorm)      (None, 1, 64, 64)         256       \n",
      "                                                                 \n",
      " re_lu_10 (ReLU)             (None, 1, 64, 64)         0         \n",
      "                                                                 \n",
      " max_pooling2d_9 (MaxPooling  (None, 1, 32, 64)        0         \n",
      " 2D)                                                             \n",
      "                                                                 \n",
      " CNN6_ (Conv2D)              (None, 1, 32, 96)         49248     \n",
      "                                                                 \n",
      " BN6_ (CustomBatchNorm)      (None, 1, 32, 96)         384       \n",
      "                                                                 \n",
      " re_lu_11 (ReLU)             (None, 1, 32, 96)         0         \n",
      "                                                                 \n",
      " average_pooling2d_1 (Averag  (None, 1, 1, 96)         0         \n",
      " ePooling2D)                                                     \n",
      "                                                                 \n",
      " FC1_preFlatten1 (Flatten)   (None, 96)                0         \n",
      "                                                                 \n",
      " FC1_ (Dense)                (None, 11)                1067      \n",
      "                                                                 \n",
      " softmax_1 (Softmax)         (None, 11)                0         \n",
      "                                                                 \n",
      " flatten_1 (Flatten)         (None, 11)                0         \n",
      "                                                                 \n",
      "=================================================================\n",
      "Total params: 97,955\n",
      "Trainable params: 97,395\n",
      "Non-trainable params: 560\n",
      "_________________________________________________________________\n"
     ]
    }
   ],
   "source": [
    "model = create_model_v1()\n",
    "model.summary()"
   ]
  },
  {
   "cell_type": "code",
   "execution_count": 17,
   "metadata": {},
   "outputs": [],
   "source": [
    "# https://machinelearningmastery.com/using-learning-rate-schedules-deep-learning-models-python-keras/ \n",
    "# learning rate schedule\n",
    "def step_decay(epoch):\n",
    "    lrate = 0.02\n",
    "    factor = epoch // 9\n",
    "    lrate /= (10**factor)\n",
    "    return lrate\n",
    "\n",
    "lrate = tf.keras.callbacks.LearningRateScheduler(step_decay)\n",
    "\n",
    "model.compile(\n",
    "    optimizer=tf.keras.optimizers.SGD(learning_rate=0.0), \n",
    "    loss=tf.keras.losses.SparseCategoricalCrossentropy(),\n",
    "    metrics=['accuracy'],\n",
    ")\n",
    "\n"
   ]
  },
  {
   "cell_type": "code",
   "execution_count": 18,
   "metadata": {},
   "outputs": [],
   "source": [
    "if train_model:\n",
    "    h = model.fit(\n",
    "        train_data,\n",
    "        train_labels,\n",
    "        epochs=N_EPOCHS,\n",
    "        batch_size=BATCH_SIZE,\n",
    "        validation_data=(validation_data, validation_labels), \n",
    "        callbacks=[lrate]\n",
    "    )\n",
    "else:\n",
    "    model = tf.keras.models.load_model(MODEL_TF)\n"
   ]
  },
  {
   "cell_type": "code",
   "execution_count": 13,
   "metadata": {},
   "outputs": [
    {
     "ename": "NameError",
     "evalue": "name 'h' is not defined",
     "output_type": "error",
     "traceback": [
      "\u001b[0;31m---------------------------------------------------------------------------\u001b[0m",
      "\u001b[0;31mNameError\u001b[0m                                 Traceback (most recent call last)",
      "Cell \u001b[0;32mIn[13], line 3\u001b[0m\n\u001b[1;32m      1\u001b[0m \u001b[39mimport\u001b[39;00m \u001b[39mmatplotlib\u001b[39;00m\u001b[39m.\u001b[39;00m\u001b[39mpyplot\u001b[39;00m \u001b[39mas\u001b[39;00m \u001b[39mplt\u001b[39;00m\n\u001b[0;32m----> 3\u001b[0m acc \u001b[39m=\u001b[39m h\u001b[39m.\u001b[39mhistory[\u001b[39m'\u001b[39m\u001b[39maccuracy\u001b[39m\u001b[39m'\u001b[39m]\n\u001b[1;32m      4\u001b[0m val_acc \u001b[39m=\u001b[39m h\u001b[39m.\u001b[39mhistory[\u001b[39m'\u001b[39m\u001b[39mval_accuracy\u001b[39m\u001b[39m'\u001b[39m]\n\u001b[1;32m      5\u001b[0m loss \u001b[39m=\u001b[39m h\u001b[39m.\u001b[39mhistory[\u001b[39m'\u001b[39m\u001b[39mloss\u001b[39m\u001b[39m'\u001b[39m]\n",
      "\u001b[0;31mNameError\u001b[0m: name 'h' is not defined"
     ]
    }
   ],
   "source": [
    "import matplotlib.pyplot as plt\n",
    "\n",
    "acc = h.history['accuracy']\n",
    "val_acc = h.history['val_accuracy']\n",
    "loss = h.history['loss']\n",
    "val_loss = h.history['val_loss']\n",
    "\n",
    "epochs_range = range(N_EPOCHS)\n",
    "plt.figure(figsize=(8, 8))\n",
    "plt.subplot(2, 1, 1)\n",
    "plt.plot(epochs_range, acc, label='Training Accuracy')\n",
    "plt.plot(epochs_range, val_acc, label='Validation Accuracy')\n",
    "plt.legend(loc='lower right')\n",
    "plt.title('Training and Validation Accuracy')\n",
    "plt.subplot(2, 1, 2)\n",
    "\n",
    "plt.plot(epochs_range, loss, label='Training Loss')\n",
    "plt.plot(epochs_range, val_loss, label='Validation Loss')\n",
    "plt.legend(loc='upper right')\n",
    "plt.title('Training and Validation Loss')\n",
    "plt.show()\n",
    "\n"
   ]
  },
  {
   "cell_type": "code",
   "execution_count": 19,
   "metadata": {},
   "outputs": [
    {
     "name": "stdout",
     "output_type": "stream",
     "text": [
      "344/344 [==============================] - 1s 2ms/step\n"
     ]
    }
   ],
   "source": [
    "test_preds = model.predict(test_data)"
   ]
  },
  {
   "cell_type": "code",
   "execution_count": 20,
   "metadata": {},
   "outputs": [
    {
     "name": "stdout",
     "output_type": "stream",
     "text": [
      "[9 8 3 9 0 0 2 7 7 4]\n",
      "[9 8 3 9 0 0 2 7 7 4]\n"
     ]
    }
   ],
   "source": [
    "pred_labels = np.argmax(test_preds, axis=1)\n",
    "print(pred_labels[0:10])\n",
    "print(test_labels[0:10])"
   ]
  },
  {
   "cell_type": "code",
   "execution_count": 21,
   "metadata": {},
   "outputs": [
    {
     "name": "stdout",
     "output_type": "stream",
     "text": [
      "Overall test accuracy: 0.9292727272727273\n",
      "16QAM test accuracy: 0.8425742574257425\n",
      "64QAM test accuracy: 0.7367387033398821\n",
      "8PSK test accuracy: 0.9107142857142857\n",
      "B-FM test accuracy: 0.9979859013091642\n",
      "BPSK test accuracy: 0.9968152866242038\n",
      "CPFSK test accuracy: 0.9989350372736954\n",
      "DSB-AM test accuracy: 0.9635108481262328\n",
      "GFSK test accuracy: 1.0\n",
      "PAM4 test accuracy: 0.9950396825396826\n",
      "QPSK test accuracy: 0.8753709198813057\n",
      "SSB-AM test accuracy: 0.9177693761814745\n"
     ]
    },
    {
     "data": {
      "text/plain": [
       "<Axes: >"
      ]
     },
     "execution_count": 21,
     "metadata": {},
     "output_type": "execute_result"
    },
    {
     "data": {
      "image/png": "[encoded data removed]",
      "text/plain": [
       "<Figure size 1000x700 with 2 Axes>"
      ]
     },
     "metadata": {},
     "output_type": "display_data"
    }
   ],
   "source": [
    "from sklearn.metrics import accuracy_score, confusion_matrix\n",
    "print(f\"Overall test accuracy: {accuracy_score(test_labels, pred_labels)}\")\n",
    "for ci, cl in enumerate(modulations):\n",
    "    class_indecies = np.where(test_labels == ci)[0]\n",
    "    cur_test_labels = test_labels[class_indecies]\n",
    "    cur_pred_labels = pred_labels[class_indecies]\n",
    "    print(f\"{cl} test accuracy: {accuracy_score(cur_test_labels, cur_pred_labels)}\")\n",
    "cm = confusion_matrix(y_true=test_labels, y_pred=pred_labels)\n",
    "import seaborn as sn\n",
    "import pandas as pd\n",
    "import matplotlib.pyplot as plt\n",
    "df_cm = pd.DataFrame(cm, index = modulations,\n",
    "                  columns = modulations)\n",
    "plt.figure(figsize = (10,7))\n",
    "sn.heatmap(df_cm, annot=True)"
   ]
  },
  {
   "attachments": {},
   "cell_type": "markdown",
   "metadata": {},
   "source": [
    "### Mode deployment"
   ]
  },
  {
   "cell_type": "code",
   "execution_count": 22,
   "metadata": {},
   "outputs": [
    {
     "name": "stderr",
     "output_type": "stream",
     "text": [
      "WARNING:absl:Found untraced functions such as _jit_compiled_convolution_op, _jit_compiled_convolution_op, _jit_compiled_convolution_op, _jit_compiled_convolution_op, _jit_compiled_convolution_op while saving (showing 5 of 7). These functions will not be directly callable after loading.\n"
     ]
    },
    {
     "name": "stdout",
     "output_type": "stream",
     "text": [
      "INFO:tensorflow:Assets written to: models_simc_2_SNR_30_v1/model/assets\n"
     ]
    },
    {
     "name": "stderr",
     "output_type": "stream",
     "text": [
      "INFO:tensorflow:Assets written to: models_simc_2_SNR_30_v1/model/assets\n"
     ]
    }
   ],
   "source": [
    "model.save(MODEL_TF)"
   ]
  },
  {
   "cell_type": "code",
   "execution_count": 23,
   "metadata": {},
   "outputs": [
    {
     "name": "stderr",
     "output_type": "stream",
     "text": [
      "2023-03-10 18:02:21.665499: W tensorflow/compiler/mlir/lite/python/tf_tfl_flatbuffer_helpers.cc:362] Ignored output_format.\n",
      "2023-03-10 18:02:21.665526: W tensorflow/compiler/mlir/lite/python/tf_tfl_flatbuffer_helpers.cc:365] Ignored drop_control_dependency.\n",
      "2023-03-10 18:02:21.666308: I tensorflow/cc/saved_model/reader.cc:45] Reading SavedModel from: models_simc_2_SNR_30_v1/model\n",
      "2023-03-10 18:02:21.669298: I tensorflow/cc/saved_model/reader.cc:89] Reading meta graph with tags { serve }\n",
      "2023-03-10 18:02:21.669317: I tensorflow/cc/saved_model/reader.cc:130] Reading SavedModel debug info (if present) from: models_simc_2_SNR_30_v1/model\n",
      "2023-03-10 18:02:21.675340: I tensorflow/compiler/mlir/mlir_graph_optimization_pass.cc:357] MLIR V1 optimization pass is not enabled\n",
      "2023-03-10 18:02:21.677681: I tensorflow/cc/saved_model/loader.cc:229] Restoring SavedModel bundle.\n",
      "2023-03-10 18:02:21.728268: I tensorflow/cc/saved_model/loader.cc:213] Running initialization op on SavedModel bundle at path: models_simc_2_SNR_30_v1/model\n",
      "2023-03-10 18:02:21.746011: I tensorflow/cc/saved_model/loader.cc:305] SavedModel load for tags { serve }; Status: success: OK. Took 79969 microseconds.\n",
      "2023-03-10 18:02:21.788392: I tensorflow/compiler/mlir/tensorflow/utils/dump_mlir_util.cc:268] disabling MLIR crash reproducer, set env var `MLIR_CRASH_REPRODUCER_DIRECTORY` to enable.\n"
     ]
    },
    {
     "data": {
      "text/plain": [
       "394972"
      ]
     },
     "execution_count": 23,
     "metadata": {},
     "output_type": "execute_result"
    }
   ],
   "source": [
    "reload_module(\"tools.deployment_tools\")\n",
    "from tools.deployment_tools import to_tf_lite\n",
    "model_no_quant_tflite = to_tf_lite(MODEL_TF)\n",
    "open(MODEL_NO_QUANT_TFLITE, \"wb\").write(model_no_quant_tflite)"
   ]
  },
  {
   "cell_type": "code",
   "execution_count": 24,
   "metadata": {},
   "outputs": [],
   "source": [
    "# reload_module(\"tools.deployment_tools\")\n",
    "# from tools.deployment_tools import deploy_model_tflite\n",
    "\n",
    "# deploy_model_tflite(\n",
    "#     model_no_quant_tflite,\n",
    "#     # test_data.reshape((-1, 1, 1, 1024, 2)),\n",
    "#     test_data,\n",
    "#     test_labels, \n",
    "#     model_name=model_name,\n",
    "#     classes=modulations,\n",
    "#     create_cfu_playground_proj=True,\n",
    "# )"
   ]
  },
  {
   "attachments": {},
   "cell_type": "markdown",
   "metadata": {},
   "source": [
    "## Quantization\n",
    "Let's quantize model, and check accuracy"
   ]
  },
  {
   "cell_type": "code",
   "execution_count": 25,
   "metadata": {},
   "outputs": [
    {
     "name": "stdout",
     "output_type": "stream",
     "text": [
      "float32\n",
      "(2000, 1, 1024, 2)\n"
     ]
    },
    {
     "name": "stderr",
     "output_type": "stream",
     "text": [
      "2023-03-10 18:02:23.422038: W tensorflow/compiler/mlir/lite/python/tf_tfl_flatbuffer_helpers.cc:362] Ignored output_format.\n",
      "2023-03-10 18:02:23.422068: W tensorflow/compiler/mlir/lite/python/tf_tfl_flatbuffer_helpers.cc:365] Ignored drop_control_dependency.\n",
      "2023-03-10 18:02:23.422167: I tensorflow/cc/saved_model/reader.cc:45] Reading SavedModel from: models_simc_2_SNR_30_v1/model\n",
      "2023-03-10 18:02:23.424865: I tensorflow/cc/saved_model/reader.cc:89] Reading meta graph with tags { serve }\n",
      "2023-03-10 18:02:23.424885: I tensorflow/cc/saved_model/reader.cc:130] Reading SavedModel debug info (if present) from: models_simc_2_SNR_30_v1/model\n",
      "2023-03-10 18:02:23.432435: I tensorflow/cc/saved_model/loader.cc:229] Restoring SavedModel bundle.\n",
      "2023-03-10 18:02:23.480553: I tensorflow/cc/saved_model/loader.cc:213] Running initialization op on SavedModel bundle at path: models_simc_2_SNR_30_v1/model\n",
      "2023-03-10 18:02:23.497818: I tensorflow/cc/saved_model/loader.cc:305] SavedModel load for tags { serve }; Status: success: OK. Took 75651 microseconds.\n",
      "fully_quantize: 0, inference_type: 6, input_inference_type: INT8, output_inference_type: INT8\n"
     ]
    },
    {
     "data": {
      "text/plain": [
       "113008"
      ]
     },
     "execution_count": 25,
     "metadata": {},
     "output_type": "execute_result"
    }
   ],
   "source": [
    "reload_module(\"tools.deployment_tools\")\n",
    "from tools.deployment_tools import to_tf_lite\n",
    "\n",
    "representative_ds = train_data[:2000]\n",
    "print(representative_ds.dtype)\n",
    "print(representative_ds.shape)\n",
    "model_tflite = to_tf_lite(MODEL_TF, representative_ds=representative_ds, apply_quantization=True)\n",
    "open(MODEL_TFLITE, \"wb\").write(model_tflite)"
   ]
  },
  {
   "cell_type": "code",
   "execution_count": 26,
   "metadata": {},
   "outputs": [
    {
     "name": "stderr",
     "output_type": "stream",
     "text": [
      "INFO: Created TensorFlow Lite XNNPACK delegate for CPU.\n"
     ]
    }
   ],
   "source": [
    "from tools.deployment_tools import predict_tflite\n",
    "\n",
    "test_preds_quant = np.squeeze(predict_tflite(model_tflite, test_data))"
   ]
  },
  {
   "cell_type": "code",
   "execution_count": 27,
   "metadata": {},
   "outputs": [
    {
     "name": "stdout",
     "output_type": "stream",
     "text": [
      "[9 8 3 9 0 0 2 7 7 4]\n",
      "[9 8 3 9 0 0 2 7 7 4]\n"
     ]
    }
   ],
   "source": [
    "pred_labels_quant = np.argmax(test_preds_quant, axis=1)\n",
    "print(pred_labels_quant[:10])\n",
    "print(test_labels[:10])"
   ]
  },
  {
   "cell_type": "code",
   "execution_count": 28,
   "metadata": {},
   "outputs": [
    {
     "name": "stdout",
     "output_type": "stream",
     "text": [
      "Overall test accuracy: 0.9258181818181819\n",
      "16QAM test accuracy: 0.8128712871287128\n",
      "64QAM test accuracy: 0.769155206286837\n",
      "8PSK test accuracy: 0.9255952380952381\n",
      "B-FM test accuracy: 0.998992950654582\n",
      "BPSK test accuracy: 0.9968152866242038\n",
      "CPFSK test accuracy: 0.9968051118210862\n",
      "DSB-AM test accuracy: 0.9615384615384616\n",
      "GFSK test accuracy: 1.0\n",
      "PAM4 test accuracy: 0.9970238095238095\n",
      "QPSK test accuracy: 0.8318496538081108\n",
      "SSB-AM test accuracy: 0.9073724007561437\n"
     ]
    },
    {
     "data": {
      "text/plain": [
       "<Axes: >"
      ]
     },
     "execution_count": 28,
     "metadata": {},
     "output_type": "execute_result"
    },
    {
     "data": {
      "image/png": "[encoded data removed]",
      "text/plain": [
       "<Figure size 1000x700 with 2 Axes>"
      ]
     },
     "metadata": {},
     "output_type": "display_data"
    }
   ],
   "source": [
    "print(f\"Overall test accuracy: {accuracy_score(test_labels, pred_labels_quant)}\")\n",
    "for ci, cl in enumerate(modulations):\n",
    "    class_indecies = np.where(test_labels == ci)[0]\n",
    "    cur_test_labels = test_labels[class_indecies]\n",
    "    cur_pred_labels = pred_labels_quant[class_indecies]\n",
    "    print(f\"{cl} test accuracy: {accuracy_score(cur_test_labels, cur_pred_labels)}\")\n",
    "\n",
    "cm = confusion_matrix(y_true=test_labels, y_pred=pred_labels_quant)\n",
    "df_cm = pd.DataFrame(cm, index = modulations,\n",
    "                  columns = modulations)\n",
    "plt.figure(figsize = (10,7))\n",
    "sn.heatmap(df_cm, annot=True)"
   ]
  },
  {
   "cell_type": "code",
   "execution_count": 29,
   "metadata": {},
   "outputs": [
    {
     "name": "stdout",
     "output_type": "stream",
     "text": [
      "float32\n",
      "[0.         0.         0.15234375 0.         0.         0.\n",
      " 0.         0.         0.         0.84765625 0.        ]\n"
     ]
    }
   ],
   "source": [
    "print(test_preds_quant.dtype)\n",
    "print(test_preds_quant[0])"
   ]
  },
  {
   "cell_type": "code",
   "execution_count": 30,
   "metadata": {},
   "outputs": [
    {
     "name": "stdout",
     "output_type": "stream",
     "text": [
      "[debug] Export test data\n"
     ]
    },
    {
     "name": "stderr",
     "output_type": "stream",
     "text": [
      "11it [00:00, 735.16it/s]"
     ]
    },
    {
     "name": "stdout",
     "output_type": "stream",
     "text": [
      "[Warning] proj directory already exists: /development/RISC-V-SIMD-extension-for-the-AI-workload/proj/simc_2\n"
     ]
    },
    {
     "name": "stderr",
     "output_type": "stream",
     "text": [
      "\n"
     ]
    }
   ],
   "source": [
    "reload_module(\"tools.deployment_tools\")\n",
    "from tools.deployment_tools import deploy_model_tflite\n",
    "\n",
    "deploy_model_tflite(\n",
    "    # model_no_quant_tflite,\n",
    "    model_tflite,\n",
    "    test_data,\n",
    "    test_labels, \n",
    "    model_name=model_name,\n",
    "    classes=modulations,\n",
    "    create_cfu_playground_proj=True,\n",
    "    epsilon=10,\n",
    "    apply_quantization=True,\n",
    ")"
   ]
  },
  {
   "cell_type": "code",
   "execution_count": null,
   "metadata": {},
   "outputs": [],
   "source": []
  },
  {
   "cell_type": "code",
   "execution_count": null,
   "metadata": {},
   "outputs": [],
   "source": []
  }
 ],
 "metadata": {
  "kernelspec": {
   "display_name": "diploma-3.8-0",
   "language": "python",
   "name": "python3"
  },
  "language_info": {
   "codemirror_mode": {
    "name": "ipython",
    "version": 3
   },
   "file_extension": ".py",
   "mimetype": "text/x-python",
   "name": "python",
   "nbconvert_exporter": "python",
   "pygments_lexer": "ipython3",
   "version": "3.8.16"
  },
  "orig_nbformat": 4,
  "vscode": {
   "interpreter": {
    "hash": "7653896da6d0d843d0f6b055285600d6d7009c86bd2a1394b480a06d66b7f0ca"
   }
  }
 },
 "nbformat": 4,
 "nbformat_minor": 2
}
