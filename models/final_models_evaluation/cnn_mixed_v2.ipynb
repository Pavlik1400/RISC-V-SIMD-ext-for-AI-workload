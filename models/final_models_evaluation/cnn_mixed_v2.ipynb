{
 "cells": [
  {
   "cell_type": "code",
   "execution_count": 2,
   "metadata": {},
   "outputs": [
    {
     "name": "stderr",
     "output_type": "stream",
     "text": [
      "2023-05-08 00:28:02.248211: I tensorflow/core/util/port.cc:110] oneDNN custom operations are on. You may see slightly different numerical results due to floating-point round-off errors from different computation orders. To turn them off, set the environment variable `TF_ENABLE_ONEDNN_OPTS=0`.\n",
      "2023-05-08 00:28:02.449087: I tensorflow/core/platform/cpu_feature_guard.cc:182] This TensorFlow binary is optimized to use available CPU instructions in performance-critical operations.\n",
      "To enable the following instructions: AVX2 AVX_VNNI FMA, in other operations, rebuild TensorFlow with the appropriate compiler flags.\n",
      "2023-05-08 00:28:03.158788: W tensorflow/compiler/tf2tensorrt/utils/py_utils.cc:38] TF-TRT Warning: Could not find TensorRT\n",
      "2023-05-08 00:28:05.197711: I tensorflow/compiler/xla/stream_executor/cuda/cuda_gpu_executor.cc:996] successful NUMA node read from SysFS had negative value (-1), but there must be at least one NUMA node, so returning NUMA node zero. See more at https://github.com/torvalds/linux/blob/v6.0/Documentation/ABI/testing/sysfs-bus-pci#L344-L355\n",
      "2023-05-08 00:28:05.220877: I tensorflow/compiler/xla/stream_executor/cuda/cuda_gpu_executor.cc:996] successful NUMA node read from SysFS had negative value (-1), but there must be at least one NUMA node, so returning NUMA node zero. See more at https://github.com/torvalds/linux/blob/v6.0/Documentation/ABI/testing/sysfs-bus-pci#L344-L355\n",
      "2023-05-08 00:28:05.221074: I tensorflow/compiler/xla/stream_executor/cuda/cuda_gpu_executor.cc:996] successful NUMA node read from SysFS had negative value (-1), but there must be at least one NUMA node, so returning NUMA node zero. See more at https://github.com/torvalds/linux/blob/v6.0/Documentation/ABI/testing/sysfs-bus-pci#L344-L355\n"
     ]
    }
   ],
   "source": [
    "# imports\n",
    "import os\n",
    "# os.environ['TF_CPP_MIN_LOG_LEVEL'] = '3' \n",
    "import tensorflow as tf\n",
    "from tensorflow import keras\n",
    "from tensorflow.keras import layers\n",
    "\n",
    "import numpy as np\n",
    "import random\n",
    "import os\n",
    "import sys\n",
    "import importlib\n",
    "\n",
    "from sklearn.metrics import accuracy_score, confusion_matrix\n",
    "from pathlib import Path\n",
    "import seaborn as sn\n",
    "import pandas as pd\n",
    "import matplotlib.pyplot as plt\n",
    "\n",
    "\n",
    "sys.path.append(\"..\") # not good\n",
    "from tools.data import load_data_simc_v2, load_data_radioml_v1\n",
    "\n",
    "physical_devices = tf.config.experimental.list_physical_devices('GPU')\n",
    "assert len(physical_devices) > 0, \"Not enough GPU hardware devices available\"\n"
   ]
  },
  {
   "attachments": {},
   "cell_type": "markdown",
   "metadata": {},
   "source": [
    "## Util functions"
   ]
  },
  {
   "cell_type": "code",
   "execution_count": 3,
   "metadata": {},
   "outputs": [],
   "source": [
    "def set_seed(SEED):\n",
    "    random.seed(SEED)\n",
    "    np.random.seed(SEED)\n",
    "    tf.random.set_seed(SEED)\n",
    "\n",
    "def reload_module(m: str):\n",
    "    importlib.reload(sys.modules[m])\n"
   ]
  },
  {
   "attachments": {},
   "cell_type": "markdown",
   "metadata": {},
   "source": [
    "## Data loading"
   ]
  },
  {
   "cell_type": "code",
   "execution_count": 4,
   "metadata": {},
   "outputs": [],
   "source": [
    "# Constants\n",
    "frames_per_mod = 30_000\n",
    "snrs = list(range(0, 30))\n",
    "MIXED_v2_0_30 = \"/development/data/Mixed_V2/train_data_SIMC1_SNR_mixed_0-30_30k/\"\n",
    "# snrs = list(range(-30, 30))\n",
    "# MIXED_v2_min_30_30 = \"/development/data/Mixed_V2/mixed_v2_-30-30_30k/\"\n",
    "TRAIN_DATA_DIR = MIXED_v2_0_30\n",
    "\n",
    "MODEL_DATA_TYPE = np.float32\n",
    "\n",
    "SEED = 123456\n",
    "set_seed(SEED)"
   ]
  },
  {
   "cell_type": "code",
   "execution_count": 6,
   "metadata": {},
   "outputs": [
    {
     "name": "stdout",
     "output_type": "stream",
     "text": [
      "['16QAM', '64QAM', '8PSK', 'B-FM', 'BPSK', 'CPFSK', 'DSB-AM', 'GFSK', 'PAM4', 'QPSK', 'SSB-AM']\n",
      "(330000,)\n",
      "(330000, 1, 1024, 2)\n"
     ]
    }
   ],
   "source": [
    "# Loading itself\n",
    "modulations = [\n",
    "    \"16QAM\",\n",
    "    \"64QAM\",\n",
    "    \"8PSK\",\n",
    "    \"B-FM\",\n",
    "    \"BPSK\",\n",
    "    \"CPFSK\",\n",
    "    \"DSB-AM\",\n",
    "    \"GFSK\",\n",
    "    \"PAM4\",\n",
    "    \"QPSK\",\n",
    "    \"SSB-AM\",\n",
    "]\n",
    "\n",
    "# labels, data = np.load(\"labels_mixed_V2_-30_30_30k.npy\"), np.load(\"data_mixed_V2_-30_30_30k.npy\")\n",
    "labels, data = np.load(\"labels_mixed_V2_0_30_30k.npy\"), np.load(\"data_mixed_V2_0_30_30k.npy\")\n",
    "# labels, data = load_data_simc_v2(classes=modulations, path=Path(TRAIN_DATA_DIR), model_dtype=MODEL_DATA_TYPE, frames_per_mod=frames_per_mod)\n",
    "print(modulations)\n",
    "print(labels.shape)\n",
    "print(data.shape)"
   ]
  },
  {
   "cell_type": "code",
   "execution_count": 7,
   "metadata": {},
   "outputs": [],
   "source": [
    "# np.save(\"labels_mixed_V2_-30_30_30k.npy\", labels)\n",
    "# np.save(\"data_mixed_V2_-30_30_30k.npy\", data)"
   ]
  },
  {
   "cell_type": "code",
   "execution_count": 8,
   "metadata": {},
   "outputs": [],
   "source": [
    "# Data Ssplitting\n",
    "DS_SIZE = len(labels)\n",
    "\n",
    "n_train = int(0.8 * DS_SIZE)                # 80% - Train\n",
    "n_validation = int(0.1 * DS_SIZE)           # 10% - Validation\n",
    "n_test = DS_SIZE - n_train - n_validation   # 10% - Test\n",
    "\n",
    "random_indecies = np.arange(DS_SIZE)\n",
    "np.random.shuffle(random_indecies)\n",
    "\n",
    "train_indecies, validation_indecies, test_indecies, _ = np.split(\n",
    "    random_indecies, [int(DS_SIZE * 0.8), int(DS_SIZE * 0.9), DS_SIZE]\n",
    ")\n",
    "\n",
    "train_data, train_labels = data[train_indecies], labels[train_indecies]\n",
    "validation_data, validation_labels = data[validation_indecies], labels[validation_indecies]\n",
    "test_data, test_labels = data[test_indecies], labels[test_indecies]"
   ]
  },
  {
   "cell_type": "code",
   "execution_count": 9,
   "metadata": {},
   "outputs": [],
   "source": [
    "# Should save some memory\n",
    "del data\n",
    "del labels"
   ]
  },
  {
   "attachments": {},
   "cell_type": "markdown",
   "metadata": {},
   "source": [
    "## Model creation\n",
    "#### Parts of Encoder"
   ]
  },
  {
   "attachments": {},
   "cell_type": "markdown",
   "metadata": {},
   "source": [
    "Some utilities for final model\n"
   ]
  },
  {
   "cell_type": "code",
   "execution_count": 10,
   "metadata": {},
   "outputs": [],
   "source": [
    "from typing import List\n",
    "from dataclasses import dataclass\n",
    "\n",
    "@dataclass\n",
    "class ConvolutionConfiguration:\n",
    "    output_channels: List[int]\n",
    "    kernel_sizes: List[int]\n",
    "    paddings: List[str]\n",
    "    max_pool_sizes: List[int]\n",
    "\n",
    "@dataclass\n",
    "class DenseConfiguration:\n",
    "    sizes: List[int]"
   ]
  },
  {
   "attachments": {},
   "cell_type": "markdown",
   "metadata": {},
   "source": [
    "Model parts"
   ]
  },
  {
   "cell_type": "code",
   "execution_count": 11,
   "metadata": {},
   "outputs": [],
   "source": [
    "# https://github.com/dksakkos/BatchNorm\n",
    "class CustomBatchNorm(layers.Layer):\n",
    "    def __init__(self, *args, **kwargs):\n",
    "        super(CustomBatchNorm, self).__init__(*args, **kwargs)\n",
    "\n",
    "    def build(self, input_shape):\n",
    "        self.beta = self.add_weight(\n",
    "            name=\"custom_batch_beta\",\n",
    "            shape=(input_shape[-1]),\n",
    "            initializer=\"zeros\",\n",
    "            trainable=True,\n",
    "        )\n",
    "\n",
    "        self.gamma = self.add_weight(\n",
    "            name=\"custom_batch_gamma\",\n",
    "            shape=(input_shape[-1]),\n",
    "            initializer=\"ones\",\n",
    "            trainable=True,\n",
    "        )\n",
    "\n",
    "        self.moving_mean = self.add_weight(\n",
    "            name=\"custom_batch_moving_mean\",\n",
    "            shape=(input_shape[-1]),\n",
    "            initializer=tf.initializers.zeros,\n",
    "            trainable=False,\n",
    "        )\n",
    "\n",
    "        self.moving_variance = self.add_weight(\n",
    "            name=\"custom_batch_moving_variance\",\n",
    "            shape=(input_shape[-1]),\n",
    "            initializer=tf.initializers.ones,\n",
    "            trainable=False,\n",
    "        )"
   ]
  },
  {
   "attachments": {},
   "cell_type": "markdown",
   "metadata": {},
   "source": [
    "### Model\n",
    "Model constists of a CNNn -> b EncoderLayers -> c Dense layers"
   ]
  },
  {
   "cell_type": "code",
   "execution_count": 12,
   "metadata": {},
   "outputs": [],
   "source": [
    "def create_model_cnn(\n",
    "    cnn_conf: ConvolutionConfiguration,\n",
    "    dense_conf: DenseConfiguration,\n",
    "    avg_size: int = 32,\n",
    "    *args, \n",
    "    **kwargs\n",
    "):\n",
    "    InputLayer = keras.Input(shape=(1, 1024, 2))\n",
    "    assert (\n",
    "        len(cnn_conf.output_channels)\n",
    "        == len(cnn_conf.kernel_sizes)\n",
    "        == len(cnn_conf.paddings)\n",
    "        == len(cnn_conf.max_pool_sizes)\n",
    "    )\n",
    "    N_CNNs = len(cnn_conf.output_channels)\n",
    "    assert N_CNNs > 0\n",
    "\n",
    "    CNN1 = layers.Conv2D(\n",
    "        cnn_conf.output_channels[0],\n",
    "        (1, cnn_conf.kernel_sizes[0]),\n",
    "        padding=cnn_conf.paddings[0],\n",
    "        name=\"CNN1_\",\n",
    "    )(InputLayer)\n",
    "    model_layers = [CNN1]\n",
    "    model_layers.append(CustomBatchNorm(name=\"BN1_\")(model_layers[-1]))\n",
    "    if cnn_conf.max_pool_sizes[0] != 1:\n",
    "        model_layers.append(\n",
    "            layers.MaxPool2D(pool_size=(1, cnn_conf.max_pool_sizes[0]), strides=(1, 2), name=f\"MAX_POOL_1_\")(\n",
    "                model_layers[-1]\n",
    "            )\n",
    "        )\n",
    "    # model_layers.append(CustomBatchNorm(name=\"BN1_\")(model_layers[-1]))\n",
    "    model_layers.append(layers.ReLU(name=\"CNN_RELU1_\")(model_layers[-1]))\n",
    "\n",
    "    for i in range(1, N_CNNs):\n",
    "        model_layers.append(\n",
    "            layers.Conv2D(\n",
    "                cnn_conf.output_channels[i],\n",
    "                (1, cnn_conf.kernel_sizes[i]),\n",
    "                padding=cnn_conf.paddings[i],\n",
    "                name=f\"CNN{i+1}_\",\n",
    "            )(model_layers[-1])\n",
    "        )\n",
    "        model_layers.append(CustomBatchNorm(name=f\"BN{i+1}_\")(model_layers[-1]))\n",
    "        if cnn_conf.max_pool_sizes[i] != 1:\n",
    "            model_layers.append(\n",
    "                layers.MaxPool2D(\n",
    "                    pool_size=(1, cnn_conf.max_pool_sizes[i]),\n",
    "                    strides=(1, 2),\n",
    "                    name=f\"MAX_POOL_{i+1}_\",\n",
    "                )(model_layers[-1])\n",
    "            )\n",
    "        # model_layers.append(CustomBatchNorm(name=f\"BN{i+1}_\")(model_layers[-1]))\n",
    "        model_layers.append(layers.ReLU(name=f\"CNN_RELU{i+1}_\")(model_layers[-1]))\n",
    "\n",
    "    model_layers.append(layers.AveragePooling2D((1, avg_size), name=\"AVG1_\")(model_layers[-1]))\n",
    "\n",
    "    model_layers.append(layers.Flatten(name=\"FLT1_\")(model_layers[-1]))\n",
    "\n",
    "    N_Dense = len(dense_conf.sizes)\n",
    "\n",
    "    if N_Dense > 0:\n",
    "        model_layers.append(layers.Dense(dense_conf.sizes[0], name=\"FC1_\")(model_layers[-1]))\n",
    "        model_layers.append(layers.ReLU(name=\"FC_RELU1_\")(model_layers[-1]))\n",
    "\n",
    "        for i in range(1, N_Dense):\n",
    "            model_layers.append(\n",
    "                layers.Dense(dense_conf.sizes[i], name=f\"FC{i+1}_\")(model_layers[-1])\n",
    "            )\n",
    "            model_layers.append(layers.ReLU(name=f\"FC_RELU{i+1}_\")(model_layers[-1]))\n",
    "\n",
    "    model_layers.append(layers.Dense(len(modulations), name=f\"FC_{N_Dense+1}_\")(model_layers[-1]))\n",
    "    SoftMax = layers.Softmax()(model_layers[-1])\n",
    "    Output = layers.Flatten()(SoftMax)\n",
    "\n",
    "    # if args and isinstance(args[0], str):\n",
    "    #     model = keras.Model(inputs=[InputLayer], outputs=[Output], name=args[0])\n",
    "    # else:\n",
    "    model = keras.Model(inputs=[InputLayer], outputs=[Output])\n",
    "    return model"
   ]
  },
  {
   "attachments": {},
   "cell_type": "markdown",
   "metadata": {},
   "source": [
    "Test code above"
   ]
  },
  {
   "cell_type": "code",
   "execution_count": 13,
   "metadata": {},
   "outputs": [
    {
     "name": "stdout",
     "output_type": "stream",
     "text": [
      "Model: \"model\"\n",
      "_________________________________________________________________\n",
      " Layer (type)                Output Shape              Param #   \n",
      "=================================================================\n",
      " input_1 (InputLayer)        [(None, 1, 1024, 2)]      0         \n",
      "                                                                 \n",
      " CNN1_ (Conv2D)              (None, 1, 1024, 32)       544       \n",
      "                                                                 \n",
      " BN1_ (CustomBatchNorm)      (None, 1, 1024, 32)       128       \n",
      "                                                                 \n",
      " MAX_POOL_1_ (MaxPooling2D)  (None, 1, 512, 32)        0         \n",
      "                                                                 \n",
      " CNN_RELU1_ (ReLU)           (None, 1, 512, 32)        0         \n",
      "                                                                 \n",
      " CNN2_ (Conv2D)              (None, 1, 512, 48)        12336     \n",
      "                                                                 \n",
      " BN2_ (CustomBatchNorm)      (None, 1, 512, 48)        192       \n",
      "                                                                 \n",
      " MAX_POOL_2_ (MaxPooling2D)  (None, 1, 256, 48)        0         \n",
      "                                                                 \n",
      " CNN_RELU2_ (ReLU)           (None, 1, 256, 48)        0         \n",
      "                                                                 \n",
      " CNN3_ (Conv2D)              (None, 1, 256, 64)        24640     \n",
      "                                                                 \n",
      " BN3_ (CustomBatchNorm)      (None, 1, 256, 64)        256       \n",
      "                                                                 \n",
      " MAX_POOL_3_ (MaxPooling2D)  (None, 1, 128, 64)        0         \n",
      "                                                                 \n",
      " CNN_RELU3_ (ReLU)           (None, 1, 128, 64)        0         \n",
      "                                                                 \n",
      " CNN4_ (Conv2D)              (None, 1, 128, 96)        49248     \n",
      "                                                                 \n",
      " BN4_ (CustomBatchNorm)      (None, 1, 128, 96)        384       \n",
      "                                                                 \n",
      " MAX_POOL_4_ (MaxPooling2D)  (None, 1, 64, 96)         0         \n",
      "                                                                 \n",
      " CNN_RELU4_ (ReLU)           (None, 1, 64, 96)         0         \n",
      "                                                                 \n",
      " CNN5_ (Conv2D)              (None, 1, 64, 128)        98432     \n",
      "                                                                 \n",
      " BN5_ (CustomBatchNorm)      (None, 1, 64, 128)        512       \n",
      "                                                                 \n",
      " MAX_POOL_5_ (MaxPooling2D)  (None, 1, 32, 128)        0         \n",
      "                                                                 \n",
      " CNN_RELU5_ (ReLU)           (None, 1, 32, 128)        0         \n",
      "                                                                 \n",
      " CNN6_ (Conv2D)              (None, 1, 32, 192)        196800    \n",
      "                                                                 \n",
      " BN6_ (CustomBatchNorm)      (None, 1, 32, 192)        768       \n",
      "                                                                 \n",
      " CNN_RELU6_ (ReLU)           (None, 1, 32, 192)        0         \n",
      "                                                                 \n",
      " AVG1_ (AveragePooling2D)    (None, 1, 1, 192)         0         \n",
      "                                                                 \n",
      " FLT1_ (Flatten)             (None, 192)               0         \n",
      "                                                                 \n",
      " FC_1_ (Dense)               (None, 11)                2123      \n",
      "                                                                 \n",
      " softmax (Softmax)           (None, 11)                0         \n",
      "                                                                 \n",
      " flatten (Flatten)           (None, 11)                0         \n",
      "                                                                 \n",
      "=================================================================\n",
      "Total params: 386,363\n",
      "Trainable params: 385,243\n",
      "Non-trainable params: 1,120\n",
      "_________________________________________________________________\n"
     ]
    },
    {
     "name": "stderr",
     "output_type": "stream",
     "text": [
      "2023-05-08 00:28:55.109354: I tensorflow/compiler/xla/stream_executor/cuda/cuda_gpu_executor.cc:996] successful NUMA node read from SysFS had negative value (-1), but there must be at least one NUMA node, so returning NUMA node zero. See more at https://github.com/torvalds/linux/blob/v6.0/Documentation/ABI/testing/sysfs-bus-pci#L344-L355\n",
      "2023-05-08 00:28:55.109630: I tensorflow/compiler/xla/stream_executor/cuda/cuda_gpu_executor.cc:996] successful NUMA node read from SysFS had negative value (-1), but there must be at least one NUMA node, so returning NUMA node zero. See more at https://github.com/torvalds/linux/blob/v6.0/Documentation/ABI/testing/sysfs-bus-pci#L344-L355\n",
      "2023-05-08 00:28:55.109775: I tensorflow/compiler/xla/stream_executor/cuda/cuda_gpu_executor.cc:996] successful NUMA node read from SysFS had negative value (-1), but there must be at least one NUMA node, so returning NUMA node zero. See more at https://github.com/torvalds/linux/blob/v6.0/Documentation/ABI/testing/sysfs-bus-pci#L344-L355\n",
      "2023-05-08 00:28:55.800714: I tensorflow/compiler/xla/stream_executor/cuda/cuda_gpu_executor.cc:996] successful NUMA node read from SysFS had negative value (-1), but there must be at least one NUMA node, so returning NUMA node zero. See more at https://github.com/torvalds/linux/blob/v6.0/Documentation/ABI/testing/sysfs-bus-pci#L344-L355\n",
      "2023-05-08 00:28:55.801093: I tensorflow/compiler/xla/stream_executor/cuda/cuda_gpu_executor.cc:996] successful NUMA node read from SysFS had negative value (-1), but there must be at least one NUMA node, so returning NUMA node zero. See more at https://github.com/torvalds/linux/blob/v6.0/Documentation/ABI/testing/sysfs-bus-pci#L344-L355\n",
      "2023-05-08 00:28:55.801180: I tensorflow/compiler/xla/stream_executor/cuda/cuda_gpu_executor.cc:996] successful NUMA node read from SysFS had negative value (-1), but there must be at least one NUMA node, so returning NUMA node zero. See more at https://github.com/torvalds/linux/blob/v6.0/Documentation/ABI/testing/sysfs-bus-pci#L344-L355\n",
      "2023-05-08 00:28:55.801466: I tensorflow/core/common_runtime/gpu/gpu_device.cc:1635] Created device /job:localhost/replica:0/task:0/device:GPU:0 with 6056 MB memory:  -> device: 0, name: NVIDIA GeForce RTX 3070 Ti Laptop GPU, pci bus id: 0000:01:00.0, compute capability: 8.6\n"
     ]
    }
   ],
   "source": [
    "model = create_model_cnn(\n",
    "    ConvolutionConfiguration(output_channels=[32, 48, 64, 96, 128, 192], kernel_sizes=[8, 8, 8, 8, 8, 8], paddings=[\"same\", \"same\", \"same\", \"same\", \"same\", \"same\"], max_pool_sizes=[2, 2, 2, 2, 2, 1]),\n",
    "    DenseConfiguration(sizes=[])\n",
    ")\n",
    "model.summary()"
   ]
  },
  {
   "attachments": {},
   "cell_type": "markdown",
   "metadata": {},
   "source": [
    "### List of models we're interested at"
   ]
  },
  {
   "cell_type": "code",
   "execution_count": 19,
   "metadata": {},
   "outputs": [
    {
     "name": "stdout",
     "output_type": "stream",
     "text": [
      "[ConvolutionConfiguration(output_channels=[32, 48, 64, 96, 128, 192], kernel_sizes=[8, 8, 8, 8, 8, 8], paddings=['same', 'same', 'same', 'same', 'same', 'same'], max_pool_sizes=[2, 2, 2, 2, 2, 1]), DenseConfiguration(sizes=[]), 32, 'Default_medium']\n",
      "Model: \"model_3\"\n",
      "_________________________________________________________________\n",
      " Layer (type)                Output Shape              Param #   \n",
      "=================================================================\n",
      " input_4 (InputLayer)        [(None, 1, 1024, 2)]      0         \n",
      "                                                                 \n",
      " CNN1_ (Conv2D)              (None, 1, 1024, 32)       544       \n",
      "                                                                 \n",
      " BN1_ (CustomBatchNorm)      (None, 1, 1024, 32)       128       \n",
      "                                                                 \n",
      " MAX_POOL_1_ (MaxPooling2D)  (None, 1, 512, 32)        0         \n",
      "                                                                 \n",
      " CNN_RELU1_ (ReLU)           (None, 1, 512, 32)        0         \n",
      "                                                                 \n",
      " CNN2_ (Conv2D)              (None, 1, 512, 48)        12336     \n",
      "                                                                 \n",
      " BN2_ (CustomBatchNorm)      (None, 1, 512, 48)        192       \n",
      "                                                                 \n",
      " MAX_POOL_2_ (MaxPooling2D)  (None, 1, 256, 48)        0         \n",
      "                                                                 \n",
      " CNN_RELU2_ (ReLU)           (None, 1, 256, 48)        0         \n",
      "                                                                 \n",
      " CNN3_ (Conv2D)              (None, 1, 256, 64)        24640     \n",
      "                                                                 \n",
      " BN3_ (CustomBatchNorm)      (None, 1, 256, 64)        256       \n",
      "                                                                 \n",
      " MAX_POOL_3_ (MaxPooling2D)  (None, 1, 128, 64)        0         \n",
      "                                                                 \n",
      " CNN_RELU3_ (ReLU)           (None, 1, 128, 64)        0         \n",
      "                                                                 \n",
      " CNN4_ (Conv2D)              (None, 1, 128, 96)        49248     \n",
      "                                                                 \n",
      " BN4_ (CustomBatchNorm)      (None, 1, 128, 96)        384       \n",
      "                                                                 \n",
      " MAX_POOL_4_ (MaxPooling2D)  (None, 1, 64, 96)         0         \n",
      "                                                                 \n",
      " CNN_RELU4_ (ReLU)           (None, 1, 64, 96)         0         \n",
      "                                                                 \n",
      " CNN5_ (Conv2D)              (None, 1, 64, 128)        98432     \n",
      "                                                                 \n",
      " BN5_ (CustomBatchNorm)      (None, 1, 64, 128)        512       \n",
      "                                                                 \n",
      " MAX_POOL_5_ (MaxPooling2D)  (None, 1, 32, 128)        0         \n",
      "                                                                 \n",
      " CNN_RELU5_ (ReLU)           (None, 1, 32, 128)        0         \n",
      "                                                                 \n",
      " CNN6_ (Conv2D)              (None, 1, 32, 192)        196800    \n",
      "                                                                 \n",
      " BN6_ (CustomBatchNorm)      (None, 1, 32, 192)        768       \n",
      "                                                                 \n",
      " CNN_RELU6_ (ReLU)           (None, 1, 32, 192)        0         \n",
      "                                                                 \n",
      " AVG1_ (AveragePooling2D)    (None, 1, 1, 192)         0         \n",
      "                                                                 \n",
      " FLT1_ (Flatten)             (None, 192)               0         \n",
      "                                                                 \n",
      " FC_1_ (Dense)               (None, 11)                2123      \n",
      "                                                                 \n",
      " softmax_3 (Softmax)         (None, 11)                0         \n",
      "                                                                 \n",
      " flatten_3 (Flatten)         (None, 11)                0         \n",
      "                                                                 \n",
      "=================================================================\n",
      "Total params: 386,363\n",
      "Trainable params: 385,243\n",
      "Non-trainable params: 1,120\n",
      "_________________________________________________________________\n",
      "[ConvolutionConfiguration(output_channels=[32, 48, 64, 96, 128, 192, 256, 512], kernel_sizes=[8, 8, 8, 8, 8, 8, 8, 8], paddings=['same', 'same', 'same', 'same', 'same', 'same', 'same', 'same'], max_pool_sizes=[2, 1, 2, 1, 2, 2, 2, 1]), DenseConfiguration(sizes=[]), 32, 'output_channels=[32, 48, 64, 96, 128, 192, 256, 512]__max_pool_sizes=[1, 1, 2, 1, 2, 1, 2, 1]__avg_size=32']\n",
      "Model: \"model_4\"\n",
      "_________________________________________________________________\n",
      " Layer (type)                Output Shape              Param #   \n",
      "=================================================================\n",
      " input_5 (InputLayer)        [(None, 1, 1024, 2)]      0         \n",
      "                                                                 \n",
      " CNN1_ (Conv2D)              (None, 1, 1024, 32)       544       \n",
      "                                                                 \n",
      " BN1_ (CustomBatchNorm)      (None, 1, 1024, 32)       128       \n",
      "                                                                 \n",
      " MAX_POOL_1_ (MaxPooling2D)  (None, 1, 512, 32)        0         \n",
      "                                                                 \n",
      " CNN_RELU1_ (ReLU)           (None, 1, 512, 32)        0         \n",
      "                                                                 \n",
      " CNN2_ (Conv2D)              (None, 1, 512, 48)        12336     \n",
      "                                                                 \n",
      " BN2_ (CustomBatchNorm)      (None, 1, 512, 48)        192       \n",
      "                                                                 \n",
      " CNN_RELU2_ (ReLU)           (None, 1, 512, 48)        0         \n",
      "                                                                 \n",
      " CNN3_ (Conv2D)              (None, 1, 512, 64)        24640     \n",
      "                                                                 \n",
      " BN3_ (CustomBatchNorm)      (None, 1, 512, 64)        256       \n",
      "                                                                 \n",
      " MAX_POOL_3_ (MaxPooling2D)  (None, 1, 256, 64)        0         \n",
      "                                                                 \n",
      " CNN_RELU3_ (ReLU)           (None, 1, 256, 64)        0         \n",
      "                                                                 \n",
      " CNN4_ (Conv2D)              (None, 1, 256, 96)        49248     \n",
      "                                                                 \n",
      " BN4_ (CustomBatchNorm)      (None, 1, 256, 96)        384       \n",
      "                                                                 \n",
      " CNN_RELU4_ (ReLU)           (None, 1, 256, 96)        0         \n",
      "                                                                 \n",
      " CNN5_ (Conv2D)              (None, 1, 256, 128)       98432     \n",
      "                                                                 \n",
      " BN5_ (CustomBatchNorm)      (None, 1, 256, 128)       512       \n",
      "                                                                 \n",
      " MAX_POOL_5_ (MaxPooling2D)  (None, 1, 128, 128)       0         \n",
      "                                                                 \n",
      " CNN_RELU5_ (ReLU)           (None, 1, 128, 128)       0         \n",
      "                                                                 \n",
      " CNN6_ (Conv2D)              (None, 1, 128, 192)       196800    \n",
      "                                                                 \n",
      " BN6_ (CustomBatchNorm)      (None, 1, 128, 192)       768       \n",
      "                                                                 \n",
      " MAX_POOL_6_ (MaxPooling2D)  (None, 1, 64, 192)        0         \n",
      "                                                                 \n",
      " CNN_RELU6_ (ReLU)           (None, 1, 64, 192)        0         \n",
      "                                                                 \n",
      " CNN7_ (Conv2D)              (None, 1, 64, 256)        393472    \n",
      "                                                                 \n",
      " BN7_ (CustomBatchNorm)      (None, 1, 64, 256)        1024      \n",
      "                                                                 \n",
      " MAX_POOL_7_ (MaxPooling2D)  (None, 1, 32, 256)        0         \n",
      "                                                                 \n",
      " CNN_RELU7_ (ReLU)           (None, 1, 32, 256)        0         \n",
      "                                                                 \n",
      " CNN8_ (Conv2D)              (None, 1, 32, 512)        1049088   \n",
      "                                                                 \n",
      " BN8_ (CustomBatchNorm)      (None, 1, 32, 512)        2048      \n",
      "                                                                 \n",
      " CNN_RELU8_ (ReLU)           (None, 1, 32, 512)        0         \n",
      "                                                                 \n",
      " AVG1_ (AveragePooling2D)    (None, 1, 1, 512)         0         \n",
      "                                                                 \n",
      " FLT1_ (Flatten)             (None, 512)               0         \n",
      "                                                                 \n",
      " FC_1_ (Dense)               (None, 11)                5643      \n",
      "                                                                 \n",
      " softmax_4 (Softmax)         (None, 11)                0         \n",
      "                                                                 \n",
      " flatten_4 (Flatten)         (None, 11)                0         \n",
      "                                                                 \n",
      "=================================================================\n",
      "Total params: 1,835,515\n",
      "Trainable params: 1,832,859\n",
      "Non-trainable params: 2,656\n",
      "_________________________________________________________________\n"
     ]
    }
   ],
   "source": [
    "default_cnn_conf = ConvolutionConfiguration(\n",
    "    output_channels=[32, 48, 64, 96, 128, 192],\n",
    "    kernel_sizes=[8, 8, 8, 8, 8, 8],\n",
    "    paddings=[\"same\", \"same\", \"same\", \"same\", \"same\", \"same\"],\n",
    "    max_pool_sizes=[2, 2, 2, 2, 2, 1],\n",
    ")\n",
    "default_dense_conf = DenseConfiguration(sizes=[])\n",
    "default_avg_size = 32\n",
    "\n",
    "configs = [\n",
    "    [default_cnn_conf, default_dense_conf, default_avg_size, \"Default_medium\"],\n",
    "    # Different kernel sizes\n",
    "    # [ConvolutionConfiguration(output_channels=[32, 48, 64, 96, 128, 192], kernel_sizes=[17, 17, 17, 17, 17, 17], paddings=[\"same\", \"same\", \"same\", \"same\", \"same\", \"same\"], max_pool_sizes=[2, 2, 2, 2, 2, 1]), default_dense_conf, default_avg_size, \"k=17\"],\n",
    "    # [ConvolutionConfiguration(output_channels=[32, 48, 64, 96, 128, 192], kernel_sizes=[33, 33, 33, 33, 33, 33], paddings=[\"same\", \"same\", \"same\", \"same\", \"same\", \"same\"], max_pool_sizes=[2, 2, 2, 2, 2, 1]), default_dense_conf, default_avg_size, \"k=33\"],\n",
    "    # [ConvolutionConfiguration(output_channels=[32, 48, 64, 96, 128, 192], kernel_sizes=[65, 65, 65, 65, 65, 65], paddings=[\"same\", \"same\", \"same\", \"same\", \"same\", \"same\"], max_pool_sizes=[2, 2, 2, 2, 2, 1]), default_dense_conf, default_avg_size, \"k=65\"],\n",
    "    \n",
    "    # Different Width of encoder layers\n",
    "    # [ConvolutionConfiguration(output_channels=[16, 16, 32, 32, 64, 64], kernel_sizes=[8, 8, 8, 8, 8, 8], paddings=[\"same\", \"same\", \"same\", \"same\", \"same\", \"same\"], max_pool_sizes=[2, 2, 2, 2, 2, 1]), default_dense_conf, default_avg_size, \"output_channels=[16, 16, 32, 32, 64, 64]\"],\n",
    "    # [ConvolutionConfiguration(output_channels=[32, 32, 48, 64, 64, 96], kernel_sizes=[8, 8, 8, 8, 8, 8], paddings=[\"same\", \"same\", \"same\", \"same\", \"same\", \"same\"], max_pool_sizes=[2, 2, 2, 2, 2, 1]), default_dense_conf, default_avg_size, \"output_channels=[32, 32, 48, 64, 64, 96]\"],\n",
    "    # [ConvolutionConfiguration(output_channels=[64, 64, 128, 192, 192, 256], kernel_sizes=[8, 8, 8, 8, 8, 8], paddings=[\"same\", \"same\", \"same\", \"same\", \"same\", \"same\"], max_pool_sizes=[2, 2, 2, 2, 2, 1]), default_dense_conf, default_avg_size, \"output_channels=[64, 64, 128, 192, 192, 256]\"],\n",
    "\n",
    "    # Different depth of model\n",
    "    # [ConvolutionConfiguration(output_channels=[32, 48, 64], kernel_sizes=[8, 8, 8], paddings=[\"same\", \"same\", \"same\"], max_pool_sizes=[2, 2, 2]), default_dense_conf, 128, \"output_channels=[32, 48, 64]__max_pool_sizes=[1, 2, 2]__avg_size=128\"],\n",
    "    [ConvolutionConfiguration(output_channels=[32, 48, 64, 96, 128, 192, 256, 512], kernel_sizes=[8, 8, 8, 8, 8, 8, 8, 8], paddings=[\"same\", \"same\", \"same\", \"same\", \"same\", \"same\", \"same\", \"same\"], max_pool_sizes=[2, 1, 2, 1, 2, 2, 2, 1]), default_dense_conf, 32, \"output_channels=[32, 48, 64, 96, 128, 192, 256, 512]__max_pool_sizes=[1, 1, 2, 1, 2, 1, 2, 1]__avg_size=32\"],\n",
    "]\n",
    "\n",
    "for config in configs:\n",
    "    print(config)\n",
    "    model = create_model_cnn(*config)\n",
    "    model.summary()"
   ]
  },
  {
   "attachments": {},
   "cell_type": "markdown",
   "metadata": {},
   "source": [
    "### Model evaluation functions"
   ]
  },
  {
   "cell_type": "code",
   "execution_count": 20,
   "metadata": {},
   "outputs": [],
   "source": [
    "import pickle\n",
    "\n",
    "def evaluate_model(model, data, labels, verbose=True):\n",
    "    preds = model.predict(data)\n",
    "    pred_labels = np.argmax(preds, axis=1)\n",
    "\n",
    "    cls_to_acc = {\"Overall\": accuracy_score(labels, pred_labels)}\n",
    "    print(f\"Overall test accuracy: {cls_to_acc}\")\n",
    "    for ci, cl in enumerate(modulations):\n",
    "        class_indecies = np.where(labels == ci)[0]\n",
    "        cur_true_labels = labels[class_indecies]\n",
    "        cur_pred_labels = pred_labels[class_indecies]\n",
    "        cls_to_acc[cl] = accuracy_score(cur_true_labels, cur_pred_labels)\n",
    "        verbose and print(f\"{cl} test accuracy: {cls_to_acc[cl]}\")\n",
    "    cm = confusion_matrix(y_true=labels, y_pred=pred_labels)\n",
    "    verbose and print(cm)\n",
    "    df_cm = pd.DataFrame(cm, index = modulations,\n",
    "                    columns = modulations)\n",
    "    if verbose:\n",
    "        plt.figure(figsize = (10,7))\n",
    "        sn.heatmap(df_cm, annot=True)\n",
    "    return cm, cls_to_acc\n",
    "\n",
    "\n",
    "def get_snr_to_acc(model, data, labels, indecies, minimum_snr=-100, verbose=True):\n",
    "    def snr_by_idx(idx):\n",
    "        snr_idx = (idx % 30000) // (30000 // len(snrs))\n",
    "        return snrs[snr_idx]\n",
    "\n",
    "    cur_snrs = np.array([snr_by_idx(idx) for idx in indecies])\n",
    "\n",
    "    snr_to_acc = {}\n",
    "    for snr in snrs:\n",
    "        cur_indecies = np.where(cur_snrs == snr)[0]\n",
    "        cur_data = data[cur_indecies]\n",
    "        cur_labels = labels[cur_indecies]\n",
    "        cur_pred = model.predict(cur_data, verbose=0)\n",
    "        cur_pred_labels = np.argmax(cur_pred, axis=1)\n",
    "        verbose and print(f\"snr={snr}\")\n",
    "        acc = accuracy_score(cur_labels, cur_pred_labels)\n",
    "        verbose and print(f\"Overall test accuracy: {acc}\")\n",
    "        snr_to_acc[snr] = acc\n",
    "    return snr_to_acc"
   ]
  },
  {
   "attachments": {},
   "cell_type": "markdown",
   "metadata": {},
   "source": [
    "### Train, evaluate, save model and evaluation results"
   ]
  },
  {
   "cell_type": "code",
   "execution_count": 22,
   "metadata": {},
   "outputs": [
    {
     "name": "stdout",
     "output_type": "stream",
     "text": [
      "Model: \"model_5\"\n",
      "_________________________________________________________________\n",
      " Layer (type)                Output Shape              Param #   \n",
      "=================================================================\n",
      " input_6 (InputLayer)        [(None, 1, 1024, 2)]      0         \n",
      "                                                                 \n",
      " CNN1_ (Conv2D)              (None, 1, 1024, 32)       544       \n",
      "                                                                 \n",
      " BN1_ (CustomBatchNorm)      (None, 1, 1024, 32)       128       \n",
      "                                                                 \n",
      " MAX_POOL_1_ (MaxPooling2D)  (None, 1, 512, 32)        0         \n",
      "                                                                 \n",
      " CNN_RELU1_ (ReLU)           (None, 1, 512, 32)        0         \n",
      "                                                                 \n",
      " CNN2_ (Conv2D)              (None, 1, 512, 48)        12336     \n",
      "                                                                 \n",
      " BN2_ (CustomBatchNorm)      (None, 1, 512, 48)        192       \n",
      "                                                                 \n",
      " MAX_POOL_2_ (MaxPooling2D)  (None, 1, 256, 48)        0         \n",
      "                                                                 \n",
      " CNN_RELU2_ (ReLU)           (None, 1, 256, 48)        0         \n",
      "                                                                 \n",
      " CNN3_ (Conv2D)              (None, 1, 256, 64)        24640     \n",
      "                                                                 \n",
      " BN3_ (CustomBatchNorm)      (None, 1, 256, 64)        256       \n",
      "                                                                 \n",
      " MAX_POOL_3_ (MaxPooling2D)  (None, 1, 128, 64)        0         \n",
      "                                                                 \n",
      " CNN_RELU3_ (ReLU)           (None, 1, 128, 64)        0         \n",
      "                                                                 \n",
      " CNN4_ (Conv2D)              (None, 1, 128, 96)        49248     \n",
      "                                                                 \n",
      " BN4_ (CustomBatchNorm)      (None, 1, 128, 96)        384       \n",
      "                                                                 \n",
      " MAX_POOL_4_ (MaxPooling2D)  (None, 1, 64, 96)         0         \n",
      "                                                                 \n",
      " CNN_RELU4_ (ReLU)           (None, 1, 64, 96)         0         \n",
      "                                                                 \n",
      " CNN5_ (Conv2D)              (None, 1, 64, 128)        98432     \n",
      "                                                                 \n",
      " BN5_ (CustomBatchNorm)      (None, 1, 64, 128)        512       \n",
      "                                                                 \n",
      " MAX_POOL_5_ (MaxPooling2D)  (None, 1, 32, 128)        0         \n",
      "                                                                 \n",
      " CNN_RELU5_ (ReLU)           (None, 1, 32, 128)        0         \n",
      "                                                                 \n",
      " CNN6_ (Conv2D)              (None, 1, 32, 192)        196800    \n",
      "                                                                 \n",
      " BN6_ (CustomBatchNorm)      (None, 1, 32, 192)        768       \n",
      "                                                                 \n",
      " CNN_RELU6_ (ReLU)           (None, 1, 32, 192)        0         \n",
      "                                                                 \n",
      " AVG1_ (AveragePooling2D)    (None, 1, 1, 192)         0         \n",
      "                                                                 \n",
      " FLT1_ (Flatten)             (None, 192)               0         \n",
      "                                                                 \n",
      " FC_1_ (Dense)               (None, 11)                2123      \n",
      "                                                                 \n",
      " softmax_5 (Softmax)         (None, 11)                0         \n",
      "                                                                 \n",
      " flatten_5 (Flatten)         (None, 11)                0         \n",
      "                                                                 \n",
      "=================================================================\n",
      "Total params: 386,363\n",
      "Trainable params: 385,243\n",
      "Non-trainable params: 1,120\n",
      "_________________________________________________________________\n",
      "Epoch 1/16\n",
      "WARNING:tensorflow:Gradients do not exist for variables ['BN1_/custom_batch_beta:0', 'BN1_/custom_batch_gamma:0', 'BN2_/custom_batch_beta:0', 'BN2_/custom_batch_gamma:0', 'BN3_/custom_batch_beta:0', 'BN3_/custom_batch_gamma:0', 'BN4_/custom_batch_beta:0', 'BN4_/custom_batch_gamma:0', 'BN5_/custom_batch_beta:0', 'BN5_/custom_batch_gamma:0', 'BN6_/custom_batch_beta:0', 'BN6_/custom_batch_gamma:0'] when minimizing the loss. If you're using `model.compile()`, did you forget to provide a `loss` argument?\n"
     ]
    },
    {
     "name": "stderr",
     "output_type": "stream",
     "text": [
      "WARNING:tensorflow:Gradients do not exist for variables ['BN1_/custom_batch_beta:0', 'BN1_/custom_batch_gamma:0', 'BN2_/custom_batch_beta:0', 'BN2_/custom_batch_gamma:0', 'BN3_/custom_batch_beta:0', 'BN3_/custom_batch_gamma:0', 'BN4_/custom_batch_beta:0', 'BN4_/custom_batch_gamma:0', 'BN5_/custom_batch_beta:0', 'BN5_/custom_batch_gamma:0', 'BN6_/custom_batch_beta:0', 'BN6_/custom_batch_gamma:0'] when minimizing the loss. If you're using `model.compile()`, did you forget to provide a `loss` argument?\n"
     ]
    },
    {
     "name": "stdout",
     "output_type": "stream",
     "text": [
      "WARNING:tensorflow:Gradients do not exist for variables ['BN1_/custom_batch_beta:0', 'BN1_/custom_batch_gamma:0', 'BN2_/custom_batch_beta:0', 'BN2_/custom_batch_gamma:0', 'BN3_/custom_batch_beta:0', 'BN3_/custom_batch_gamma:0', 'BN4_/custom_batch_beta:0', 'BN4_/custom_batch_gamma:0', 'BN5_/custom_batch_beta:0', 'BN5_/custom_batch_gamma:0', 'BN6_/custom_batch_beta:0', 'BN6_/custom_batch_gamma:0'] when minimizing the loss. If you're using `model.compile()`, did you forget to provide a `loss` argument?\n"
     ]
    },
    {
     "name": "stderr",
     "output_type": "stream",
     "text": [
      "WARNING:tensorflow:Gradients do not exist for variables ['BN1_/custom_batch_beta:0', 'BN1_/custom_batch_gamma:0', 'BN2_/custom_batch_beta:0', 'BN2_/custom_batch_gamma:0', 'BN3_/custom_batch_beta:0', 'BN3_/custom_batch_gamma:0', 'BN4_/custom_batch_beta:0', 'BN4_/custom_batch_gamma:0', 'BN5_/custom_batch_beta:0', 'BN5_/custom_batch_gamma:0', 'BN6_/custom_batch_beta:0', 'BN6_/custom_batch_gamma:0'] when minimizing the loss. If you're using `model.compile()`, did you forget to provide a `loss` argument?\n"
     ]
    },
    {
     "name": "stdout",
     "output_type": "stream",
     "text": [
      "WARNING:tensorflow:Gradients do not exist for variables ['BN1_/custom_batch_beta:0', 'BN1_/custom_batch_gamma:0', 'BN2_/custom_batch_beta:0', 'BN2_/custom_batch_gamma:0', 'BN3_/custom_batch_beta:0', 'BN3_/custom_batch_gamma:0', 'BN4_/custom_batch_beta:0', 'BN4_/custom_batch_gamma:0', 'BN5_/custom_batch_beta:0', 'BN5_/custom_batch_gamma:0', 'BN6_/custom_batch_beta:0', 'BN6_/custom_batch_gamma:0'] when minimizing the loss. If you're using `model.compile()`, did you forget to provide a `loss` argument?\n"
     ]
    },
    {
     "name": "stderr",
     "output_type": "stream",
     "text": [
      "WARNING:tensorflow:Gradients do not exist for variables ['BN1_/custom_batch_beta:0', 'BN1_/custom_batch_gamma:0', 'BN2_/custom_batch_beta:0', 'BN2_/custom_batch_gamma:0', 'BN3_/custom_batch_beta:0', 'BN3_/custom_batch_gamma:0', 'BN4_/custom_batch_beta:0', 'BN4_/custom_batch_gamma:0', 'BN5_/custom_batch_beta:0', 'BN5_/custom_batch_gamma:0', 'BN6_/custom_batch_beta:0', 'BN6_/custom_batch_gamma:0'] when minimizing the loss. If you're using `model.compile()`, did you forget to provide a `loss` argument?\n"
     ]
    },
    {
     "name": "stdout",
     "output_type": "stream",
     "text": [
      "WARNING:tensorflow:Gradients do not exist for variables ['BN1_/custom_batch_beta:0', 'BN1_/custom_batch_gamma:0', 'BN2_/custom_batch_beta:0', 'BN2_/custom_batch_gamma:0', 'BN3_/custom_batch_beta:0', 'BN3_/custom_batch_gamma:0', 'BN4_/custom_batch_beta:0', 'BN4_/custom_batch_gamma:0', 'BN5_/custom_batch_beta:0', 'BN5_/custom_batch_gamma:0', 'BN6_/custom_batch_beta:0', 'BN6_/custom_batch_gamma:0'] when minimizing the loss. If you're using `model.compile()`, did you forget to provide a `loss` argument?\n"
     ]
    },
    {
     "name": "stderr",
     "output_type": "stream",
     "text": [
      "WARNING:tensorflow:Gradients do not exist for variables ['BN1_/custom_batch_beta:0', 'BN1_/custom_batch_gamma:0', 'BN2_/custom_batch_beta:0', 'BN2_/custom_batch_gamma:0', 'BN3_/custom_batch_beta:0', 'BN3_/custom_batch_gamma:0', 'BN4_/custom_batch_beta:0', 'BN4_/custom_batch_gamma:0', 'BN5_/custom_batch_beta:0', 'BN5_/custom_batch_gamma:0', 'BN6_/custom_batch_beta:0', 'BN6_/custom_batch_gamma:0'] when minimizing the loss. If you're using `model.compile()`, did you forget to provide a `loss` argument?\n",
      "2023-05-08 00:30:41.807850: I tensorflow/compiler/xla/stream_executor/cuda/cuda_dnn.cc:424] Loaded cuDNN version 8600\n",
      "2023-05-08 00:30:42.833085: W tensorflow/tsl/framework/bfc_allocator.cc:296] Allocator (GPU_0_bfc) ran out of memory trying to allocate 7.07GiB with freed_by_count=0. The caller indicates that this is not a failure, but this may mean that there could be performance gains if more memory were available.\n",
      "2023-05-08 00:30:42.834513: W tensorflow/tsl/framework/bfc_allocator.cc:296] Allocator (GPU_0_bfc) ran out of memory trying to allocate 7.07GiB with freed_by_count=0. The caller indicates that this is not a failure, but this may mean that there could be performance gains if more memory were available.\n",
      "2023-05-08 00:30:42.924657: I tensorflow/compiler/xla/stream_executor/cuda/cuda_blas.cc:637] TensorFloat-32 will be used for the matrix multiplication. This will only be logged once.\n",
      "2023-05-08 00:30:42.941323: I tensorflow/compiler/xla/service/service.cc:169] XLA service 0x34844140 initialized for platform CUDA (this does not guarantee that XLA will be used). Devices:\n",
      "2023-05-08 00:30:42.941357: I tensorflow/compiler/xla/service/service.cc:177]   StreamExecutor device (0): NVIDIA GeForce RTX 3070 Ti Laptop GPU, Compute Capability 8.6\n",
      "2023-05-08 00:30:42.972335: I tensorflow/compiler/mlir/tensorflow/utils/dump_mlir_util.cc:269] disabling MLIR crash reproducer, set env var `MLIR_CRASH_REPRODUCER_DIRECTORY` to enable.\n",
      "2023-05-08 00:30:43.222930: I ./tensorflow/compiler/jit/device_compiler.h:180] Compiled cluster using XLA!  This line is logged at most once for the lifetime of the process.\n"
     ]
    },
    {
     "name": "stdout",
     "output_type": "stream",
     "text": [
      "2058/2063 [============================>.] - ETA: 0s - loss: 0.6818 - accuracy: 0.7265"
     ]
    },
    {
     "name": "stderr",
     "output_type": "stream",
     "text": [
      "2023-05-08 00:31:03.390979: W tensorflow/tsl/framework/bfc_allocator.cc:296] Allocator (GPU_0_bfc) ran out of memory trying to allocate 6.06GiB with freed_by_count=0. The caller indicates that this is not a failure, but this may mean that there could be performance gains if more memory were available.\n",
      "2023-05-08 00:31:03.415860: W tensorflow/tsl/framework/bfc_allocator.cc:296] Allocator (GPU_0_bfc) ran out of memory trying to allocate 5.06GiB with freed_by_count=0. The caller indicates that this is not a failure, but this may mean that there could be performance gains if more memory were available.\n"
     ]
    },
    {
     "name": "stdout",
     "output_type": "stream",
     "text": [
      "2063/2063 [==============================] - 25s 10ms/step - loss: 0.6812 - accuracy: 0.7267 - val_loss: 0.4101 - val_accuracy: 0.8379 - lr: 0.0010\n",
      "Epoch 2/16\n",
      "2063/2063 [==============================] - 19s 9ms/step - loss: 0.3666 - accuracy: 0.8608 - val_loss: 0.3139 - val_accuracy: 0.8823 - lr: 0.0010\n",
      "Epoch 3/16\n",
      "2063/2063 [==============================] - 19s 9ms/step - loss: 0.3197 - accuracy: 0.8786 - val_loss: 0.3203 - val_accuracy: 0.8779 - lr: 0.0010\n",
      "Epoch 4/16\n",
      "2063/2063 [==============================] - 18s 9ms/step - loss: 0.2935 - accuracy: 0.8895 - val_loss: 0.2839 - val_accuracy: 0.8944 - lr: 0.0010\n",
      "Epoch 5/16\n",
      "2063/2063 [==============================] - 19s 9ms/step - loss: 0.2748 - accuracy: 0.8964 - val_loss: 0.2681 - val_accuracy: 0.9007 - lr: 0.0010\n",
      "Epoch 6/16\n",
      "2063/2063 [==============================] - 19s 9ms/step - loss: 0.2614 - accuracy: 0.9010 - val_loss: 0.2810 - val_accuracy: 0.8911 - lr: 0.0010\n",
      "Epoch 7/16\n",
      "2063/2063 [==============================] - 20s 10ms/step - loss: 0.2490 - accuracy: 0.9062 - val_loss: 0.2657 - val_accuracy: 0.9005 - lr: 0.0010\n",
      "Epoch 8/16\n",
      "2063/2063 [==============================] - 19s 9ms/step - loss: 0.2377 - accuracy: 0.9104 - val_loss: 0.2747 - val_accuracy: 0.8984 - lr: 0.0010\n",
      "Epoch 9/16\n",
      "2063/2063 [==============================] - 20s 10ms/step - loss: 0.1902 - accuracy: 0.9296 - val_loss: 0.2420 - val_accuracy: 0.9100 - lr: 1.0000e-04\n",
      "Epoch 10/16\n",
      "2063/2063 [==============================] - 20s 10ms/step - loss: 0.1825 - accuracy: 0.9323 - val_loss: 0.2453 - val_accuracy: 0.9114 - lr: 1.0000e-04\n",
      "Epoch 11/16\n",
      "2063/2063 [==============================] - 20s 10ms/step - loss: 0.1775 - accuracy: 0.9345 - val_loss: 0.2464 - val_accuracy: 0.9096 - lr: 1.0000e-04\n",
      "Epoch 12/16\n",
      "2063/2063 [==============================] - 20s 10ms/step - loss: 0.1729 - accuracy: 0.9362 - val_loss: 0.2508 - val_accuracy: 0.9089 - lr: 1.0000e-04\n",
      "Epoch 13/16\n",
      "2063/2063 [==============================] - 20s 10ms/step - loss: 0.1690 - accuracy: 0.9381 - val_loss: 0.2510 - val_accuracy: 0.9094 - lr: 1.0000e-04\n",
      "Epoch 14/16\n",
      "2063/2063 [==============================] - 21s 10ms/step - loss: 0.1647 - accuracy: 0.9394 - val_loss: 0.2568 - val_accuracy: 0.9094 - lr: 1.0000e-04\n",
      "Epoch 15/16\n",
      "2063/2063 [==============================] - 21s 10ms/step - loss: 0.1607 - accuracy: 0.9413 - val_loss: 0.2596 - val_accuracy: 0.9093 - lr: 1.0000e-04\n",
      "Epoch 16/16\n",
      "2063/2063 [==============================] - 20s 10ms/step - loss: 0.1565 - accuracy: 0.9429 - val_loss: 0.2614 - val_accuracy: 0.9078 - lr: 1.0000e-04\n",
      "1032/1032 [==============================] - 3s 2ms/step\n",
      "Overall test accuracy: {'Overall': 0.9077575757575758}\n",
      "1032/1032 [==============================] - 2s 2ms/step\n",
      "Overall test accuracy: {'Overall': 0.9101818181818182}\n"
     ]
    },
    {
     "name": "stderr",
     "output_type": "stream",
     "text": [
      "WARNING:absl:Found untraced functions such as _jit_compiled_convolution_op, _jit_compiled_convolution_op, _jit_compiled_convolution_op, _jit_compiled_convolution_op, _jit_compiled_convolution_op while saving (showing 5 of 6). These functions will not be directly callable after loading.\n"
     ]
    },
    {
     "name": "stdout",
     "output_type": "stream",
     "text": [
      "INFO:tensorflow:Assets written to: CNN_mixed_v2_0-30/experiment_0/model/assets\n"
     ]
    },
    {
     "name": "stderr",
     "output_type": "stream",
     "text": [
      "INFO:tensorflow:Assets written to: CNN_mixed_v2_0-30/experiment_0/model/assets\n"
     ]
    },
    {
     "name": "stdout",
     "output_type": "stream",
     "text": [
      "Model: \"model_6\"\n",
      "_________________________________________________________________\n",
      " Layer (type)                Output Shape              Param #   \n",
      "=================================================================\n",
      " input_7 (InputLayer)        [(None, 1, 1024, 2)]      0         \n",
      "                                                                 \n",
      " CNN1_ (Conv2D)              (None, 1, 1024, 32)       544       \n",
      "                                                                 \n",
      " BN1_ (CustomBatchNorm)      (None, 1, 1024, 32)       128       \n",
      "                                                                 \n",
      " MAX_POOL_1_ (MaxPooling2D)  (None, 1, 512, 32)        0         \n",
      "                                                                 \n",
      " CNN_RELU1_ (ReLU)           (None, 1, 512, 32)        0         \n",
      "                                                                 \n",
      " CNN2_ (Conv2D)              (None, 1, 512, 48)        12336     \n",
      "                                                                 \n",
      " BN2_ (CustomBatchNorm)      (None, 1, 512, 48)        192       \n",
      "                                                                 \n",
      " CNN_RELU2_ (ReLU)           (None, 1, 512, 48)        0         \n",
      "                                                                 \n",
      " CNN3_ (Conv2D)              (None, 1, 512, 64)        24640     \n",
      "                                                                 \n",
      " BN3_ (CustomBatchNorm)      (None, 1, 512, 64)        256       \n",
      "                                                                 \n",
      " MAX_POOL_3_ (MaxPooling2D)  (None, 1, 256, 64)        0         \n",
      "                                                                 \n",
      " CNN_RELU3_ (ReLU)           (None, 1, 256, 64)        0         \n",
      "                                                                 \n",
      " CNN4_ (Conv2D)              (None, 1, 256, 96)        49248     \n",
      "                                                                 \n",
      " BN4_ (CustomBatchNorm)      (None, 1, 256, 96)        384       \n",
      "                                                                 \n",
      " CNN_RELU4_ (ReLU)           (None, 1, 256, 96)        0         \n",
      "                                                                 \n",
      " CNN5_ (Conv2D)              (None, 1, 256, 128)       98432     \n",
      "                                                                 \n",
      " BN5_ (CustomBatchNorm)      (None, 1, 256, 128)       512       \n",
      "                                                                 \n",
      " MAX_POOL_5_ (MaxPooling2D)  (None, 1, 128, 128)       0         \n",
      "                                                                 \n",
      " CNN_RELU5_ (ReLU)           (None, 1, 128, 128)       0         \n",
      "                                                                 \n",
      " CNN6_ (Conv2D)              (None, 1, 128, 192)       196800    \n",
      "                                                                 \n",
      " BN6_ (CustomBatchNorm)      (None, 1, 128, 192)       768       \n",
      "                                                                 \n",
      " MAX_POOL_6_ (MaxPooling2D)  (None, 1, 64, 192)        0         \n",
      "                                                                 \n",
      " CNN_RELU6_ (ReLU)           (None, 1, 64, 192)        0         \n",
      "                                                                 \n",
      " CNN7_ (Conv2D)              (None, 1, 64, 256)        393472    \n",
      "                                                                 \n",
      " BN7_ (CustomBatchNorm)      (None, 1, 64, 256)        1024      \n",
      "                                                                 \n",
      " MAX_POOL_7_ (MaxPooling2D)  (None, 1, 32, 256)        0         \n",
      "                                                                 \n",
      " CNN_RELU7_ (ReLU)           (None, 1, 32, 256)        0         \n",
      "                                                                 \n",
      " CNN8_ (Conv2D)              (None, 1, 32, 512)        1049088   \n",
      "                                                                 \n",
      " BN8_ (CustomBatchNorm)      (None, 1, 32, 512)        2048      \n",
      "                                                                 \n",
      " CNN_RELU8_ (ReLU)           (None, 1, 32, 512)        0         \n",
      "                                                                 \n",
      " AVG1_ (AveragePooling2D)    (None, 1, 1, 512)         0         \n",
      "                                                                 \n",
      " FLT1_ (Flatten)             (None, 512)               0         \n",
      "                                                                 \n",
      " FC_1_ (Dense)               (None, 11)                5643      \n",
      "                                                                 \n",
      " softmax_6 (Softmax)         (None, 11)                0         \n",
      "                                                                 \n",
      " flatten_6 (Flatten)         (None, 11)                0         \n",
      "                                                                 \n",
      "=================================================================\n",
      "Total params: 1,835,515\n",
      "Trainable params: 1,832,859\n",
      "Non-trainable params: 2,656\n",
      "_________________________________________________________________\n",
      "Epoch 1/16\n",
      "WARNING:tensorflow:Gradients do not exist for variables ['BN1_/custom_batch_beta:0', 'BN1_/custom_batch_gamma:0', 'BN2_/custom_batch_beta:0', 'BN2_/custom_batch_gamma:0', 'BN3_/custom_batch_beta:0', 'BN3_/custom_batch_gamma:0', 'BN4_/custom_batch_beta:0', 'BN4_/custom_batch_gamma:0', 'BN5_/custom_batch_beta:0', 'BN5_/custom_batch_gamma:0', 'BN6_/custom_batch_beta:0', 'BN6_/custom_batch_gamma:0', 'BN7_/custom_batch_beta:0', 'BN7_/custom_batch_gamma:0', 'BN8_/custom_batch_beta:0', 'BN8_/custom_batch_gamma:0'] when minimizing the loss. If you're using `model.compile()`, did you forget to provide a `loss` argument?\n"
     ]
    },
    {
     "name": "stderr",
     "output_type": "stream",
     "text": [
      "WARNING:tensorflow:Gradients do not exist for variables ['BN1_/custom_batch_beta:0', 'BN1_/custom_batch_gamma:0', 'BN2_/custom_batch_beta:0', 'BN2_/custom_batch_gamma:0', 'BN3_/custom_batch_beta:0', 'BN3_/custom_batch_gamma:0', 'BN4_/custom_batch_beta:0', 'BN4_/custom_batch_gamma:0', 'BN5_/custom_batch_beta:0', 'BN5_/custom_batch_gamma:0', 'BN6_/custom_batch_beta:0', 'BN6_/custom_batch_gamma:0', 'BN7_/custom_batch_beta:0', 'BN7_/custom_batch_gamma:0', 'BN8_/custom_batch_beta:0', 'BN8_/custom_batch_gamma:0'] when minimizing the loss. If you're using `model.compile()`, did you forget to provide a `loss` argument?\n"
     ]
    },
    {
     "name": "stdout",
     "output_type": "stream",
     "text": [
      "WARNING:tensorflow:Gradients do not exist for variables ['BN1_/custom_batch_beta:0', 'BN1_/custom_batch_gamma:0', 'BN2_/custom_batch_beta:0', 'BN2_/custom_batch_gamma:0', 'BN3_/custom_batch_beta:0', 'BN3_/custom_batch_gamma:0', 'BN4_/custom_batch_beta:0', 'BN4_/custom_batch_gamma:0', 'BN5_/custom_batch_beta:0', 'BN5_/custom_batch_gamma:0', 'BN6_/custom_batch_beta:0', 'BN6_/custom_batch_gamma:0', 'BN7_/custom_batch_beta:0', 'BN7_/custom_batch_gamma:0', 'BN8_/custom_batch_beta:0', 'BN8_/custom_batch_gamma:0'] when minimizing the loss. If you're using `model.compile()`, did you forget to provide a `loss` argument?\n"
     ]
    },
    {
     "name": "stderr",
     "output_type": "stream",
     "text": [
      "WARNING:tensorflow:Gradients do not exist for variables ['BN1_/custom_batch_beta:0', 'BN1_/custom_batch_gamma:0', 'BN2_/custom_batch_beta:0', 'BN2_/custom_batch_gamma:0', 'BN3_/custom_batch_beta:0', 'BN3_/custom_batch_gamma:0', 'BN4_/custom_batch_beta:0', 'BN4_/custom_batch_gamma:0', 'BN5_/custom_batch_beta:0', 'BN5_/custom_batch_gamma:0', 'BN6_/custom_batch_beta:0', 'BN6_/custom_batch_gamma:0', 'BN7_/custom_batch_beta:0', 'BN7_/custom_batch_gamma:0', 'BN8_/custom_batch_beta:0', 'BN8_/custom_batch_gamma:0'] when minimizing the loss. If you're using `model.compile()`, did you forget to provide a `loss` argument?\n"
     ]
    },
    {
     "name": "stdout",
     "output_type": "stream",
     "text": [
      "WARNING:tensorflow:Gradients do not exist for variables ['BN1_/custom_batch_beta:0', 'BN1_/custom_batch_gamma:0', 'BN2_/custom_batch_beta:0', 'BN2_/custom_batch_gamma:0', 'BN3_/custom_batch_beta:0', 'BN3_/custom_batch_gamma:0', 'BN4_/custom_batch_beta:0', 'BN4_/custom_batch_gamma:0', 'BN5_/custom_batch_beta:0', 'BN5_/custom_batch_gamma:0', 'BN6_/custom_batch_beta:0', 'BN6_/custom_batch_gamma:0', 'BN7_/custom_batch_beta:0', 'BN7_/custom_batch_gamma:0', 'BN8_/custom_batch_beta:0', 'BN8_/custom_batch_gamma:0'] when minimizing the loss. If you're using `model.compile()`, did you forget to provide a `loss` argument?\n"
     ]
    },
    {
     "name": "stderr",
     "output_type": "stream",
     "text": [
      "WARNING:tensorflow:Gradients do not exist for variables ['BN1_/custom_batch_beta:0', 'BN1_/custom_batch_gamma:0', 'BN2_/custom_batch_beta:0', 'BN2_/custom_batch_gamma:0', 'BN3_/custom_batch_beta:0', 'BN3_/custom_batch_gamma:0', 'BN4_/custom_batch_beta:0', 'BN4_/custom_batch_gamma:0', 'BN5_/custom_batch_beta:0', 'BN5_/custom_batch_gamma:0', 'BN6_/custom_batch_beta:0', 'BN6_/custom_batch_gamma:0', 'BN7_/custom_batch_beta:0', 'BN7_/custom_batch_gamma:0', 'BN8_/custom_batch_beta:0', 'BN8_/custom_batch_gamma:0'] when minimizing the loss. If you're using `model.compile()`, did you forget to provide a `loss` argument?\n"
     ]
    },
    {
     "name": "stdout",
     "output_type": "stream",
     "text": [
      "WARNING:tensorflow:Gradients do not exist for variables ['BN1_/custom_batch_beta:0', 'BN1_/custom_batch_gamma:0', 'BN2_/custom_batch_beta:0', 'BN2_/custom_batch_gamma:0', 'BN3_/custom_batch_beta:0', 'BN3_/custom_batch_gamma:0', 'BN4_/custom_batch_beta:0', 'BN4_/custom_batch_gamma:0', 'BN5_/custom_batch_beta:0', 'BN5_/custom_batch_gamma:0', 'BN6_/custom_batch_beta:0', 'BN6_/custom_batch_gamma:0', 'BN7_/custom_batch_beta:0', 'BN7_/custom_batch_gamma:0', 'BN8_/custom_batch_beta:0', 'BN8_/custom_batch_gamma:0'] when minimizing the loss. If you're using `model.compile()`, did you forget to provide a `loss` argument?\n"
     ]
    },
    {
     "name": "stderr",
     "output_type": "stream",
     "text": [
      "WARNING:tensorflow:Gradients do not exist for variables ['BN1_/custom_batch_beta:0', 'BN1_/custom_batch_gamma:0', 'BN2_/custom_batch_beta:0', 'BN2_/custom_batch_gamma:0', 'BN3_/custom_batch_beta:0', 'BN3_/custom_batch_gamma:0', 'BN4_/custom_batch_beta:0', 'BN4_/custom_batch_gamma:0', 'BN5_/custom_batch_beta:0', 'BN5_/custom_batch_gamma:0', 'BN6_/custom_batch_beta:0', 'BN6_/custom_batch_gamma:0', 'BN7_/custom_batch_beta:0', 'BN7_/custom_batch_gamma:0', 'BN8_/custom_batch_beta:0', 'BN8_/custom_batch_gamma:0'] when minimizing the loss. If you're using `model.compile()`, did you forget to provide a `loss` argument?\n",
      "2023-05-08 00:36:29.279428: W tensorflow/tsl/framework/bfc_allocator.cc:296] Allocator (GPU_0_bfc) ran out of memory trying to allocate 4.15GiB with freed_by_count=0. The caller indicates that this is not a failure, but this may mean that there could be performance gains if more memory were available.\n"
     ]
    },
    {
     "name": "stdout",
     "output_type": "stream",
     "text": [
      "2063/2063 [==============================] - 51s 22ms/step - loss: 0.7304 - accuracy: 0.7040 - val_loss: 0.3953 - val_accuracy: 0.8474 - lr: 0.0010\n",
      "Epoch 2/16\n",
      "2063/2063 [==============================] - 43s 21ms/step - loss: 0.3649 - accuracy: 0.8618 - val_loss: 0.3403 - val_accuracy: 0.8709 - lr: 0.0010\n",
      "Epoch 3/16\n",
      "2063/2063 [==============================] - 43s 21ms/step - loss: 0.3174 - accuracy: 0.8797 - val_loss: 0.2989 - val_accuracy: 0.8910 - lr: 0.0010\n",
      "Epoch 4/16\n",
      "2063/2063 [==============================] - 43s 21ms/step - loss: 0.2918 - accuracy: 0.8897 - val_loss: 0.2836 - val_accuracy: 0.8941 - lr: 0.0010\n",
      "Epoch 5/16\n",
      "2063/2063 [==============================] - 44s 21ms/step - loss: 0.2733 - accuracy: 0.8963 - val_loss: 0.2907 - val_accuracy: 0.8910 - lr: 0.0010\n",
      "Epoch 6/16\n",
      "2063/2063 [==============================] - 44s 21ms/step - loss: 0.2623 - accuracy: 0.9014 - val_loss: 0.2780 - val_accuracy: 0.8937 - lr: 0.0010\n",
      "Epoch 7/16\n",
      "2063/2063 [==============================] - 43s 21ms/step - loss: 0.2471 - accuracy: 0.9077 - val_loss: 0.2903 - val_accuracy: 0.8923 - lr: 0.0010\n",
      "Epoch 8/16\n",
      "2063/2063 [==============================] - 43s 21ms/step - loss: 0.2367 - accuracy: 0.9111 - val_loss: 0.2725 - val_accuracy: 0.9003 - lr: 0.0010\n",
      "Epoch 9/16\n",
      "2063/2063 [==============================] - 43s 21ms/step - loss: 0.1820 - accuracy: 0.9326 - val_loss: 0.2508 - val_accuracy: 0.9098 - lr: 1.0000e-04\n",
      "Epoch 10/16\n",
      "2063/2063 [==============================] - 43s 21ms/step - loss: 0.1701 - accuracy: 0.9373 - val_loss: 0.2569 - val_accuracy: 0.9100 - lr: 1.0000e-04\n",
      "Epoch 11/16\n",
      "2063/2063 [==============================] - 43s 21ms/step - loss: 0.1618 - accuracy: 0.9404 - val_loss: 0.2613 - val_accuracy: 0.9084 - lr: 1.0000e-04\n",
      "Epoch 12/16\n",
      "2063/2063 [==============================] - 44s 21ms/step - loss: 0.1541 - accuracy: 0.9438 - val_loss: 0.2707 - val_accuracy: 0.9074 - lr: 1.0000e-04\n",
      "Epoch 13/16\n",
      "2063/2063 [==============================] - 44s 21ms/step - loss: 0.1469 - accuracy: 0.9467 - val_loss: 0.2747 - val_accuracy: 0.9079 - lr: 1.0000e-04\n",
      "Epoch 14/16\n",
      "2063/2063 [==============================] - 43s 21ms/step - loss: 0.1396 - accuracy: 0.9498 - val_loss: 0.2870 - val_accuracy: 0.9055 - lr: 1.0000e-04\n",
      "Epoch 15/16\n",
      "2063/2063 [==============================] - 43s 21ms/step - loss: 0.1323 - accuracy: 0.9528 - val_loss: 0.2975 - val_accuracy: 0.9064 - lr: 1.0000e-04\n",
      "Epoch 16/16\n",
      "2063/2063 [==============================] - 44s 22ms/step - loss: 0.1251 - accuracy: 0.9557 - val_loss: 0.3096 - val_accuracy: 0.9039 - lr: 1.0000e-04\n",
      "1032/1032 [==============================] - 3s 2ms/step\n",
      "Overall test accuracy: {'Overall': 0.9038787878787878}\n",
      "1032/1032 [==============================] - 2s 2ms/step\n",
      "Overall test accuracy: {'Overall': 0.9045151515151515}\n"
     ]
    },
    {
     "name": "stderr",
     "output_type": "stream",
     "text": [
      "WARNING:absl:Found untraced functions such as _jit_compiled_convolution_op, _jit_compiled_convolution_op, _jit_compiled_convolution_op, _jit_compiled_convolution_op, _jit_compiled_convolution_op while saving (showing 5 of 8). These functions will not be directly callable after loading.\n"
     ]
    },
    {
     "name": "stdout",
     "output_type": "stream",
     "text": [
      "INFO:tensorflow:Assets written to: CNN_mixed_v2_0-30/experiment_1/model/assets\n"
     ]
    },
    {
     "name": "stderr",
     "output_type": "stream",
     "text": [
      "INFO:tensorflow:Assets written to: CNN_mixed_v2_0-30/experiment_1/model/assets\n"
     ]
    }
   ],
   "source": [
    "import json\n",
    "from copy import deepcopy\n",
    "\n",
    "def step_decay(epoch):\n",
    "    lrate = 0.001\n",
    "    factor = epoch // 8\n",
    "    lrate /= (10**factor)\n",
    "    return lrate\n",
    "\n",
    "lrate = tf.keras.callbacks.LearningRateScheduler(step_decay)\n",
    "\n",
    "# train_data = train_data.squeeze()\n",
    "# validation_data = validation_data.squeeze()\n",
    "# test_data = test_data.squeeze()\n",
    "\n",
    "# train_data = np.expand_dims(train_data, 1)\n",
    "# validation_data = np.expand_dims(validation_data, 1)\n",
    "# test_data = np.expand_dims(test_data, 1)\n",
    "\n",
    "for i, config in enumerate(configs):\n",
    "    model = create_model_cnn(*config)\n",
    "    model.summary()\n",
    "\n",
    "    model.compile(\n",
    "        # optimizer=tf.keras.optimizers.Adam(learning_rate=0.0),\n",
    "        optimizer=tf.keras.optimizers.Adam(learning_rate=0.0),\n",
    "        loss=tf.keras.losses.SparseCategoricalCrossentropy(),\n",
    "        metrics=[\"accuracy\"],\n",
    "    )\n",
    "\n",
    "    N_EPOCHS = 16\n",
    "    BATCH_SIZE = 128\n",
    "\n",
    "    h = model.fit(\n",
    "        train_data,\n",
    "        train_labels,\n",
    "        epochs=N_EPOCHS,\n",
    "        batch_size=BATCH_SIZE,\n",
    "        validation_data=(validation_data, validation_labels),\n",
    "        callbacks=[lrate]\n",
    "    )\n",
    "\n",
    "    cm_val, cls_to_acc_val = evaluate_model(\n",
    "        model, validation_data, validation_labels, verbose=False\n",
    "    )\n",
    "    # snrs_val = get_snrs(validation_indecies, False)\n",
    "    snr_to_acc_val = get_snr_to_acc(\n",
    "        model, validation_data, validation_labels, validation_indecies, verbose=False\n",
    "    )\n",
    "\n",
    "    cm_test, cls_to_acc_test = evaluate_model(model, test_data, test_labels, verbose=False)\n",
    "    # snr_tests = get_snrs(test_indecies, False)\n",
    "    snr_to_acc_test = get_snr_to_acc(model, test_data, test_labels, test_indecies, verbose=False)\n",
    "\n",
    "    results_dir = f\"CNN_mixed_v2_0-30/experiment_{i}/\"\n",
    "    model_configuration = {\n",
    "        \"cnn\": config[0].__dict__,\n",
    "        \"dense\": config[1].__dict__,\n",
    "        \"avg_pool\": config[2],\n",
    "    }\n",
    "    train_history = deepcopy(h.history)\n",
    "    train_history[\"lr\"] = [float(lr) for lr in train_history[\"lr\"]]\n",
    "\n",
    "    \n",
    "    results = {\n",
    "        \"model_configuration\": model_configuration,\n",
    "        \"train_history\": train_history,\n",
    "        \"cm_val\": cm_val.tolist(),\n",
    "        \"cls_to_acc_val\": cls_to_acc_val,\n",
    "        \"snr_to_acc_val\": snr_to_acc_val,\n",
    "        \"cm_test\": cm_test.tolist(),\n",
    "        \"cls_to_acc_test\": cls_to_acc_test,\n",
    "        \"snr_to_acc_test\": snr_to_acc_test,\n",
    "    }\n",
    "\n",
    "    os.makedirs(results_dir, exist_ok=True)\n",
    "    with open(results_dir + \"results.json\", \"w\") as res_file:\n",
    "        json.dump(results, res_file, indent=4)\n",
    "    model.save(results_dir + \"model\")"
   ]
  },
  {
   "cell_type": "code",
   "execution_count": 18,
   "metadata": {},
   "outputs": [
    {
     "ename": "NameError",
     "evalue": "name 'h' is not defined",
     "output_type": "error",
     "traceback": [
      "\u001b[0;31m---------------------------------------------------------------------------\u001b[0m",
      "\u001b[0;31mNameError\u001b[0m                                 Traceback (most recent call last)",
      "\u001b[1;32m/development/RISC-V-SIMD-extension-for-the-AI-workload/models/final_models_evaluation/cnn_mixed_v2.ipynb Cell 25\u001b[0m in \u001b[0;36m<cell line: 3>\u001b[0;34m()\u001b[0m\n\u001b[1;32m      <a href='vscode-notebook-cell://attached-container%2B7b22636f6e7461696e65724e616d65223a222f6469706c6f6d61227d/development/RISC-V-SIMD-extension-for-the-AI-workload/models/final_models_evaluation/cnn_mixed_v2.ipynb#X33sdnNjb2RlLXJlbW90ZQ%3D%3D?line=0'>1</a>\u001b[0m \u001b[39mimport\u001b[39;00m \u001b[39mmatplotlib\u001b[39;00m\u001b[39m.\u001b[39;00m\u001b[39mpyplot\u001b[39;00m \u001b[39mas\u001b[39;00m \u001b[39mplt\u001b[39;00m\n\u001b[0;32m----> <a href='vscode-notebook-cell://attached-container%2B7b22636f6e7461696e65724e616d65223a222f6469706c6f6d61227d/development/RISC-V-SIMD-extension-for-the-AI-workload/models/final_models_evaluation/cnn_mixed_v2.ipynb#X33sdnNjb2RlLXJlbW90ZQ%3D%3D?line=2'>3</a>\u001b[0m acc \u001b[39m=\u001b[39m h\u001b[39m.\u001b[39mhistory[\u001b[39m'\u001b[39m\u001b[39maccuracy\u001b[39m\u001b[39m'\u001b[39m]\n\u001b[1;32m      <a href='vscode-notebook-cell://attached-container%2B7b22636f6e7461696e65724e616d65223a222f6469706c6f6d61227d/development/RISC-V-SIMD-extension-for-the-AI-workload/models/final_models_evaluation/cnn_mixed_v2.ipynb#X33sdnNjb2RlLXJlbW90ZQ%3D%3D?line=3'>4</a>\u001b[0m val_acc \u001b[39m=\u001b[39m h\u001b[39m.\u001b[39mhistory[\u001b[39m'\u001b[39m\u001b[39mval_accuracy\u001b[39m\u001b[39m'\u001b[39m]\n\u001b[1;32m      <a href='vscode-notebook-cell://attached-container%2B7b22636f6e7461696e65724e616d65223a222f6469706c6f6d61227d/development/RISC-V-SIMD-extension-for-the-AI-workload/models/final_models_evaluation/cnn_mixed_v2.ipynb#X33sdnNjb2RlLXJlbW90ZQ%3D%3D?line=4'>5</a>\u001b[0m loss \u001b[39m=\u001b[39m h\u001b[39m.\u001b[39mhistory[\u001b[39m'\u001b[39m\u001b[39mloss\u001b[39m\u001b[39m'\u001b[39m]\n",
      "\u001b[0;31mNameError\u001b[0m: name 'h' is not defined"
     ]
    }
   ],
   "source": [
    "import matplotlib.pyplot as plt\n",
    "\n",
    "acc = h.history['accuracy']\n",
    "val_acc = h.history['val_accuracy']\n",
    "loss = h.history['loss']\n",
    "val_loss = h.history['val_loss']\n",
    "\n",
    "epochs_range = range(N_EPOCHS)\n",
    "plt.figure(figsize=(8, 8))\n",
    "plt.subplot(2, 1, 1)\n",
    "plt.plot(epochs_range, acc, label='Training Accuracy')\n",
    "plt.plot(epochs_range, val_acc, label='Validation Accuracy')\n",
    "plt.legend(loc='lower right')\n",
    "plt.title('Training and Validation Accuracy')\n",
    "plt.subplot(2, 1, 2)\n",
    "\n",
    "plt.plot(epochs_range, loss, label='Training Loss')\n",
    "plt.plot(epochs_range, val_loss, label='Validation Loss')\n",
    "plt.legend(loc='upper right')\n",
    "plt.title('Training and Validation Loss')\n",
    "plt.show()"
   ]
  },
  {
   "cell_type": "code",
   "execution_count": 22,
   "metadata": {},
   "outputs": [
    {
     "name": "stdout",
     "output_type": "stream",
     "text": [
      "1032/1032 [==============================] - 5s 4ms/step\n",
      "Overall test accuracy: {'Overall': 0.4742727272727273}\n",
      "16QAM test accuracy: 0.24966442953020135\n",
      "64QAM test accuracy: 0.2647457627118644\n",
      "8PSK test accuracy: 0.2705136757838559\n",
      "B-FM test accuracy: 0.6876038551013626\n",
      "BPSK test accuracy: 0.4663991975927783\n",
      "CPFSK test accuracy: 0.6473069435431538\n",
      "DSB-AM test accuracy: 0.5966079148653143\n",
      "GFSK test accuracy: 0.7189014539579968\n",
      "PAM4 test accuracy: 0.49592944369063774\n",
      "QPSK test accuracy: 0.2605210420841683\n",
      "SSB-AM test accuracy: 0.5414120841819416\n",
      "[[ 744  553  122   74  126  130  518  122  182  132  277]\n",
      " [ 522  781  131   74  131  122  485  105  184  127  288]\n",
      " [ 115  100  811   73  116  131  536  122  145  561  288]\n",
      " [  28   37   39 2069   61   80  314   76   85   39  181]\n",
      " [  69   94  107   83 1395  139  446  105  193  100  260]\n",
      " [  46   56   67  102   76 1995  344   63   80   88  165]\n",
      " [  37   36   54   75   59   43 1794  100   89   56  664]\n",
      " [  28   31   54   42   75   31  309 2225   66   43  191]\n",
      " [  83   95   78   71  140  109  487   90 1462   73  260]\n",
      " [ 116  100  604  111  129  123  510  102  143  780  276]\n",
      " [  33   33   64   77   49   38  820  103   82   52 1595]]\n"
     ]
    },
    {
     "data": {
      "text/plain": [
       "(array([[ 744,  553,  122,   74,  126,  130,  518,  122,  182,  132,  277],\n",
       "        [ 522,  781,  131,   74,  131,  122,  485,  105,  184,  127,  288],\n",
       "        [ 115,  100,  811,   73,  116,  131,  536,  122,  145,  561,  288],\n",
       "        [  28,   37,   39, 2069,   61,   80,  314,   76,   85,   39,  181],\n",
       "        [  69,   94,  107,   83, 1395,  139,  446,  105,  193,  100,  260],\n",
       "        [  46,   56,   67,  102,   76, 1995,  344,   63,   80,   88,  165],\n",
       "        [  37,   36,   54,   75,   59,   43, 1794,  100,   89,   56,  664],\n",
       "        [  28,   31,   54,   42,   75,   31,  309, 2225,   66,   43,  191],\n",
       "        [  83,   95,   78,   71,  140,  109,  487,   90, 1462,   73,  260],\n",
       "        [ 116,  100,  604,  111,  129,  123,  510,  102,  143,  780,  276],\n",
       "        [  33,   33,   64,   77,   49,   38,  820,  103,   82,   52, 1595]]),\n",
       " {'Overall': 0.4742727272727273,\n",
       "  '16QAM': 0.24966442953020135,\n",
       "  '64QAM': 0.2647457627118644,\n",
       "  '8PSK': 0.2705136757838559,\n",
       "  'B-FM': 0.6876038551013626,\n",
       "  'BPSK': 0.4663991975927783,\n",
       "  'CPFSK': 0.6473069435431538,\n",
       "  'DSB-AM': 0.5966079148653143,\n",
       "  'GFSK': 0.7189014539579968,\n",
       "  'PAM4': 0.49592944369063774,\n",
       "  'QPSK': 0.2605210420841683,\n",
       "  'SSB-AM': 0.5414120841819416})"
      ]
     },
     "execution_count": 22,
     "metadata": {},
     "output_type": "execute_result"
    },
    {
     "data": {
      "image/png": "[encoded data removed]",
      "text/plain": [
       "<Figure size 1000x700 with 2 Axes>"
      ]
     },
     "metadata": {},
     "output_type": "display_data"
    }
   ],
   "source": [
    "evaluate_model(model, validation_data, validation_labels, verbose=True)"
   ]
  },
  {
   "cell_type": "code",
   "execution_count": 23,
   "metadata": {},
   "outputs": [],
   "source": [
    "snr_to_acc = get_snr_to_acc(model, validation_data, validation_labels, validation_indecies, verbose=False)\n",
    "# snr_to_acc = get_snr_to_acc(model, train_data, train_labels, train_indecies, verbose=False)\n",
    "# snr_to_acc = get_snr_to_acc(model, test_data, test_labels, test_indecies, verbose=False)\n"
   ]
  },
  {
   "cell_type": "code",
   "execution_count": 24,
   "metadata": {},
   "outputs": [
    {
     "data": {
      "text/plain": [
       "(0.0, 1.0)"
      ]
     },
     "execution_count": 24,
     "metadata": {},
     "output_type": "execute_result"
    },
    {
     "data": {
      "image/png": "[encoded data removed]",
      "text/plain": [
       "<Figure size 640x480 with 1 Axes>"
      ]
     },
     "metadata": {},
     "output_type": "display_data"
    }
   ],
   "source": [
    "plt.plot(list(snr_to_acc.keys()), list(snr_to_acc.values()))\n",
    "plt.ylim([0, 1])"
   ]
  },
  {
   "cell_type": "code",
   "execution_count": 34,
   "metadata": {},
   "outputs": [
    {
     "data": {
      "text/plain": [
       "264000"
      ]
     },
     "execution_count": 34,
     "metadata": {},
     "output_type": "execute_result"
    }
   ],
   "source": [
    "len(train_data)"
   ]
  },
  {
   "cell_type": "code",
   "execution_count": null,
   "metadata": {},
   "outputs": [],
   "source": []
  }
 ],
 "metadata": {
  "kernelspec": {
   "display_name": "cfu",
   "language": "python",
   "name": "python3"
  },
  "language_info": {
   "codemirror_mode": {
    "name": "ipython",
    "version": 3
   },
   "file_extension": ".py",
   "mimetype": "text/x-python",
   "name": "python",
   "nbconvert_exporter": "python",
   "pygments_lexer": "ipython3",
   "version": "3.8.16"
  },
  "orig_nbformat": 4
 },
 "nbformat": 4,
 "nbformat_minor": 2
}
