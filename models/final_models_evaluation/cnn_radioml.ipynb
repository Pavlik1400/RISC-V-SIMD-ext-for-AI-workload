{
 "cells": [
  {
   "cell_type": "code",
   "execution_count": 1,
   "metadata": {},
   "outputs": [
    {
     "name": "stderr",
     "output_type": "stream",
     "text": [
      "2023-05-13 16:39:03.504923: I tensorflow/core/util/port.cc:110] oneDNN custom operations are on. You may see slightly different numerical results due to floating-point round-off errors from different computation orders. To turn them off, set the environment variable `TF_ENABLE_ONEDNN_OPTS=0`.\n",
      "2023-05-13 16:39:03.531012: I tensorflow/core/platform/cpu_feature_guard.cc:182] This TensorFlow binary is optimized to use available CPU instructions in performance-critical operations.\n",
      "To enable the following instructions: AVX2 AVX_VNNI FMA, in other operations, rebuild TensorFlow with the appropriate compiler flags.\n",
      "2023-05-13 16:39:04.026000: W tensorflow/compiler/tf2tensorrt/utils/py_utils.cc:38] TF-TRT Warning: Could not find TensorRT\n",
      "2023-05-13 16:39:05.125997: I tensorflow/compiler/xla/stream_executor/cuda/cuda_gpu_executor.cc:996] successful NUMA node read from SysFS had negative value (-1), but there must be at least one NUMA node, so returning NUMA node zero. See more at https://github.com/torvalds/linux/blob/v6.0/Documentation/ABI/testing/sysfs-bus-pci#L344-L355\n",
      "2023-05-13 16:39:05.129834: I tensorflow/compiler/xla/stream_executor/cuda/cuda_gpu_executor.cc:996] successful NUMA node read from SysFS had negative value (-1), but there must be at least one NUMA node, so returning NUMA node zero. See more at https://github.com/torvalds/linux/blob/v6.0/Documentation/ABI/testing/sysfs-bus-pci#L344-L355\n",
      "2023-05-13 16:39:05.129963: I tensorflow/compiler/xla/stream_executor/cuda/cuda_gpu_executor.cc:996] successful NUMA node read from SysFS had negative value (-1), but there must be at least one NUMA node, so returning NUMA node zero. See more at https://github.com/torvalds/linux/blob/v6.0/Documentation/ABI/testing/sysfs-bus-pci#L344-L355\n"
     ]
    }
   ],
   "source": [
    "# imports\n",
    "import os\n",
    "# os.environ['TF_CPP_MIN_LOG_LEVEL'] = '3' \n",
    "import tensorflow as tf\n",
    "from tensorflow import keras\n",
    "from tensorflow.keras import layers\n",
    "\n",
    "import numpy as np\n",
    "import random\n",
    "import os\n",
    "import sys\n",
    "import importlib\n",
    "\n",
    "from sklearn.metrics import accuracy_score, confusion_matrix\n",
    "import seaborn as sn\n",
    "import pandas as pd\n",
    "import matplotlib.pyplot as plt\n",
    "\n",
    "\n",
    "sys.path.append(\"..\") # not good\n",
    "from tools.data import load_data_simc_v1, load_data_radioml_v1\n",
    "\n",
    "physical_devices = tf.config.experimental.list_physical_devices('GPU')\n",
    "assert len(physical_devices) > 0, \"Not enough GPU hardware devices available\"\n"
   ]
  },
  {
   "attachments": {},
   "cell_type": "markdown",
   "metadata": {},
   "source": [
    "## Util functions"
   ]
  },
  {
   "cell_type": "code",
   "execution_count": 2,
   "metadata": {},
   "outputs": [],
   "source": [
    "def set_seed(SEED):\n",
    "    random.seed(SEED)\n",
    "    np.random.seed(SEED)\n",
    "    tf.random.set_seed(SEED)\n",
    "\n",
    "def reload_module(m: str):\n",
    "    importlib.reload(sys.modules[m])\n"
   ]
  },
  {
   "attachments": {},
   "cell_type": "markdown",
   "metadata": {},
   "source": [
    "## Data loading"
   ]
  },
  {
   "cell_type": "code",
   "execution_count": 3,
   "metadata": {},
   "outputs": [],
   "source": [
    "# Conatans\n",
    "RADIO_ML_2016_A_DIR = \"/development/data/RML2016.10a/RML2016.10a_dict.pkl\" # radioml dataset\n",
    "RADIO_ML_2016_B_DIR = \"/development/data/RML2016.10b/RML2016.10b.dat\" # radioml dataset\n",
    "TRAIN_DATA_DIR = RADIO_ML_2016_B_DIR\n",
    "\n",
    "MODEL_DATA_TYPE = np.float32\n",
    "\n",
    "SEED = 123456\n",
    "set_seed(SEED)"
   ]
  },
  {
   "cell_type": "code",
   "execution_count": 4,
   "metadata": {},
   "outputs": [
    {
     "name": "stdout",
     "output_type": "stream",
     "text": [
      "['PAM4', 'QPSK', '8PSK', 'QAM64', 'BPSK', 'CPFSK', 'WBFM', 'QAM16', 'GFSK', 'AM-DSB']\n",
      "(1200000,)\n",
      "(1200000, 1, 128, 2)\n"
     ]
    }
   ],
   "source": [
    "# Loading itself\n",
    "labels, data, modulations = load_data_radioml_v1(TRAIN_DATA_DIR, to_1024=False)\n",
    "print(modulations)\n",
    "print(labels.shape)\n",
    "print(data.shape)"
   ]
  },
  {
   "cell_type": "code",
   "execution_count": 5,
   "metadata": {},
   "outputs": [],
   "source": [
    "# Data Ssplitting\n",
    "DS_SIZE = len(labels)\n",
    "\n",
    "n_train = int(0.8 * DS_SIZE)                # 80% - Train\n",
    "n_validation = int(0.1 * DS_SIZE)           # 10% - Validation\n",
    "n_test = DS_SIZE - n_train - n_validation   # 10% - Test\n",
    "\n",
    "random_indecies = np.arange(DS_SIZE)\n",
    "np.random.shuffle(random_indecies)\n",
    "\n",
    "train_indecies, validation_indecies, test_indecies, _ = np.split(\n",
    "    random_indecies, [int(DS_SIZE * 0.8), int(DS_SIZE * 0.9), DS_SIZE]\n",
    ")\n",
    "\n",
    "train_data, train_labels = data[train_indecies], labels[train_indecies]\n",
    "validation_data, validation_labels = data[validation_indecies], labels[validation_indecies]\n",
    "test_data, test_labels = data[test_indecies], labels[test_indecies]"
   ]
  },
  {
   "cell_type": "code",
   "execution_count": 7,
   "metadata": {},
   "outputs": [],
   "source": [
    "# Should save some memory\n",
    "del data\n",
    "del labels"
   ]
  },
  {
   "attachments": {},
   "cell_type": "markdown",
   "metadata": {},
   "source": [
    "## Model creation\n",
    "#### Parts of Encoder"
   ]
  },
  {
   "attachments": {},
   "cell_type": "markdown",
   "metadata": {},
   "source": [
    "Some utilities for final model\n"
   ]
  },
  {
   "cell_type": "code",
   "execution_count": 8,
   "metadata": {},
   "outputs": [],
   "source": [
    "from typing import List\n",
    "from dataclasses import dataclass\n",
    "\n",
    "@dataclass\n",
    "class ConvolutionConfiguration:\n",
    "    output_channels: List[int]\n",
    "    kernel_sizes: List[int]\n",
    "    paddings: List[str]\n",
    "    max_pool_sizes: List[int]\n",
    "\n",
    "@dataclass\n",
    "class DenseConfiguration:\n",
    "    sizes: List[int]"
   ]
  },
  {
   "attachments": {},
   "cell_type": "markdown",
   "metadata": {},
   "source": [
    "Model parts"
   ]
  },
  {
   "cell_type": "code",
   "execution_count": 9,
   "metadata": {},
   "outputs": [],
   "source": [
    "# https://github.com/dksakkos/BatchNorm\n",
    "class CustomBatchNorm(layers.Layer):\n",
    "    def __init__(self, *args, **kwargs):\n",
    "        super(CustomBatchNorm, self).__init__(*args, **kwargs)\n",
    "\n",
    "    def build(self, input_shape):\n",
    "        self.beta = self.add_weight(\n",
    "            name=\"custom_batch_beta\",\n",
    "            shape=(input_shape[-1]),\n",
    "            initializer=\"zeros\",\n",
    "            trainable=True,\n",
    "        )\n",
    "\n",
    "        self.gamma = self.add_weight(\n",
    "            name=\"custom_batch_gamma\",\n",
    "            shape=(input_shape[-1]),\n",
    "            initializer=\"ones\",\n",
    "            trainable=True,\n",
    "        )\n",
    "\n",
    "        self.moving_mean = self.add_weight(\n",
    "            name=\"custom_batch_moving_mean\",\n",
    "            shape=(input_shape[-1]),\n",
    "            initializer=tf.initializers.zeros,\n",
    "            trainable=False,\n",
    "        )\n",
    "\n",
    "        self.moving_variance = self.add_weight(\n",
    "            name=\"custom_batch_moving_variance\",\n",
    "            shape=(input_shape[-1]),\n",
    "            initializer=tf.initializers.ones,\n",
    "            trainable=False,\n",
    "        )"
   ]
  },
  {
   "attachments": {},
   "cell_type": "markdown",
   "metadata": {},
   "source": [
    "### Model\n",
    "Model constists of a CNNn -> b EncoderLayers -> c Dense layers"
   ]
  },
  {
   "cell_type": "code",
   "execution_count": 10,
   "metadata": {},
   "outputs": [],
   "source": [
    "def create_model_cnn(\n",
    "    cnn_conf: ConvolutionConfiguration,\n",
    "    dense_conf: DenseConfiguration,\n",
    "    avg_size: int = 32,\n",
    "    *args, \n",
    "    **kwargs\n",
    "):\n",
    "    InputLayer = keras.Input(shape=(1, 128, 2))\n",
    "    assert (\n",
    "        len(cnn_conf.output_channels)\n",
    "        == len(cnn_conf.kernel_sizes)\n",
    "        == len(cnn_conf.paddings)\n",
    "        == len(cnn_conf.max_pool_sizes)\n",
    "    )\n",
    "    N_CNNs = len(cnn_conf.output_channels)\n",
    "    assert N_CNNs > 0\n",
    "\n",
    "    CNN1 = layers.Conv2D(\n",
    "        cnn_conf.output_channels[0],\n",
    "        (1, cnn_conf.kernel_sizes[0]),\n",
    "        padding=cnn_conf.paddings[0],\n",
    "        name=\"CNN1_\",\n",
    "    )(InputLayer)\n",
    "    model_layers = [CNN1]\n",
    "    if cnn_conf.max_pool_sizes[0] != 1:\n",
    "        model_layers.append(\n",
    "            layers.MaxPool2D(pool_size=(1, cnn_conf.max_pool_sizes[0]), strides=(1, 2), name=f\"MAX_POOL_1_\")(\n",
    "                model_layers[-1]\n",
    "            )\n",
    "        )\n",
    "    model_layers.append(CustomBatchNorm(name=\"BN1_\")(model_layers[-1]))\n",
    "    model_layers.append(layers.ReLU(name=\"CNN_RELU1_\")(model_layers[-1]))\n",
    "\n",
    "    for i in range(1, N_CNNs):\n",
    "        model_layers.append(\n",
    "            layers.Conv2D(\n",
    "                cnn_conf.output_channels[i],\n",
    "                (1, cnn_conf.kernel_sizes[i]),\n",
    "                padding=cnn_conf.paddings[i],\n",
    "                name=f\"CNN{i+1}_\",\n",
    "            )(model_layers[-1])\n",
    "        )\n",
    "        if cnn_conf.max_pool_sizes[i] != 1:\n",
    "            model_layers.append(\n",
    "                layers.MaxPool2D(\n",
    "                    pool_size=(1, cnn_conf.max_pool_sizes[i]),\n",
    "                    strides=(1, 2),\n",
    "                    name=f\"MAX_POOL_{i+1}_\",\n",
    "                )(model_layers[-1])\n",
    "            )\n",
    "        model_layers.append(CustomBatchNorm(name=f\"BN{i+1}_\")(model_layers[-1]))\n",
    "        model_layers.append(layers.ReLU(name=f\"CNN_RELU{i+1}_\")(model_layers[-1]))\n",
    "\n",
    "    model_layers.append(layers.AveragePooling2D((1, avg_size), name=\"AVG1_\")(model_layers[-1]))\n",
    "\n",
    "    model_layers.append(layers.Flatten(name=\"FLT1_\")(model_layers[-1]))\n",
    "\n",
    "    N_Dense = len(dense_conf.sizes)\n",
    "\n",
    "    if N_Dense > 0:\n",
    "        model_layers.append(layers.Dense(dense_conf.sizes[0], name=\"FC1_\")(model_layers[-1]))\n",
    "        model_layers.append(layers.ReLU(name=\"FC_RELU1_\")(model_layers[-1]))\n",
    "\n",
    "        for i in range(1, N_Dense):\n",
    "            model_layers.append(\n",
    "                layers.Dense(dense_conf.sizes[i], name=f\"FC{i+1}_\")(model_layers[-1])\n",
    "            )\n",
    "            model_layers.append(layers.ReLU(name=f\"FC_RELU{i+1}_\")(model_layers[-1]))\n",
    "\n",
    "    model_layers.append(layers.Dense(len(modulations), name=f\"FC_{N_Dense+1}_\")(model_layers[-1]))\n",
    "    SoftMax = layers.Softmax()(model_layers[-1])\n",
    "    Output = layers.Flatten()(SoftMax)\n",
    "\n",
    "    # if args and isinstance(args[0], str):\n",
    "    #     model = keras.Model(inputs=[InputLayer], outputs=[Output], name=args[0])\n",
    "    # else:\n",
    "    model = keras.Model(inputs=[InputLayer], outputs=[Output])\n",
    "    return model"
   ]
  },
  {
   "attachments": {},
   "cell_type": "markdown",
   "metadata": {},
   "source": [
    "Test code above"
   ]
  },
  {
   "cell_type": "code",
   "execution_count": 11,
   "metadata": {},
   "outputs": [
    {
     "name": "stdout",
     "output_type": "stream",
     "text": [
      "Model: \"model\"\n",
      "_________________________________________________________________\n",
      " Layer (type)                Output Shape              Param #   \n",
      "=================================================================\n",
      " input_1 (InputLayer)        [(None, 1, 128, 2)]       0         \n",
      "                                                                 \n",
      " CNN1_ (Conv2D)              (None, 1, 128, 32)        544       \n",
      "                                                                 \n",
      " BN1_ (CustomBatchNorm)      (None, 1, 128, 32)        128       \n",
      "                                                                 \n",
      " CNN_RELU1_ (ReLU)           (None, 1, 128, 32)        0         \n",
      "                                                                 \n",
      " CNN2_ (Conv2D)              (None, 1, 128, 48)        12336     \n",
      "                                                                 \n",
      " BN2_ (CustomBatchNorm)      (None, 1, 128, 48)        192       \n",
      "                                                                 \n",
      " CNN_RELU2_ (ReLU)           (None, 1, 128, 48)        0         \n",
      "                                                                 \n",
      " CNN3_ (Conv2D)              (None, 1, 128, 64)        24640     \n",
      "                                                                 \n",
      " MAX_POOL_3_ (MaxPooling2D)  (None, 1, 64, 64)         0         \n",
      "                                                                 \n",
      " BN3_ (CustomBatchNorm)      (None, 1, 64, 64)         256       \n",
      "                                                                 \n",
      " CNN_RELU3_ (ReLU)           (None, 1, 64, 64)         0         \n",
      "                                                                 \n",
      " CNN4_ (Conv2D)              (None, 1, 64, 96)         49248     \n",
      "                                                                 \n",
      " BN4_ (CustomBatchNorm)      (None, 1, 64, 96)         384       \n",
      "                                                                 \n",
      " CNN_RELU4_ (ReLU)           (None, 1, 64, 96)         0         \n",
      "                                                                 \n",
      " CNN5_ (Conv2D)              (None, 1, 64, 128)        98432     \n",
      "                                                                 \n",
      " MAX_POOL_5_ (MaxPooling2D)  (None, 1, 32, 128)        0         \n",
      "                                                                 \n",
      " BN5_ (CustomBatchNorm)      (None, 1, 32, 128)        512       \n",
      "                                                                 \n",
      " CNN_RELU5_ (ReLU)           (None, 1, 32, 128)        0         \n",
      "                                                                 \n",
      " CNN6_ (Conv2D)              (None, 1, 32, 192)        196800    \n",
      "                                                                 \n",
      " BN6_ (CustomBatchNorm)      (None, 1, 32, 192)        768       \n",
      "                                                                 \n",
      " CNN_RELU6_ (ReLU)           (None, 1, 32, 192)        0         \n",
      "                                                                 \n",
      " AVG1_ (AveragePooling2D)    (None, 1, 1, 192)         0         \n",
      "                                                                 \n",
      " FLT1_ (Flatten)             (None, 192)               0         \n",
      "                                                                 \n",
      " FC_1_ (Dense)               (None, 10)                1930      \n",
      "                                                                 \n",
      " softmax (Softmax)           (None, 10)                0         \n",
      "                                                                 \n",
      " flatten (Flatten)           (None, 10)                0         \n",
      "                                                                 \n",
      "=================================================================\n",
      "Total params: 386,170\n",
      "Trainable params: 385,050\n",
      "Non-trainable params: 1,120\n",
      "_________________________________________________________________\n"
     ]
    },
    {
     "name": "stderr",
     "output_type": "stream",
     "text": [
      "2023-05-12 02:53:10.332931: I tensorflow/compiler/xla/stream_executor/cuda/cuda_gpu_executor.cc:996] successful NUMA node read from SysFS had negative value (-1), but there must be at least one NUMA node, so returning NUMA node zero. See more at https://github.com/torvalds/linux/blob/v6.0/Documentation/ABI/testing/sysfs-bus-pci#L344-L355\n",
      "2023-05-12 02:53:10.333135: I tensorflow/compiler/xla/stream_executor/cuda/cuda_gpu_executor.cc:996] successful NUMA node read from SysFS had negative value (-1), but there must be at least one NUMA node, so returning NUMA node zero. See more at https://github.com/torvalds/linux/blob/v6.0/Documentation/ABI/testing/sysfs-bus-pci#L344-L355\n",
      "2023-05-12 02:53:10.333209: I tensorflow/compiler/xla/stream_executor/cuda/cuda_gpu_executor.cc:996] successful NUMA node read from SysFS had negative value (-1), but there must be at least one NUMA node, so returning NUMA node zero. See more at https://github.com/torvalds/linux/blob/v6.0/Documentation/ABI/testing/sysfs-bus-pci#L344-L355\n",
      "2023-05-12 02:53:10.714548: I tensorflow/compiler/xla/stream_executor/cuda/cuda_gpu_executor.cc:996] successful NUMA node read from SysFS had negative value (-1), but there must be at least one NUMA node, so returning NUMA node zero. See more at https://github.com/torvalds/linux/blob/v6.0/Documentation/ABI/testing/sysfs-bus-pci#L344-L355\n",
      "2023-05-12 02:53:10.714704: I tensorflow/compiler/xla/stream_executor/cuda/cuda_gpu_executor.cc:996] successful NUMA node read from SysFS had negative value (-1), but there must be at least one NUMA node, so returning NUMA node zero. See more at https://github.com/torvalds/linux/blob/v6.0/Documentation/ABI/testing/sysfs-bus-pci#L344-L355\n",
      "2023-05-12 02:53:10.714780: I tensorflow/compiler/xla/stream_executor/cuda/cuda_gpu_executor.cc:996] successful NUMA node read from SysFS had negative value (-1), but there must be at least one NUMA node, so returning NUMA node zero. See more at https://github.com/torvalds/linux/blob/v6.0/Documentation/ABI/testing/sysfs-bus-pci#L344-L355\n",
      "2023-05-12 02:53:10.714840: I tensorflow/core/common_runtime/gpu/gpu_device.cc:1635] Created device /job:localhost/replica:0/task:0/device:GPU:0 with 6056 MB memory:  -> device: 0, name: NVIDIA GeForce RTX 3070 Ti Laptop GPU, pci bus id: 0000:01:00.0, compute capability: 8.6\n"
     ]
    }
   ],
   "source": [
    "model = create_model_cnn(\n",
    "    ConvolutionConfiguration(output_channels=[32, 48, 64, 96, 128, 192], kernel_sizes=[8, 8, 8, 8, 8, 8], paddings=[\"same\", \"same\", \"same\", \"same\", \"same\", \"same\"], max_pool_sizes=[1, 1, 2, 1, 2, 1]),\n",
    "    DenseConfiguration(sizes=[])\n",
    ")\n",
    "model.summary()"
   ]
  },
  {
   "attachments": {},
   "cell_type": "markdown",
   "metadata": {},
   "source": [
    "### List of models we're interested at"
   ]
  },
  {
   "cell_type": "code",
   "execution_count": 16,
   "metadata": {},
   "outputs": [],
   "source": [
    "default_cnn_conf = ConvolutionConfiguration(output_channels=[32, 48, 64, 96, 128, 192], kernel_sizes=[8, 8, 8, 8, 8, 8], paddings=[\"same\", \"same\", \"same\", \"same\", \"same\", \"same\"], max_pool_sizes=[1, 1, 2, 1, 2, 1])\n",
    "default_dense_conf = DenseConfiguration(sizes=[])\n",
    "default_avg_size = 32\n",
    "\n",
    "configs = [\n",
    "    [default_cnn_conf, default_dense_conf, default_avg_size, \"Default_medium\"],\n",
    "\n",
    "    # # Different kernel sizes\n",
    "    # [ConvolutionConfiguration(output_channels=[32, 48, 64, 96, 128, 192], kernel_sizes=[3, 3, 3, 3, 3, 3], paddings=[\"same\", \"same\", \"same\", \"same\", \"same\", \"same\"], max_pool_sizes=[1, 1, 2, 1, 2, 1]), default_dense_conf, default_avg_size, \"k=3\"],\n",
    "    # [ConvolutionConfiguration(output_channels=[32, 48, 64, 96, 128, 192], kernel_sizes=[17, 17, 17, 17, 17, 17], paddings=[\"same\", \"same\", \"same\", \"same\", \"same\", \"same\"], max_pool_sizes=[1, 1, 2, 1, 2, 1]), default_dense_conf, default_avg_size, \"k=17\"],\n",
    "    # [ConvolutionConfiguration(output_channels=[32, 48, 64, 96, 128, 192], kernel_sizes=[33, 33, 33, 33, 33, 33], paddings=[\"same\", \"same\", \"same\", \"same\", \"same\", \"same\"], max_pool_sizes=[1, 1, 2, 1, 2, 1]), default_dense_conf, default_avg_size, \"k=33\"],\n",
    "    # [ConvolutionConfiguration(output_channels=[32, 48, 64, 96, 128, 192], kernel_sizes=[65, 65, 65, 65, 65, 65], paddings=[\"same\", \"same\", \"same\", \"same\", \"same\", \"same\"], max_pool_sizes=[1, 1, 2, 1, 2, 1]), default_dense_conf, default_avg_size, \"k=65\"],\n",
    "\n",
    "    # # Different Width of encoder layers\n",
    "    # [ConvolutionConfiguration(output_channels=[16, 16, 32, 32, 64, 64], kernel_sizes=[8, 8, 8, 8, 8, 8], paddings=[\"same\", \"same\", \"same\", \"same\", \"same\", \"same\"], max_pool_sizes=[1, 1, 2, 1, 2, 1]), default_dense_conf, default_avg_size, \"output_channels=[16, 16, 32, 32, 64, 64]\"],\n",
    "    # [ConvolutionConfiguration(output_channels=[32, 32, 48, 64, 64, 96], kernel_sizes=[8, 8, 8, 8, 8, 8], paddings=[\"same\", \"same\", \"same\", \"same\", \"same\", \"same\"], max_pool_sizes=[1, 1, 2, 1, 2, 1]), default_dense_conf, default_avg_size, \"output_channels=[32, 32, 48, 64, 64, 96]\"],\n",
    "    # [ConvolutionConfiguration(output_channels=[64, 64, 128, 192, 192, 256], kernel_sizes=[8, 8, 8, 8, 8, 8], paddings=[\"same\", \"same\", \"same\", \"same\", \"same\", \"same\"], max_pool_sizes=[1, 1, 2, 1, 2, 1]), default_dense_conf, default_avg_size, \"output_channels=[64, 64, 128, 192, 192, 256]\"],\n",
    "\n",
    "\n",
    "    # # Different depth of model\n",
    "    # [ConvolutionConfiguration(output_channels=[32, 48, 64], kernel_sizes=[8, 8, 8], paddings=[\"same\", \"same\", \"same\"], max_pool_sizes=[1, 2, 2]), default_dense_conf, default_avg_size, \"output_channels=[32, 48, 64]__max_pool_sizes=[1, 2, 2]\"],\n",
    "    [ConvolutionConfiguration(output_channels=[32, 48, 64, 96, 128, 192, 256, 512], kernel_sizes=[8, 8, 8, 8, 8, 8, 8, 8], paddings=[\"same\", \"same\", \"same\", \"same\", \"same\", \"same\", \"same\", \"same\"], max_pool_sizes=[1, 1, 2, 1, 2, 1, 2, 1]), default_dense_conf, 16, \"output_channels=[32, 48, 64, 96, 128, 192, 256, 512]__max_pool_sizes=[1, 1, 2, 1, 2, 1, 2, 1]__avg_size=16\"],\n",
    "]\n",
    "\n",
    "# for config in configs:\n",
    "#     print(config)\n",
    "#     model = create_model_cnn(*config)\n",
    "#     model.summary()"
   ]
  },
  {
   "attachments": {},
   "cell_type": "markdown",
   "metadata": {},
   "source": [
    "### Model evaluation functions"
   ]
  },
  {
   "cell_type": "code",
   "execution_count": 17,
   "metadata": {},
   "outputs": [],
   "source": [
    "import pickle\n",
    "\n",
    "def evaluate_model(model, data, labels, verbose=True):\n",
    "    preds = model.predict(data)\n",
    "    pred_labels = np.argmax(preds, axis=1)\n",
    "\n",
    "    cls_to_acc = {\"Overall\": accuracy_score(labels, pred_labels)}\n",
    "    print(f\"Overall test accuracy: {cls_to_acc}\")\n",
    "    for ci, cl in enumerate(modulations):\n",
    "        class_indecies = np.where(labels == ci)[0]\n",
    "        cur_true_labels = labels[class_indecies]\n",
    "        cur_pred_labels = pred_labels[class_indecies]\n",
    "        cls_to_acc[cl] = accuracy_score(cur_true_labels, cur_pred_labels)\n",
    "        verbose and print(f\"{cl} test accuracy: {cls_to_acc[cl]}\")\n",
    "    cm = confusion_matrix(y_true=labels, y_pred=pred_labels)\n",
    "    verbose and print(cm)\n",
    "    df_cm = pd.DataFrame(cm, index = modulations,\n",
    "                    columns = modulations)\n",
    "    if verbose:\n",
    "        plt.figure(figsize = (10,7))\n",
    "        sn.heatmap(df_cm, annot=True)\n",
    "    return cm, cls_to_acc\n",
    "\n",
    "\n",
    "def get_snrs(indecies, to_1024=False, minimum_snr=-100):\n",
    "    with open(TRAIN_DATA_DIR, 'rb') as crmrn_file:\n",
    "        raw_ds = pickle.load(crmrn_file, encoding=\"bytes\")\n",
    "    decoded_raw_ds = {}\n",
    "    for (class_name_bytes, snr), raw_data in raw_ds.items():\n",
    "        if snr < minimum_snr:\n",
    "            continue\n",
    "        decoded_raw_ds[(class_name_bytes.decode(\"utf-8\"), snr)] = raw_data\n",
    "    raw_ds = decoded_raw_ds\n",
    "\n",
    "    samples_per_snr_per_modulation = raw_ds[list(raw_ds.keys())[0]].shape[0] # 1000\n",
    "    snrs_sequence = [k[1] for k in raw_ds.keys()]\n",
    "    result = []\n",
    "    snrs = [snrs_sequence[idx // samples_per_snr_per_modulation] for idx in indecies]\n",
    "    return np.array(snrs)\n",
    "\n",
    "\n",
    "def get_snr_to_acc(model, data, labels, snrs, verbose=True):\n",
    "    snr_to_acc = {}\n",
    "    for snr in range(min(snrs), max(snrs)+2, 2):\n",
    "        cur_indecies = np.where(snrs == snr)[0]\n",
    "        cur_data = data[cur_indecies]\n",
    "        cur_labels = labels[cur_indecies]\n",
    "        cur_pred = model.predict(cur_data, verbose=0)\n",
    "\n",
    "        cur_pred_labels = np.argmax(cur_pred, axis=1)\n",
    "        verbose and print(f\"snr={snr}\")\n",
    "        acc = accuracy_score(cur_labels, cur_pred_labels)\n",
    "        verbose and print(f\"Overall test accuracy: {acc}\")\n",
    "        snr_to_acc[snr] = acc\n",
    "    return snr_to_acc"
   ]
  },
  {
   "attachments": {},
   "cell_type": "markdown",
   "metadata": {},
   "source": [
    "### Train, evaluate, save model and evaluation results"
   ]
  },
  {
   "cell_type": "code",
   "execution_count": 18,
   "metadata": {},
   "outputs": [
    {
     "name": "stdout",
     "output_type": "stream",
     "text": [
      "Model: \"model_2\"\n",
      "_________________________________________________________________\n",
      " Layer (type)                Output Shape              Param #   \n",
      "=================================================================\n",
      " input_3 (InputLayer)        [(None, 1, 128, 2)]       0         \n",
      "                                                                 \n",
      " CNN1_ (Conv2D)              (None, 1, 128, 32)        544       \n",
      "                                                                 \n",
      " BN1_ (CustomBatchNorm)      (None, 1, 128, 32)        128       \n",
      "                                                                 \n",
      " CNN_RELU1_ (ReLU)           (None, 1, 128, 32)        0         \n",
      "                                                                 \n",
      " CNN2_ (Conv2D)              (None, 1, 128, 48)        12336     \n",
      "                                                                 \n",
      " BN2_ (CustomBatchNorm)      (None, 1, 128, 48)        192       \n",
      "                                                                 \n",
      " CNN_RELU2_ (ReLU)           (None, 1, 128, 48)        0         \n",
      "                                                                 \n",
      " CNN3_ (Conv2D)              (None, 1, 128, 64)        24640     \n",
      "                                                                 \n",
      " MAX_POOL_3_ (MaxPooling2D)  (None, 1, 64, 64)         0         \n",
      "                                                                 \n",
      " BN3_ (CustomBatchNorm)      (None, 1, 64, 64)         256       \n",
      "                                                                 \n",
      " CNN_RELU3_ (ReLU)           (None, 1, 64, 64)         0         \n",
      "                                                                 \n",
      " CNN4_ (Conv2D)              (None, 1, 64, 96)         49248     \n",
      "                                                                 \n",
      " BN4_ (CustomBatchNorm)      (None, 1, 64, 96)         384       \n",
      "                                                                 \n",
      " CNN_RELU4_ (ReLU)           (None, 1, 64, 96)         0         \n",
      "                                                                 \n",
      " CNN5_ (Conv2D)              (None, 1, 64, 128)        98432     \n",
      "                                                                 \n",
      " MAX_POOL_5_ (MaxPooling2D)  (None, 1, 32, 128)        0         \n",
      "                                                                 \n",
      " BN5_ (CustomBatchNorm)      (None, 1, 32, 128)        512       \n",
      "                                                                 \n",
      " CNN_RELU5_ (ReLU)           (None, 1, 32, 128)        0         \n",
      "                                                                 \n",
      " CNN6_ (Conv2D)              (None, 1, 32, 192)        196800    \n",
      "                                                                 \n",
      " BN6_ (CustomBatchNorm)      (None, 1, 32, 192)        768       \n",
      "                                                                 \n",
      " CNN_RELU6_ (ReLU)           (None, 1, 32, 192)        0         \n",
      "                                                                 \n",
      " AVG1_ (AveragePooling2D)    (None, 1, 1, 192)         0         \n",
      "                                                                 \n",
      " FLT1_ (Flatten)             (None, 192)               0         \n",
      "                                                                 \n",
      " FC_1_ (Dense)               (None, 10)                1930      \n",
      "                                                                 \n",
      " softmax_2 (Softmax)         (None, 10)                0         \n",
      "                                                                 \n",
      " flatten_2 (Flatten)         (None, 10)                0         \n",
      "                                                                 \n",
      "=================================================================\n",
      "Total params: 386,170\n",
      "Trainable params: 385,050\n",
      "Non-trainable params: 1,120\n",
      "_________________________________________________________________\n",
      "Epoch 1/16\n",
      "WARNING:tensorflow:Gradients do not exist for variables ['BN1_/custom_batch_beta:0', 'BN1_/custom_batch_gamma:0', 'BN2_/custom_batch_beta:0', 'BN2_/custom_batch_gamma:0', 'BN3_/custom_batch_beta:0', 'BN3_/custom_batch_gamma:0', 'BN4_/custom_batch_beta:0', 'BN4_/custom_batch_gamma:0', 'BN5_/custom_batch_beta:0', 'BN5_/custom_batch_gamma:0', 'BN6_/custom_batch_beta:0', 'BN6_/custom_batch_gamma:0'] when minimizing the loss. If you're using `model.compile()`, did you forget to provide a `loss` argument?\n"
     ]
    },
    {
     "name": "stderr",
     "output_type": "stream",
     "text": [
      "WARNING:tensorflow:Gradients do not exist for variables ['BN1_/custom_batch_beta:0', 'BN1_/custom_batch_gamma:0', 'BN2_/custom_batch_beta:0', 'BN2_/custom_batch_gamma:0', 'BN3_/custom_batch_beta:0', 'BN3_/custom_batch_gamma:0', 'BN4_/custom_batch_beta:0', 'BN4_/custom_batch_gamma:0', 'BN5_/custom_batch_beta:0', 'BN5_/custom_batch_gamma:0', 'BN6_/custom_batch_beta:0', 'BN6_/custom_batch_gamma:0'] when minimizing the loss. If you're using `model.compile()`, did you forget to provide a `loss` argument?\n"
     ]
    },
    {
     "name": "stdout",
     "output_type": "stream",
     "text": [
      "WARNING:tensorflow:Gradients do not exist for variables ['BN1_/custom_batch_beta:0', 'BN1_/custom_batch_gamma:0', 'BN2_/custom_batch_beta:0', 'BN2_/custom_batch_gamma:0', 'BN3_/custom_batch_beta:0', 'BN3_/custom_batch_gamma:0', 'BN4_/custom_batch_beta:0', 'BN4_/custom_batch_gamma:0', 'BN5_/custom_batch_beta:0', 'BN5_/custom_batch_gamma:0', 'BN6_/custom_batch_beta:0', 'BN6_/custom_batch_gamma:0'] when minimizing the loss. If you're using `model.compile()`, did you forget to provide a `loss` argument?\n"
     ]
    },
    {
     "name": "stderr",
     "output_type": "stream",
     "text": [
      "WARNING:tensorflow:Gradients do not exist for variables ['BN1_/custom_batch_beta:0', 'BN1_/custom_batch_gamma:0', 'BN2_/custom_batch_beta:0', 'BN2_/custom_batch_gamma:0', 'BN3_/custom_batch_beta:0', 'BN3_/custom_batch_gamma:0', 'BN4_/custom_batch_beta:0', 'BN4_/custom_batch_gamma:0', 'BN5_/custom_batch_beta:0', 'BN5_/custom_batch_gamma:0', 'BN6_/custom_batch_beta:0', 'BN6_/custom_batch_gamma:0'] when minimizing the loss. If you're using `model.compile()`, did you forget to provide a `loss` argument?\n"
     ]
    },
    {
     "name": "stdout",
     "output_type": "stream",
     "text": [
      "WARNING:tensorflow:Gradients do not exist for variables ['BN1_/custom_batch_beta:0', 'BN1_/custom_batch_gamma:0', 'BN2_/custom_batch_beta:0', 'BN2_/custom_batch_gamma:0', 'BN3_/custom_batch_beta:0', 'BN3_/custom_batch_gamma:0', 'BN4_/custom_batch_beta:0', 'BN4_/custom_batch_gamma:0', 'BN5_/custom_batch_beta:0', 'BN5_/custom_batch_gamma:0', 'BN6_/custom_batch_beta:0', 'BN6_/custom_batch_gamma:0'] when minimizing the loss. If you're using `model.compile()`, did you forget to provide a `loss` argument?\n"
     ]
    },
    {
     "name": "stderr",
     "output_type": "stream",
     "text": [
      "WARNING:tensorflow:Gradients do not exist for variables ['BN1_/custom_batch_beta:0', 'BN1_/custom_batch_gamma:0', 'BN2_/custom_batch_beta:0', 'BN2_/custom_batch_gamma:0', 'BN3_/custom_batch_beta:0', 'BN3_/custom_batch_gamma:0', 'BN4_/custom_batch_beta:0', 'BN4_/custom_batch_gamma:0', 'BN5_/custom_batch_beta:0', 'BN5_/custom_batch_gamma:0', 'BN6_/custom_batch_beta:0', 'BN6_/custom_batch_gamma:0'] when minimizing the loss. If you're using `model.compile()`, did you forget to provide a `loss` argument?\n"
     ]
    },
    {
     "name": "stdout",
     "output_type": "stream",
     "text": [
      "WARNING:tensorflow:Gradients do not exist for variables ['BN1_/custom_batch_beta:0', 'BN1_/custom_batch_gamma:0', 'BN2_/custom_batch_beta:0', 'BN2_/custom_batch_gamma:0', 'BN3_/custom_batch_beta:0', 'BN3_/custom_batch_gamma:0', 'BN4_/custom_batch_beta:0', 'BN4_/custom_batch_gamma:0', 'BN5_/custom_batch_beta:0', 'BN5_/custom_batch_gamma:0', 'BN6_/custom_batch_beta:0', 'BN6_/custom_batch_gamma:0'] when minimizing the loss. If you're using `model.compile()`, did you forget to provide a `loss` argument?\n"
     ]
    },
    {
     "name": "stderr",
     "output_type": "stream",
     "text": [
      "WARNING:tensorflow:Gradients do not exist for variables ['BN1_/custom_batch_beta:0', 'BN1_/custom_batch_gamma:0', 'BN2_/custom_batch_beta:0', 'BN2_/custom_batch_gamma:0', 'BN3_/custom_batch_beta:0', 'BN3_/custom_batch_gamma:0', 'BN4_/custom_batch_beta:0', 'BN4_/custom_batch_gamma:0', 'BN5_/custom_batch_beta:0', 'BN5_/custom_batch_gamma:0', 'BN6_/custom_batch_beta:0', 'BN6_/custom_batch_gamma:0'] when minimizing the loss. If you're using `model.compile()`, did you forget to provide a `loss` argument?\n",
      "2023-05-12 02:55:32.474977: W tensorflow/tsl/framework/bfc_allocator.cc:296] Allocator (GPU_0_bfc) ran out of memory trying to allocate 4.59GiB with freed_by_count=0. The caller indicates that this is not a failure, but this may mean that there could be performance gains if more memory were available.\n",
      "2023-05-12 02:55:32.969423: W tensorflow/tsl/framework/bfc_allocator.cc:296] Allocator (GPU_0_bfc) ran out of memory trying to allocate 5.60GiB with freed_by_count=0. The caller indicates that this is not a failure, but this may mean that there could be performance gains if more memory were available.\n",
      "2023-05-12 02:55:33.016746: W tensorflow/tsl/framework/bfc_allocator.cc:296] Allocator (GPU_0_bfc) ran out of memory trying to allocate 7.13GiB with freed_by_count=0. The caller indicates that this is not a failure, but this may mean that there could be performance gains if more memory were available.\n",
      "2023-05-12 02:55:33.306421: W tensorflow/tsl/framework/bfc_allocator.cc:296] Allocator (GPU_0_bfc) ran out of memory trying to allocate 5.10GiB with freed_by_count=0. The caller indicates that this is not a failure, but this may mean that there could be performance gains if more memory were available.\n",
      "2023-05-12 02:55:33.737577: W tensorflow/tsl/framework/bfc_allocator.cc:296] Allocator (GPU_0_bfc) ran out of memory trying to allocate 6.82GiB with freed_by_count=0. The caller indicates that this is not a failure, but this may mean that there could be performance gains if more memory were available.\n"
     ]
    },
    {
     "name": "stdout",
     "output_type": "stream",
     "text": [
      "   8/3750 [..............................] - ETA: 27s - loss: 2.3019 - accuracy: 0.1089    "
     ]
    },
    {
     "name": "stderr",
     "output_type": "stream",
     "text": [
      "2023-05-12 02:55:33.970460: W tensorflow/tsl/framework/bfc_allocator.cc:296] Allocator (GPU_0_bfc) ran out of memory trying to allocate 4.30GiB with freed_by_count=0. The caller indicates that this is not a failure, but this may mean that there could be performance gains if more memory were available.\n"
     ]
    },
    {
     "name": "stdout",
     "output_type": "stream",
     "text": [
      "3750/3750 [==============================] - 34s 8ms/step - loss: 1.2385 - accuracy: 0.4886 - val_loss: 1.0558 - val_accuracy: 0.5626 - lr: 0.0010\n",
      "Epoch 2/16\n",
      "3750/3750 [==============================] - 31s 8ms/step - loss: 1.0245 - accuracy: 0.5729 - val_loss: 1.0051 - val_accuracy: 0.5854 - lr: 0.0010\n",
      "Epoch 3/16\n",
      "3750/3750 [==============================] - 31s 8ms/step - loss: 0.9881 - accuracy: 0.5966 - val_loss: 0.9747 - val_accuracy: 0.6064 - lr: 0.0010\n",
      "Epoch 4/16\n",
      "3750/3750 [==============================] - 32s 8ms/step - loss: 0.9611 - accuracy: 0.6122 - val_loss: 0.9538 - val_accuracy: 0.6161 - lr: 0.0010\n",
      "Epoch 5/16\n",
      "3750/3750 [==============================] - 32s 8ms/step - loss: 0.9407 - accuracy: 0.6215 - val_loss: 0.9364 - val_accuracy: 0.6234 - lr: 0.0010\n",
      "Epoch 6/16\n",
      "3750/3750 [==============================] - 32s 9ms/step - loss: 0.9265 - accuracy: 0.6279 - val_loss: 0.9331 - val_accuracy: 0.6266 - lr: 0.0010\n",
      "Epoch 7/16\n",
      "3750/3750 [==============================] - 32s 9ms/step - loss: 0.9168 - accuracy: 0.6318 - val_loss: 0.9317 - val_accuracy: 0.6251 - lr: 0.0010\n",
      "Epoch 8/16\n",
      "3750/3750 [==============================] - 32s 9ms/step - loss: 0.9093 - accuracy: 0.6353 - val_loss: 0.9237 - val_accuracy: 0.6266 - lr: 0.0010\n",
      "Epoch 9/16\n",
      "3750/3750 [==============================] - 32s 9ms/step - loss: 0.8823 - accuracy: 0.6466 - val_loss: 0.9052 - val_accuracy: 0.6362 - lr: 1.0000e-04\n",
      "Epoch 10/16\n",
      "3750/3750 [==============================] - 32s 9ms/step - loss: 0.8781 - accuracy: 0.6485 - val_loss: 0.9057 - val_accuracy: 0.6357 - lr: 1.0000e-04\n",
      "Epoch 11/16\n",
      "3750/3750 [==============================] - 32s 9ms/step - loss: 0.8759 - accuracy: 0.6496 - val_loss: 0.9047 - val_accuracy: 0.6366 - lr: 1.0000e-04\n",
      "Epoch 12/16\n",
      "3750/3750 [==============================] - 32s 9ms/step - loss: 0.8743 - accuracy: 0.6505 - val_loss: 0.9055 - val_accuracy: 0.6375 - lr: 1.0000e-04\n",
      "Epoch 13/16\n",
      "3750/3750 [==============================] - 32s 9ms/step - loss: 0.8728 - accuracy: 0.6512 - val_loss: 0.9040 - val_accuracy: 0.6380 - lr: 1.0000e-04\n",
      "Epoch 14/16\n",
      "3750/3750 [==============================] - 32s 9ms/step - loss: 0.8714 - accuracy: 0.6521 - val_loss: 0.9044 - val_accuracy: 0.6372 - lr: 1.0000e-04\n",
      "Epoch 15/16\n",
      "3750/3750 [==============================] - 32s 9ms/step - loss: 0.8701 - accuracy: 0.6525 - val_loss: 0.9055 - val_accuracy: 0.6370 - lr: 1.0000e-04\n",
      "Epoch 16/16\n",
      "3750/3750 [==============================] - 32s 8ms/step - loss: 0.8688 - accuracy: 0.6532 - val_loss: 0.9066 - val_accuracy: 0.6373 - lr: 1.0000e-04\n",
      "3750/3750 [==============================] - 4s 1ms/step\n",
      "Overall test accuracy: {'Overall': 0.6373}\n",
      "3750/3750 [==============================] - 6s 1ms/step\n",
      "Overall test accuracy: {'Overall': 0.6362583333333334}\n"
     ]
    },
    {
     "name": "stderr",
     "output_type": "stream",
     "text": [
      "WARNING:absl:Found untraced functions such as _jit_compiled_convolution_op, _jit_compiled_convolution_op, _jit_compiled_convolution_op, _jit_compiled_convolution_op, _jit_compiled_convolution_op while saving (showing 5 of 6). These functions will not be directly callable after loading.\n"
     ]
    },
    {
     "name": "stdout",
     "output_type": "stream",
     "text": [
      "INFO:tensorflow:Assets written to: CNN_radio_ML/experiment_0/model/assets\n"
     ]
    },
    {
     "name": "stderr",
     "output_type": "stream",
     "text": [
      "INFO:tensorflow:Assets written to: CNN_radio_ML/experiment_0/model/assets\n"
     ]
    },
    {
     "name": "stdout",
     "output_type": "stream",
     "text": [
      "Model: \"model_3\"\n",
      "_________________________________________________________________\n",
      " Layer (type)                Output Shape              Param #   \n",
      "=================================================================\n",
      " input_4 (InputLayer)        [(None, 1, 128, 2)]       0         \n",
      "                                                                 \n",
      " CNN1_ (Conv2D)              (None, 1, 128, 32)        544       \n",
      "                                                                 \n",
      " BN1_ (CustomBatchNorm)      (None, 1, 128, 32)        128       \n",
      "                                                                 \n",
      " CNN_RELU1_ (ReLU)           (None, 1, 128, 32)        0         \n",
      "                                                                 \n",
      " CNN2_ (Conv2D)              (None, 1, 128, 48)        12336     \n",
      "                                                                 \n",
      " BN2_ (CustomBatchNorm)      (None, 1, 128, 48)        192       \n",
      "                                                                 \n",
      " CNN_RELU2_ (ReLU)           (None, 1, 128, 48)        0         \n",
      "                                                                 \n",
      " CNN3_ (Conv2D)              (None, 1, 128, 64)        24640     \n",
      "                                                                 \n",
      " MAX_POOL_3_ (MaxPooling2D)  (None, 1, 64, 64)         0         \n",
      "                                                                 \n",
      " BN3_ (CustomBatchNorm)      (None, 1, 64, 64)         256       \n",
      "                                                                 \n",
      " CNN_RELU3_ (ReLU)           (None, 1, 64, 64)         0         \n",
      "                                                                 \n",
      " CNN4_ (Conv2D)              (None, 1, 64, 96)         49248     \n",
      "                                                                 \n",
      " BN4_ (CustomBatchNorm)      (None, 1, 64, 96)         384       \n",
      "                                                                 \n",
      " CNN_RELU4_ (ReLU)           (None, 1, 64, 96)         0         \n",
      "                                                                 \n",
      " CNN5_ (Conv2D)              (None, 1, 64, 128)        98432     \n",
      "                                                                 \n",
      " MAX_POOL_5_ (MaxPooling2D)  (None, 1, 32, 128)        0         \n",
      "                                                                 \n",
      " BN5_ (CustomBatchNorm)      (None, 1, 32, 128)        512       \n",
      "                                                                 \n",
      " CNN_RELU5_ (ReLU)           (None, 1, 32, 128)        0         \n",
      "                                                                 \n",
      " CNN6_ (Conv2D)              (None, 1, 32, 192)        196800    \n",
      "                                                                 \n",
      " BN6_ (CustomBatchNorm)      (None, 1, 32, 192)        768       \n",
      "                                                                 \n",
      " CNN_RELU6_ (ReLU)           (None, 1, 32, 192)        0         \n",
      "                                                                 \n",
      " CNN7_ (Conv2D)              (None, 1, 32, 256)        393472    \n",
      "                                                                 \n",
      " MAX_POOL_7_ (MaxPooling2D)  (None, 1, 16, 256)        0         \n",
      "                                                                 \n",
      " BN7_ (CustomBatchNorm)      (None, 1, 16, 256)        1024      \n",
      "                                                                 \n",
      " CNN_RELU7_ (ReLU)           (None, 1, 16, 256)        0         \n",
      "                                                                 \n",
      " CNN8_ (Conv2D)              (None, 1, 16, 512)        1049088   \n",
      "                                                                 \n",
      " BN8_ (CustomBatchNorm)      (None, 1, 16, 512)        2048      \n",
      "                                                                 \n",
      " CNN_RELU8_ (ReLU)           (None, 1, 16, 512)        0         \n",
      "                                                                 \n",
      " AVG1_ (AveragePooling2D)    (None, 1, 1, 512)         0         \n",
      "                                                                 \n",
      " FLT1_ (Flatten)             (None, 512)               0         \n",
      "                                                                 \n",
      " FC_1_ (Dense)               (None, 10)                5130      \n",
      "                                                                 \n",
      " softmax_3 (Softmax)         (None, 10)                0         \n",
      "                                                                 \n",
      " flatten_3 (Flatten)         (None, 10)                0         \n",
      "                                                                 \n",
      "=================================================================\n",
      "Total params: 1,835,002\n",
      "Trainable params: 1,832,346\n",
      "Non-trainable params: 2,656\n",
      "_________________________________________________________________\n",
      "Epoch 1/16\n",
      "WARNING:tensorflow:Gradients do not exist for variables ['BN1_/custom_batch_beta:0', 'BN1_/custom_batch_gamma:0', 'BN2_/custom_batch_beta:0', 'BN2_/custom_batch_gamma:0', 'BN3_/custom_batch_beta:0', 'BN3_/custom_batch_gamma:0', 'BN4_/custom_batch_beta:0', 'BN4_/custom_batch_gamma:0', 'BN5_/custom_batch_beta:0', 'BN5_/custom_batch_gamma:0', 'BN6_/custom_batch_beta:0', 'BN6_/custom_batch_gamma:0', 'BN7_/custom_batch_beta:0', 'BN7_/custom_batch_gamma:0', 'BN8_/custom_batch_beta:0', 'BN8_/custom_batch_gamma:0'] when minimizing the loss. If you're using `model.compile()`, did you forget to provide a `loss` argument?\n"
     ]
    },
    {
     "name": "stderr",
     "output_type": "stream",
     "text": [
      "WARNING:tensorflow:Gradients do not exist for variables ['BN1_/custom_batch_beta:0', 'BN1_/custom_batch_gamma:0', 'BN2_/custom_batch_beta:0', 'BN2_/custom_batch_gamma:0', 'BN3_/custom_batch_beta:0', 'BN3_/custom_batch_gamma:0', 'BN4_/custom_batch_beta:0', 'BN4_/custom_batch_gamma:0', 'BN5_/custom_batch_beta:0', 'BN5_/custom_batch_gamma:0', 'BN6_/custom_batch_beta:0', 'BN6_/custom_batch_gamma:0', 'BN7_/custom_batch_beta:0', 'BN7_/custom_batch_gamma:0', 'BN8_/custom_batch_beta:0', 'BN8_/custom_batch_gamma:0'] when minimizing the loss. If you're using `model.compile()`, did you forget to provide a `loss` argument?\n"
     ]
    },
    {
     "name": "stdout",
     "output_type": "stream",
     "text": [
      "WARNING:tensorflow:Gradients do not exist for variables ['BN1_/custom_batch_beta:0', 'BN1_/custom_batch_gamma:0', 'BN2_/custom_batch_beta:0', 'BN2_/custom_batch_gamma:0', 'BN3_/custom_batch_beta:0', 'BN3_/custom_batch_gamma:0', 'BN4_/custom_batch_beta:0', 'BN4_/custom_batch_gamma:0', 'BN5_/custom_batch_beta:0', 'BN5_/custom_batch_gamma:0', 'BN6_/custom_batch_beta:0', 'BN6_/custom_batch_gamma:0', 'BN7_/custom_batch_beta:0', 'BN7_/custom_batch_gamma:0', 'BN8_/custom_batch_beta:0', 'BN8_/custom_batch_gamma:0'] when minimizing the loss. If you're using `model.compile()`, did you forget to provide a `loss` argument?\n"
     ]
    },
    {
     "name": "stderr",
     "output_type": "stream",
     "text": [
      "WARNING:tensorflow:Gradients do not exist for variables ['BN1_/custom_batch_beta:0', 'BN1_/custom_batch_gamma:0', 'BN2_/custom_batch_beta:0', 'BN2_/custom_batch_gamma:0', 'BN3_/custom_batch_beta:0', 'BN3_/custom_batch_gamma:0', 'BN4_/custom_batch_beta:0', 'BN4_/custom_batch_gamma:0', 'BN5_/custom_batch_beta:0', 'BN5_/custom_batch_gamma:0', 'BN6_/custom_batch_beta:0', 'BN6_/custom_batch_gamma:0', 'BN7_/custom_batch_beta:0', 'BN7_/custom_batch_gamma:0', 'BN8_/custom_batch_beta:0', 'BN8_/custom_batch_gamma:0'] when minimizing the loss. If you're using `model.compile()`, did you forget to provide a `loss` argument?\n"
     ]
    },
    {
     "name": "stdout",
     "output_type": "stream",
     "text": [
      "WARNING:tensorflow:Gradients do not exist for variables ['BN1_/custom_batch_beta:0', 'BN1_/custom_batch_gamma:0', 'BN2_/custom_batch_beta:0', 'BN2_/custom_batch_gamma:0', 'BN3_/custom_batch_beta:0', 'BN3_/custom_batch_gamma:0', 'BN4_/custom_batch_beta:0', 'BN4_/custom_batch_gamma:0', 'BN5_/custom_batch_beta:0', 'BN5_/custom_batch_gamma:0', 'BN6_/custom_batch_beta:0', 'BN6_/custom_batch_gamma:0', 'BN7_/custom_batch_beta:0', 'BN7_/custom_batch_gamma:0', 'BN8_/custom_batch_beta:0', 'BN8_/custom_batch_gamma:0'] when minimizing the loss. If you're using `model.compile()`, did you forget to provide a `loss` argument?\n"
     ]
    },
    {
     "name": "stderr",
     "output_type": "stream",
     "text": [
      "WARNING:tensorflow:Gradients do not exist for variables ['BN1_/custom_batch_beta:0', 'BN1_/custom_batch_gamma:0', 'BN2_/custom_batch_beta:0', 'BN2_/custom_batch_gamma:0', 'BN3_/custom_batch_beta:0', 'BN3_/custom_batch_gamma:0', 'BN4_/custom_batch_beta:0', 'BN4_/custom_batch_gamma:0', 'BN5_/custom_batch_beta:0', 'BN5_/custom_batch_gamma:0', 'BN6_/custom_batch_beta:0', 'BN6_/custom_batch_gamma:0', 'BN7_/custom_batch_beta:0', 'BN7_/custom_batch_gamma:0', 'BN8_/custom_batch_beta:0', 'BN8_/custom_batch_gamma:0'] when minimizing the loss. If you're using `model.compile()`, did you forget to provide a `loss` argument?\n"
     ]
    },
    {
     "name": "stdout",
     "output_type": "stream",
     "text": [
      "WARNING:tensorflow:Gradients do not exist for variables ['BN1_/custom_batch_beta:0', 'BN1_/custom_batch_gamma:0', 'BN2_/custom_batch_beta:0', 'BN2_/custom_batch_gamma:0', 'BN3_/custom_batch_beta:0', 'BN3_/custom_batch_gamma:0', 'BN4_/custom_batch_beta:0', 'BN4_/custom_batch_gamma:0', 'BN5_/custom_batch_beta:0', 'BN5_/custom_batch_gamma:0', 'BN6_/custom_batch_beta:0', 'BN6_/custom_batch_gamma:0', 'BN7_/custom_batch_beta:0', 'BN7_/custom_batch_gamma:0', 'BN8_/custom_batch_beta:0', 'BN8_/custom_batch_gamma:0'] when minimizing the loss. If you're using `model.compile()`, did you forget to provide a `loss` argument?\n"
     ]
    },
    {
     "name": "stderr",
     "output_type": "stream",
     "text": [
      "WARNING:tensorflow:Gradients do not exist for variables ['BN1_/custom_batch_beta:0', 'BN1_/custom_batch_gamma:0', 'BN2_/custom_batch_beta:0', 'BN2_/custom_batch_gamma:0', 'BN3_/custom_batch_beta:0', 'BN3_/custom_batch_gamma:0', 'BN4_/custom_batch_beta:0', 'BN4_/custom_batch_gamma:0', 'BN5_/custom_batch_beta:0', 'BN5_/custom_batch_gamma:0', 'BN6_/custom_batch_beta:0', 'BN6_/custom_batch_gamma:0', 'BN7_/custom_batch_beta:0', 'BN7_/custom_batch_gamma:0', 'BN8_/custom_batch_beta:0', 'BN8_/custom_batch_gamma:0'] when minimizing the loss. If you're using `model.compile()`, did you forget to provide a `loss` argument?\n"
     ]
    },
    {
     "name": "stdout",
     "output_type": "stream",
     "text": [
      "3750/3750 [==============================] - 57s 15ms/step - loss: 1.2853 - accuracy: 0.4726 - val_loss: 1.0476 - val_accuracy: 0.5630 - lr: 0.0010\n",
      "Epoch 2/16\n",
      "3750/3750 [==============================] - 55s 15ms/step - loss: 1.0177 - accuracy: 0.5728 - val_loss: 1.0001 - val_accuracy: 0.5825 - lr: 0.0010\n",
      "Epoch 3/16\n",
      "3750/3750 [==============================] - 55s 15ms/step - loss: 0.9883 - accuracy: 0.5909 - val_loss: 0.9844 - val_accuracy: 0.5971 - lr: 0.0010\n",
      "Epoch 4/16\n",
      "3750/3750 [==============================] - 55s 15ms/step - loss: 0.9628 - accuracy: 0.6086 - val_loss: 0.9551 - val_accuracy: 0.6136 - lr: 0.0010\n",
      "Epoch 5/16\n",
      "3750/3750 [==============================] - 55s 15ms/step - loss: 0.9392 - accuracy: 0.6217 - val_loss: 0.9429 - val_accuracy: 0.6206 - lr: 0.0010\n",
      "Epoch 6/16\n",
      "3750/3750 [==============================] - 55s 15ms/step - loss: 0.9224 - accuracy: 0.6291 - val_loss: 0.9372 - val_accuracy: 0.6258 - lr: 0.0010\n",
      "Epoch 7/16\n",
      "3750/3750 [==============================] - 55s 15ms/step - loss: 0.9106 - accuracy: 0.6343 - val_loss: 0.9202 - val_accuracy: 0.6306 - lr: 0.0010\n",
      "Epoch 8/16\n",
      "3750/3750 [==============================] - 56s 15ms/step - loss: 0.9010 - accuracy: 0.6384 - val_loss: 0.9138 - val_accuracy: 0.6310 - lr: 0.0010\n",
      "Epoch 9/16\n",
      "3750/3750 [==============================] - 56s 15ms/step - loss: 0.8644 - accuracy: 0.6535 - val_loss: 0.9035 - val_accuracy: 0.6374 - lr: 1.0000e-04\n",
      "Epoch 10/16\n",
      "3750/3750 [==============================] - 55s 15ms/step - loss: 0.8570 - accuracy: 0.6570 - val_loss: 0.9031 - val_accuracy: 0.6381 - lr: 1.0000e-04\n",
      "Epoch 11/16\n",
      "3750/3750 [==============================] - 67s 18ms/step - loss: 0.8525 - accuracy: 0.6593 - val_loss: 0.9045 - val_accuracy: 0.6383 - lr: 1.0000e-04\n",
      "Epoch 12/16\n",
      "3750/3750 [==============================] - 65s 17ms/step - loss: 0.8487 - accuracy: 0.6609 - val_loss: 0.9058 - val_accuracy: 0.6389 - lr: 1.0000e-04\n",
      "Epoch 13/16\n",
      "3750/3750 [==============================] - 56s 15ms/step - loss: 0.8452 - accuracy: 0.6625 - val_loss: 0.9090 - val_accuracy: 0.6380 - lr: 1.0000e-04\n",
      "Epoch 14/16\n",
      "3750/3750 [==============================] - 55s 15ms/step - loss: 0.8417 - accuracy: 0.6643 - val_loss: 0.9120 - val_accuracy: 0.6370 - lr: 1.0000e-04\n",
      "Epoch 15/16\n",
      "3750/3750 [==============================] - 56s 15ms/step - loss: 0.8381 - accuracy: 0.6661 - val_loss: 0.9160 - val_accuracy: 0.6363 - lr: 1.0000e-04\n",
      "Epoch 16/16\n",
      "3750/3750 [==============================] - 56s 15ms/step - loss: 0.8346 - accuracy: 0.6678 - val_loss: 0.9183 - val_accuracy: 0.6369 - lr: 1.0000e-04\n",
      "3750/3750 [==============================] - 8s 2ms/step\n",
      "Overall test accuracy: {'Overall': 0.6368833333333334}\n",
      "3750/3750 [==============================] - 8s 2ms/step\n",
      "Overall test accuracy: {'Overall': 0.6367083333333333}\n"
     ]
    },
    {
     "name": "stderr",
     "output_type": "stream",
     "text": [
      "WARNING:absl:Found untraced functions such as _jit_compiled_convolution_op, _jit_compiled_convolution_op, _jit_compiled_convolution_op, _jit_compiled_convolution_op, _jit_compiled_convolution_op while saving (showing 5 of 8). These functions will not be directly callable after loading.\n"
     ]
    },
    {
     "name": "stdout",
     "output_type": "stream",
     "text": [
      "INFO:tensorflow:Assets written to: CNN_radio_ML/experiment_1/model/assets\n"
     ]
    },
    {
     "name": "stderr",
     "output_type": "stream",
     "text": [
      "INFO:tensorflow:Assets written to: CNN_radio_ML/experiment_1/model/assets\n"
     ]
    }
   ],
   "source": [
    "import json\n",
    "from copy import deepcopy\n",
    "\n",
    "def step_decay(epoch):\n",
    "    lrate = 0.001\n",
    "    factor = epoch // 8\n",
    "    lrate /= (10**factor)\n",
    "    return lrate\n",
    "\n",
    "lrate = tf.keras.callbacks.LearningRateScheduler(step_decay)\n",
    "\n",
    "train_data = train_data.squeeze()\n",
    "validation_data = validation_data.squeeze()\n",
    "test_data = test_data.squeeze()\n",
    "\n",
    "train_data = np.expand_dims(train_data, 1)\n",
    "validation_data = np.expand_dims(validation_data, 1)\n",
    "test_data = np.expand_dims(test_data, 1)\n",
    "\n",
    "# configs = [[default_cnn_conf, default_encoder_conf, default_dense_conf, default_avg_size],\n",
    "#    [default_cnn_conf, default_encoder_conf, default_dense_conf, 64]]\n",
    "# configs = [\n",
    "#     [default_cnn_conf, default_dense_conf, default_avg_size, \"Default_medium\"],\n",
    "#     [ConvolutionConfiguration(output_channels=[32, 48, 64, 96, 128, 192], kernel_sizes=[17, 17, 17, 17, 17, 17], paddings=[\"same\", \"same\", \"same\", \"same\", \"same\", \"same\"], max_pool_sizes=[1, 1, 2, 1, 2, 1]), default_dense_conf, default_avg_size, \"k=17\"],\n",
    "# ]\n",
    "\n",
    "for i, config in enumerate(configs):\n",
    "    model = create_model_cnn(*config)\n",
    "    model.summary()\n",
    "\n",
    "    model.compile(\n",
    "        # optimizer=tf.keras.optimizers.Adam(learning_rate=0.0),\n",
    "        optimizer=tf.keras.optimizers.Adam(learning_rate=0.0),\n",
    "        loss=tf.keras.losses.SparseCategoricalCrossentropy(),\n",
    "        metrics=[\"accuracy\"],\n",
    "    )\n",
    "\n",
    "    N_EPOCHS = 16\n",
    "    BATCH_SIZE = 256\n",
    "\n",
    "    h = model.fit(\n",
    "        train_data,\n",
    "        train_labels,\n",
    "        epochs=N_EPOCHS,\n",
    "        batch_size=BATCH_SIZE,\n",
    "        validation_data=(validation_data, validation_labels),\n",
    "        callbacks=[lrate]\n",
    "    )\n",
    "\n",
    "    cm_val, cls_to_acc_val = evaluate_model(\n",
    "        model, validation_data, validation_labels, verbose=False\n",
    "    )\n",
    "    snrs_val = get_snrs(validation_indecies, False)\n",
    "    snr_to_acc_val = get_snr_to_acc(\n",
    "        model, validation_data, validation_labels, snrs_val, verbose=False\n",
    "    )\n",
    "\n",
    "    cm_test, cls_to_acc_test = evaluate_model(model, test_data, test_labels, verbose=False)\n",
    "    snr_tests = get_snrs(test_indecies, False)\n",
    "    snr_to_acc_test = get_snr_to_acc(model, test_data, test_labels, snr_tests, verbose=False)\n",
    "\n",
    "    results_dir = f\"CNN_radio_ML/experiment_{i}/\"\n",
    "    model_configuration = {\n",
    "        \"cnn\": config[0].__dict__,\n",
    "        \"dense\": config[1].__dict__,\n",
    "        \"avg_pool\": config[2],\n",
    "    }\n",
    "    train_history = deepcopy(h.history)\n",
    "    train_history[\"lr\"] = [float(lr) for lr in train_history[\"lr\"]]\n",
    "\n",
    "    \n",
    "    results = {\n",
    "        \"model_configuration\": model_configuration,\n",
    "        \"train_history\": train_history,\n",
    "        \"cm_val\": cm_val.tolist(),\n",
    "        \"cls_to_acc_val\": cls_to_acc_val,\n",
    "        \"snr_to_acc_val\": snr_to_acc_val,\n",
    "        \"cm_test\": cm_test.tolist(),\n",
    "        \"cls_to_acc_test\": cls_to_acc_test,\n",
    "        \"snr_to_acc_test\": snr_to_acc_test,\n",
    "    }\n",
    "\n",
    "    os.makedirs(results_dir, exist_ok=True)\n",
    "    with open(results_dir + \"results.json\", \"w\") as res_file:\n",
    "        json.dump(results, res_file, indent=4)\n",
    "    model.save(results_dir + \"model\")"
   ]
  },
  {
   "cell_type": "code",
   "execution_count": 29,
   "metadata": {},
   "outputs": [
    {
     "name": "stdout",
     "output_type": "stream",
     "text": [
      "{'loss': [1.6604399681091309], 'accuracy': [0.3758068084716797], 'val_loss': [1.3640673160552979], 'val_accuracy': [0.4716818034648895], 'lr': [0.001]}\n",
      "<class 'float'>\n",
      "<class 'float'>\n",
      "<class 'float'>\n",
      "<class 'float'>\n",
      "<class 'numpy.float32'>\n"
     ]
    }
   ],
   "source": [
    "print(h.history)\n",
    "print(type(h.history[\"loss\"][0]))\n",
    "print(type(h.history[\"accuracy\"][0]))\n",
    "print(type(h.history[\"val_loss\"][0]))\n",
    "print(type(h.history[\"val_accuracy\"][0]))\n",
    "print(type(h.history[\"lr\"][0]))"
   ]
  },
  {
   "cell_type": "code",
   "execution_count": 20,
   "metadata": {},
   "outputs": [],
   "source": [
    "with open(results_dir + \"results.json\", \"w\") as res_file:\n",
    "    json.dump(results, res_file, indent=4)"
   ]
  },
  {
   "cell_type": "code",
   "execution_count": null,
   "metadata": {},
   "outputs": [],
   "source": []
  }
 ],
 "metadata": {
  "kernelspec": {
   "display_name": "cfu",
   "language": "python",
   "name": "python3"
  },
  "language_info": {
   "codemirror_mode": {
    "name": "ipython",
    "version": 3
   },
   "file_extension": ".py",
   "mimetype": "text/x-python",
   "name": "python",
   "nbconvert_exporter": "python",
   "pygments_lexer": "ipython3",
   "version": "3.8.16"
  },
  "orig_nbformat": 4
 },
 "nbformat": 4,
 "nbformat_minor": 2
}
