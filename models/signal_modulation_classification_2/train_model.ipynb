{
 "cells": [
  {
   "attachments": {},
   "cell_type": "markdown",
   "metadata": {},
   "source": [
    "# Signal Modulation classification 2\n",
    "Train relatively simple model for signal modulation classification with the intention to deploy it on the CFU-Playground"
   ]
  },
  {
   "attachments": {},
   "cell_type": "markdown",
   "metadata": {},
   "source": [
    "[Reference](https://www.mathworks.com/help/deeplearning/ug/modulation-classification-with-deep-learning.html)"
   ]
  },
  {
   "cell_type": "code",
   "execution_count": 14,
   "metadata": {},
   "outputs": [],
   "source": [
    "# imports\n",
    "import tensorflow as tf\n",
    "from tensorflow import keras\n",
    "from tensorflow.keras import layers\n",
    "\n",
    "import numpy as np\n",
    "import random\n",
    "# from komm import PAModulation\n",
    "# from commpy.filters import rrcosfilter\n",
    "import time\n",
    "import glob\n",
    "from pathlib import Path\n",
    "from scipy import io\n",
    "from typing import Tuple\n",
    "import os\n",
    "from tqdm import tqdm\n",
    "from tensorflow.keras.callbacks import LearningRateScheduler"
   ]
  },
  {
   "cell_type": "code",
   "execution_count": 15,
   "metadata": {},
   "outputs": [],
   "source": [
    "SEED = 123456\n",
    "def set_seed(SEED):\n",
    "    random.seed(SEED)\n",
    "    np.random.seed(SEED)\n",
    "    tf.random.set_seed(SEED)"
   ]
  },
  {
   "attachments": {},
   "cell_type": "markdown",
   "metadata": {},
   "source": [
    "## Data generation/loading for model training/evaluation/training"
   ]
  },
  {
   "cell_type": "code",
   "execution_count": 16,
   "metadata": {},
   "outputs": [],
   "source": [
    "classes = [\n",
    "    \"16QAM\",\n",
    "    \"64QAM\",\n",
    "    \"8PSK\",\n",
    "    \"B-FM\",\n",
    "    \"BPSK\",\n",
    "    \"CPFSK\",\n",
    "    \"DSB-AM\",\n",
    "    \"GFSK\",\n",
    "    \"PAM4\",\n",
    "    \"QPSK\",\n",
    "    \"SSB-AM\",\n",
    "]\n",
    "\n",
    "N_CLASSES = len(classes)\n",
    "MODEL_DATA_TYPE = np.float64\n",
    "N_SAMPLES = 1024\n",
    "\n",
    "MODELS_DIR = 'models/'\n",
    "if not os.path.exists(MODELS_DIR):\n",
    "    os.mkdir(MODELS_DIR)\n",
    "\n",
    "MODEL_TF = MODELS_DIR + 'model'\n",
    "MODEL_NO_QUANT_TFLITE = MODELS_DIR + 'model_no_quant.tflite'\n",
    "MODEL_TFLITE = MODELS_DIR + 'model.tflite'\n",
    "MODEL_TFLITE_MICRO = MODELS_DIR + 'model.cc'"
   ]
  },
  {
   "attachments": {},
   "cell_type": "markdown",
   "metadata": {},
   "source": [
    "### Data preprocessing\n",
    "The only thing I gonna to is to divide two parts of complex numbers into separate float number\n",
    "\n",
    "### Data loading\n",
    "Data is created in matlab using different impairments techniques, and rician fading simulation"
   ]
  },
  {
   "cell_type": "code",
   "execution_count": 17,
   "metadata": {},
   "outputs": [],
   "source": [
    "generate = False\n",
    "\n",
    "\n",
    "def preprocess_data(samples: np.ndarray) -> np.ndarray:\n",
    "    I = np.real(samples)\n",
    "    Q = np.imag(samples)\n",
    "    return np.hstack([I, Q]).astype(MODEL_DATA_TYPE)\n",
    "\n",
    "\n",
    "def generate_data(classes):\n",
    "    # TODO: Make data generation code work\n",
    "    # set_seed(SEED)\n",
    "    # N = 1024\n",
    "    # os = 8\n",
    "    # # Random bits\n",
    "    # d = np.random.randint(low=0, high=4, size=N)\n",
    "\n",
    "    # # PAM 4 modulation\n",
    "    # pam4 = PAModulation(4)\n",
    "    # db = pam4.symbols_to_bits(d)\n",
    "    # syms = pam4.modulate(db)\n",
    "\n",
    "    # # Square-root raised cosine filter\n",
    "    # syms_upsampled = np.zeros(os * (len(syms) - 1) + 1, dtype=np.complex64)\n",
    "    # syms_upsampled[::os] = syms\n",
    "    # filterCoeffs = rrcosfilter(N, alpha=0.35, Ts=4, Fs=os)[1]\n",
    "    # tx = np.convolve(filterCoeffs, syms_upsampled)\n",
    "\n",
    "    # # Channel\n",
    "    # SNR = 30\n",
    "    # maxOffset = 5\n",
    "    # fc = 902e6\n",
    "    # fs = 200e3\n",
    "    raise NotImplementedError()\n",
    "\n",
    "\n",
    "def load_data(classes, path=Path(\"train_data\")) -> Tuple[np.ndarray, np.ndarray]:\n",
    "    before = time.time()\n",
    "    # train_data = {}\n",
    "    labels = []\n",
    "    data = []\n",
    "\n",
    "    n_data = 0\n",
    "    for cl_idx, cl in enumerate(classes):\n",
    "        mat_files = glob.glob(f\"{path}/*{cl}*.mat\")\n",
    "        for mat_file in mat_files:\n",
    "            np_data = io.loadmat(mat_file)[\"frame\"]\n",
    "            np_data = preprocess_data(np_data)\n",
    "            n_data += len(np_data)\n",
    "\n",
    "            labels.append(cl_idx)\n",
    "            data.append(np_data)\n",
    "    after = time.time()\n",
    "    print(f\"[debug] Loaded train data with size {n_data} in {after - before}s\")\n",
    "    return np.array(labels), np.expand_dims(np.array(data), axis=1)\n"
   ]
  },
  {
   "cell_type": "code",
   "execution_count": 18,
   "metadata": {},
   "outputs": [
    {
     "name": "stdout",
     "output_type": "stream",
     "text": [
      "[debug] Loaded train data with size 112640000 in 41.22203516960144s\n"
     ]
    }
   ],
   "source": [
    "if generate:\n",
    "    labels, data = generate_data(classes)\n",
    "else:\n",
    "    labels, data = load_data(classes=classes)"
   ]
  },
  {
   "attachments": {},
   "cell_type": "markdown",
   "metadata": {},
   "source": [
    "There are 10_000 samples of size 1024x2 (complex numbers) for each of 11 modulations"
   ]
  },
  {
   "cell_type": "code",
   "execution_count": 19,
   "metadata": {},
   "outputs": [
    {
     "name": "stdout",
     "output_type": "stream",
     "text": [
      "110000\n",
      "(110000, 1, 1024, 2)\n",
      "(1, 1024, 2)\n",
      "[[[ 0.95451608 -0.19869544]\n",
      "  [ 0.78964504 -0.65876765]\n",
      "  [ 0.46299981 -0.82472679]\n",
      "  ...\n",
      "  [ 0.18117962  0.2227802 ]\n",
      "  [-0.08828134  0.20730375]\n",
      "  [-0.12365668  0.25967789]]]\n"
     ]
    }
   ],
   "source": [
    "print(len(labels))\n",
    "print(data.shape)\n",
    "print(data[0].shape)\n",
    "print(data[0][:10])"
   ]
  },
  {
   "attachments": {},
   "cell_type": "markdown",
   "metadata": {},
   "source": [
    "## Model creation\n"
   ]
  },
  {
   "cell_type": "code",
   "execution_count": 20,
   "metadata": {},
   "outputs": [],
   "source": [
    "DS_SIZE = len(labels)\n",
    "\n",
    "n_train = int(0.8 * DS_SIZE)\n",
    "n_validation = int(0.1 * DS_SIZE)\n",
    "n_test = DS_SIZE - n_train - n_validation\n",
    "\n",
    "random_indecies = np.arange(DS_SIZE)\n",
    "np.random.shuffle(random_indecies)\n",
    "\n",
    "train_indecies, validation_indecies, test_indecies, _ = np.split(\n",
    "    random_indecies, [int(DS_SIZE * 0.8), int(DS_SIZE * 0.9), DS_SIZE]\n",
    ")\n"
   ]
  },
  {
   "cell_type": "code",
   "execution_count": 21,
   "metadata": {},
   "outputs": [],
   "source": [
    "train_data, train_labels = data[train_indecies], labels[train_indecies]\n",
    "validation_data, validation_labels = data[validation_indecies], labels[validation_indecies]\n",
    "test_data, test_labels = data[test_indecies], labels[test_indecies]"
   ]
  },
  {
   "cell_type": "code",
   "execution_count": 22,
   "metadata": {},
   "outputs": [],
   "source": [
    "del data\n",
    "del labels"
   ]
  },
  {
   "cell_type": "code",
   "execution_count": null,
   "metadata": {},
   "outputs": [],
   "source": []
  },
  {
   "cell_type": "code",
   "execution_count": 23,
   "metadata": {},
   "outputs": [],
   "source": [
    "def MyBatchNormalization_f(inputs, name):\n",
    "    mean = tf.reduce_mean(inputs)\n",
    "    mean_expanded = tf.ones(inputs.shape) * mean\n",
    "    std = tf.keras.backend.std(inputs)\n",
    "    TempSub = layers.Subtract()([inputs, mean_expanded])\n",
    "    Normalized = layers.Multiply(name=name)([TempSub, 1 / std])\n",
    "    return Normalized\n",
    "\n",
    "\n",
    "# https://github.com/dksakkos/BatchNorm\n",
    "class CustomBatchNorm(layers.Layer):\n",
    "    def __init__(self, *args, **kwargs):\n",
    "        super(CustomBatchNorm, self).__init__(*args, **kwargs)\n",
    "\n",
    "    def build(self, input_shape):\n",
    "        self.beta = self.add_weight(\n",
    "            name=\"custom_batch_beta\",\n",
    "            shape=(input_shape[-1]),\n",
    "            initializer=\"zeros\",\n",
    "            trainable=True,\n",
    "        )\n",
    "\n",
    "        self.gamma = self.add_weight(\n",
    "            name=\"custom_batch_gamma\",\n",
    "            shape=(input_shape[-1]),\n",
    "            initializer=\"ones\",\n",
    "            trainable=True,\n",
    "        )\n",
    "\n",
    "        self.moving_mean = self.add_weight(\n",
    "            name=\"custom_batch_moving_mean\",\n",
    "            shape=(input_shape[-1]),\n",
    "            initializer=tf.initializers.zeros,\n",
    "            trainable=False,\n",
    "        )\n",
    "\n",
    "        self.moving_variance = self.add_weight(\n",
    "            name=\"custom_batch_moving_variance\",\n",
    "            shape=(input_shape[-1]),\n",
    "            initializer=tf.initializers.ones,\n",
    "            trainable=False,\n",
    "        )\n",
    "\n",
    "    def get_moving_average(self, statistic, new_value):\n",
    "        momentum = 0.9\n",
    "        new_value = statistic * momentum + new_value * (1 - momentum)\n",
    "        return statistic.assign(new_value)\n",
    "\n",
    "    def normalise(self, x, x_mean, x_var):\n",
    "        return (x - x_mean) / tf.sqrt(x_var + 1e-6)\n",
    "\n",
    "    def call(self, inputs, training):\n",
    "        if training:\n",
    "            assert len(inputs.shape) in (2, 4)\n",
    "            if len(inputs.shape) > 2:\n",
    "                axes = [0, 1, 2]\n",
    "            else:\n",
    "                axes = [0]\n",
    "            mean, var = tf.nn.moments(inputs, axes=axes, keepdims=False)\n",
    "            self.moving_mean.assign(self.get_moving_average(self.moving_mean, mean))\n",
    "            self.moving_variance.assign(self.get_moving_average(self.moving_variance, var))\n",
    "        else:\n",
    "            mean, var = self.moving_mean, self.moving_variance\n",
    "        x = self.normalise(inputs, mean, var)\n",
    "        return self.gamma * x + self.beta\n",
    "\n",
    "\n",
    "def create_model_v1():\n",
    "    InputLayer = keras.Input(shape=(1, 1024, 2))\n",
    "    CNN1 = layers.Conv2D(16, (1, 8), padding=\"same\", name=\"CNN1_\")(InputLayer)\n",
    "    # N1 = layers.LayerNormalization()\n",
    "    BN1 = CustomBatchNorm(name=\"BN1_\")(CNN1)\n",
    "    ReLU1 = layers.ReLU()(BN1)\n",
    "\n",
    "    MaxPool1 = layers.MaxPool2D(pool_size=(1, 2), strides=(1, 2))(ReLU1)\n",
    "    CNN2 = layers.Conv2D(24, (1, 8), padding=\"same\", name=\"CNN2_\")(MaxPool1)\n",
    "    BN2 = CustomBatchNorm(name=\"BN2_\")(CNN2)\n",
    "    ReLU2 = layers.ReLU()(BN2)\n",
    "\n",
    "    MaxPool2 = layers.MaxPool2D(pool_size=(1, 2), strides=(1, 2))(ReLU2)\n",
    "    CNN3 = layers.Conv2D(32, (1, 8), padding=\"same\", name=\"CNN3_\")(MaxPool2)\n",
    "    BN3 = CustomBatchNorm(name=\"BN3_\")(CNN3)\n",
    "    ReLU3 = layers.ReLU()(BN3)\n",
    "\n",
    "    MaxPool3 = layers.MaxPool2D(pool_size=(1, 2), strides=(1, 2))(ReLU3)\n",
    "    CNN4 = layers.Conv2D(48, (1, 8), padding=\"same\", name=\"CNN4_\")(MaxPool3)\n",
    "    BN4 = CustomBatchNorm(name=\"BN4_\")(CNN4)\n",
    "    ReLU4 = layers.ReLU()(BN4)\n",
    "\n",
    "    MaxPool4 = layers.MaxPool2D(pool_size=(1, 2), strides=(1, 2))(ReLU4)\n",
    "    CNN5 = layers.Conv2D(64, (1, 8), padding=\"same\", name=\"CNN5_\")(MaxPool4)\n",
    "    BN5 = CustomBatchNorm(name=\"BN5_\")(CNN5)\n",
    "    ReLU5 = layers.ReLU()(BN5)\n",
    "\n",
    "    MaxPool5 = layers.MaxPool2D(pool_size=(1, 2), strides=(1, 2))(ReLU5)\n",
    "    CNN6 = layers.Conv2D(96, (1, 8), padding=\"same\", name=\"CNN6_\")(MaxPool5)\n",
    "    BN6 = CustomBatchNorm(name=\"BN6_\")(CNN6)\n",
    "    ReLU6 = layers.ReLU()(BN6)\n",
    "\n",
    "    AP1 = layers.AveragePooling2D(pool_size=(1, 32), strides=(1, 1))(ReLU6)\n",
    "    # FC1 = layers.Reshape((1, 1, -1), name=\"FC1_preFlatten1\")(AP1)\n",
    "    FC1 = layers.Flatten(name=\"FC1_preFlatten1\")(AP1)\n",
    "    FC1 = layers.Dense(11, name=\"FC1_\")(FC1)\n",
    "\n",
    "    SoftMax = layers.Softmax()(FC1)\n",
    "    Output = layers.Flatten()(SoftMax)\n",
    "\n",
    "    model = keras.Model(inputs=[InputLayer], outputs=[Output])\n",
    "    return model\n",
    "\n",
    "\n",
    "def create_model_v2():\n",
    "    # InputLayer = keras.Input(shape=(1, 1024, 2))\n",
    "    # ReLU1 = layers.Conv2D(16, (1, 8), padding=\"valid\", name=\"CNN1_\", activation=\"relu\")(InputLayer)\n",
    "\n",
    "    # MaxPool1 = layers.MaxPool2D(pool_size=(1, 2), strides=(1, 2))(ReLU1)\n",
    "    # ReLU2 = layers.Conv2D(24, (1, 8), padding=\"valid\", name=\"CNN2_\", activation=\"relu\")(MaxPool1)\n",
    "\n",
    "    # MaxPool2 = layers.MaxPool2D(pool_size=(1, 2), strides=(1, 2))(ReLU2)\n",
    "    # ReLU3 = layers.Conv2D(32, (1, 8), padding=\"valid\", name=\"CNN3_\", activation=\"relu\")(MaxPool2)\n",
    "\n",
    "    # MaxPool3 = layers.MaxPool2D(pool_size=(1, 2), strides=(1, 2))(ReLU3)\n",
    "    # ReLU4 = layers.Conv2D(48, (1, 8), padding=\"valid\", name=\"CNN4_\", activation=\"relu\")(MaxPool3)\n",
    "\n",
    "    # MaxPool4 = layers.MaxPool2D(pool_size=(1, 2), strides=(1, 2))(ReLU4)\n",
    "    # ReLU5 = layers.Conv2D(64, (1, 8), padding=\"valid\", name=\"CNN5_\", activation=\"relu\")(MaxPool4)\n",
    "\n",
    "    # MaxPool5 = layers.MaxPool2D(pool_size=(1, 2), strides=(1, 2))(ReLU5)\n",
    "    # ReLU6 = layers.Conv2D(96, (1, 8), padding=\"valid\", name=\"CNN6_\", activation=\"relu\")(MaxPool5)\n",
    "\n",
    "    # AP1 = layers.MaxPool2D(pool_size=(1, 32), strides=(1, 1))(ReLU6)\n",
    "    # FC1 = layers.Reshape((1, 1, -1), name=\"FC1_preFlatten1\")(InputLayer)\n",
    "    # FC1 = layers.Dense(11, name=\"FC1_\")(FC1)\n",
    "\n",
    "    # SoftMax = layers.Softmax()(FC1)\n",
    "    # Output = layers.Reshape((11,))(FC1)\n",
    "\n",
    "    # model = keras.Model(inputs=[InputLayer], outputs=[FC1])\n",
    "    m = tf.keras.Sequential()\n",
    "    m.add(layers.Conv2D(16, (1, 8), input_shape=(1, 1024, 2), padding=\"valid\", name=\"CNN1_\", activation=\"relu\"))\n",
    "    m.add(layers.Flatten())\n",
    "    # m.add(layers.Reshape((1, 1, -1), name=\"FC1_preFlatten1\"))\n",
    "    m.add(layers.Dense(11, name=\"FC1_\"))\n",
    "\n",
    "    return m\n",
    "\n",
    "\n",
    "def create_model_original():\n",
    "    InputLayer = keras.Input(shape=(1, 1024, 2))\n",
    "    CNN1 = layers.Conv2D(16, (1, 8), padding=\"same\", name=\"CNN1_\")(InputLayer)\n",
    "    BN1 = layers.BatchNormalization(epsilon=0.000010, name=\"BN1_\")(CNN1)\n",
    "    ReLU1 = layers.ReLU()(BN1)\n",
    "    MaxPool1 = layers.MaxPool2D(pool_size=(1, 2), strides=(1, 2))(ReLU1)\n",
    "\n",
    "    CNN2 = layers.Conv2D(24, (1, 8), padding=\"same\", name=\"CNN2_\")(MaxPool1)\n",
    "    BN2 = layers.BatchNormalization(epsilon=0.000010, name=\"BN2_\")(CNN2)\n",
    "    ReLU2 = layers.ReLU()(BN2)\n",
    "    MaxPool2 = layers.MaxPool2D(pool_size=(1, 2), strides=(1, 2))(ReLU2)\n",
    "\n",
    "    CNN3 = layers.Conv2D(32, (1, 8), padding=\"same\", name=\"CNN3_\")(MaxPool2)\n",
    "    BN3 = layers.BatchNormalization(epsilon=0.000010, name=\"BN3_\")(CNN3)\n",
    "    ReLU3 = layers.ReLU()(BN3)\n",
    "    MaxPool3 = layers.MaxPool2D(pool_size=(1, 2), strides=(1, 2))(ReLU3)\n",
    "\n",
    "    CNN4 = layers.Conv2D(48, (1, 8), padding=\"same\", name=\"CNN4_\")(MaxPool3)\n",
    "    BN4 = layers.BatchNormalization(epsilon=0.000010, name=\"BN4_\")(CNN4)\n",
    "    ReLU4 = layers.ReLU()(BN4)\n",
    "    MaxPool4 = layers.MaxPool2D(pool_size=(1, 2), strides=(1, 2))(ReLU4)\n",
    "\n",
    "    CNN5 = layers.Conv2D(64, (1, 8), padding=\"same\", name=\"CNN5_\")(MaxPool4)\n",
    "    BN5 = layers.BatchNormalization(epsilon=0.000010, name=\"BN5_\")(CNN5)\n",
    "    ReLU5 = layers.ReLU()(BN5)\n",
    "    MaxPool5 = layers.MaxPool2D(pool_size=(1, 2), strides=(1, 2))(ReLU5)\n",
    "\n",
    "    CNN6 = layers.Conv2D(96, (1, 8), padding=\"same\", name=\"CNN6_\")(MaxPool5)\n",
    "    BN6 = layers.BatchNormalization(epsilon=0.000010, name=\"BN6_\")(CNN6)\n",
    "    ReLU6 = layers.ReLU()(BN6)\n",
    "\n",
    "    AP1 = layers.AveragePooling2D(pool_size=(1, 32), strides=(1, 1))(ReLU6)\n",
    "    FC1 = layers.Reshape((1, 1, -1), name=\"FC1_preFlatten1\")(AP1)\n",
    "    FC1 = layers.Dense(11, name=\"FC1_\")(FC1)\n",
    "\n",
    "    SoftMax = layers.Softmax()(FC1)\n",
    "    Output = layers.Flatten()(SoftMax)\n",
    "    model = keras.Model(inputs=[InputLayer], outputs=[Output])\n",
    "    return model\n"
   ]
  },
  {
   "cell_type": "code",
   "execution_count": 24,
   "metadata": {},
   "outputs": [
    {
     "name": "stdout",
     "output_type": "stream",
     "text": [
      "Model: \"model_1\"\n",
      "_________________________________________________________________\n",
      "Layer (type)                 Output Shape              Param #   \n",
      "=================================================================\n",
      "input_2 (InputLayer)         [(None, 1, 1024, 2)]      0         \n",
      "_________________________________________________________________\n",
      "CNN1_ (Conv2D)               (None, 1, 1024, 16)       272       \n",
      "_________________________________________________________________\n",
      "BN1_ (CustomBatchNorm)       (None, 1, 1024, 16)       64        \n",
      "_________________________________________________________________\n",
      "re_lu_6 (ReLU)               (None, 1, 1024, 16)       0         \n",
      "_________________________________________________________________\n",
      "max_pooling2d_5 (MaxPooling2 (None, 1, 512, 16)        0         \n",
      "_________________________________________________________________\n",
      "CNN2_ (Conv2D)               (None, 1, 512, 24)        3096      \n",
      "_________________________________________________________________\n",
      "BN2_ (CustomBatchNorm)       (None, 1, 512, 24)        96        \n",
      "_________________________________________________________________\n",
      "re_lu_7 (ReLU)               (None, 1, 512, 24)        0         \n",
      "_________________________________________________________________\n",
      "max_pooling2d_6 (MaxPooling2 (None, 1, 256, 24)        0         \n",
      "_________________________________________________________________\n",
      "CNN3_ (Conv2D)               (None, 1, 256, 32)        6176      \n",
      "_________________________________________________________________\n",
      "BN3_ (CustomBatchNorm)       (None, 1, 256, 32)        128       \n",
      "_________________________________________________________________\n",
      "re_lu_8 (ReLU)               (None, 1, 256, 32)        0         \n",
      "_________________________________________________________________\n",
      "max_pooling2d_7 (MaxPooling2 (None, 1, 128, 32)        0         \n",
      "_________________________________________________________________\n",
      "CNN4_ (Conv2D)               (None, 1, 128, 48)        12336     \n",
      "_________________________________________________________________\n",
      "BN4_ (CustomBatchNorm)       (None, 1, 128, 48)        192       \n",
      "_________________________________________________________________\n",
      "re_lu_9 (ReLU)               (None, 1, 128, 48)        0         \n",
      "_________________________________________________________________\n",
      "max_pooling2d_8 (MaxPooling2 (None, 1, 64, 48)         0         \n",
      "_________________________________________________________________\n",
      "CNN5_ (Conv2D)               (None, 1, 64, 64)         24640     \n",
      "_________________________________________________________________\n",
      "BN5_ (CustomBatchNorm)       (None, 1, 64, 64)         256       \n",
      "_________________________________________________________________\n",
      "re_lu_10 (ReLU)              (None, 1, 64, 64)         0         \n",
      "_________________________________________________________________\n",
      "max_pooling2d_9 (MaxPooling2 (None, 1, 32, 64)         0         \n",
      "_________________________________________________________________\n",
      "CNN6_ (Conv2D)               (None, 1, 32, 96)         49248     \n",
      "_________________________________________________________________\n",
      "BN6_ (CustomBatchNorm)       (None, 1, 32, 96)         384       \n",
      "_________________________________________________________________\n",
      "re_lu_11 (ReLU)              (None, 1, 32, 96)         0         \n",
      "_________________________________________________________________\n",
      "average_pooling2d_1 (Average (None, 1, 1, 96)          0         \n",
      "_________________________________________________________________\n",
      "FC1_preFlatten1 (Flatten)    (None, 96)                0         \n",
      "_________________________________________________________________\n",
      "FC1_ (Dense)                 (None, 11)                1067      \n",
      "_________________________________________________________________\n",
      "softmax_1 (Softmax)          (None, 11)                0         \n",
      "_________________________________________________________________\n",
      "flatten_1 (Flatten)          (None, 11)                0         \n",
      "=================================================================\n",
      "Total params: 97,955\n",
      "Trainable params: 97,395\n",
      "Non-trainable params: 560\n",
      "_________________________________________________________________\n"
     ]
    }
   ],
   "source": [
    "model = create_model_v1()\n",
    "model.summary()"
   ]
  },
  {
   "cell_type": "code",
   "execution_count": 25,
   "metadata": {},
   "outputs": [],
   "source": [
    "# https://machinelearningmastery.com/using-learning-rate-schedules-deep-learning-models-python-keras/ \n",
    "# learning rate schedule\n",
    "def step_decay(epoch):\n",
    "    lrate = 0.02\n",
    "    factor = epoch // 9\n",
    "    lrate /= (10**factor)\n",
    "    return lrate\n",
    "\n",
    "lrate = LearningRateScheduler(step_decay)\n",
    "\n",
    "model.compile(\n",
    "    optimizer=tf.keras.optimizers.SGD(learning_rate=0.0), \n",
    "    loss=tf.keras.losses.SparseCategoricalCrossentropy(),\n",
    "    metrics=['accuracy'],\n",
    ")"
   ]
  },
  {
   "cell_type": "code",
   "execution_count": 27,
   "metadata": {},
   "outputs": [
    {
     "name": "stderr",
     "output_type": "stream",
     "text": [
      "2023-02-18 14:15:59.723355: W tensorflow/core/framework/cpu_allocator_impl.cc:80] Allocation of 720896000 exceeds 10% of free system memory.\n",
      "2023-02-18 14:16:00.538268: I tensorflow/compiler/mlir/mlir_graph_optimization_pass.cc:116] None of the MLIR optimization passes are enabled (registered 2)\n",
      "2023-02-18 14:16:00.542026: I tensorflow/core/platform/profile_utils/cpu_utils.cc:112] CPU Frequency: 1997405000 Hz\n"
     ]
    },
    {
     "name": "stdout",
     "output_type": "stream",
     "text": [
      "Epoch 1/12\n",
      "2750/2750 [==============================] - 101s 36ms/step - loss: 0.8365 - accuracy: 0.6668 - val_loss: 0.3808 - val_accuracy: 0.8004\n",
      "Epoch 2/12\n",
      "2750/2750 [==============================] - 104s 38ms/step - loss: 0.3887 - accuracy: 0.7968 - val_loss: 0.3433 - val_accuracy: 0.8075\n",
      "Epoch 3/12\n",
      "2750/2750 [==============================] - 101s 37ms/step - loss: 0.3439 - accuracy: 0.8170 - val_loss: 0.3167 - val_accuracy: 0.8268\n",
      "Epoch 4/12\n",
      "2750/2750 [==============================] - 88s 32ms/step - loss: 0.3126 - accuracy: 0.8332 - val_loss: 0.3043 - val_accuracy: 0.8301\n",
      "Epoch 5/12\n",
      "2750/2750 [==============================] - 98s 35ms/step - loss: 0.2944 - accuracy: 0.8465 - val_loss: 0.2715 - val_accuracy: 0.8590\n",
      "Epoch 6/12\n",
      "2750/2750 [==============================] - 105s 38ms/step - loss: 0.2682 - accuracy: 0.8681 - val_loss: 0.2476 - val_accuracy: 0.8807\n",
      "Epoch 7/12\n",
      "2750/2750 [==============================] - 107s 39ms/step - loss: 0.2375 - accuracy: 0.8891 - val_loss: 0.2540 - val_accuracy: 0.8785\n",
      "Epoch 8/12\n",
      "2750/2750 [==============================] - 106s 39ms/step - loss: 0.2078 - accuracy: 0.9075 - val_loss: 0.2086 - val_accuracy: 0.9048\n",
      "Epoch 9/12\n",
      "2750/2750 [==============================] - 105s 38ms/step - loss: 0.1879 - accuracy: 0.9165 - val_loss: 0.1844 - val_accuracy: 0.9173\n",
      "Epoch 10/12\n",
      "2750/2750 [==============================] - 105s 38ms/step - loss: 0.1485 - accuracy: 0.9375 - val_loss: 0.1457 - val_accuracy: 0.9356\n",
      "Epoch 11/12\n",
      "2750/2750 [==============================] - 103s 38ms/step - loss: 0.1374 - accuracy: 0.9431 - val_loss: 0.1414 - val_accuracy: 0.9389\n",
      "Epoch 12/12\n",
      "2750/2750 [==============================] - 104s 38ms/step - loss: 0.1353 - accuracy: 0.9431 - val_loss: 0.1434 - val_accuracy: 0.9373\n"
     ]
    }
   ],
   "source": [
    "h = model.fit(\n",
    "    train_data,\n",
    "    train_labels,\n",
    "    epochs=12,\n",
    "    batch_size=32,\n",
    "    validation_data=(validation_data, validation_labels), \n",
    "    callbacks=[lrate]\n",
    ")\n"
   ]
  },
  {
   "cell_type": "code",
   "execution_count": 29,
   "metadata": {},
   "outputs": [
    {
     "data": {
      "image/png": "[encoded data removed]",
      "text/plain": [
       "<Figure size 800x800 with 2 Axes>"
      ]
     },
     "metadata": {},
     "output_type": "display_data"
    }
   ],
   "source": [
    "import matplotlib.pyplot as plt\n",
    "\n",
    "acc = h.history['accuracy']\n",
    "val_acc = h.history['val_accuracy']\n",
    "loss = h.history['loss']\n",
    "val_loss = h.history['val_loss']\n",
    "\n",
    "epochs_range = range(12)\n",
    "plt.figure(figsize=(8, 8))\n",
    "plt.subplot(2, 1, 1)\n",
    "plt.plot(epochs_range, acc, label='Training Accuracy')\n",
    "plt.plot(epochs_range, val_acc, label='Validation Accuracy')\n",
    "plt.legend(loc='lower right')\n",
    "plt.title('Training and Validation Accuracy')\n",
    "plt.subplot(2, 1, 2)\n",
    "\n",
    "plt.plot(epochs_range, loss, label='Training Loss')\n",
    "plt.plot(epochs_range, val_loss, label='Validation Loss')\n",
    "plt.legend(loc='upper right')\n",
    "plt.title('Training and Validation Loss')\n",
    "plt.show()\n",
    "\n"
   ]
  },
  {
   "cell_type": "code",
   "execution_count": 30,
   "metadata": {},
   "outputs": [],
   "source": [
    "test_preds = model.predict(test_data)"
   ]
  },
  {
   "cell_type": "code",
   "execution_count": 39,
   "metadata": {},
   "outputs": [
    {
     "name": "stdout",
     "output_type": "stream",
     "text": [
      "[5 7 3 9 6 8 7 3 0 2]\n",
      "[5 7 3 9 6 8 7 3 0 9]\n"
     ]
    }
   ],
   "source": [
    "pred_labels = np.argmax(test_preds, axis=1)\n",
    "print(pred_labels[0:10])\n",
    "print(test_labels[0:10])"
   ]
  },
  {
   "cell_type": "code",
   "execution_count": 42,
   "metadata": {},
   "outputs": [
    {
     "name": "stdout",
     "output_type": "stream",
     "text": [
      "Overall test accuracy: 0.9359090909090909\n",
      "16QAM test accuracy: 0.8315688161693936\n",
      "64QAM test accuracy: 0.7682186234817814\n",
      "8PSK test accuracy: 0.9375600384245918\n",
      "B-FM test accuracy: 1.0\n",
      "BPSK test accuracy: 1.0\n",
      "CPFSK test accuracy: 0.9971014492753624\n",
      "DSB-AM test accuracy: 0.9776195320447609\n",
      "GFSK test accuracy: 0.9989361702127659\n",
      "PAM4 test accuracy: 0.9951267056530214\n",
      "QPSK test accuracy: 0.8670694864048338\n",
      "SSB-AM test accuracy: 0.9241952232606438\n"
     ]
    },
    {
     "data": {
      "text/plain": [
       "<AxesSubplot:>"
      ]
     },
     "execution_count": 42,
     "metadata": {},
     "output_type": "execute_result"
    },
    {
     "data": {
      "image/png": "[encoded data removed]",
      "text/plain": [
       "<Figure size 1000x700 with 2 Axes>"
      ]
     },
     "metadata": {},
     "output_type": "display_data"
    }
   ],
   "source": [
    "from sklearn.metrics import accuracy_score, confusion_matrix\n",
    "print(f\"Overall test accuracy: {accuracy_score(test_labels, pred_labels)}\")\n",
    "for ci, cl in enumerate(classes):\n",
    "    class_indecies = np.where(test_labels == ci)[0]\n",
    "    cur_test_labels = test_labels[class_indecies]\n",
    "    cur_pred_labels = pred_labels[class_indecies]\n",
    "    print(f\"{cl} test accuracy: {accuracy_score(cur_test_labels, cur_pred_labels)}\")\n",
    "cm = confusion_matrix(y_true=test_labels, y_pred=pred_labels)\n",
    "import seaborn as sn\n",
    "import pandas as pd\n",
    "import matplotlib.pyplot as plt\n",
    "df_cm = pd.DataFrame(cm, index = classes,\n",
    "                  columns = classes)\n",
    "plt.figure(figsize = (10,7))\n",
    "sn.heatmap(df_cm, annot=True)"
   ]
  },
  {
   "attachments": {},
   "cell_type": "markdown",
   "metadata": {},
   "source": [
    "### Mode deployment"
   ]
  },
  {
   "cell_type": "code",
   "execution_count": 27,
   "metadata": {},
   "outputs": [
    {
     "name": "stdout",
     "output_type": "stream",
     "text": [
      "INFO:tensorflow:Assets written to: models/model/assets\n"
     ]
    },
    {
     "name": "stderr",
     "output_type": "stream",
     "text": [
      "INFO:tensorflow:Assets written to: models/model/assets\n"
     ]
    }
   ],
   "source": [
    "model.save(MODEL_TF)"
   ]
  },
  {
   "cell_type": "code",
   "execution_count": 28,
   "metadata": {},
   "outputs": [
    {
     "name": "stderr",
     "output_type": "stream",
     "text": [
      "2023-02-18 13:01:59.438098: W tensorflow/compiler/mlir/lite/python/tf_tfl_flatbuffer_helpers.cc:316] Ignored output_format.\n",
      "2023-02-18 13:01:59.438123: W tensorflow/compiler/mlir/lite/python/tf_tfl_flatbuffer_helpers.cc:319] Ignored drop_control_dependency.\n",
      "2023-02-18 13:01:59.438127: W tensorflow/compiler/mlir/lite/python/tf_tfl_flatbuffer_helpers.cc:325] Ignored change_concat_input_ranges.\n",
      "2023-02-18 13:01:59.439359: I tensorflow/cc/saved_model/reader.cc:32] Reading SavedModel from: models/model\n",
      "2023-02-18 13:01:59.443997: I tensorflow/cc/saved_model/reader.cc:55] Reading meta graph with tags { serve }\n",
      "2023-02-18 13:01:59.444027: I tensorflow/cc/saved_model/reader.cc:93] Reading SavedModel debug info (if present) from: models/model\n",
      "2023-02-18 13:01:59.445004: I tensorflow/compiler/jit/xla_gpu_device.cc:99] Not creating XLA devices, tf_xla_enable_xla_devices not set\n",
      "2023-02-18 13:01:59.457897: I tensorflow/cc/saved_model/loader.cc:206] Restoring SavedModel bundle.\n",
      "2023-02-18 13:01:59.513697: I tensorflow/cc/saved_model/loader.cc:190] Running initialization op on SavedModel bundle at path: models/model\n",
      "2023-02-18 13:01:59.532125: I tensorflow/cc/saved_model/loader.cc:277] SavedModel load for tags { serve }; Status: success: OK. Took 92763 microseconds.\n",
      "2023-02-18 13:01:59.788931: W tensorflow/compiler/mlir/lite/python/tf_tfl_flatbuffer_helpers.cc:316] Ignored output_format.\n",
      "2023-02-18 13:01:59.788957: W tensorflow/compiler/mlir/lite/python/tf_tfl_flatbuffer_helpers.cc:319] Ignored drop_control_dependency.\n",
      "2023-02-18 13:01:59.788961: W tensorflow/compiler/mlir/lite/python/tf_tfl_flatbuffer_helpers.cc:325] Ignored change_concat_input_ranges.\n",
      "2023-02-18 13:01:59.789097: I tensorflow/cc/saved_model/reader.cc:32] Reading SavedModel from: models/model\n",
      "2023-02-18 13:01:59.792150: I tensorflow/cc/saved_model/reader.cc:55] Reading meta graph with tags { serve }\n",
      "2023-02-18 13:01:59.792164: I tensorflow/cc/saved_model/reader.cc:93] Reading SavedModel debug info (if present) from: models/model\n",
      "2023-02-18 13:01:59.792198: I tensorflow/compiler/jit/xla_gpu_device.cc:99] Not creating XLA devices, tf_xla_enable_xla_devices not set\n",
      "2023-02-18 13:01:59.805090: I tensorflow/cc/saved_model/loader.cc:206] Restoring SavedModel bundle.\n",
      "2023-02-18 13:01:59.839813: I tensorflow/cc/saved_model/loader.cc:190] Running initialization op on SavedModel bundle at path: models/model\n",
      "2023-02-18 13:01:59.855244: I tensorflow/cc/saved_model/loader.cc:277] SavedModel load for tags { serve }; Status: success: OK. Took 66146 microseconds.\n"
     ]
    },
    {
     "data": {
      "text/plain": [
       "113976"
      ]
     },
     "execution_count": 28,
     "metadata": {},
     "output_type": "execute_result"
    }
   ],
   "source": [
    "# Convert the model to the TensorFlow Lite format without quantization\n",
    "converter = tf.lite.TFLiteConverter.from_saved_model(MODEL_TF)\n",
    "model_no_quant_tflite = converter.convert()\n",
    "\n",
    "# Save the model to disk\n",
    "open(MODEL_NO_QUANT_TFLITE, \"wb\").write(model_no_quant_tflite)\n",
    "\n",
    "# Convert the model to the TensorFlow Lite format with quantization\n",
    "def representative_dataset():\n",
    "  for i in range(2000):\n",
    "    yield([train_data[i].reshape((1, 1, 1024, 2)).astype(np.float32)])\n",
    "\n",
    "# Set the optimization flag.\n",
    "converter.optimizations = [tf.lite.Optimize.DEFAULT]\n",
    "# Enforce integer only quantization\n",
    "converter.target_spec.supported_ops = [tf.lite.OpsSet.TFLITE_BUILTINS_INT8]\n",
    "converter.inference_input_type = tf.int8\n",
    "converter.inference_output_type = tf.int8\n",
    "# Provide a representative dataset to ensure we quantize correctly.\n",
    "converter.representative_dataset = representative_dataset\n",
    "model_tflite = converter.convert()\n",
    "\n",
    "# Save the model to disk\n",
    "open(MODEL_TFLITE, \"wb\").write(model_tflite)"
   ]
  },
  {
   "cell_type": "code",
   "execution_count": 29,
   "metadata": {},
   "outputs": [],
   "source": [
    "def predict_tflite(tflite_model, x_test):\n",
    "    # Prepare the test data\n",
    "    x_test_ = x_test.copy()\n",
    "    # x_test_ = x_test_.reshape((x_test.size, 1))\n",
    "    x_test_ = x_test_.astype(np.float32)\n",
    "\n",
    "    # Initialize the TFLite interpreter\n",
    "    interpreter = tf.lite.Interpreter(model_content=tflite_model)\n",
    "    # experimental_op_resolver_type=tf.lite.experimental.OpResolverType.BUILTIN_REF)\n",
    "    interpreter.allocate_tensors()\n",
    "\n",
    "    input_details = interpreter.get_input_details()[0]\n",
    "    output_details = interpreter.get_output_details()[0]\n",
    "\n",
    "    # If required, quantize the input layer (from float to integer)\n",
    "    input_scale, input_zero_point = input_details[\"quantization\"]\n",
    "    if (input_scale, input_zero_point) != (0.0, 0):\n",
    "        x_test_ = x_test_ / input_scale + input_zero_point\n",
    "        x_test_ = x_test_.astype(input_details[\"dtype\"])\n",
    "\n",
    "    # Invoke the interpreter\n",
    "    y_pred = np.empty(x_test_.size, dtype=output_details[\"dtype\"])\n",
    "    # for i in range(len(x_test_)):\n",
    "    #     interpreter.set_tensor(input_details[\"index\"], [x_test_[i]])\n",
    "    #     interpreter.invoke()\n",
    "    #     y_pred[i] = interpreter.get_tensor(output_details[\"index\"])[0]\n",
    "    interpreter.set_tensor(input_details[\"index\"], x_test_)\n",
    "    interpreter.invoke()\n",
    "    y_pred = interpreter.get_tensor(output_details[\"index\"])[0]\n",
    "\n",
    "    # If required, dequantized the output layer (from integer to float)\n",
    "    output_scale, output_zero_point = output_details[\"quantization\"]\n",
    "    if (output_scale, output_zero_point) != (0.0, 0):\n",
    "        y_pred = y_pred.astype(np.float32)\n",
    "        y_pred = (y_pred - output_zero_point) * output_scale\n",
    "\n",
    "    return y_pred\n"
   ]
  },
  {
   "cell_type": "code",
   "execution_count": 30,
   "metadata": {},
   "outputs": [],
   "source": [
    "def export_model_micro(tflite_model_path):\n",
    "    os.system(f\"xxd -i {tflite_model_path} > {MODEL_TFLITE_MICRO}\")\n",
    "    # Update variable names\n",
    "    REPLACE_TEXT = MODEL_TFLITE.replace(\"/\", \"_\").replace(\".\", \"_\")\n",
    "    os.system(f\"sed -i 's/'{REPLACE_TEXT}'/g_model/g' {MODEL_TFLITE_MICRO}``\")\n",
    "\n",
    "def np_to_c_array(arr: np.ndarray, arr_name=\"arr\") -> str:\n",
    "    if arr.dtype == np.float32:\n",
    "        type_specifier = \"float\"\n",
    "    elif arr.dtype == np.float64:\n",
    "        type_specifier = \"float\"\n",
    "    elif arr.dtype == np.uint8:\n",
    "        type_specifier = \"unsigned char\"\n",
    "    elif arr.dtype == np.int8:\n",
    "        type_specifier = \"char\"\n",
    "    else:\n",
    "        raise NotImplementedError(f\"Type {arr.dtype} is not supported\")\n",
    "    res = f\"{type_specifier} {arr_name}[] = \"   \n",
    "    \n",
    "    # res += np.array2string(arr.flatten(), separator=\",\").replace(\"[\", \"{\").replace(\"]\", \"}\")\n",
    "    # res += \";\"\n",
    "\n",
    "    # very ineffective\n",
    "    res += \"{\"\n",
    "    for v in arr.flatten():\n",
    "        res += str(v) + \",\"\n",
    "    res = res[:-1]\n",
    "    res += \"};\"\n",
    "\n",
    "    return res\n",
    "\n",
    "\n",
    "def export_test_data(\n",
    "    model, data: np.ndarray, labels: np.ndarray, file: str, tests_per_class=1, predict=lambda model, data: model.predict(data), model_name=\"MODEL_1\"\n",
    "):\n",
    "    print(\"[debug] Export test\")\n",
    "    with open(file, \"w\") as res_file:\n",
    "        res_file.write(f\"#ifndef {model_name}\\n\")\n",
    "        res_file.write(f\"#define {model_name}\\n\\n\")\n",
    "        for ci, cl in tqdm(enumerate(classes)):\n",
    "            # indecies = random.sample(range(len(test_data[cl])), tests_per_class)\n",
    "            indecies = [np.where(labels == ci)[0][0]]\n",
    "            for i in indecies:\n",
    "                data = test_data[i].reshape((1, 1, 1024, 2))\n",
    "                pred = predict(model, data)\n",
    "                data_str = np_to_c_array(data, arr_name=f\"test_data_{cl}_{i}_{model_name}\".replace('-', ''))\n",
    "                pred_str = np_to_c_array(pred, arr_name=f\"pred_{cl}_{i}_{model_name}\".replace('-', ''))\n",
    "                res_file.write(data_str + \"\\n\")\n",
    "                res_file.write(pred_str + \"\\n\")\n",
    "                res_file.write(\"\\n\\n\")\n",
    "        res_file.write(f\"#endif // {model_name}\\n\")\n"
   ]
  },
  {
   "cell_type": "code",
   "execution_count": 31,
   "metadata": {},
   "outputs": [
    {
     "name": "stdout",
     "output_type": "stream",
     "text": [
      "[debug] Export test\n"
     ]
    },
    {
     "name": "stderr",
     "output_type": "stream",
     "text": [
      "11it [00:00, 435.71it/s]\n"
     ]
    }
   ],
   "source": [
    "model_name = \"signal_modulation_2\"\n",
    "test_data_file = \"test_data.h\"\n",
    "\n",
    "\n",
    "export_model_micro(MODEL_NO_QUANT_TFLITE)\n",
    "# export_model_micro(MODEL_TFLITE)\n",
    "export_test_data(model_no_quant_tflite, test_data, test_labels, file=test_data_file, predict=predict_tflite, model_name=model_name)\n"
   ]
  },
  {
   "cell_type": "code",
   "execution_count": null,
   "metadata": {},
   "outputs": [],
   "source": []
  }
 ],
 "metadata": {
  "kernelspec": {
   "display_name": "tflm-train-3.7",
   "language": "python",
   "name": "python3"
  },
  "language_info": {
   "codemirror_mode": {
    "name": "ipython",
    "version": 3
   },
   "file_extension": ".py",
   "mimetype": "text/x-python",
   "name": "python",
   "nbconvert_exporter": "python",
   "pygments_lexer": "ipython3",
   "version": "3.7.16"
  },
  "orig_nbformat": 4,
  "vscode": {
   "interpreter": {
    "hash": "80d4f8f5a2fe716bda3b3d4d0c5da4792ed3d399acd6376b43208caf0c8a2ec5"
   }
  }
 },
 "nbformat": 4,
 "nbformat_minor": 2
}
